{
 "cells": [
  {
   "cell_type": "code",
   "execution_count": 1,
   "metadata": {},
   "outputs": [],
   "source": [
    "import gpxpy\n",
    "import pandas as pd\n",
    "import numpy as np\n",
    "import srtm\n",
    "import matplotlib.pyplot as plt\n",
    "import datetime\n",
    "\n",
    "import noaa_api_token\n",
    "import strava_api_token"
   ]
  },
  {
   "cell_type": "markdown",
   "metadata": {},
   "source": [
    "First, import any API tokens we need (NOAA, Strava)"
   ]
  },
  {
   "cell_type": "code",
   "execution_count": 2,
   "metadata": {},
   "outputs": [],
   "source": [
    "strava = strava_api_token.strava_token\n",
    "token = noaa_api_token.token\n"
   ]
  },
  {
   "cell_type": "code",
   "execution_count": 3,
   "metadata": {},
   "outputs": [],
   "source": [
    "data_path = 'Data//'"
   ]
  },
  {
   "cell_type": "markdown",
   "metadata": {},
   "source": [
    "Open the CSV file containing my activities, formatting the filename and dates in their correct formats"
   ]
  },
  {
   "cell_type": "code",
   "execution_count": 4,
   "metadata": {},
   "outputs": [],
   "source": [
    "converters={'filename': lambda x: str(x)}\n",
    "activities = pd.read_csv(data_path + 'activities.csv',converters=converters)\n",
    "activities.date = pd.to_datetime(activities['date'])\n",
    "#activities distance is in meters\n",
    "#activities elapsed time is in seconds (total time, not moving time)"
   ]
  },
  {
   "cell_type": "code",
   "execution_count": 5,
   "metadata": {},
   "outputs": [],
   "source": [
    "#example url to request for a zip and given start/end date\n",
    "ex_url = 'https://www.ncdc.noaa.gov/cdo-web/api/v2/data?datasetid=GHCND&locationid=ZIP:28801&startdate=2010-05-01&enddate=2010-05-01'\n",
    "#example from github\n",
    "ex_gh = 'https://github.com/paulokuong/noaa'"
   ]
  },
  {
   "cell_type": "markdown",
   "metadata": {},
   "source": [
    "# File Additions and Cleanup"
   ]
  },
  {
   "cell_type": "code",
   "execution_count": 6,
   "metadata": {},
   "outputs": [],
   "source": [
    "#strava and weather added fields\n",
    "strava_fields = [\n",
    "    'athlete_count',\n",
    "    'achievement_count',\n",
    "    'comment_count',\n",
    "    'kudos_count',\n",
    "    'moving_time',\n",
    "    'elapsed_time',\n",
    "    'total_elevation_gain',\n",
    "    'average_speed',\n",
    "    'max_speed',\n",
    "    'calories',\n",
    "    'description'\n",
    "]\n",
    "weather_fields = ['TMAX','TMIN','PRECIP','stationid','filename_fix','latlng','zip']\n",
    "all_fields = strava_fields + weather_fields"
   ]
  },
  {
   "cell_type": "code",
   "execution_count": 7,
   "metadata": {},
   "outputs": [],
   "source": [
    "for i in all_fields:\n",
    "    activities[i] = None"
   ]
  },
  {
   "cell_type": "code",
   "execution_count": 8,
   "metadata": {},
   "outputs": [],
   "source": [
    "fix_activities = pd.read_csv(data_path + 'activities_out.csv')"
   ]
  },
  {
   "cell_type": "code",
   "execution_count": 9,
   "metadata": {},
   "outputs": [],
   "source": [
    "m = pd.merge(activities,fix_activities,left_index=True,right_on='Unnamed: 0',suffixes=['','_y'])\n",
    "for i in all_fields:\n",
    "    m[i].replace(np.NaN,m[i + '_y'],inplace=True)"
   ]
  },
  {
   "cell_type": "code",
   "execution_count": 10,
   "metadata": {},
   "outputs": [],
   "source": [
    "activities = m.loc[:,activities.columns]"
   ]
  },
  {
   "cell_type": "markdown",
   "metadata": {},
   "source": [
    "Let's put the times in the correct formats"
   ]
  },
  {
   "cell_type": "code",
   "execution_count": 11,
   "metadata": {},
   "outputs": [],
   "source": [
    "activities['moving_time'] = pd.to_timedelta(activities['moving_time'])\n",
    "activities['elapsed_time'] = pd.to_timedelta(activities['elapsed_time'])"
   ]
  },
  {
   "cell_type": "code",
   "execution_count": 12,
   "metadata": {},
   "outputs": [],
   "source": [
    "activities['year'] = activities['date'].apply(lambda x: x.year)\n",
    "activities['month'] = activities['date'].apply(lambda x: x.month)"
   ]
  },
  {
   "cell_type": "markdown",
   "metadata": {},
   "source": [
    "Strava has times wrong - 4 hours ahead during the summer and 5 ahead during the winter"
   ]
  },
  {
   "cell_type": "code",
   "execution_count": 13,
   "metadata": {},
   "outputs": [],
   "source": [
    "def fix_timezone(date):\n",
    "    hour_adjust = 0\n",
    "    if date.month < 3 or date.month > 11:\n",
    "        hour_adjust = -5\n",
    "    elif date.month > 3 or date.month < 11:\n",
    "        hour_adjust = -4\n",
    "    elif (date.month == 3 and date.day < 11) or (date.month == 11 and date.day > 4):\n",
    "        hour_adjust = -5\n",
    "    else:\n",
    "        hour_adjust = -4\n",
    "    ret_date = date + datetime.timedelta(hours=hour_adjust)\n",
    "    return ret_date\n",
    "\n",
    "activities['date_est'] = activities['date'].apply(lambda x: fix_timezone(x))"
   ]
  },
  {
   "cell_type": "markdown",
   "metadata": {},
   "source": [
    "Also, strava keeps distance in meters, so let's convert to 'Merican units"
   ]
  },
  {
   "cell_type": "code",
   "execution_count": 14,
   "metadata": {},
   "outputs": [],
   "source": [
    "activities['moving_time_seconds'] = activities['moving_time'].apply(lambda x: x.seconds)\n",
    "activities['distance_feet'] = activities['distance'] * 3.28084\n",
    "activities['distance_miles'] = activities['distance_feet'] / 5280.0"
   ]
  },
  {
   "cell_type": "markdown",
   "metadata": {},
   "source": [
    "Also, let's identify whether a ride was put in manually or if we have a GPX file to use"
   ]
  },
  {
   "cell_type": "code",
   "execution_count": 15,
   "metadata": {},
   "outputs": [],
   "source": [
    "activities['manual'] = activities['filename_fix'].apply(lambda x: x[-4:]) == 'GPX/'"
   ]
  },
  {
   "cell_type": "code",
   "execution_count": 16,
   "metadata": {},
   "outputs": [],
   "source": [
    "activities['has_station'] = ~activities['stationid'].isnull()\n",
    "activities['has_weather'] = ~activities['TMAX'].isnull()\n",
    "activities['has_file'] = (activities['filename'].str.len() > 0)"
   ]
  },
  {
   "cell_type": "markdown",
   "metadata": {},
   "source": [
    "If there's no file and it was either on a trainer or on my bike, it was ridden inside"
   ]
  },
  {
   "cell_type": "code",
   "execution_count": 17,
   "metadata": {},
   "outputs": [],
   "source": [
    "activities['indoor'] = (~activities['has_file']&((activities['gear'] == 'Trainer') | (activities['gear'] == 'Orbea')))"
   ]
  },
  {
   "cell_type": "markdown",
   "metadata": {},
   "source": [
    "If the total elevation gain is null then it should be 0 - indoor rides, manual entries, etc.\n",
    "\n",
    "Same with kudos count"
   ]
  },
  {
   "cell_type": "code",
   "execution_count": 31,
   "metadata": {},
   "outputs": [],
   "source": [
    "activities.loc[activities['kudos_count'].isnull(),'kudos_count'] = 0\n",
    "activities.loc[activities['total_elevation_gain'].isnull(),'total_elevation_gain'] = 0"
   ]
  },
  {
   "cell_type": "code",
   "execution_count": 18,
   "metadata": {},
   "outputs": [],
   "source": [
    "#Very few rows that are \"Hike\" or \"Walk\" - make a new column for sake of analysis to simplify\n",
    "activities['new_type'] = activities['type']\n",
    "activities.loc[activities['type']=='Hike','new_type'] = 'Run'\n",
    "activities.loc[activities['type']=='Walk','new_type'] = 'Run'"
   ]
  },
  {
   "cell_type": "markdown",
   "metadata": {},
   "source": [
    "Athlete count includes me (which may not be useful, I know I rode the ride after all). other_athlete_count will have 1 fewer"
   ]
  },
  {
   "cell_type": "code",
   "execution_count": 19,
   "metadata": {},
   "outputs": [],
   "source": [
    "activities['other_athlete_count']  = activities['athlete_count'] - 1"
   ]
  },
  {
   "cell_type": "markdown",
   "metadata": {},
   "source": [
    "Total elevation gain is returned with units (e.g. feet) so this needs to be converted to a float\n",
    "\n",
    "\n",
    "We'll need to do the same for average and max speed as well"
   ]
  },
  {
   "cell_type": "code",
   "execution_count": 74,
   "metadata": {},
   "outputs": [
    {
     "data": {
      "text/html": [
       "<div>\n",
       "<style scoped>\n",
       "    .dataframe tbody tr th:only-of-type {\n",
       "        vertical-align: middle;\n",
       "    }\n",
       "\n",
       "    .dataframe tbody tr th {\n",
       "        vertical-align: top;\n",
       "    }\n",
       "\n",
       "    .dataframe thead th {\n",
       "        text-align: right;\n",
       "    }\n",
       "</style>\n",
       "<table border=\"1\" class=\"dataframe\">\n",
       "  <thead>\n",
       "    <tr style=\"text-align: right;\">\n",
       "      <th></th>\n",
       "      <th>name</th>\n",
       "      <th>type</th>\n",
       "      <th>description</th>\n",
       "      <th>gear</th>\n",
       "      <th>filename</th>\n",
       "      <th>stationid</th>\n",
       "      <th>filename_fix</th>\n",
       "      <th>latlng</th>\n",
       "      <th>new_type</th>\n",
       "    </tr>\n",
       "  </thead>\n",
       "  <tbody>\n",
       "    <tr>\n",
       "      <th>0</th>\n",
       "      <td>Jun 26, 2012</td>\n",
       "      <td>Ride</td>\n",
       "      <td>NaN</td>\n",
       "      <td>NaN</td>\n",
       "      <td>activities/11823912.gpx</td>\n",
       "      <td>US1PAAL0046</td>\n",
       "      <td>Data/activities/GPX/11823912.gpx</td>\n",
       "      <td>(40.475049, -79.918379)</td>\n",
       "      <td>Ride</td>\n",
       "    </tr>\n",
       "    <tr>\n",
       "      <th>1</th>\n",
       "      <td>Jun 30, 2012</td>\n",
       "      <td>Ride</td>\n",
       "      <td>NaN</td>\n",
       "      <td>NaN</td>\n",
       "      <td>activities/12093460.gpx</td>\n",
       "      <td>US1PAAL0046</td>\n",
       "      <td>Data/activities/GPX/12093460.gpx</td>\n",
       "      <td>(40.475199, -79.918298)</td>\n",
       "      <td>Ride</td>\n",
       "    </tr>\n",
       "    <tr>\n",
       "      <th>2</th>\n",
       "      <td>Jul 3, 2012</td>\n",
       "      <td>Ride</td>\n",
       "      <td>NaN</td>\n",
       "      <td>Orbea</td>\n",
       "      <td>activities/12413019.gpx</td>\n",
       "      <td>US1PAAL0046</td>\n",
       "      <td>Data/activities/GPX/12413019.gpx</td>\n",
       "      <td>(40.486821, -79.894246)</td>\n",
       "      <td>Ride</td>\n",
       "    </tr>\n",
       "    <tr>\n",
       "      <th>3</th>\n",
       "      <td>Riverview Park</td>\n",
       "      <td>Ride</td>\n",
       "      <td>NaN</td>\n",
       "      <td>Orbea</td>\n",
       "      <td>activities/13691080.gpx</td>\n",
       "      <td>US1PAAL0046</td>\n",
       "      <td>Data/activities/GPX/13691080.gpx</td>\n",
       "      <td>(40.466192, -79.922708)</td>\n",
       "      <td>Ride</td>\n",
       "    </tr>\n",
       "    <tr>\n",
       "      <th>4</th>\n",
       "      <td>Forward Avenue</td>\n",
       "      <td>Ride</td>\n",
       "      <td>NaN</td>\n",
       "      <td>Orbea</td>\n",
       "      <td>activities/14016843.gpx</td>\n",
       "      <td>US1PAAL0046</td>\n",
       "      <td>Data/activities/GPX/14016843.gpx</td>\n",
       "      <td>(40.452901, -79.932796)</td>\n",
       "      <td>Ride</td>\n",
       "    </tr>\n",
       "    <tr>\n",
       "      <th>5</th>\n",
       "      <td>Type 2 Fun</td>\n",
       "      <td>Ride</td>\n",
       "      <td>NaN</td>\n",
       "      <td>Orbea</td>\n",
       "      <td>activities/15544611.gpx</td>\n",
       "      <td>US1PAAL0046</td>\n",
       "      <td>Data/activities/GPX/15544611.gpx</td>\n",
       "      <td>(40.452604, -79.937144)</td>\n",
       "      <td>Ride</td>\n",
       "    </tr>\n",
       "    <tr>\n",
       "      <th>6</th>\n",
       "      <td>Last In Pgh?</td>\n",
       "      <td>Ride</td>\n",
       "      <td>NaN</td>\n",
       "      <td>Orbea</td>\n",
       "      <td>activities/15978057.gpx</td>\n",
       "      <td>US1PAAL0046</td>\n",
       "      <td>Data/activities/GPX/15978057.gpx</td>\n",
       "      <td>(40.460355, -79.948474)</td>\n",
       "      <td>Ride</td>\n",
       "    </tr>\n",
       "    <tr>\n",
       "      <th>7</th>\n",
       "      <td>Aug 4, 2012</td>\n",
       "      <td>Ride</td>\n",
       "      <td>NaN</td>\n",
       "      <td>Orbea</td>\n",
       "      <td>activities/16439947.gpx</td>\n",
       "      <td>US1PAVN0005</td>\n",
       "      <td>Data/activities/GPX/16439947.gpx</td>\n",
       "      <td>(41.422129, -79.716081)</td>\n",
       "      <td>Ride</td>\n",
       "    </tr>\n",
       "    <tr>\n",
       "      <th>8</th>\n",
       "      <td>Out And Back</td>\n",
       "      <td>Ride</td>\n",
       "      <td>NaN</td>\n",
       "      <td>Orbea</td>\n",
       "      <td>activities/16944133.gpx</td>\n",
       "      <td>US1PAVN0005</td>\n",
       "      <td>Data/activities/GPX/16944133.gpx</td>\n",
       "      <td>(41.42235, -79.716084)</td>\n",
       "      <td>Ride</td>\n",
       "    </tr>\n",
       "    <tr>\n",
       "      <th>9</th>\n",
       "      <td>Aug 13, 2012</td>\n",
       "      <td>Ride</td>\n",
       "      <td>NaN</td>\n",
       "      <td>Orbea</td>\n",
       "      <td>activities/18392177.gpx</td>\n",
       "      <td>US1PALZ0024</td>\n",
       "      <td>Data/activities/GPX/18392177.gpx</td>\n",
       "      <td>(41.267745, -75.879977)</td>\n",
       "      <td>Ride</td>\n",
       "    </tr>\n",
       "    <tr>\n",
       "      <th>10</th>\n",
       "      <td>Montage</td>\n",
       "      <td>Ride</td>\n",
       "      <td>NaN</td>\n",
       "      <td>Orbea</td>\n",
       "      <td>activities/18903312.gpx</td>\n",
       "      <td>US1PALZ0024</td>\n",
       "      <td>Data/activities/GPX/18903312.gpx</td>\n",
       "      <td>(41.246968, -75.879068)</td>\n",
       "      <td>Ride</td>\n",
       "    </tr>\n",
       "    <tr>\n",
       "      <th>11</th>\n",
       "      <td>Sep 8, 2012</td>\n",
       "      <td>Ride</td>\n",
       "      <td>NaN</td>\n",
       "      <td>Orbea</td>\n",
       "      <td>activities/21238499.gpx</td>\n",
       "      <td>US1PALZ0024</td>\n",
       "      <td>Data/activities/GPX/21238499.gpx</td>\n",
       "      <td>(41.267659, -75.879985)</td>\n",
       "      <td>Ride</td>\n",
       "    </tr>\n",
       "    <tr>\n",
       "      <th>12</th>\n",
       "      <td>Sep 11, 2012</td>\n",
       "      <td>Ride</td>\n",
       "      <td>NaN</td>\n",
       "      <td>Orbea</td>\n",
       "      <td>activities/21653603.gpx</td>\n",
       "      <td>US1PALZ0024</td>\n",
       "      <td>Data/activities/GPX/21653603.gpx</td>\n",
       "      <td>(41.267828, -75.879931)</td>\n",
       "      <td>Ride</td>\n",
       "    </tr>\n",
       "    <tr>\n",
       "      <th>13</th>\n",
       "      <td>Sep 15, 2012</td>\n",
       "      <td>Ride</td>\n",
       "      <td>NaN</td>\n",
       "      <td>Orbea</td>\n",
       "      <td>activities/22014438.gpx</td>\n",
       "      <td>US1PALZ0024</td>\n",
       "      <td>Data/activities/GPX/22014438.gpx</td>\n",
       "      <td>(41.26771, -75.880048)</td>\n",
       "      <td>Ride</td>\n",
       "    </tr>\n",
       "    <tr>\n",
       "      <th>14</th>\n",
       "      <td>Great River Ride</td>\n",
       "      <td>Ride</td>\n",
       "      <td>NaN</td>\n",
       "      <td>Orbea</td>\n",
       "      <td>activities/24291063.gpx</td>\n",
       "      <td>USW00014775</td>\n",
       "      <td>Data/activities/GPX/24291063.gpx</td>\n",
       "      <td>(42.125021, -72.739431)</td>\n",
       "      <td>Ride</td>\n",
       "    </tr>\n",
       "    <tr>\n",
       "      <th>15</th>\n",
       "      <td>First ride of the season</td>\n",
       "      <td>Ride</td>\n",
       "      <td>NaN</td>\n",
       "      <td>Orbea</td>\n",
       "      <td>activities/47468961.gpx</td>\n",
       "      <td>US1PALZ0024</td>\n",
       "      <td>Data/activities/GPX/47468961.gpx</td>\n",
       "      <td>(41.267718, -75.880101)</td>\n",
       "      <td>Ride</td>\n",
       "    </tr>\n",
       "    <tr>\n",
       "      <th>16</th>\n",
       "      <td>Morning Ride</td>\n",
       "      <td>Ride</td>\n",
       "      <td>NaN</td>\n",
       "      <td>Orbea</td>\n",
       "      <td>activities/48570262.gpx</td>\n",
       "      <td>US1PALZ0024</td>\n",
       "      <td>Data/activities/GPX/48570262.gpx</td>\n",
       "      <td>(41.267828, -75.880033)</td>\n",
       "      <td>Ride</td>\n",
       "    </tr>\n",
       "    <tr>\n",
       "      <th>17</th>\n",
       "      <td>Headwinds</td>\n",
       "      <td>Ride</td>\n",
       "      <td>NaN</td>\n",
       "      <td>Orbea</td>\n",
       "      <td>activities/49698939.gpx</td>\n",
       "      <td>US1PALZ0024</td>\n",
       "      <td>Data/activities/GPX/49698939.gpx</td>\n",
       "      <td>(41.267708, -75.880183)</td>\n",
       "      <td>Ride</td>\n",
       "    </tr>\n",
       "    <tr>\n",
       "      <th>18</th>\n",
       "      <td>Afternoon Ride</td>\n",
       "      <td>Ride</td>\n",
       "      <td>NaN</td>\n",
       "      <td>Orbea</td>\n",
       "      <td>activities/50692403.gpx</td>\n",
       "      <td>US1PALZ0024</td>\n",
       "      <td>Data/activities/GPX/50692403.gpx</td>\n",
       "      <td>(41.267811, -75.880044)</td>\n",
       "      <td>Ride</td>\n",
       "    </tr>\n",
       "    <tr>\n",
       "      <th>19</th>\n",
       "      <td>Nanticoke</td>\n",
       "      <td>Ride</td>\n",
       "      <td>NaN</td>\n",
       "      <td>Orbea</td>\n",
       "      <td>activities/50948186.gpx</td>\n",
       "      <td>US1PALZ0024</td>\n",
       "      <td>Data/activities/GPX/50948186.gpx</td>\n",
       "      <td>(41.267824, -75.880068)</td>\n",
       "      <td>Ride</td>\n",
       "    </tr>\n",
       "    <tr>\n",
       "      <th>20</th>\n",
       "      <td>Bunker Hill, take 2</td>\n",
       "      <td>Ride</td>\n",
       "      <td>NaN</td>\n",
       "      <td>Orbea</td>\n",
       "      <td>activities/51609371.gpx</td>\n",
       "      <td>US1PALZ0024</td>\n",
       "      <td>Data/activities/GPX/51609371.gpx</td>\n",
       "      <td>(41.267734, -75.880035)</td>\n",
       "      <td>Ride</td>\n",
       "    </tr>\n",
       "    <tr>\n",
       "      <th>21</th>\n",
       "      <td>Jellybones</td>\n",
       "      <td>Ride</td>\n",
       "      <td>NaN</td>\n",
       "      <td>Orbea</td>\n",
       "      <td>activities/51985138.gpx</td>\n",
       "      <td>US1PALZ0024</td>\n",
       "      <td>Data/activities/GPX/51985138.gpx</td>\n",
       "      <td>(41.267682, -75.880155)</td>\n",
       "      <td>Ride</td>\n",
       "    </tr>\n",
       "    <tr>\n",
       "      <th>22</th>\n",
       "      <td>Habitat for humanity</td>\n",
       "      <td>Ride</td>\n",
       "      <td>NaN</td>\n",
       "      <td>Orbea</td>\n",
       "      <td>activities/52472676.gpx</td>\n",
       "      <td>US1PALZ0018</td>\n",
       "      <td>Data/activities/GPX/52472676.gpx</td>\n",
       "      <td>(41.30632, -76.013072)</td>\n",
       "      <td>Ride</td>\n",
       "    </tr>\n",
       "    <tr>\n",
       "      <th>23</th>\n",
       "      <td>Afternoon Ride</td>\n",
       "      <td>Ride</td>\n",
       "      <td>NaN</td>\n",
       "      <td>Orbea</td>\n",
       "      <td>activities/52951387.gpx</td>\n",
       "      <td>US1PALZ0024</td>\n",
       "      <td>Data/activities/GPX/52951387.gpx</td>\n",
       "      <td>(41.267798, -75.880023)</td>\n",
       "      <td>Ride</td>\n",
       "    </tr>\n",
       "    <tr>\n",
       "      <th>24</th>\n",
       "      <td>Morning Ride</td>\n",
       "      <td>Ride</td>\n",
       "      <td>NaN</td>\n",
       "      <td>Orbea</td>\n",
       "      <td>activities/54520543.gpx</td>\n",
       "      <td>USC00368888</td>\n",
       "      <td>Data/activities/GPX/54520543.gpx</td>\n",
       "      <td>(41.629812, -79.683286)</td>\n",
       "      <td>Ride</td>\n",
       "    </tr>\n",
       "    <tr>\n",
       "      <th>25</th>\n",
       "      <td>Morning Ride</td>\n",
       "      <td>Ride</td>\n",
       "      <td>NaN</td>\n",
       "      <td>Orbea</td>\n",
       "      <td>activities/57479962.gpx</td>\n",
       "      <td>US1PALZ0024</td>\n",
       "      <td>Data/activities/GPX/57479962.gpx</td>\n",
       "      <td>(41.25183, -75.878021)</td>\n",
       "      <td>Ride</td>\n",
       "    </tr>\n",
       "    <tr>\n",
       "      <th>26</th>\n",
       "      <td>Larksville Mountain</td>\n",
       "      <td>Ride</td>\n",
       "      <td>NaN</td>\n",
       "      <td>Orbea</td>\n",
       "      <td>activities/58993417.gpx</td>\n",
       "      <td>US1PALZ0024</td>\n",
       "      <td>Data/activities/GPX/58993417.gpx</td>\n",
       "      <td>(41.267812, -75.879984)</td>\n",
       "      <td>Ride</td>\n",
       "    </tr>\n",
       "    <tr>\n",
       "      <th>27</th>\n",
       "      <td>First Run</td>\n",
       "      <td>Run</td>\n",
       "      <td>NaN</td>\n",
       "      <td>NaN</td>\n",
       "      <td>activities/132877321.fit.gz</td>\n",
       "      <td>USC00362574</td>\n",
       "      <td>Data/activities/GPX/132877321.gpx</td>\n",
       "      <td>(40.499171484, -80.063047297)</td>\n",
       "      <td>Run</td>\n",
       "    </tr>\n",
       "    <tr>\n",
       "      <th>28</th>\n",
       "      <td>3/17/2014 Recovery</td>\n",
       "      <td>Run</td>\n",
       "      <td>Quick recovery run</td>\n",
       "      <td>NaN</td>\n",
       "      <td>activities/133185362.fit.gz</td>\n",
       "      <td>USC00362574</td>\n",
       "      <td>Data/activities/GPX/133185362.gpx</td>\n",
       "      <td>(40.499048606, -80.063261706)</td>\n",
       "      <td>Run</td>\n",
       "    </tr>\n",
       "    <tr>\n",
       "      <th>29</th>\n",
       "      <td>First Long Run (of the year)</td>\n",
       "      <td>Run</td>\n",
       "      <td>NaN</td>\n",
       "      <td>NaN</td>\n",
       "      <td>activities/133786176.fit.gz</td>\n",
       "      <td>USC00362574</td>\n",
       "      <td>Data/activities/GPX/133786176.gpx</td>\n",
       "      <td>(40.499009546, -80.063240584)</td>\n",
       "      <td>Run</td>\n",
       "    </tr>\n",
       "    <tr>\n",
       "      <th>...</th>\n",
       "      <td>...</td>\n",
       "      <td>...</td>\n",
       "      <td>...</td>\n",
       "      <td>...</td>\n",
       "      <td>...</td>\n",
       "      <td>...</td>\n",
       "      <td>...</td>\n",
       "      <td>...</td>\n",
       "      <td>...</td>\n",
       "    </tr>\n",
       "    <tr>\n",
       "      <th>491</th>\n",
       "      <td>Windy as hell</td>\n",
       "      <td>Ride</td>\n",
       "      <td>Park was busy, but a great ride nevertheless.</td>\n",
       "      <td>Orbea</td>\n",
       "      <td>activities/1644411681.fit.gz</td>\n",
       "      <td>USC00362574</td>\n",
       "      <td>Data/activities/GPX/1644411681.gpx</td>\n",
       "      <td>(40.592020005, -80.013441686)</td>\n",
       "      <td>Ride</td>\n",
       "    </tr>\n",
       "    <tr>\n",
       "      <th>492</th>\n",
       "      <td>Back on the trainer</td>\n",
       "      <td>Ride</td>\n",
       "      <td>NaN</td>\n",
       "      <td>Orbea</td>\n",
       "      <td></td>\n",
       "      <td>USC00362574</td>\n",
       "      <td>Data/activities/GPX/</td>\n",
       "      <td>(40.552273, -80.044383)</td>\n",
       "      <td>Ride</td>\n",
       "    </tr>\n",
       "    <tr>\n",
       "      <th>493</th>\n",
       "      <td>Lunch Ride</td>\n",
       "      <td>Ride</td>\n",
       "      <td>Quick ride over lunch, too nice to not get out...</td>\n",
       "      <td>Orbea</td>\n",
       "      <td>activities/1650086542.fit.gz</td>\n",
       "      <td>USC00362574</td>\n",
       "      <td>Data/activities/GPX/1650086542.gpx</td>\n",
       "      <td>(40.592005002, -80.013475046)</td>\n",
       "      <td>Ride</td>\n",
       "    </tr>\n",
       "    <tr>\n",
       "      <th>494</th>\n",
       "      <td>Sunday Walk</td>\n",
       "      <td>Run</td>\n",
       "      <td>Not sure why my GPS freaked out at the beginning</td>\n",
       "      <td>NaN</td>\n",
       "      <td>activities/1650353467.fit.gz</td>\n",
       "      <td>USC00362574</td>\n",
       "      <td>Data/activities/GPX/1650353467.gpx</td>\n",
       "      <td>(40.55188058, -80.044118529)</td>\n",
       "      <td>Run</td>\n",
       "    </tr>\n",
       "    <tr>\n",
       "      <th>495</th>\n",
       "      <td>Trainer</td>\n",
       "      <td>Ride</td>\n",
       "      <td>NaN</td>\n",
       "      <td>Orbea</td>\n",
       "      <td></td>\n",
       "      <td>USC00362574</td>\n",
       "      <td>Data/activities/GPX/</td>\n",
       "      <td>(40.552273, -80.044383)</td>\n",
       "      <td>Ride</td>\n",
       "    </tr>\n",
       "    <tr>\n",
       "      <th>496</th>\n",
       "      <td>Morning Ride</td>\n",
       "      <td>Ride</td>\n",
       "      <td>Cold and windy, took it a little easier than u...</td>\n",
       "      <td>Orbea</td>\n",
       "      <td>activities/1656326681.fit.gz</td>\n",
       "      <td>USC00362574</td>\n",
       "      <td>Data/activities/GPX/1656326681.gpx</td>\n",
       "      <td>(40.592346648, -80.012990069)</td>\n",
       "      <td>Ride</td>\n",
       "    </tr>\n",
       "    <tr>\n",
       "      <th>497</th>\n",
       "      <td>Lunch Walk</td>\n",
       "      <td>Run</td>\n",
       "      <td>NaN</td>\n",
       "      <td>NaN</td>\n",
       "      <td>activities/1658924906.fit.gz</td>\n",
       "      <td>USW00094823</td>\n",
       "      <td>Data/activities/GPX/1658924906.gpx</td>\n",
       "      <td>(40.469438527, -80.213664062)</td>\n",
       "      <td>Run</td>\n",
       "    </tr>\n",
       "    <tr>\n",
       "      <th>498</th>\n",
       "      <td>PBC Sewickley #1</td>\n",
       "      <td>Ride</td>\n",
       "      <td>First Sewickley ride of the season</td>\n",
       "      <td>Orbea</td>\n",
       "      <td>activities/1661395113.fit.gz</td>\n",
       "      <td>USC00362574</td>\n",
       "      <td>Data/activities/GPX/1661395113.gpx</td>\n",
       "      <td>(40.552783311, -80.115798386)</td>\n",
       "      <td>Ride</td>\n",
       "    </tr>\n",
       "    <tr>\n",
       "      <th>499</th>\n",
       "      <td>Afternoon Ride</td>\n",
       "      <td>Ride</td>\n",
       "      <td>Nice day for a ride, but a little windy in gusts</td>\n",
       "      <td>Orbea</td>\n",
       "      <td>activities/1663204920.fit.gz</td>\n",
       "      <td>USC00362574</td>\n",
       "      <td>Data/activities/GPX/1663204920.gpx</td>\n",
       "      <td>(40.592008354, -80.013456689)</td>\n",
       "      <td>Ride</td>\n",
       "    </tr>\n",
       "    <tr>\n",
       "      <th>500</th>\n",
       "      <td>Short Ride</td>\n",
       "      <td>Ride</td>\n",
       "      <td>Easy ride around the lake</td>\n",
       "      <td>Orbea</td>\n",
       "      <td>activities/1664709242.fit.gz</td>\n",
       "      <td>USC00362574</td>\n",
       "      <td>Data/activities/GPX/1664709242.gpx</td>\n",
       "      <td>(40.594051695, -80.011578389)</td>\n",
       "      <td>Ride</td>\n",
       "    </tr>\n",
       "    <tr>\n",
       "      <th>501</th>\n",
       "      <td>North Park to Sewickley</td>\n",
       "      <td>Ride</td>\n",
       "      <td>Longest ride I've ever gone on. Planned to do ...</td>\n",
       "      <td>Orbea</td>\n",
       "      <td>activities/1668802473.fit.gz</td>\n",
       "      <td>US1PABT0015</td>\n",
       "      <td>Data/activities/GPX/1668802473.gpx</td>\n",
       "      <td>(40.616178327, -80.022305045)</td>\n",
       "      <td>Ride</td>\n",
       "    </tr>\n",
       "    <tr>\n",
       "      <th>502</th>\n",
       "      <td>Trainer</td>\n",
       "      <td>Ride</td>\n",
       "      <td>NaN</td>\n",
       "      <td>Orbea</td>\n",
       "      <td></td>\n",
       "      <td>USC00362574</td>\n",
       "      <td>Data/activities/GPX/</td>\n",
       "      <td>(40.552273, -80.044383)</td>\n",
       "      <td>Ride</td>\n",
       "    </tr>\n",
       "    <tr>\n",
       "      <th>503</th>\n",
       "      <td>Afternoon Ride</td>\n",
       "      <td>Ride</td>\n",
       "      <td>NaN</td>\n",
       "      <td>Orbea</td>\n",
       "      <td>activities/1676613192.fit.gz</td>\n",
       "      <td>USC00362574</td>\n",
       "      <td>Data/activities/GPX/1676613192.gpx</td>\n",
       "      <td>(40.552813318, -80.115848342)</td>\n",
       "      <td>Ride</td>\n",
       "    </tr>\n",
       "    <tr>\n",
       "      <th>504</th>\n",
       "      <td>Lunch Run</td>\n",
       "      <td>Run</td>\n",
       "      <td>NaN</td>\n",
       "      <td>NaN</td>\n",
       "      <td>activities/1676681560.fit.gz</td>\n",
       "      <td>USW00094823</td>\n",
       "      <td>Data/activities/GPX/1676681560.gpx</td>\n",
       "      <td>(40.468542669, -80.213409755)</td>\n",
       "      <td>Run</td>\n",
       "    </tr>\n",
       "    <tr>\n",
       "      <th>505</th>\n",
       "      <td>Lunch Run</td>\n",
       "      <td>Run</td>\n",
       "      <td>NaN</td>\n",
       "      <td>NaN</td>\n",
       "      <td>activities/1676681557.fit.gz</td>\n",
       "      <td>USW00094823</td>\n",
       "      <td>Data/activities/GPX/1676681557.gpx</td>\n",
       "      <td>(40.469226381, -80.213493575)</td>\n",
       "      <td>Run</td>\n",
       "    </tr>\n",
       "    <tr>\n",
       "      <th>506</th>\n",
       "      <td>Lunch Ride</td>\n",
       "      <td>Ride</td>\n",
       "      <td>NaN</td>\n",
       "      <td>Orbea</td>\n",
       "      <td>activities/1677911656.fit.gz</td>\n",
       "      <td>USW00094823</td>\n",
       "      <td>Data/activities/GPX/1677911656.gpx</td>\n",
       "      <td>(40.455968389, -80.231386675)</td>\n",
       "      <td>Ride</td>\n",
       "    </tr>\n",
       "    <tr>\n",
       "      <th>507</th>\n",
       "      <td>North Park Hills</td>\n",
       "      <td>Ride</td>\n",
       "      <td>NaN</td>\n",
       "      <td>Orbea</td>\n",
       "      <td>activities/1683697038.fit.gz</td>\n",
       "      <td>USC00362574</td>\n",
       "      <td>Data/activities/GPX/1683697038.gpx</td>\n",
       "      <td>(40.594341709, -80.010656714)</td>\n",
       "      <td>Ride</td>\n",
       "    </tr>\n",
       "    <tr>\n",
       "      <th>508</th>\n",
       "      <td>Morning Ride</td>\n",
       "      <td>Ride</td>\n",
       "      <td>Ran into Mark and Kelley while out riding, so ...</td>\n",
       "      <td>Orbea</td>\n",
       "      <td>activities/1685613604.fit.gz</td>\n",
       "      <td>USC00362574</td>\n",
       "      <td>Data/activities/GPX/1685613604.gpx</td>\n",
       "      <td>(40.552493381, -80.115935011)</td>\n",
       "      <td>Ride</td>\n",
       "    </tr>\n",
       "    <tr>\n",
       "      <th>509</th>\n",
       "      <td>Easy Trainer</td>\n",
       "      <td>Ride</td>\n",
       "      <td>NaN</td>\n",
       "      <td>Orbea</td>\n",
       "      <td></td>\n",
       "      <td>USC00362574</td>\n",
       "      <td>Data/activities/GPX/</td>\n",
       "      <td>(40.552273, -80.044383)</td>\n",
       "      <td>Ride</td>\n",
       "    </tr>\n",
       "    <tr>\n",
       "      <th>510</th>\n",
       "      <td>Trainer - Missed the sunlight</td>\n",
       "      <td>Ride</td>\n",
       "      <td>NaN</td>\n",
       "      <td>Orbea</td>\n",
       "      <td></td>\n",
       "      <td>USC00362574</td>\n",
       "      <td>Data/activities/GPX/</td>\n",
       "      <td>(40.552273, -80.044383)</td>\n",
       "      <td>Ride</td>\n",
       "    </tr>\n",
       "    <tr>\n",
       "      <th>511</th>\n",
       "      <td>Afternoon Ride</td>\n",
       "      <td>Ride</td>\n",
       "      <td>NaN</td>\n",
       "      <td>Orbea</td>\n",
       "      <td>activities/1697667663.fit.gz</td>\n",
       "      <td>USC00362574</td>\n",
       "      <td>Data/activities/GPX/1697667663.gpx</td>\n",
       "      <td>(40.552388355, -80.11623173)</td>\n",
       "      <td>Ride</td>\n",
       "    </tr>\n",
       "    <tr>\n",
       "      <th>512</th>\n",
       "      <td>4 x Buckhill</td>\n",
       "      <td>Ride</td>\n",
       "      <td>NaN</td>\n",
       "      <td>Orbea</td>\n",
       "      <td>activities/1698809328.fit.gz</td>\n",
       "      <td>USC00362574</td>\n",
       "      <td>Data/activities/GPX/1698809328.gpx</td>\n",
       "      <td>(40.552143352, -80.044443412)</td>\n",
       "      <td>Ride</td>\n",
       "    </tr>\n",
       "    <tr>\n",
       "      <th>513</th>\n",
       "      <td>Trainer</td>\n",
       "      <td>Ride</td>\n",
       "      <td>NaN</td>\n",
       "      <td>Orbea</td>\n",
       "      <td></td>\n",
       "      <td>USC00362574</td>\n",
       "      <td>Data/activities/GPX/</td>\n",
       "      <td>(40.552273, -80.044383)</td>\n",
       "      <td>Ride</td>\n",
       "    </tr>\n",
       "    <tr>\n",
       "      <th>514</th>\n",
       "      <td>MS150 Charity Spin</td>\n",
       "      <td>Ride</td>\n",
       "      <td>NaN</td>\n",
       "      <td>Trainer</td>\n",
       "      <td></td>\n",
       "      <td>USC00362574</td>\n",
       "      <td>Data/activities/GPX/</td>\n",
       "      <td>(40.552273, -80.044383)</td>\n",
       "      <td>Ride</td>\n",
       "    </tr>\n",
       "    <tr>\n",
       "      <th>515</th>\n",
       "      <td>PBC Sewickley #4</td>\n",
       "      <td>Ride</td>\n",
       "      <td>Pushing the pace a little from the scheduled 1...</td>\n",
       "      <td>Orbea</td>\n",
       "      <td>activities/1711200530.fit.gz</td>\n",
       "      <td>USC00362574</td>\n",
       "      <td>Data/activities/GPX/1711200530.gpx</td>\n",
       "      <td>(40.552456668, -80.116191665)</td>\n",
       "      <td>Ride</td>\n",
       "    </tr>\n",
       "    <tr>\n",
       "      <th>516</th>\n",
       "      <td>Morning Ride</td>\n",
       "      <td>Ride</td>\n",
       "      <td>Knee's been giving me problems, so took it a b...</td>\n",
       "      <td>Orbea</td>\n",
       "      <td>activities/1716446816.fit.gz</td>\n",
       "      <td>USC00362574</td>\n",
       "      <td>Data/activities/GPX/1716446816.gpx</td>\n",
       "      <td>(40.552451723, -80.116145061)</td>\n",
       "      <td>Ride</td>\n",
       "    </tr>\n",
       "    <tr>\n",
       "      <th>517</th>\n",
       "      <td>Lunch Run</td>\n",
       "      <td>Run</td>\n",
       "      <td>NaN</td>\n",
       "      <td>NaN</td>\n",
       "      <td>activities/1720465304.fit.gz</td>\n",
       "      <td>USW00094823</td>\n",
       "      <td>Data/activities/GPX/1720465304.gpx</td>\n",
       "      <td>(40.468456336, -80.212276438)</td>\n",
       "      <td>Run</td>\n",
       "    </tr>\n",
       "    <tr>\n",
       "      <th>518</th>\n",
       "      <td>Lunch Run</td>\n",
       "      <td>Run</td>\n",
       "      <td>NaN</td>\n",
       "      <td>NaN</td>\n",
       "      <td>activities/1720465321.fit.gz</td>\n",
       "      <td>USW00094823</td>\n",
       "      <td>Data/activities/GPX/1720465321.gpx</td>\n",
       "      <td>(40.46846061, -80.212516915)</td>\n",
       "      <td>Run</td>\n",
       "    </tr>\n",
       "    <tr>\n",
       "      <th>519</th>\n",
       "      <td>Lazy Trainer</td>\n",
       "      <td>Ride</td>\n",
       "      <td>NaN</td>\n",
       "      <td>Orbea</td>\n",
       "      <td></td>\n",
       "      <td>USC00362574</td>\n",
       "      <td>Data/activities/GPX/</td>\n",
       "      <td>(40.552273, -80.044383)</td>\n",
       "      <td>Ride</td>\n",
       "    </tr>\n",
       "    <tr>\n",
       "      <th>520</th>\n",
       "      <td>North Park Green Loop</td>\n",
       "      <td>Hike</td>\n",
       "      <td>NaN</td>\n",
       "      <td>NaN</td>\n",
       "      <td>activities/1601436182.gpx</td>\n",
       "      <td>USC00362574</td>\n",
       "      <td>Data/activities/GPX/1601436182.gpx</td>\n",
       "      <td>(40.60186, -80.012431)</td>\n",
       "      <td>Run</td>\n",
       "    </tr>\n",
       "  </tbody>\n",
       "</table>\n",
       "<p>521 rows × 9 columns</p>\n",
       "</div>"
      ],
      "text/plain": [
       "                              name  type  \\\n",
       "0                     Jun 26, 2012  Ride   \n",
       "1                     Jun 30, 2012  Ride   \n",
       "2                      Jul 3, 2012  Ride   \n",
       "3                   Riverview Park  Ride   \n",
       "4                   Forward Avenue  Ride   \n",
       "5                       Type 2 Fun  Ride   \n",
       "6                     Last In Pgh?  Ride   \n",
       "7                      Aug 4, 2012  Ride   \n",
       "8                     Out And Back  Ride   \n",
       "9                     Aug 13, 2012  Ride   \n",
       "10                         Montage  Ride   \n",
       "11                     Sep 8, 2012  Ride   \n",
       "12                    Sep 11, 2012  Ride   \n",
       "13                    Sep 15, 2012  Ride   \n",
       "14                Great River Ride  Ride   \n",
       "15        First ride of the season  Ride   \n",
       "16                    Morning Ride  Ride   \n",
       "17                       Headwinds  Ride   \n",
       "18                  Afternoon Ride  Ride   \n",
       "19                       Nanticoke  Ride   \n",
       "20             Bunker Hill, take 2  Ride   \n",
       "21                      Jellybones  Ride   \n",
       "22            Habitat for humanity  Ride   \n",
       "23                  Afternoon Ride  Ride   \n",
       "24                    Morning Ride  Ride   \n",
       "25                    Morning Ride  Ride   \n",
       "26             Larksville Mountain  Ride   \n",
       "27                       First Run   Run   \n",
       "28              3/17/2014 Recovery   Run   \n",
       "29    First Long Run (of the year)   Run   \n",
       "..                             ...   ...   \n",
       "491                  Windy as hell  Ride   \n",
       "492            Back on the trainer  Ride   \n",
       "493                     Lunch Ride  Ride   \n",
       "494                    Sunday Walk   Run   \n",
       "495                        Trainer  Ride   \n",
       "496                   Morning Ride  Ride   \n",
       "497                     Lunch Walk   Run   \n",
       "498               PBC Sewickley #1  Ride   \n",
       "499                 Afternoon Ride  Ride   \n",
       "500                     Short Ride  Ride   \n",
       "501        North Park to Sewickley  Ride   \n",
       "502                        Trainer  Ride   \n",
       "503                 Afternoon Ride  Ride   \n",
       "504                      Lunch Run   Run   \n",
       "505                      Lunch Run   Run   \n",
       "506                     Lunch Ride  Ride   \n",
       "507               North Park Hills  Ride   \n",
       "508                   Morning Ride  Ride   \n",
       "509                   Easy Trainer  Ride   \n",
       "510  Trainer - Missed the sunlight  Ride   \n",
       "511                 Afternoon Ride  Ride   \n",
       "512                   4 x Buckhill  Ride   \n",
       "513                        Trainer  Ride   \n",
       "514             MS150 Charity Spin  Ride   \n",
       "515               PBC Sewickley #4  Ride   \n",
       "516                   Morning Ride  Ride   \n",
       "517                      Lunch Run   Run   \n",
       "518                      Lunch Run   Run   \n",
       "519                   Lazy Trainer  Ride   \n",
       "520          North Park Green Loop  Hike   \n",
       "\n",
       "                                           description     gear  \\\n",
       "0                                                  NaN      NaN   \n",
       "1                                                  NaN      NaN   \n",
       "2                                                  NaN    Orbea   \n",
       "3                                                  NaN    Orbea   \n",
       "4                                                  NaN    Orbea   \n",
       "5                                                  NaN    Orbea   \n",
       "6                                                  NaN    Orbea   \n",
       "7                                                  NaN    Orbea   \n",
       "8                                                  NaN    Orbea   \n",
       "9                                                  NaN    Orbea   \n",
       "10                                                 NaN    Orbea   \n",
       "11                                                 NaN    Orbea   \n",
       "12                                                 NaN    Orbea   \n",
       "13                                                 NaN    Orbea   \n",
       "14                                                 NaN    Orbea   \n",
       "15                                                 NaN    Orbea   \n",
       "16                                                 NaN    Orbea   \n",
       "17                                                 NaN    Orbea   \n",
       "18                                                 NaN    Orbea   \n",
       "19                                                 NaN    Orbea   \n",
       "20                                                 NaN    Orbea   \n",
       "21                                                 NaN    Orbea   \n",
       "22                                                 NaN    Orbea   \n",
       "23                                                 NaN    Orbea   \n",
       "24                                                 NaN    Orbea   \n",
       "25                                                 NaN    Orbea   \n",
       "26                                                 NaN    Orbea   \n",
       "27                                                 NaN      NaN   \n",
       "28                                  Quick recovery run      NaN   \n",
       "29                                                 NaN      NaN   \n",
       "..                                                 ...      ...   \n",
       "491      Park was busy, but a great ride nevertheless.    Orbea   \n",
       "492                                                NaN    Orbea   \n",
       "493  Quick ride over lunch, too nice to not get out...    Orbea   \n",
       "494   Not sure why my GPS freaked out at the beginning      NaN   \n",
       "495                                                NaN    Orbea   \n",
       "496  Cold and windy, took it a little easier than u...    Orbea   \n",
       "497                                                NaN      NaN   \n",
       "498                 First Sewickley ride of the season    Orbea   \n",
       "499   Nice day for a ride, but a little windy in gusts    Orbea   \n",
       "500                          Easy ride around the lake    Orbea   \n",
       "501  Longest ride I've ever gone on. Planned to do ...    Orbea   \n",
       "502                                                NaN    Orbea   \n",
       "503                                                NaN    Orbea   \n",
       "504                                                NaN      NaN   \n",
       "505                                                NaN      NaN   \n",
       "506                                                NaN    Orbea   \n",
       "507                                                NaN    Orbea   \n",
       "508  Ran into Mark and Kelley while out riding, so ...    Orbea   \n",
       "509                                                NaN    Orbea   \n",
       "510                                                NaN    Orbea   \n",
       "511                                                NaN    Orbea   \n",
       "512                                                NaN    Orbea   \n",
       "513                                                NaN    Orbea   \n",
       "514                                                NaN  Trainer   \n",
       "515  Pushing the pace a little from the scheduled 1...    Orbea   \n",
       "516  Knee's been giving me problems, so took it a b...    Orbea   \n",
       "517                                                NaN      NaN   \n",
       "518                                                NaN      NaN   \n",
       "519                                                NaN    Orbea   \n",
       "520                                                NaN      NaN   \n",
       "\n",
       "                         filename    stationid  \\\n",
       "0         activities/11823912.gpx  US1PAAL0046   \n",
       "1         activities/12093460.gpx  US1PAAL0046   \n",
       "2         activities/12413019.gpx  US1PAAL0046   \n",
       "3         activities/13691080.gpx  US1PAAL0046   \n",
       "4         activities/14016843.gpx  US1PAAL0046   \n",
       "5         activities/15544611.gpx  US1PAAL0046   \n",
       "6         activities/15978057.gpx  US1PAAL0046   \n",
       "7         activities/16439947.gpx  US1PAVN0005   \n",
       "8         activities/16944133.gpx  US1PAVN0005   \n",
       "9         activities/18392177.gpx  US1PALZ0024   \n",
       "10        activities/18903312.gpx  US1PALZ0024   \n",
       "11        activities/21238499.gpx  US1PALZ0024   \n",
       "12        activities/21653603.gpx  US1PALZ0024   \n",
       "13        activities/22014438.gpx  US1PALZ0024   \n",
       "14        activities/24291063.gpx  USW00014775   \n",
       "15        activities/47468961.gpx  US1PALZ0024   \n",
       "16        activities/48570262.gpx  US1PALZ0024   \n",
       "17        activities/49698939.gpx  US1PALZ0024   \n",
       "18        activities/50692403.gpx  US1PALZ0024   \n",
       "19        activities/50948186.gpx  US1PALZ0024   \n",
       "20        activities/51609371.gpx  US1PALZ0024   \n",
       "21        activities/51985138.gpx  US1PALZ0024   \n",
       "22        activities/52472676.gpx  US1PALZ0018   \n",
       "23        activities/52951387.gpx  US1PALZ0024   \n",
       "24        activities/54520543.gpx  USC00368888   \n",
       "25        activities/57479962.gpx  US1PALZ0024   \n",
       "26        activities/58993417.gpx  US1PALZ0024   \n",
       "27    activities/132877321.fit.gz  USC00362574   \n",
       "28    activities/133185362.fit.gz  USC00362574   \n",
       "29    activities/133786176.fit.gz  USC00362574   \n",
       "..                            ...          ...   \n",
       "491  activities/1644411681.fit.gz  USC00362574   \n",
       "492                                USC00362574   \n",
       "493  activities/1650086542.fit.gz  USC00362574   \n",
       "494  activities/1650353467.fit.gz  USC00362574   \n",
       "495                                USC00362574   \n",
       "496  activities/1656326681.fit.gz  USC00362574   \n",
       "497  activities/1658924906.fit.gz  USW00094823   \n",
       "498  activities/1661395113.fit.gz  USC00362574   \n",
       "499  activities/1663204920.fit.gz  USC00362574   \n",
       "500  activities/1664709242.fit.gz  USC00362574   \n",
       "501  activities/1668802473.fit.gz  US1PABT0015   \n",
       "502                                USC00362574   \n",
       "503  activities/1676613192.fit.gz  USC00362574   \n",
       "504  activities/1676681560.fit.gz  USW00094823   \n",
       "505  activities/1676681557.fit.gz  USW00094823   \n",
       "506  activities/1677911656.fit.gz  USW00094823   \n",
       "507  activities/1683697038.fit.gz  USC00362574   \n",
       "508  activities/1685613604.fit.gz  USC00362574   \n",
       "509                                USC00362574   \n",
       "510                                USC00362574   \n",
       "511  activities/1697667663.fit.gz  USC00362574   \n",
       "512  activities/1698809328.fit.gz  USC00362574   \n",
       "513                                USC00362574   \n",
       "514                                USC00362574   \n",
       "515  activities/1711200530.fit.gz  USC00362574   \n",
       "516  activities/1716446816.fit.gz  USC00362574   \n",
       "517  activities/1720465304.fit.gz  USW00094823   \n",
       "518  activities/1720465321.fit.gz  USW00094823   \n",
       "519                                USC00362574   \n",
       "520     activities/1601436182.gpx  USC00362574   \n",
       "\n",
       "                           filename_fix                         latlng  \\\n",
       "0      Data/activities/GPX/11823912.gpx        (40.475049, -79.918379)   \n",
       "1      Data/activities/GPX/12093460.gpx        (40.475199, -79.918298)   \n",
       "2      Data/activities/GPX/12413019.gpx        (40.486821, -79.894246)   \n",
       "3      Data/activities/GPX/13691080.gpx        (40.466192, -79.922708)   \n",
       "4      Data/activities/GPX/14016843.gpx        (40.452901, -79.932796)   \n",
       "5      Data/activities/GPX/15544611.gpx        (40.452604, -79.937144)   \n",
       "6      Data/activities/GPX/15978057.gpx        (40.460355, -79.948474)   \n",
       "7      Data/activities/GPX/16439947.gpx        (41.422129, -79.716081)   \n",
       "8      Data/activities/GPX/16944133.gpx         (41.42235, -79.716084)   \n",
       "9      Data/activities/GPX/18392177.gpx        (41.267745, -75.879977)   \n",
       "10     Data/activities/GPX/18903312.gpx        (41.246968, -75.879068)   \n",
       "11     Data/activities/GPX/21238499.gpx        (41.267659, -75.879985)   \n",
       "12     Data/activities/GPX/21653603.gpx        (41.267828, -75.879931)   \n",
       "13     Data/activities/GPX/22014438.gpx         (41.26771, -75.880048)   \n",
       "14     Data/activities/GPX/24291063.gpx        (42.125021, -72.739431)   \n",
       "15     Data/activities/GPX/47468961.gpx        (41.267718, -75.880101)   \n",
       "16     Data/activities/GPX/48570262.gpx        (41.267828, -75.880033)   \n",
       "17     Data/activities/GPX/49698939.gpx        (41.267708, -75.880183)   \n",
       "18     Data/activities/GPX/50692403.gpx        (41.267811, -75.880044)   \n",
       "19     Data/activities/GPX/50948186.gpx        (41.267824, -75.880068)   \n",
       "20     Data/activities/GPX/51609371.gpx        (41.267734, -75.880035)   \n",
       "21     Data/activities/GPX/51985138.gpx        (41.267682, -75.880155)   \n",
       "22     Data/activities/GPX/52472676.gpx         (41.30632, -76.013072)   \n",
       "23     Data/activities/GPX/52951387.gpx        (41.267798, -75.880023)   \n",
       "24     Data/activities/GPX/54520543.gpx        (41.629812, -79.683286)   \n",
       "25     Data/activities/GPX/57479962.gpx         (41.25183, -75.878021)   \n",
       "26     Data/activities/GPX/58993417.gpx        (41.267812, -75.879984)   \n",
       "27    Data/activities/GPX/132877321.gpx  (40.499171484, -80.063047297)   \n",
       "28    Data/activities/GPX/133185362.gpx  (40.499048606, -80.063261706)   \n",
       "29    Data/activities/GPX/133786176.gpx  (40.499009546, -80.063240584)   \n",
       "..                                  ...                            ...   \n",
       "491  Data/activities/GPX/1644411681.gpx  (40.592020005, -80.013441686)   \n",
       "492                Data/activities/GPX/        (40.552273, -80.044383)   \n",
       "493  Data/activities/GPX/1650086542.gpx  (40.592005002, -80.013475046)   \n",
       "494  Data/activities/GPX/1650353467.gpx   (40.55188058, -80.044118529)   \n",
       "495                Data/activities/GPX/        (40.552273, -80.044383)   \n",
       "496  Data/activities/GPX/1656326681.gpx  (40.592346648, -80.012990069)   \n",
       "497  Data/activities/GPX/1658924906.gpx  (40.469438527, -80.213664062)   \n",
       "498  Data/activities/GPX/1661395113.gpx  (40.552783311, -80.115798386)   \n",
       "499  Data/activities/GPX/1663204920.gpx  (40.592008354, -80.013456689)   \n",
       "500  Data/activities/GPX/1664709242.gpx  (40.594051695, -80.011578389)   \n",
       "501  Data/activities/GPX/1668802473.gpx  (40.616178327, -80.022305045)   \n",
       "502                Data/activities/GPX/        (40.552273, -80.044383)   \n",
       "503  Data/activities/GPX/1676613192.gpx  (40.552813318, -80.115848342)   \n",
       "504  Data/activities/GPX/1676681560.gpx  (40.468542669, -80.213409755)   \n",
       "505  Data/activities/GPX/1676681557.gpx  (40.469226381, -80.213493575)   \n",
       "506  Data/activities/GPX/1677911656.gpx  (40.455968389, -80.231386675)   \n",
       "507  Data/activities/GPX/1683697038.gpx  (40.594341709, -80.010656714)   \n",
       "508  Data/activities/GPX/1685613604.gpx  (40.552493381, -80.115935011)   \n",
       "509                Data/activities/GPX/        (40.552273, -80.044383)   \n",
       "510                Data/activities/GPX/        (40.552273, -80.044383)   \n",
       "511  Data/activities/GPX/1697667663.gpx   (40.552388355, -80.11623173)   \n",
       "512  Data/activities/GPX/1698809328.gpx  (40.552143352, -80.044443412)   \n",
       "513                Data/activities/GPX/        (40.552273, -80.044383)   \n",
       "514                Data/activities/GPX/        (40.552273, -80.044383)   \n",
       "515  Data/activities/GPX/1711200530.gpx  (40.552456668, -80.116191665)   \n",
       "516  Data/activities/GPX/1716446816.gpx  (40.552451723, -80.116145061)   \n",
       "517  Data/activities/GPX/1720465304.gpx  (40.468456336, -80.212276438)   \n",
       "518  Data/activities/GPX/1720465321.gpx   (40.46846061, -80.212516915)   \n",
       "519                Data/activities/GPX/        (40.552273, -80.044383)   \n",
       "520  Data/activities/GPX/1601436182.gpx         (40.60186, -80.012431)   \n",
       "\n",
       "    new_type  \n",
       "0       Ride  \n",
       "1       Ride  \n",
       "2       Ride  \n",
       "3       Ride  \n",
       "4       Ride  \n",
       "5       Ride  \n",
       "6       Ride  \n",
       "7       Ride  \n",
       "8       Ride  \n",
       "9       Ride  \n",
       "10      Ride  \n",
       "11      Ride  \n",
       "12      Ride  \n",
       "13      Ride  \n",
       "14      Ride  \n",
       "15      Ride  \n",
       "16      Ride  \n",
       "17      Ride  \n",
       "18      Ride  \n",
       "19      Ride  \n",
       "20      Ride  \n",
       "21      Ride  \n",
       "22      Ride  \n",
       "23      Ride  \n",
       "24      Ride  \n",
       "25      Ride  \n",
       "26      Ride  \n",
       "27       Run  \n",
       "28       Run  \n",
       "29       Run  \n",
       "..       ...  \n",
       "491     Ride  \n",
       "492     Ride  \n",
       "493     Ride  \n",
       "494      Run  \n",
       "495     Ride  \n",
       "496     Ride  \n",
       "497      Run  \n",
       "498     Ride  \n",
       "499     Ride  \n",
       "500     Ride  \n",
       "501     Ride  \n",
       "502     Ride  \n",
       "503     Ride  \n",
       "504      Run  \n",
       "505      Run  \n",
       "506     Ride  \n",
       "507     Ride  \n",
       "508     Ride  \n",
       "509     Ride  \n",
       "510     Ride  \n",
       "511     Ride  \n",
       "512     Ride  \n",
       "513     Ride  \n",
       "514     Ride  \n",
       "515     Ride  \n",
       "516     Ride  \n",
       "517      Run  \n",
       "518      Run  \n",
       "519     Ride  \n",
       "520      Run  \n",
       "\n",
       "[521 rows x 9 columns]"
      ]
     },
     "execution_count": 74,
     "metadata": {},
     "output_type": "execute_result"
    }
   ],
   "source": [
    "activities.select_dtypes(object)"
   ]
  },
  {
   "cell_type": "code",
   "execution_count": 65,
   "metadata": {},
   "outputs": [
    {
     "data": {
      "text/html": [
       "<div>\n",
       "<style scoped>\n",
       "    .dataframe tbody tr th:only-of-type {\n",
       "        vertical-align: middle;\n",
       "    }\n",
       "\n",
       "    .dataframe tbody tr th {\n",
       "        vertical-align: top;\n",
       "    }\n",
       "\n",
       "    .dataframe thead th {\n",
       "        text-align: right;\n",
       "    }\n",
       "</style>\n",
       "<table border=\"1\" class=\"dataframe\">\n",
       "  <thead>\n",
       "    <tr style=\"text-align: right;\">\n",
       "      <th></th>\n",
       "      <th>id</th>\n",
       "      <th>date</th>\n",
       "      <th>name</th>\n",
       "      <th>type</th>\n",
       "      <th>description</th>\n",
       "      <th>elapsed_time</th>\n",
       "      <th>distance</th>\n",
       "      <th>commute</th>\n",
       "      <th>gear</th>\n",
       "      <th>filename</th>\n",
       "      <th>...</th>\n",
       "      <th>moving_time_seconds</th>\n",
       "      <th>distance_feet</th>\n",
       "      <th>distance_miles</th>\n",
       "      <th>manual</th>\n",
       "      <th>has_station</th>\n",
       "      <th>has_weather</th>\n",
       "      <th>has_file</th>\n",
       "      <th>indoor</th>\n",
       "      <th>new_type</th>\n",
       "      <th>other_athlete_count</th>\n",
       "    </tr>\n",
       "  </thead>\n",
       "  <tbody>\n",
       "    <tr>\n",
       "      <th>0</th>\n",
       "      <td>11823912</td>\n",
       "      <td>2012-06-26 22:17:36</td>\n",
       "      <td>Jun 26, 2012</td>\n",
       "      <td>Ride</td>\n",
       "      <td>NaN</td>\n",
       "      <td>01:35:28</td>\n",
       "      <td>32518.2</td>\n",
       "      <td>False</td>\n",
       "      <td>NaN</td>\n",
       "      <td>activities/11823912.gpx</td>\n",
       "      <td>...</td>\n",
       "      <td>5322.0</td>\n",
       "      <td>106687.011288</td>\n",
       "      <td>20.205873</td>\n",
       "      <td>False</td>\n",
       "      <td>True</td>\n",
       "      <td>False</td>\n",
       "      <td>True</td>\n",
       "      <td>False</td>\n",
       "      <td>Ride</td>\n",
       "      <td>1.0</td>\n",
       "    </tr>\n",
       "    <tr>\n",
       "      <th>1</th>\n",
       "      <td>12093460</td>\n",
       "      <td>2012-06-30 14:05:19</td>\n",
       "      <td>Jun 30, 2012</td>\n",
       "      <td>Ride</td>\n",
       "      <td>NaN</td>\n",
       "      <td>01:54:06</td>\n",
       "      <td>39051.2</td>\n",
       "      <td>False</td>\n",
       "      <td>NaN</td>\n",
       "      <td>activities/12093460.gpx</td>\n",
       "      <td>...</td>\n",
       "      <td>6273.0</td>\n",
       "      <td>128120.739008</td>\n",
       "      <td>24.265291</td>\n",
       "      <td>False</td>\n",
       "      <td>True</td>\n",
       "      <td>False</td>\n",
       "      <td>True</td>\n",
       "      <td>False</td>\n",
       "      <td>Ride</td>\n",
       "      <td>0.0</td>\n",
       "    </tr>\n",
       "    <tr>\n",
       "      <th>2</th>\n",
       "      <td>12413019</td>\n",
       "      <td>2012-07-03 22:30:35</td>\n",
       "      <td>Jul 3, 2012</td>\n",
       "      <td>Ride</td>\n",
       "      <td>NaN</td>\n",
       "      <td>01:29:29</td>\n",
       "      <td>29010.3</td>\n",
       "      <td>False</td>\n",
       "      <td>Orbea</td>\n",
       "      <td>activities/12413019.gpx</td>\n",
       "      <td>...</td>\n",
       "      <td>4838.0</td>\n",
       "      <td>95178.152652</td>\n",
       "      <td>18.026165</td>\n",
       "      <td>False</td>\n",
       "      <td>True</td>\n",
       "      <td>False</td>\n",
       "      <td>True</td>\n",
       "      <td>False</td>\n",
       "      <td>Ride</td>\n",
       "      <td>1.0</td>\n",
       "    </tr>\n",
       "    <tr>\n",
       "      <th>3</th>\n",
       "      <td>13691080</td>\n",
       "      <td>2012-07-17 22:22:28</td>\n",
       "      <td>Riverview Park</td>\n",
       "      <td>Ride</td>\n",
       "      <td>NaN</td>\n",
       "      <td>01:44:33</td>\n",
       "      <td>37623.0</td>\n",
       "      <td>False</td>\n",
       "      <td>Orbea</td>\n",
       "      <td>activities/13691080.gpx</td>\n",
       "      <td>...</td>\n",
       "      <td>5846.0</td>\n",
       "      <td>123435.043320</td>\n",
       "      <td>23.377849</td>\n",
       "      <td>False</td>\n",
       "      <td>True</td>\n",
       "      <td>False</td>\n",
       "      <td>True</td>\n",
       "      <td>False</td>\n",
       "      <td>Ride</td>\n",
       "      <td>2.0</td>\n",
       "    </tr>\n",
       "    <tr>\n",
       "      <th>4</th>\n",
       "      <td>14016843</td>\n",
       "      <td>2012-07-21 12:37:10</td>\n",
       "      <td>Forward Avenue</td>\n",
       "      <td>Ride</td>\n",
       "      <td>NaN</td>\n",
       "      <td>02:03:56</td>\n",
       "      <td>36497.3</td>\n",
       "      <td>False</td>\n",
       "      <td>Orbea</td>\n",
       "      <td>activities/14016843.gpx</td>\n",
       "      <td>...</td>\n",
       "      <td>6599.0</td>\n",
       "      <td>119741.801732</td>\n",
       "      <td>22.678372</td>\n",
       "      <td>False</td>\n",
       "      <td>True</td>\n",
       "      <td>False</td>\n",
       "      <td>True</td>\n",
       "      <td>False</td>\n",
       "      <td>Ride</td>\n",
       "      <td>2.0</td>\n",
       "    </tr>\n",
       "  </tbody>\n",
       "</table>\n",
       "<p>5 rows × 39 columns</p>\n",
       "</div>"
      ],
      "text/plain": [
       "         id                date            name  type description  \\\n",
       "0  11823912 2012-06-26 22:17:36    Jun 26, 2012  Ride         NaN   \n",
       "1  12093460 2012-06-30 14:05:19    Jun 30, 2012  Ride         NaN   \n",
       "2  12413019 2012-07-03 22:30:35     Jul 3, 2012  Ride         NaN   \n",
       "3  13691080 2012-07-17 22:22:28  Riverview Park  Ride         NaN   \n",
       "4  14016843 2012-07-21 12:37:10  Forward Avenue  Ride         NaN   \n",
       "\n",
       "  elapsed_time  distance  commute   gear                 filename  \\\n",
       "0     01:35:28   32518.2    False    NaN  activities/11823912.gpx   \n",
       "1     01:54:06   39051.2    False    NaN  activities/12093460.gpx   \n",
       "2     01:29:29   29010.3    False  Orbea  activities/12413019.gpx   \n",
       "3     01:44:33   37623.0    False  Orbea  activities/13691080.gpx   \n",
       "4     02:03:56   36497.3    False  Orbea  activities/14016843.gpx   \n",
       "\n",
       "          ...           moving_time_seconds  distance_feet  distance_miles  \\\n",
       "0         ...                        5322.0  106687.011288       20.205873   \n",
       "1         ...                        6273.0  128120.739008       24.265291   \n",
       "2         ...                        4838.0   95178.152652       18.026165   \n",
       "3         ...                        5846.0  123435.043320       23.377849   \n",
       "4         ...                        6599.0  119741.801732       22.678372   \n",
       "\n",
       "   manual has_station  has_weather has_file indoor  new_type  \\\n",
       "0   False        True        False     True  False      Ride   \n",
       "1   False        True        False     True  False      Ride   \n",
       "2   False        True        False     True  False      Ride   \n",
       "3   False        True        False     True  False      Ride   \n",
       "4   False        True        False     True  False      Ride   \n",
       "\n",
       "   other_athlete_count  \n",
       "0                  1.0  \n",
       "1                  0.0  \n",
       "2                  1.0  \n",
       "3                  2.0  \n",
       "4                  2.0  \n",
       "\n",
       "[5 rows x 39 columns]"
      ]
     },
     "execution_count": 65,
     "metadata": {},
     "output_type": "execute_result"
    }
   ],
   "source": [
    "activities.head()"
   ]
  },
  {
   "cell_type": "markdown",
   "metadata": {
    "heading_collapsed": true
   },
   "source": [
    "# Data Cleaning and Prep"
   ]
  },
  {
   "cell_type": "code",
   "execution_count": 6,
   "metadata": {
    "hidden": true
   },
   "outputs": [],
   "source": [
    "def lat_lng_to_zip(latlng,ztc):\n",
    "    minrow = (np.sqrt((ztc['LAT'] - latlng[0])**2 + (ztc['LNG'] - latlng[1])**2)).values.argmin()\n",
    "    return ztc.iloc[minrow]['ZIP']\n",
    "\n",
    "#all activities have been converted to GPX using GPSBabel, so I need to fix the filenames\n",
    "def parse_filename(filename):\n",
    "    filename = filename.split('/')\n",
    "    if len(filename) == 1:\n",
    "        filename = None\n",
    "    else:\n",
    "        filename = filename[1]\n",
    "    \n",
    "    if filename is None:\n",
    "        fn = ''\n",
    "    elif filename[-4:] == '.gpx':\n",
    "        fn = filename\n",
    "    else:\n",
    "        fn = filename[:-7] + '.gpx'\n",
    "    return 'Data/activities/GPX/' + fn\n",
    "\n",
    "def gpx_attributes(filename):\n",
    "    try:\n",
    "        with open(filename,'r') as gpx_file:\n",
    "            #gpx_file = open(filename,'r')\n",
    "            gpx = gpxpy.parse(gpx_file)\n",
    "            first_pt = gpx.tracks[0].segments[0].points[0]\n",
    "            start_pos = (first_pt.latitude,first_pt.longitude)\n",
    "        ret = start_pos\n",
    "    except:\n",
    "        #if there's no file then it was manually input, \n",
    "        #which means I most likely rode on my trainer at home\n",
    "        ret = (40.552273, -80.044383)\n",
    "    return ret"
   ]
  },
  {
   "cell_type": "markdown",
   "metadata": {
    "hidden": true
   },
   "source": [
    "Below are some helper functions:\n",
    "\n",
    "* **lat_lng_to_zip**\n",
    "    - Translates a given latitude and longitude into the nearest US zip code\n",
    "* **parse_filename**\n",
    "    - Removes the .fit.gz and replaces with .gpx for files which aren't identified as .gpx in the Strava data\n",
    "* **gpx_attributes**\n",
    "    - Figures out the latitude and longitude of the first point within a .gpx file"
   ]
  },
  {
   "cell_type": "code",
   "execution_count": 7,
   "metadata": {
    "hidden": true
   },
   "outputs": [],
   "source": [
    "#load zip code data from https://gist.github.com/erichurst/7882666\n",
    "converters={'ZIP': lambda x: str(x)}\n",
    "ztc = pd.read_csv(data_path + 'zip_to_coord.txt',converters=converters)"
   ]
  },
  {
   "cell_type": "code",
   "execution_count": 8,
   "metadata": {
    "hidden": true
   },
   "outputs": [],
   "source": [
    "activities['filename_fix'] = activities['filename'].apply(lambda x: parse_filename(x))\n",
    "activities['latlng'] = activities['filename_fix'].apply(lambda x: gpx_attributes(x))\n",
    "activities['zip'] = activities['latlng'].apply(lambda x: lat_lng_to_zip(x,ztc))"
   ]
  },
  {
   "cell_type": "code",
   "execution_count": 9,
   "metadata": {
    "hidden": true
   },
   "outputs": [
    {
     "data": {
      "text/html": [
       "<div>\n",
       "<style scoped>\n",
       "    .dataframe tbody tr th:only-of-type {\n",
       "        vertical-align: middle;\n",
       "    }\n",
       "\n",
       "    .dataframe tbody tr th {\n",
       "        vertical-align: top;\n",
       "    }\n",
       "\n",
       "    .dataframe thead th {\n",
       "        text-align: right;\n",
       "    }\n",
       "</style>\n",
       "<table border=\"1\" class=\"dataframe\">\n",
       "  <thead>\n",
       "    <tr style=\"text-align: right;\">\n",
       "      <th></th>\n",
       "      <th>id</th>\n",
       "      <th>date</th>\n",
       "      <th>name</th>\n",
       "      <th>type</th>\n",
       "      <th>description</th>\n",
       "      <th>elapsed_time</th>\n",
       "      <th>distance</th>\n",
       "      <th>commute</th>\n",
       "      <th>gear</th>\n",
       "      <th>filename</th>\n",
       "      <th>filename_fix</th>\n",
       "      <th>latlng</th>\n",
       "      <th>zip</th>\n",
       "    </tr>\n",
       "  </thead>\n",
       "  <tbody>\n",
       "    <tr>\n",
       "      <th>0</th>\n",
       "      <td>11823912</td>\n",
       "      <td>2012-06-26 22:17:36</td>\n",
       "      <td>Jun 26, 2012</td>\n",
       "      <td>Ride</td>\n",
       "      <td>NaN</td>\n",
       "      <td>5728</td>\n",
       "      <td>32518.2</td>\n",
       "      <td>False</td>\n",
       "      <td>NaN</td>\n",
       "      <td>activities/11823912.gpx</td>\n",
       "      <td>Data/activities/GPX/11823912.gpx</td>\n",
       "      <td>(40.475049, -79.918379)</td>\n",
       "      <td>15206</td>\n",
       "    </tr>\n",
       "    <tr>\n",
       "      <th>1</th>\n",
       "      <td>12093460</td>\n",
       "      <td>2012-06-30 14:05:19</td>\n",
       "      <td>Jun 30, 2012</td>\n",
       "      <td>Ride</td>\n",
       "      <td>NaN</td>\n",
       "      <td>6846</td>\n",
       "      <td>39051.2</td>\n",
       "      <td>False</td>\n",
       "      <td>NaN</td>\n",
       "      <td>activities/12093460.gpx</td>\n",
       "      <td>Data/activities/GPX/12093460.gpx</td>\n",
       "      <td>(40.475199, -79.918298)</td>\n",
       "      <td>15206</td>\n",
       "    </tr>\n",
       "    <tr>\n",
       "      <th>2</th>\n",
       "      <td>12413019</td>\n",
       "      <td>2012-07-03 22:30:35</td>\n",
       "      <td>Jul 3, 2012</td>\n",
       "      <td>Ride</td>\n",
       "      <td>NaN</td>\n",
       "      <td>5369</td>\n",
       "      <td>29010.3</td>\n",
       "      <td>False</td>\n",
       "      <td>Orbea</td>\n",
       "      <td>activities/12413019.gpx</td>\n",
       "      <td>Data/activities/GPX/12413019.gpx</td>\n",
       "      <td>(40.486821, -79.894246)</td>\n",
       "      <td>15215</td>\n",
       "    </tr>\n",
       "    <tr>\n",
       "      <th>3</th>\n",
       "      <td>13691080</td>\n",
       "      <td>2012-07-17 22:22:28</td>\n",
       "      <td>Riverview Park</td>\n",
       "      <td>Ride</td>\n",
       "      <td>NaN</td>\n",
       "      <td>6273</td>\n",
       "      <td>37623.0</td>\n",
       "      <td>False</td>\n",
       "      <td>Orbea</td>\n",
       "      <td>activities/13691080.gpx</td>\n",
       "      <td>Data/activities/GPX/13691080.gpx</td>\n",
       "      <td>(40.466192, -79.922708)</td>\n",
       "      <td>15206</td>\n",
       "    </tr>\n",
       "    <tr>\n",
       "      <th>4</th>\n",
       "      <td>14016843</td>\n",
       "      <td>2012-07-21 12:37:10</td>\n",
       "      <td>Forward Avenue</td>\n",
       "      <td>Ride</td>\n",
       "      <td>NaN</td>\n",
       "      <td>7436</td>\n",
       "      <td>36497.3</td>\n",
       "      <td>False</td>\n",
       "      <td>Orbea</td>\n",
       "      <td>activities/14016843.gpx</td>\n",
       "      <td>Data/activities/GPX/14016843.gpx</td>\n",
       "      <td>(40.452901, -79.932796)</td>\n",
       "      <td>15232</td>\n",
       "    </tr>\n",
       "  </tbody>\n",
       "</table>\n",
       "</div>"
      ],
      "text/plain": [
       "         id                date            name  type description  \\\n",
       "0  11823912 2012-06-26 22:17:36    Jun 26, 2012  Ride         NaN   \n",
       "1  12093460 2012-06-30 14:05:19    Jun 30, 2012  Ride         NaN   \n",
       "2  12413019 2012-07-03 22:30:35     Jul 3, 2012  Ride         NaN   \n",
       "3  13691080 2012-07-17 22:22:28  Riverview Park  Ride         NaN   \n",
       "4  14016843 2012-07-21 12:37:10  Forward Avenue  Ride         NaN   \n",
       "\n",
       "   elapsed_time  distance  commute   gear                 filename  \\\n",
       "0          5728   32518.2    False    NaN  activities/11823912.gpx   \n",
       "1          6846   39051.2    False    NaN  activities/12093460.gpx   \n",
       "2          5369   29010.3    False  Orbea  activities/12413019.gpx   \n",
       "3          6273   37623.0    False  Orbea  activities/13691080.gpx   \n",
       "4          7436   36497.3    False  Orbea  activities/14016843.gpx   \n",
       "\n",
       "                       filename_fix                   latlng    zip  \n",
       "0  Data/activities/GPX/11823912.gpx  (40.475049, -79.918379)  15206  \n",
       "1  Data/activities/GPX/12093460.gpx  (40.475199, -79.918298)  15206  \n",
       "2  Data/activities/GPX/12413019.gpx  (40.486821, -79.894246)  15215  \n",
       "3  Data/activities/GPX/13691080.gpx  (40.466192, -79.922708)  15206  \n",
       "4  Data/activities/GPX/14016843.gpx  (40.452901, -79.932796)  15232  "
      ]
     },
     "execution_count": 9,
     "metadata": {},
     "output_type": "execute_result"
    }
   ],
   "source": [
    "activities.head()"
   ]
  },
  {
   "cell_type": "code",
   "execution_count": 31,
   "metadata": {
    "hidden": true
   },
   "outputs": [
    {
     "data": {
      "text/plain": [
       "id                                              12093460\n",
       "date                                 2012-06-30 14:05:19\n",
       "name                                        Jun 30, 2012\n",
       "type                                                Ride\n",
       "description                                          NaN\n",
       "elapsed_time                                     1:54:06\n",
       "distance                                         39051.2\n",
       "commute                                            False\n",
       "gear                                                 NaN\n",
       "filename                         activities/12093460.gpx\n",
       "filename_fix            Data/activities/GPX/12093460.gpx\n",
       "latlng                           (40.475199, -79.918298)\n",
       "zip                                                15206\n",
       "athlete_count                                          1\n",
       "achievement_count                                      2\n",
       "comment_count                                          0\n",
       "kudos_count                                            1\n",
       "moving_time                                      1:44:33\n",
       "total_elevation_gain                          1209.32 ft\n",
       "average_speed                               13.92 mi / h\n",
       "max_speed                                   39.53 mi / h\n",
       "calories                                           946.1\n",
       "TMAX                                                 NaN\n",
       "TMIN                                                 NaN\n",
       "PRECIP                                               NaN\n",
       "stationid                                    US1PAAL0046\n",
       "manual                                             False\n",
       "has_station                                         True\n",
       "has_weather                                        False\n",
       "has_file                                            True\n",
       "indoor                                             False\n",
       "new_type                                            Ride\n",
       "Name: 1, dtype: object"
      ]
     },
     "execution_count": 31,
     "metadata": {},
     "output_type": "execute_result"
    }
   ],
   "source": [
    "activities.iloc[1]"
   ]
  },
  {
   "cell_type": "markdown",
   "metadata": {
    "heading_collapsed": true
   },
   "source": [
    "# Nearest Stations"
   ]
  },
  {
   "cell_type": "markdown",
   "metadata": {
    "hidden": true
   },
   "source": [
    "The NOAA API needs to have a station requested in order to be certain we get weather data. So, for each activity, we need to figure out which station was nearest to that activity"
   ]
  },
  {
   "cell_type": "code",
   "execution_count": 41,
   "metadata": {
    "hidden": true
   },
   "outputs": [],
   "source": [
    "ghcnd_names = ['ID','LATITUDE','LONGITUDE','ELEVATION','STATE','NAME']\n",
    "stations_g = pd.DataFrame(columns=ghcnd_names)\n",
    "all_rows = []\n",
    "with open(data_path + 'ghcnd-stations.txt','r') as file:\n",
    "    ind = 0\n",
    "    for row in file:\n",
    "        if row[0:2]!='US':\n",
    "            continue\n",
    "        state = row[38:40].strip()\n",
    "        name = row[41:71].strip()\n",
    "        t = ' '.join(row.split())\n",
    "        l = t.split(' ',maxsplit=5)\n",
    "        all_rows.append(l)\n",
    "        #stations_g.loc[ind] = l\n",
    "        #ind += 1\n",
    "stations_g = pd.DataFrame(all_rows,columns=ghcnd_names)"
   ]
  },
  {
   "cell_type": "code",
   "execution_count": 56,
   "metadata": {
    "hidden": true
   },
   "outputs": [],
   "source": [
    "numeric = ['LATITUDE','LONGITUDE','ELEVATION']\n",
    "for c in numeric:\n",
    "    stations_g[c] = pd.to_numeric(stations_g[c])"
   ]
  },
  {
   "cell_type": "code",
   "execution_count": 50,
   "metadata": {
    "hidden": true
   },
   "outputs": [],
   "source": [
    "stations_i = pd.read_csv(data_path + 'isd-history.csv',quotechar='\"')\n",
    "stations_i = stations_i[~stations_i['LAT'].isnull()]"
   ]
  },
  {
   "cell_type": "code",
   "execution_count": 62,
   "metadata": {
    "hidden": true
   },
   "outputs": [],
   "source": [
    "def find_nearest_station(latlng,stations):\n",
    "    minrow = (np.sqrt((stations_g['LATITUDE'] - latlng[0])**2 + (stations_g['LONGITUDE'] - latlng[1])**2)).values.argmin()\n",
    "    return stations_g.iloc[minrow]['ID']"
   ]
  },
  {
   "cell_type": "code",
   "execution_count": 63,
   "metadata": {
    "hidden": true
   },
   "outputs": [],
   "source": [
    "activities['stationid'] = activities['latlng'].apply(lambda x: find_nearest_station(x,stations_g))"
   ]
  },
  {
   "cell_type": "code",
   "execution_count": 147,
   "metadata": {
    "hidden": true
   },
   "outputs": [],
   "source": [
    "def get_noaa_data_station(url,station,header):\n",
    "    url = url + station\n",
    "    r = requests.get(url,headers=header)\n",
    "    return r\n",
    "    \n",
    "def construct_params_station(token,station_id):\n",
    "    creds = dict(token=token)\n",
    "    station = 'GHCND:%s'%station_id\n",
    "    u = 'https://www.ncdc.noaa.gov/cdo-web/api/v2/stations/'\n",
    "    r = get_noaa_data_station(u,station,creds)\n",
    "    return r"
   ]
  },
  {
   "cell_type": "code",
   "execution_count": 174,
   "metadata": {
    "hidden": true
   },
   "outputs": [],
   "source": [
    "#some stations are no longer active - need to delete these\n",
    "token = noaa_api_token.token\n",
    "for s in activities['stationid'].unique():\n",
    "    r = construct_params_station(token,s)\n",
    "    rj = r.json()\n",
    "    mnd = datetime.datetime.strptime(rj['mindate'], '%Y-%m-%d')\n",
    "    mxd = datetime.datetime.strptime(rj['maxdate'], '%Y-%m-%d')\n",
    "    #how many are within the date range? if 0, then remove from dataset\n",
    "    ct = activities[(activities['stationid']==s)&(activities['date'] > mnd)&(activities['date'] < mxd)].count()['id']\n",
    "    if ct == 0:\n",
    "        print(\"REMOVED\")\n",
    "        stations_g = stations_g[stations_g['ID']!=s]\n",
    "        activities[(activities['stationid']==s)]['stationid'] = None\n",
    "    time.sleep(0.200)\n",
    "        #remove station"
   ]
  },
  {
   "cell_type": "code",
   "execution_count": 173,
   "metadata": {
    "hidden": true
   },
   "outputs": [],
   "source": [
    "activities['stationid'] = activities['latlng'].apply(lambda x: find_nearest_station(x,stations_g))"
   ]
  },
  {
   "cell_type": "markdown",
   "metadata": {},
   "source": [
    "# Strava API"
   ]
  },
  {
   "cell_type": "code",
   "execution_count": null,
   "metadata": {},
   "outputs": [],
   "source": [
    "#https://developers.strava.com/docs/reference/#api-Activities-getActivityById"
   ]
  },
  {
   "cell_type": "code",
   "execution_count": 158,
   "metadata": {},
   "outputs": [],
   "source": [
    "from stravalib.client import Client\n",
    "from stravalib import unithelper"
   ]
  },
  {
   "cell_type": "code",
   "execution_count": 159,
   "metadata": {},
   "outputs": [],
   "source": [
    "client = Client()\n",
    "authorize_url = client.authorization_url(client_id=26961, redirect_uri='127.0.0.1')\n",
    "client.access_token = strava"
   ]
  },
  {
   "cell_type": "code",
   "execution_count": 26,
   "metadata": {},
   "outputs": [],
   "source": [
    "#Create new columns for all of our interesting fields above\n",
    "for i in strava_fields:\n",
    "    activities[i] = None"
   ]
  },
  {
   "cell_type": "code",
   "execution_count": null,
   "metadata": {},
   "outputs": [
    {
     "name": "stderr",
     "output_type": "stream",
     "text": [
      "No such attribute available_zones on entity <Activity id=11823912 name='Jun 26, 2012' resource_state=3>\n",
      "No such attribute available_zones on entity <Activity id=12093460 name='Jun 30, 2012' resource_state=3>\n",
      "No such attribute available_zones on entity <Activity id=12413019 name='Jul 3, 2012' resource_state=3>\n",
      "No such attribute available_zones on entity <Activity id=13691080 name='Riverview Park' resource_state=3>\n",
      "No such attribute available_zones on entity <Activity id=14016843 name='Forward Avenue' resource_state=3>\n",
      "No such attribute available_zones on entity <Activity id=15544611 name='Type 2 Fun' resource_state=3>\n",
      "No such attribute available_zones on entity <Activity id=15978057 name='Last In Pgh?' resource_state=3>\n",
      "No such attribute available_zones on entity <Activity id=16439947 name='Aug 4, 2012' resource_state=3>\n",
      "No such attribute available_zones on entity <Activity id=16944133 name='Out And Back' resource_state=3>\n",
      "No such attribute available_zones on entity <Activity id=18392177 name='Aug 13, 2012' resource_state=3>\n",
      "No such attribute available_zones on entity <Activity id=18903312 name='Montage' resource_state=3>\n",
      "No such attribute available_zones on entity <Activity id=21238499 name='Sep 8, 2012' resource_state=3>\n"
     ]
    },
    {
     "name": "stdout",
     "output_type": "stream",
     "text": [
      "Failed\n"
     ]
    },
    {
     "name": "stderr",
     "output_type": "stream",
     "text": [
      "No such attribute available_zones on entity <Activity id=22014438 name='Sep 15, 2012' resource_state=3>\n",
      "No such attribute available_zones on entity <Activity id=24291063 name='Great River Ride' resource_state=3>\n",
      "No such attribute available_zones on entity <Activity id=47468961 name='First ride of the season' resource_state=3>\n",
      "No such attribute available_zones on entity <Activity id=48570262 name='Morning Ride' resource_state=3>\n",
      "No such attribute available_zones on entity <Activity id=49698939 name='Headwinds' resource_state=3>\n",
      "No such attribute available_zones on entity <Activity id=50692403 name='Afternoon Ride' resource_state=3>\n",
      "No such attribute available_zones on entity <Activity id=50948186 name='Nanticoke' resource_state=3>\n",
      "No such attribute available_zones on entity <Activity id=51609371 name='Bunker Hill, take 2' resource_state=3>\n",
      "No such attribute available_zones on entity <Activity id=51985138 name='Jellybones' resource_state=3>\n",
      "No such attribute available_zones on entity <Activity id=52472676 name='Habitat for humanity' resource_state=3>\n",
      "No such attribute available_zones on entity <Activity id=52951387 name='Afternoon Ride' resource_state=3>\n",
      "No such attribute available_zones on entity <Activity id=54520543 name='Morning Ride' resource_state=3>\n",
      "No such attribute available_zones on entity <Activity id=57479962 name='Morning Ride' resource_state=3>\n",
      "No such attribute available_zones on entity <Activity id=58993417 name='Larksville Mountain' resource_state=3>\n",
      "No such attribute similar_activities on entity <Activity id=121376402 name='First Run' resource_state=3>\n",
      "No such attribute available_zones on entity <Activity id=121376402 name='First Run' resource_state=3>\n",
      "No such attribute similar_activities on entity <Activity id=121654612 name='3/17/2014 Recovery' resource_state=3>\n",
      "No such attribute available_zones on entity <Activity id=121654612 name='3/17/2014 Recovery' resource_state=3>\n",
      "No such attribute similar_activities on entity <Activity id=122202686 name='First Long Run (of the year)' resource_state=3>\n",
      "No such attribute available_zones on entity <Activity id=122202686 name='First Long Run (of the year)' resource_state=3>\n",
      "No such attribute similar_activities on entity <Activity id=124013586 name='03/25/2014 Pittsburgh, PA' resource_state=3>\n",
      "No such attribute available_zones on entity <Activity id=124013586 name='03/25/2014 Pittsburgh, PA' resource_state=3>\n",
      "No such attribute similar_activities on entity <Activity id=124013609 name=\"Colder than I'd like\" resource_state=3>\n",
      "No such attribute available_zones on entity <Activity id=124013609 name=\"Colder than I'd like\" resource_state=3>\n",
      "No such attribute similar_activities on entity <Activity id=124511542 name='Tempo' resource_state=3>\n",
      "No such attribute available_zones on entity <Activity id=124511542 name='Tempo' resource_state=3>\n",
      "No such attribute similar_activities on entity <Activity id=125466273 name='Look Ma, No Hills!' resource_state=3>\n",
      "No such attribute available_zones on entity <Activity id=125466273 name='Look Ma, No Hills!' resource_state=3>\n",
      "No such attribute similar_activities on entity <Activity id=126069656 name='Recovery' resource_state=3>\n",
      "No such attribute available_zones on entity <Activity id=126069656 name='Recovery' resource_state=3>\n",
      "No such attribute similar_activities on entity <Activity id=126069712 name='Hill Sprint (x5)' resource_state=3>\n",
      "No such attribute available_zones on entity <Activity id=126069712 name='Hill Sprint (x5)' resource_state=3>\n",
      "No such attribute similar_activities on entity <Activity id=126698835 name='Rain Run' resource_state=3>\n",
      "No such attribute available_zones on entity <Activity id=126698835 name='Rain Run' resource_state=3>\n",
      "No such attribute available_zones on entity <Activity id=134149219 name='Observatory' resource_state=3>\n",
      "No such attribute available_zones on entity <Activity id=134149497 name='Get to the Point' resource_state=3>\n",
      "No such attribute available_zones on entity <Activity id=134149617 name='First Ride' resource_state=3>\n",
      "No such attribute available_zones on entity <Activity id=134884041 name='East End Keg Ride' resource_state=3>\n",
      "No such attribute similar_activities on entity <Activity id=137543949 name='Oil City' resource_state=3>\n",
      "No such attribute available_zones on entity <Activity id=137543949 name='Oil City' resource_state=3>\n",
      "No such attribute similar_activities on entity <Activity id=138300797 name='Back to Hills' resource_state=3>\n",
      "No such attribute available_zones on entity <Activity id=138300797 name='Back to Hills' resource_state=3>\n",
      "No such attribute similar_activities on entity <Activity id=138300944 name='Workday Run' resource_state=3>\n",
      "No such attribute available_zones on entity <Activity id=138300944 name='Workday Run' resource_state=3>\n",
      "No such attribute available_zones on entity <Activity id=140135937 name=\"Mother's Day\" resource_state=3>\n",
      "No such attribute similar_activities on entity <Activity id=140135987 name='Mayfly 5K' resource_state=3>\n",
      "No such attribute available_zones on entity <Activity id=140135987 name='Mayfly 5K' resource_state=3>\n",
      "No such attribute similar_activities on entity <Activity id=140136037 name='Taper Run' resource_state=3>\n",
      "No such attribute available_zones on entity <Activity id=140136037 name='Taper Run' resource_state=3>\n",
      "No such attribute similar_activities on entity <Activity id=140457875 name='Why is it so humid?' resource_state=3>\n",
      "No such attribute available_zones on entity <Activity id=140457875 name='Why is it so humid?' resource_state=3>\n",
      "No such attribute similar_activities on entity <Activity id=143295964 name='Hill training' resource_state=3>\n",
      "No such attribute available_zones on entity <Activity id=143295964 name='Hill training' resource_state=3>\n",
      "No such attribute available_zones on entity <Activity id=145159191 name='Back to Oil City' resource_state=3>\n",
      "No such attribute available_zones on entity <Activity id=145159255 name='Up to Titusville' resource_state=3>\n",
      "No such attribute similar_activities on entity <Activity id=145159323 name='Work Run' resource_state=3>\n",
      "No such attribute available_zones on entity <Activity id=145159323 name='Work Run' resource_state=3>\n",
      "No such attribute similar_activities on entity <Activity id=148403154 name='Sunday long run' resource_state=3>\n",
      "No such attribute available_zones on entity <Activity id=148403154 name='Sunday long run' resource_state=3>\n",
      "No such attribute similar_activities on entity <Activity id=149188348 name='Stormy' resource_state=3>\n",
      "No such attribute available_zones on entity <Activity id=149188348 name='Stormy' resource_state=3>\n",
      "No such attribute similar_activities on entity <Activity id=151665892 name='Hill Sprints (x7)' resource_state=3>\n",
      "No such attribute available_zones on entity <Activity id=151665892 name='Hill Sprints (x7)' resource_state=3>\n",
      "No such attribute similar_activities on entity <Activity id=151665926 name='Workday Recovery' resource_state=3>\n",
      "No such attribute available_zones on entity <Activity id=151665926 name='Workday Recovery' resource_state=3>\n",
      "No such attribute similar_activities on entity <Activity id=156247136 name='Hill Sprints (x5)' resource_state=3>\n",
      "No such attribute available_zones on entity <Activity id=156247136 name='Hill Sprints (x5)' resource_state=3>\n",
      "No such attribute similar_activities on entity <Activity id=156247547 name='Paul Richey 5K' resource_state=3>\n",
      "No such attribute available_zones on entity <Activity id=156247547 name='Paul Richey 5K' resource_state=3>\n",
      "No such attribute similar_activities on entity <Activity id=156284910 name='Saturday Fun Run' resource_state=3>\n",
      "No such attribute available_zones on entity <Activity id=156284910 name='Saturday Fun Run' resource_state=3>\n",
      "No such attribute similar_activities on entity <Activity id=159537048 name='Sunday Long Run' resource_state=3>\n",
      "No such attribute available_zones on entity <Activity id=159537048 name='Sunday Long Run' resource_state=3>\n",
      "No such attribute similar_activities on entity <Activity id=159537399 name='Thursday Run' resource_state=3>\n",
      "No such attribute available_zones on entity <Activity id=159537399 name='Thursday Run' resource_state=3>\n",
      "No such attribute similar_activities on entity <Activity id=159537768 name='Hill Sprints (x5)' resource_state=3>\n"
     ]
    },
    {
     "name": "stderr",
     "output_type": "stream",
     "text": [
      "No such attribute available_zones on entity <Activity id=159537768 name='Hill Sprints (x5)' resource_state=3>\n",
      "No such attribute similar_activities on entity <Activity id=166863478 name='Another Workday Run' resource_state=3>\n",
      "No such attribute available_zones on entity <Activity id=166863478 name='Another Workday Run' resource_state=3>\n",
      "No such attribute similar_activities on entity <Activity id=166863767 name='Workday Run' resource_state=3>\n",
      "No such attribute available_zones on entity <Activity id=166863767 name='Workday Run' resource_state=3>\n",
      "No such attribute similar_activities on entity <Activity id=166863950 name='Hill Run (x5)' resource_state=3>\n",
      "No such attribute available_zones on entity <Activity id=166863950 name='Hill Run (x5)' resource_state=3>\n",
      "No such attribute similar_activities on entity <Activity id=166864224 name='Out and Back' resource_state=3>\n",
      "No such attribute available_zones on entity <Activity id=166864224 name='Out and Back' resource_state=3>\n",
      "No such attribute similar_activities on entity <Activity id=166864956 name='Workday Run' resource_state=3>\n",
      "No such attribute available_zones on entity <Activity id=166864956 name='Workday Run' resource_state=3>\n",
      "No such attribute available_zones on entity <Activity id=167763227 name='Flock of Cycles' resource_state=3>\n",
      "No such attribute similar_activities on entity <Activity id=167763349 name='Working and Running' resource_state=3>\n",
      "No such attribute available_zones on entity <Activity id=167763349 name='Working and Running' resource_state=3>\n",
      "No such attribute similar_activities on entity <Activity id=168533014 name='Sunday Long Run' resource_state=3>\n",
      "No such attribute available_zones on entity <Activity id=168533014 name='Sunday Long Run' resource_state=3>\n",
      "No such attribute available_zones on entity <Activity id=187624491 name='Oil City Bike Ride' resource_state=3>\n",
      "No such attribute similar_activities on entity <Activity id=187624542 name='Run' resource_state=3>\n",
      "No such attribute available_zones on entity <Activity id=187624542 name='Run' resource_state=3>\n",
      "No such attribute similar_activities on entity <Activity id=187624614 name='Run' resource_state=3>\n",
      "No such attribute available_zones on entity <Activity id=187624614 name='Run' resource_state=3>\n",
      "No such attribute similar_activities on entity <Activity id=187624688 name='Run' resource_state=3>\n",
      "No such attribute available_zones on entity <Activity id=187624688 name='Run' resource_state=3>\n",
      "No such attribute similar_activities on entity <Activity id=187624743 name='Soccer' resource_state=3>\n",
      "No such attribute available_zones on entity <Activity id=187624743 name='Soccer' resource_state=3>\n",
      "No such attribute similar_activities on entity <Activity id=187624919 name='Run' resource_state=3>\n",
      "No such attribute available_zones on entity <Activity id=187624919 name='Run' resource_state=3>\n",
      "No such attribute similar_activities on entity <Activity id=187624984 name='Run' resource_state=3>\n",
      "No such attribute available_zones on entity <Activity id=187624984 name='Run' resource_state=3>\n",
      "No such attribute similar_activities on entity <Activity id=187625058 name='Shin Splints' resource_state=3>\n",
      "No such attribute available_zones on entity <Activity id=187625058 name='Shin Splints' resource_state=3>\n",
      "No such attribute similar_activities on entity <Activity id=187625134 name='Soccer' resource_state=3>\n",
      "No such attribute available_zones on entity <Activity id=187625134 name='Soccer' resource_state=3>\n",
      "No such attribute similar_activities on entity <Activity id=187625235 name='07/22/2014 Coraopolis, PA' resource_state=3>\n",
      "No such attribute available_zones on entity <Activity id=187625235 name='07/22/2014 Coraopolis, PA' resource_state=3>\n",
      "No such attribute available_zones on entity <Activity id=189479502 name='Roosevelt Rd.' resource_state=3>\n",
      "No such attribute available_zones on entity <Activity id=190354032 name='09/05/2014 Pittsburgh, PA' resource_state=3>\n",
      "No such attribute available_zones on entity <Activity id=191110309 name='Southside Ride' resource_state=3>\n",
      "No such attribute available_zones on entity <Activity id=192808426 name='Fineview' resource_state=3>\n",
      "No such attribute available_zones on entity <Activity id=193609523 name='Out and back' resource_state=3>\n",
      "No such attribute available_zones on entity <Activity id=194360064 name='Sunday bike ride' resource_state=3>\n",
      "No such attribute available_zones on entity <Activity id=195503937 name='Usual Ride' resource_state=3>\n",
      "No such attribute available_zones on entity <Activity id=195934820 name='Workday Ride' resource_state=3>\n",
      "No such attribute available_zones on entity <Activity id=197057354 name='Tour the Montour' resource_state=3>\n",
      "No such attribute available_zones on entity <Activity id=288078687 name='Belmar Out-and-Back' resource_state=3>\n",
      "No such attribute similar_activities on entity <Activity id=297463559 name='05/01/2015 Pittsburgh, PA' resource_state=3>\n",
      "No such attribute available_zones on entity <Activity id=297463559 name='05/01/2015 Pittsburgh, PA' resource_state=3>\n",
      "No such attribute available_zones on entity <Activity id=297463586 name='05/02/2015 Pittsburgh, PA' resource_state=3>\n",
      "No such attribute available_zones on entity <Activity id=297463602 name='05/02/2015 Pittsburgh, Pennsylvania' resource_state=3>\n",
      "No such attribute similar_activities on entity <Activity id=297474871 name='04/25/2015 Pittsburgh, Pennsylvania' resource_state=3>\n",
      "No such attribute available_zones on entity <Activity id=297474871 name='04/25/2015 Pittsburgh, Pennsylvania' resource_state=3>\n",
      "No such attribute available_zones on entity <Activity id=297659475 name='04/11/2015 Pittsburgh, PA' resource_state=3>\n",
      "No such attribute similar_activities on entity <Activity id=343782078 name='06/07/2015 Pittsburgh, PA' resource_state=3>\n",
      "No such attribute available_zones on entity <Activity id=343782078 name='06/07/2015 Pittsburgh, PA' resource_state=3>\n",
      "No such attribute similar_activities on entity <Activity id=343918902 name='07/11/2015 McCandless, Pennsylvania' resource_state=3>\n",
      "No such attribute available_zones on entity <Activity id=343918902 name='07/11/2015 McCandless, Pennsylvania' resource_state=3>\n",
      "No such attribute available_zones on entity <Activity id=369756137 name='07/15/2015 Pittsburgh, PA' resource_state=3>\n",
      "No such attribute available_zones on entity <Activity id=369818758 name='Pgh Trails' resource_state=3>\n",
      "No such attribute similar_activities on entity <Activity id=444897998 name='Morning Run' resource_state=3>\n",
      "No such attribute available_zones on entity <Activity id=444897998 name='Morning Run' resource_state=3>\n",
      "No such attribute available_zones on entity <Activity id=444898001 name='Afternoon Ride' resource_state=3>\n",
      "No such attribute available_zones on entity <Activity id=444898012 name='Morning Ride' resource_state=3>\n",
      "No such attribute available_zones on entity <Activity id=444898023 name='Afternoon Run' resource_state=3>\n",
      "No such attribute similar_activities on entity <Activity id=490645770 name='Lunch Run' resource_state=3>\n",
      "No such attribute available_zones on entity <Activity id=490645770 name='Lunch Run' resource_state=3>\n",
      "No such attribute similar_activities on entity <Activity id=490645778 name='Afternoon Run' resource_state=3>\n",
      "No such attribute available_zones on entity <Activity id=490645778 name='Afternoon Run' resource_state=3>\n",
      "No such attribute similar_activities on entity <Activity id=490645790 name='Afternoon Run' resource_state=3>\n",
      "No such attribute available_zones on entity <Activity id=490645790 name='Afternoon Run' resource_state=3>\n",
      "No such attribute similar_activities on entity <Activity id=504695608 name='Lunch Run' resource_state=3>\n",
      "No such attribute available_zones on entity <Activity id=504695608 name='Lunch Run' resource_state=3>\n",
      "No such attribute similar_activities on entity <Activity id=504761019 name='Lunch Run' resource_state=3>\n",
      "No such attribute available_zones on entity <Activity id=504761019 name='Lunch Run' resource_state=3>\n",
      "No such attribute similar_activities on entity <Activity id=514969161 name='Morning Run' resource_state=3>\n",
      "No such attribute available_zones on entity <Activity id=514969161 name='Morning Run' resource_state=3>\n",
      "No such attribute similar_activities on entity <Activity id=518119807 name='Morning Run' resource_state=3>\n"
     ]
    },
    {
     "name": "stderr",
     "output_type": "stream",
     "text": [
      "No such attribute available_zones on entity <Activity id=518119807 name='Morning Run' resource_state=3>\n",
      "No such attribute similar_activities on entity <Activity id=518119812 name='Evening Run' resource_state=3>\n",
      "No such attribute available_zones on entity <Activity id=518119812 name='Evening Run' resource_state=3>\n",
      "No such attribute similar_activities on entity <Activity id=527435956 name='Lunch Run' resource_state=3>\n",
      "No such attribute available_zones on entity <Activity id=527435956 name='Lunch Run' resource_state=3>\n",
      "No such attribute similar_activities on entity <Activity id=527590101 name='Afternoon Run' resource_state=3>\n",
      "No such attribute available_zones on entity <Activity id=527590101 name='Afternoon Run' resource_state=3>\n",
      "No such attribute similar_activities on entity <Activity id=546503104 name='Afternoon Run' resource_state=3>\n",
      "No such attribute available_zones on entity <Activity id=546503104 name='Afternoon Run' resource_state=3>\n",
      "No such attribute available_zones on entity <Activity id=546503141 name='412 Flock' resource_state=3>\n",
      "No such attribute available_zones on entity <Activity id=551805449 name='Out and back' resource_state=3>\n",
      "No such attribute available_zones on entity <Activity id=554685500 name='Keg ride, commute to EEBC' resource_state=3>\n",
      "No such attribute available_zones on entity <Activity id=554685509 name='EEBC Keg Ride' resource_state=3>\n",
      "No such attribute available_zones on entity <Activity id=554685524 name='EEBC Keg Ride - Back to Car' resource_state=3>\n",
      "No such attribute similar_activities on entity <Activity id=559594294 name='Afternoon Run' resource_state=3>\n",
      "No such attribute available_zones on entity <Activity id=559594294 name='Afternoon Run' resource_state=3>\n",
      "No such attribute similar_activities on entity <Activity id=564491130 name='Lunch Run' resource_state=3>\n",
      "No such attribute available_zones on entity <Activity id=564491130 name='Lunch Run' resource_state=3>\n",
      "No such attribute similar_activities on entity <Activity id=564491149 name='Lunch break soccer' resource_state=3>\n",
      "No such attribute available_zones on entity <Activity id=564491149 name='Lunch break soccer' resource_state=3>\n",
      "No such attribute available_zones on entity <Activity id=568608464 name='Sewickley Market Ride' resource_state=3>\n",
      "No such attribute similar_activities on entity <Activity id=579528890 name='Evening Run' resource_state=3>\n",
      "No such attribute available_zones on entity <Activity id=579528890 name='Evening Run' resource_state=3>\n",
      "No such attribute similar_activities on entity <Activity id=579528913 name='Afternoon Run' resource_state=3>\n",
      "No such attribute available_zones on entity <Activity id=579528913 name='Afternoon Run' resource_state=3>\n",
      "No such attribute similar_activities on entity <Activity id=579608940 name='Out and Back, Training' resource_state=3>\n",
      "No such attribute available_zones on entity <Activity id=579608940 name='Out and Back, Training' resource_state=3>\n",
      "No such attribute similar_activities on entity <Activity id=593254281 name='Afternoon Struggle' resource_state=3>\n",
      "No such attribute available_zones on entity <Activity id=593254281 name='Afternoon Struggle' resource_state=3>\n",
      "No such attribute similar_activities on entity <Activity id=593286052 name='Lunch Run' resource_state=3>\n",
      "No such attribute available_zones on entity <Activity id=593286052 name='Lunch Run' resource_state=3>\n",
      "No such attribute similar_activities on entity <Activity id=593286101 name='Afternoon Run' resource_state=3>\n",
      "No such attribute available_zones on entity <Activity id=593286101 name='Afternoon Run' resource_state=3>\n",
      "No such attribute similar_activities on entity <Activity id=595233587 name='Slowwwww Run' resource_state=3>\n",
      "No such attribute available_zones on entity <Activity id=595233587 name='Slowwwww Run' resource_state=3>\n",
      "No such attribute similar_activities on entity <Activity id=598029385 name='Morning Run' resource_state=3>\n",
      "No such attribute available_zones on entity <Activity id=598029385 name='Morning Run' resource_state=3>\n",
      "No such attribute similar_activities on entity <Activity id=605203272 name='Lunch Run' resource_state=3>\n",
      "No such attribute available_zones on entity <Activity id=605203272 name='Lunch Run' resource_state=3>\n",
      "No such attribute similar_activities on entity <Activity id=606316164 name='Paul Richey 5k' resource_state=3>\n",
      "No such attribute available_zones on entity <Activity id=606316164 name='Paul Richey 5k' resource_state=3>\n",
      "No such attribute similar_activities on entity <Activity id=608455478 name='Afternoon Run' resource_state=3>\n",
      "No such attribute available_zones on entity <Activity id=608455478 name='Afternoon Run' resource_state=3>\n",
      "No such attribute similar_activities on entity <Activity id=610198868 name='Lunch Run' resource_state=3>\n",
      "No such attribute available_zones on entity <Activity id=610198868 name='Lunch Run' resource_state=3>\n",
      "No such attribute similar_activities on entity <Activity id=612878583 name='Hard \"Run\"' resource_state=3>\n",
      "No such attribute available_zones on entity <Activity id=612878583 name='Hard \"Run\"' resource_state=3>\n",
      "No such attribute similar_activities on entity <Activity id=617359193 name='Afternoon Run' resource_state=3>\n",
      "No such attribute available_zones on entity <Activity id=617359193 name='Afternoon Run' resource_state=3>\n",
      "No such attribute similar_activities on entity <Activity id=617359239 name='Lunch Run' resource_state=3>\n",
      "No such attribute available_zones on entity <Activity id=617359239 name='Lunch Run' resource_state=3>\n",
      "No such attribute similar_activities on entity <Activity id=620562941 name='Morning Run' resource_state=3>\n",
      "No such attribute available_zones on entity <Activity id=620562941 name='Morning Run' resource_state=3>\n",
      "No such attribute similar_activities on entity <Activity id=622956430 name='Afternoon Run' resource_state=3>\n",
      "No such attribute available_zones on entity <Activity id=622956430 name='Afternoon Run' resource_state=3>\n",
      "No such attribute similar_activities on entity <Activity id=624065040 name='Evening Run' resource_state=3>\n",
      "No such attribute available_zones on entity <Activity id=624065040 name='Evening Run' resource_state=3>\n",
      "No such attribute similar_activities on entity <Activity id=626069943 name='4 Seconds More for the KOM' resource_state=3>\n",
      "No such attribute available_zones on entity <Activity id=626069943 name='4 Seconds More for the KOM' resource_state=3>\n",
      "No such attribute similar_activities on entity <Activity id=627439813 name='Morning Run' resource_state=3>\n",
      "No such attribute available_zones on entity <Activity id=627439813 name='Morning Run' resource_state=3>\n",
      "No such attribute similar_activities on entity <Activity id=630021725 name='Afternoon Run' resource_state=3>\n",
      "No such attribute available_zones on entity <Activity id=630021725 name='Afternoon Run' resource_state=3>\n",
      "No such attribute similar_activities on entity <Activity id=632537656 name='Slow, hot, out, and back' resource_state=3>\n",
      "No such attribute available_zones on entity <Activity id=632537656 name='Slow, hot, out, and back' resource_state=3>\n",
      "No such attribute similar_activities on entity <Activity id=633618256 name='Afternoon Run' resource_state=3>\n",
      "No such attribute available_zones on entity <Activity id=633618256 name='Afternoon Run' resource_state=3>\n",
      "No such attribute similar_activities on entity <Activity id=635064340 name='Morning Run' resource_state=3>\n",
      "No such attribute available_zones on entity <Activity id=635064340 name='Morning Run' resource_state=3>\n",
      "No such attribute similar_activities on entity <Activity id=637916429 name='Finally Getting that CR' resource_state=3>\n",
      "No such attribute available_zones on entity <Activity id=637916429 name='Finally Getting that CR' resource_state=3>\n",
      "No such attribute similar_activities on entity <Activity id=639010807 name='Afternoon Run' resource_state=3>\n",
      "No such attribute available_zones on entity <Activity id=639010807 name='Afternoon Run' resource_state=3>\n",
      "No such attribute similar_activities on entity <Activity id=641157747 name='Afternoon Run' resource_state=3>\n",
      "No such attribute available_zones on entity <Activity id=641157747 name='Afternoon Run' resource_state=3>\n",
      "No such attribute similar_activities on entity <Activity id=643870407 name='Morning Run' resource_state=3>\n"
     ]
    },
    {
     "name": "stderr",
     "output_type": "stream",
     "text": [
      "No such attribute available_zones on entity <Activity id=643870407 name='Morning Run' resource_state=3>\n",
      "No such attribute similar_activities on entity <Activity id=646822645 name='Evening Run' resource_state=3>\n",
      "No such attribute available_zones on entity <Activity id=646822645 name='Evening Run' resource_state=3>\n",
      "No such attribute similar_activities on entity <Activity id=648005742 name='Lunch Run' resource_state=3>\n",
      "No such attribute available_zones on entity <Activity id=648005742 name='Lunch Run' resource_state=3>\n",
      "No such attribute similar_activities on entity <Activity id=652202532 name='Oil City Firefighters 5K' resource_state=3>\n",
      "No such attribute available_zones on entity <Activity id=652202532 name='Oil City Firefighters 5K' resource_state=3>\n",
      "No such attribute similar_activities on entity <Activity id=654742504 name='Evening Run' resource_state=3>\n",
      "No such attribute available_zones on entity <Activity id=654742504 name='Evening Run' resource_state=3>\n",
      "No such attribute similar_activities on entity <Activity id=660423603 name='Lunch Run' resource_state=3>\n",
      "No such attribute available_zones on entity <Activity id=660423603 name='Lunch Run' resource_state=3>\n",
      "No such attribute similar_activities on entity <Activity id=660426769 name='Morning Run' resource_state=3>\n",
      "No such attribute available_zones on entity <Activity id=660426769 name='Morning Run' resource_state=3>\n",
      "No such attribute similar_activities on entity <Activity id=663254376 name='Lunch Run' resource_state=3>\n",
      "No such attribute available_zones on entity <Activity id=663254376 name='Lunch Run' resource_state=3>\n",
      "No such attribute similar_activities on entity <Activity id=663254377 name='Lunch Run' resource_state=3>\n",
      "No such attribute available_zones on entity <Activity id=663254377 name='Lunch Run' resource_state=3>\n",
      "No such attribute similar_activities on entity <Activity id=666502953 name='Slow Run' resource_state=3>\n",
      "No such attribute available_zones on entity <Activity id=666502953 name='Slow Run' resource_state=3>\n",
      "No such attribute similar_activities on entity <Activity id=671370393 name='Evening Run' resource_state=3>\n",
      "No such attribute available_zones on entity <Activity id=671370393 name='Evening Run' resource_state=3>\n",
      "No such attribute similar_activities on entity <Activity id=671370415 name='Lunch Run' resource_state=3>\n",
      "No such attribute available_zones on entity <Activity id=671370415 name='Lunch Run' resource_state=3>\n",
      "No such attribute similar_activities on entity <Activity id=675755035 name='Evening Run' resource_state=3>\n",
      "No such attribute available_zones on entity <Activity id=675755035 name='Evening Run' resource_state=3>\n",
      "No such attribute similar_activities on entity <Activity id=675755060 name='Morning Run' resource_state=3>\n",
      "No such attribute available_zones on entity <Activity id=675755060 name='Morning Run' resource_state=3>\n",
      "No such attribute similar_activities on entity <Activity id=678621249 name='Thunderstorm Run' resource_state=3>\n",
      "No such attribute available_zones on entity <Activity id=678621249 name='Thunderstorm Run' resource_state=3>\n",
      "No such attribute similar_activities on entity <Activity id=679760406 name='Lunch Run' resource_state=3>\n",
      "No such attribute available_zones on entity <Activity id=679760406 name='Lunch Run' resource_state=3>\n",
      "No such attribute similar_activities on entity <Activity id=681101321 name='Thursday Slow Run' resource_state=3>\n",
      "No such attribute available_zones on entity <Activity id=681101321 name='Thursday Slow Run' resource_state=3>\n",
      "No such attribute similar_activities on entity <Activity id=686620056 name='Morning Run' resource_state=3>\n",
      "No such attribute available_zones on entity <Activity id=686620056 name='Morning Run' resource_state=3>\n",
      "No such attribute similar_activities on entity <Activity id=686652022 name='Afternoon Run' resource_state=3>\n",
      "No such attribute available_zones on entity <Activity id=686652022 name='Afternoon Run' resource_state=3>\n",
      "No such attribute similar_activities on entity <Activity id=687487818 name='Speed Work' resource_state=3>\n",
      "No such attribute available_zones on entity <Activity id=687487818 name='Speed Work' resource_state=3>\n",
      "No such attribute similar_activities on entity <Activity id=690159028 name='Evening Run' resource_state=3>\n",
      "No such attribute available_zones on entity <Activity id=690159028 name='Evening Run' resource_state=3>\n",
      "No such attribute similar_activities on entity <Activity id=691990311 name='Morning Run' resource_state=3>\n",
      "No such attribute available_zones on entity <Activity id=691990311 name='Morning Run' resource_state=3>\n",
      "No such attribute similar_activities on entity <Activity id=705398757 name='Workday Run' resource_state=3>\n",
      "No such attribute available_zones on entity <Activity id=705398757 name='Workday Run' resource_state=3>\n",
      "No such attribute similar_activities on entity <Activity id=705398776 name='Minnesota Running' resource_state=3>\n",
      "No such attribute available_zones on entity <Activity id=705398776 name='Minnesota Running' resource_state=3>\n",
      "No such attribute similar_activities on entity <Activity id=705441052 name='Fast Run' resource_state=3>\n",
      "No such attribute available_zones on entity <Activity id=705441052 name='Fast Run' resource_state=3>\n",
      "No such attribute similar_activities on entity <Activity id=714585644 name='Evening Run' resource_state=3>\n",
      "No such attribute available_zones on entity <Activity id=714585644 name='Evening Run' resource_state=3>\n",
      "No such attribute similar_activities on entity <Activity id=714585651 name='Afternoon Run' resource_state=3>\n",
      "No such attribute available_zones on entity <Activity id=714585651 name='Afternoon Run' resource_state=3>\n",
      "No such attribute similar_activities on entity <Activity id=715869358 name='Coach Rood 5K' resource_state=3>\n",
      "No such attribute available_zones on entity <Activity id=715869358 name='Coach Rood 5K' resource_state=3>\n",
      "No such attribute similar_activities on entity <Activity id=723805085 name='Evening Run' resource_state=3>\n",
      "No such attribute available_zones on entity <Activity id=723805085 name='Evening Run' resource_state=3>\n",
      "No such attribute similar_activities on entity <Activity id=723805089 name='Afternoon Run' resource_state=3>\n",
      "No such attribute available_zones on entity <Activity id=723805089 name='Afternoon Run' resource_state=3>\n",
      "No such attribute similar_activities on entity <Activity id=723805097 name='Afternoon Run' resource_state=3>\n",
      "No such attribute available_zones on entity <Activity id=723805097 name='Afternoon Run' resource_state=3>\n",
      "No such attribute similar_activities on entity <Activity id=729260703 name='Afternoon Run' resource_state=3>\n",
      "No such attribute available_zones on entity <Activity id=729260703 name='Afternoon Run' resource_state=3>\n",
      "No such attribute similar_activities on entity <Activity id=733527876 name='Afternoon Run' resource_state=3>\n",
      "No such attribute available_zones on entity <Activity id=733527876 name='Afternoon Run' resource_state=3>\n",
      "No such attribute similar_activities on entity <Activity id=733555244 name='Evening Run' resource_state=3>\n",
      "No such attribute available_zones on entity <Activity id=733555244 name='Evening Run' resource_state=3>\n",
      "No such attribute similar_activities on entity <Activity id=737534522 name='Lunch Run' resource_state=3>\n",
      "No such attribute available_zones on entity <Activity id=737534522 name='Lunch Run' resource_state=3>\n",
      "No such attribute similar_activities on entity <Activity id=737534602 name='Afternoon Run' resource_state=3>\n",
      "No such attribute available_zones on entity <Activity id=737534602 name='Afternoon Run' resource_state=3>\n",
      "No such attribute similar_activities on entity <Activity id=740793459 name='Sunday Soccer' resource_state=3>\n",
      "No such attribute available_zones on entity <Activity id=740793459 name='Sunday Soccer' resource_state=3>\n",
      "No such attribute similar_activities on entity <Activity id=751733716 name='Lunch Run' resource_state=3>\n",
      "No such attribute available_zones on entity <Activity id=751733716 name='Lunch Run' resource_state=3>\n",
      "No such attribute similar_activities on entity <Activity id=751733732 name='Lunch Run' resource_state=3>\n",
      "No such attribute available_zones on entity <Activity id=751733732 name='Lunch Run' resource_state=3>\n",
      "No such attribute similar_activities on entity <Activity id=751750271 name='Afternoon Run' resource_state=3>\n"
     ]
    },
    {
     "name": "stderr",
     "output_type": "stream",
     "text": [
      "No such attribute available_zones on entity <Activity id=751750271 name='Afternoon Run' resource_state=3>\n",
      "No such attribute similar_activities on entity <Activity id=759415524 name='Night Run' resource_state=3>\n",
      "No such attribute available_zones on entity <Activity id=759415524 name='Night Run' resource_state=3>\n",
      "No such attribute similar_activities on entity <Activity id=759415539 name='Lunch Run' resource_state=3>\n",
      "No such attribute available_zones on entity <Activity id=759415539 name='Lunch Run' resource_state=3>\n",
      "No such attribute similar_activities on entity <Activity id=760950782 name='Lunch Run' resource_state=3>\n",
      "No such attribute available_zones on entity <Activity id=760950782 name='Lunch Run' resource_state=3>\n",
      "No such attribute similar_activities on entity <Activity id=765209315 name='Night Run' resource_state=3>\n",
      "No such attribute available_zones on entity <Activity id=765209315 name='Night Run' resource_state=3>\n",
      "No such attribute similar_activities on entity <Activity id=765209318 name='Night Run' resource_state=3>\n",
      "No such attribute available_zones on entity <Activity id=765209318 name='Night Run' resource_state=3>\n",
      "No such attribute similar_activities on entity <Activity id=765209324 name='Afternoon Run' resource_state=3>\n",
      "No such attribute available_zones on entity <Activity id=765209324 name='Afternoon Run' resource_state=3>\n",
      "No such attribute similar_activities on entity <Activity id=774909157 name='Lunch Run' resource_state=3>\n",
      "No such attribute available_zones on entity <Activity id=774909157 name='Lunch Run' resource_state=3>\n",
      "No such attribute similar_activities on entity <Activity id=774909166 name='Lunch Run' resource_state=3>\n",
      "No such attribute available_zones on entity <Activity id=774909166 name='Lunch Run' resource_state=3>\n",
      "No such attribute similar_activities on entity <Activity id=785116511 name='Lunch Run' resource_state=3>\n",
      "No such attribute available_zones on entity <Activity id=785116511 name='Lunch Run' resource_state=3>\n",
      "No such attribute similar_activities on entity <Activity id=785116519 name='Lunch Run' resource_state=3>\n",
      "No such attribute available_zones on entity <Activity id=785116519 name='Lunch Run' resource_state=3>\n",
      "No such attribute similar_activities on entity <Activity id=785116525 name='Night Run' resource_state=3>\n",
      "No such attribute available_zones on entity <Activity id=785116525 name='Night Run' resource_state=3>\n",
      "No such attribute similar_activities on entity <Activity id=785116546 name='Morning Run' resource_state=3>\n",
      "No such attribute available_zones on entity <Activity id=785116546 name='Morning Run' resource_state=3>\n",
      "No such attribute similar_activities on entity <Activity id=791524505 name='Morning Run' resource_state=3>\n",
      "No such attribute available_zones on entity <Activity id=791524505 name='Morning Run' resource_state=3>\n",
      "No such attribute similar_activities on entity <Activity id=791524515 name='Lunch Run' resource_state=3>\n",
      "No such attribute available_zones on entity <Activity id=791524515 name='Lunch Run' resource_state=3>\n",
      "No such attribute similar_activities on entity <Activity id=791524533 name='Lunch Run' resource_state=3>\n",
      "No such attribute available_zones on entity <Activity id=791524533 name='Lunch Run' resource_state=3>\n",
      "No such attribute similar_activities on entity <Activity id=791567184 name='Lunch Run' resource_state=3>\n",
      "No such attribute available_zones on entity <Activity id=791567184 name='Lunch Run' resource_state=3>\n",
      "No such attribute similar_activities on entity <Activity id=796538045 name='Lunch Run' resource_state=3>\n",
      "No such attribute available_zones on entity <Activity id=796538045 name='Lunch Run' resource_state=3>\n"
     ]
    }
   ],
   "source": [
    "for ind,row in activities.iterrows():\n",
    "    if not row.has_file or row.athlete_count is not None:\n",
    "        continue\n",
    "    try:\n",
    "        activity = client.get_activity(row.id)\n",
    "        if activity.resource_state != 3:\n",
    "            continue\n",
    "        for i in strava_fields:\n",
    "            attr = getattr(activity,i)\n",
    "            if i == 'total_elevation_gain':\n",
    "                a = unithelper.feet(attr)\n",
    "                #print(unithelper.feet(attr))\n",
    "            elif i=='average_speed' or i=='max_speed':\n",
    "                a = unithelper.mph(attr)\n",
    "                #print(unithelper.mph(attr))\n",
    "            else:\n",
    "                a = attr\n",
    "            activities.loc[ind,i] = a\n",
    "    except:\n",
    "        print('Failed')\n"
   ]
  },
  {
   "cell_type": "code",
   "execution_count": 201,
   "metadata": {},
   "outputs": [
    {
     "name": "stdout",
     "output_type": "stream",
     "text": [
      "TMAX      True\n",
      "TMIN      True\n",
      "PRECIP    True\n",
      "dtype: bool\n"
     ]
    }
   ],
   "source": [
    "indoor = activities[activities['indoor']==True]\n",
    "missing = indoor.isnull().any()\n",
    "print(missing[missing])\n",
    "cols = list(missing[missing].index)"
   ]
  },
  {
   "cell_type": "code",
   "execution_count": 195,
   "metadata": {
    "scrolled": true
   },
   "outputs": [
    {
     "name": "stderr",
     "output_type": "stream",
     "text": [
      "No such attribute available_zones on entity <Activity id=903844262 name='Bike trainer' resource_state=3>\n",
      "No such attribute available_zones on entity <Activity id=920858052 name='Trainer Ride' resource_state=3>\n",
      "No such attribute available_zones on entity <Activity id=971985144 name='Morning Ride' resource_state=3>\n",
      "No such attribute available_zones on entity <Activity id=1186521046 name='Trainer Warmup/Cooldown' resource_state=3>\n",
      "No such attribute available_zones on entity <Activity id=1214023374 name='Spinning' resource_state=3>\n",
      "No such attribute available_zones on entity <Activity id=1264515201 name='Work Short Ride' resource_state=3>\n",
      "No such attribute available_zones on entity <Activity id=1264516318 name='Lunch Ride' resource_state=3>\n",
      "No such attribute available_zones on entity <Activity id=1264517543 name='Trainer Evening Ride' resource_state=3>\n",
      "No such attribute available_zones on entity <Activity id=1272903132 name='Trainer Ride' resource_state=3>\n",
      "No such attribute available_zones on entity <Activity id=1272903778 name='Lunch Trainer Session' resource_state=3>\n",
      "No such attribute available_zones on entity <Activity id=1272904205 name='Sunday Trainer' resource_state=3>\n",
      "No such attribute available_zones on entity <Activity id=1277064424 name='Evening Trainer Ride' resource_state=3>\n",
      "No such attribute available_zones on entity <Activity id=1277116301 name='Evening Trainer' resource_state=3>\n",
      "No such attribute available_zones on entity <Activity id=1280769489 name='Trainer' resource_state=3>\n",
      "No such attribute available_zones on entity <Activity id=1280770207 name='Rainy Day Trainer Ride' resource_state=3>\n",
      "No such attribute available_zones on entity <Activity id=1283876444 name='Sunday Trainer' resource_state=3>\n",
      "No such attribute available_zones on entity <Activity id=1288767108 name='Thanksgiving Trainer Ride' resource_state=3>\n",
      "No such attribute available_zones on entity <Activity id=1288768418 name='Post-Thanksgiving Indoor Ride' resource_state=3>\n",
      "No such attribute available_zones on entity <Activity id=1288770347 name='Lunch Ride' resource_state=3>\n",
      "No such attribute available_zones on entity <Activity id=1292647394 name='Sunday Morning Trainer Ride' resource_state=3>\n",
      "No such attribute available_zones on entity <Activity id=1297369982 name='Rainy Evening Trainer' resource_state=3>\n",
      "No such attribute available_zones on entity <Activity id=1297373482 name='Evening Trainer' resource_state=3>\n",
      "No such attribute available_zones on entity <Activity id=1298310480 name='Afternoon Ride' resource_state=3>\n",
      "No such attribute available_zones on entity <Activity id=1299262077 name='Morning Trainer' resource_state=3>\n",
      "No such attribute available_zones on entity <Activity id=1303789085 name='Trainer' resource_state=3>\n",
      "No such attribute available_zones on entity <Activity id=1303789389 name='Trainer' resource_state=3>\n",
      "No such attribute available_zones on entity <Activity id=1307393267 name='Post-Work Trainer' resource_state=3>\n",
      "No such attribute available_zones on entity <Activity id=1307393436 name='Trainer' resource_state=3>\n",
      "No such attribute available_zones on entity <Activity id=1307935588 name='Trainer' resource_state=3>\n",
      "No such attribute available_zones on entity <Activity id=1311532282 name='Trainer' resource_state=3>\n",
      "No such attribute available_zones on entity <Activity id=1313299130 name='Spin Class' resource_state=3>\n",
      "No such attribute available_zones on entity <Activity id=1315309284 name='Trainer' resource_state=3>\n",
      "No such attribute available_zones on entity <Activity id=1316214648 name='Trainer' resource_state=3>\n",
      "No such attribute available_zones on entity <Activity id=1316304947 name='Saturday Trainer Ride' resource_state=3>\n",
      "No such attribute available_zones on entity <Activity id=1319022182 name='1,000 Miles Riding in 2017' resource_state=3>\n",
      "No such attribute available_zones on entity <Activity id=1323110284 name='Trainer' resource_state=3>\n",
      "No such attribute available_zones on entity <Activity id=1329765565 name='Trainer' resource_state=3>\n",
      "No such attribute available_zones on entity <Activity id=1331076164 name='Trainer' resource_state=3>\n",
      "No such attribute available_zones on entity <Activity id=1334821199 name='Trainer' resource_state=3>\n",
      "No such attribute available_zones on entity <Activity id=1334822095 name='My last trainer ride of 2017' resource_state=3>\n",
      "No such attribute available_zones on entity <Activity id=1338205105 name='Trainer' resource_state=3>\n",
      "No such attribute available_zones on entity <Activity id=1341167517 name='Trainer' resource_state=3>\n",
      "No such attribute available_zones on entity <Activity id=1341234010 name='Trainer' resource_state=3>\n",
      "No such attribute available_zones on entity <Activity id=1343940270 name='Trainer' resource_state=3>\n",
      "No such attribute available_zones on entity <Activity id=1348777047 name='Trainer' resource_state=3>\n",
      "No such attribute available_zones on entity <Activity id=1348777609 name='Spin Class' resource_state=3>\n",
      "No such attribute available_zones on entity <Activity id=1350790819 name='Trainer' resource_state=3>\n",
      "No such attribute available_zones on entity <Activity id=1364843006 name='Trainer' resource_state=3>\n",
      "No such attribute available_zones on entity <Activity id=1364843720 name='Spin Class' resource_state=3>\n",
      "No such attribute available_zones on entity <Activity id=1364844197 name='Trainer' resource_state=3>\n",
      "No such attribute available_zones on entity <Activity id=1364847651 name='Trainer' resource_state=3>\n",
      "No such attribute available_zones on entity <Activity id=1366905985 name='GCN 30 Minute Ride' resource_state=3>\n",
      "No such attribute available_zones on entity <Activity id=1371639685 name='Spin Class' resource_state=3>\n",
      "No such attribute available_zones on entity <Activity id=1374489043 name='GCN 30 Minute Intervals' resource_state=3>\n",
      "No such attribute available_zones on entity <Activity id=1378544240 name='Morning Trainer' resource_state=3>\n",
      "No such attribute available_zones on entity <Activity id=1380585502 name='Trainer' resource_state=3>\n",
      "No such attribute available_zones on entity <Activity id=1383363950 name='Spin Class' resource_state=3>\n",
      "No such attribute available_zones on entity <Activity id=1387101429 name='Trainer' resource_state=3>\n",
      "No such attribute available_zones on entity <Activity id=1387101828 name='GCN 30 Minute + Extra' resource_state=3>\n",
      "No such attribute available_zones on entity <Activity id=1392272527 name='Saturday Trainer' resource_state=3>\n",
      "No such attribute available_zones on entity <Activity id=1392273354 name='Trainer' resource_state=3>\n",
      "No such attribute available_zones on entity <Activity id=1395245455 name='Spin Class' resource_state=3>\n",
      "No such attribute available_zones on entity <Activity id=1397521793 name='Trainer' resource_state=3>\n",
      "No such attribute available_zones on entity <Activity id=1401007761 name='Trainer' resource_state=3>\n",
      "No such attribute available_zones on entity <Activity id=1406205057 name='Spin Class' resource_state=3>\n",
      "No such attribute available_zones on entity <Activity id=1406207761 name='Trainer' resource_state=3>\n",
      "No such attribute available_zones on entity <Activity id=1414997258 name='Lunch Trainer' resource_state=3>\n",
      "No such attribute available_zones on entity <Activity id=1414997544 name='Saturday Trainer' resource_state=3>\n",
      "No such attribute available_zones on entity <Activity id=1414997671 name='Evening Trainer' resource_state=3>\n",
      "No such attribute available_zones on entity <Activity id=1421919703 name='Back on the Trainer' resource_state=3>\n",
      "No such attribute available_zones on entity <Activity id=1426264798 name='Trainer' resource_state=3>\n",
      "No such attribute available_zones on entity <Activity id=1426265556 name='Trainer' resource_state=3>\n",
      "No such attribute available_zones on entity <Activity id=1429263004 name='Evening Trainer' resource_state=3>\n",
      "No such attribute available_zones on entity <Activity id=1432933755 name='Lunch Ride' resource_state=3>\n",
      "No such attribute available_zones on entity <Activity id=1435752254 name='Early Trainer' resource_state=3>\n",
      "No such attribute available_zones on entity <Activity id=1440997600 name='Trainer' resource_state=3>\n",
      "No such attribute available_zones on entity <Activity id=1441000256 name='Spin Class' resource_state=3>\n"
     ]
    },
    {
     "name": "stderr",
     "output_type": "stream",
     "text": [
      "No such attribute available_zones on entity <Activity id=1445701366 name='Trainer' resource_state=3>\n",
      "No such attribute available_zones on entity <Activity id=1445704216 name='Trainer' resource_state=3>\n",
      "No such attribute available_zones on entity <Activity id=1449330115 name='Early Trainer' resource_state=3>\n",
      "No such attribute available_zones on entity <Activity id=1457414767 name='Trainer' resource_state=3>\n",
      "No such attribute available_zones on entity <Activity id=1457415275 name='Trainer' resource_state=3>\n",
      "No such attribute available_zones on entity <Activity id=1457416633 name='Morning Trainer' resource_state=3>\n",
      "No such attribute available_zones on entity <Activity id=1459396401 name='Trainer' resource_state=3>\n",
      "No such attribute available_zones on entity <Activity id=1469948748 name='Spin Class' resource_state=3>\n",
      "No such attribute available_zones on entity <Activity id=1469949181 name='Trainer' resource_state=3>\n",
      "No such attribute available_zones on entity <Activity id=1469949990 name='Trainer' resource_state=3>\n",
      "No such attribute available_zones on entity <Activity id=1469950459 name='Trainer' resource_state=3>\n",
      "No such attribute available_zones on entity <Activity id=1475520208 name='Trainer' resource_state=3>\n",
      "No such attribute available_zones on entity <Activity id=1475520719 name='Spin Class' resource_state=3>\n",
      "No such attribute available_zones on entity <Activity id=1480519454 name='Trainer' resource_state=3>\n",
      "No such attribute available_zones on entity <Activity id=1480519766 name='Trainer' resource_state=3>\n",
      "No such attribute available_zones on entity <Activity id=1494764901 name='Trainer' resource_state=3>\n",
      "No such attribute available_zones on entity <Activity id=1497661412 name='Trainer' resource_state=3>\n",
      "No such attribute available_zones on entity <Activity id=1519401232 name='Trainer' resource_state=3>\n",
      "No such attribute available_zones on entity <Activity id=1519401491 name='Another Trainer Ride' resource_state=3>\n",
      "No such attribute available_zones on entity <Activity id=1529792224 name='Back on the trainer' resource_state=3>\n",
      "No such attribute available_zones on entity <Activity id=1536937189 name='Trainer' resource_state=3>\n",
      "No such attribute available_zones on entity <Activity id=1554780672 name='Trainer' resource_state=3>\n",
      "No such attribute available_zones on entity <Activity id=1571649208 name='Easy Trainer' resource_state=3>\n",
      "No such attribute available_zones on entity <Activity id=1575888686 name='Trainer - Missed the sunlight' resource_state=3>\n",
      "No such attribute available_zones on entity <Activity id=1591436985 name='MS150 Charity Spin' resource_state=3>\n"
     ]
    },
    {
     "name": "stdout",
     "output_type": "stream",
     "text": [
      "No activity found\n",
      "No activity found\n"
     ]
    }
   ],
   "source": [
    "for ind,row in indoor.iterrows():\n",
    "    try:\n",
    "        activity = client.get_activity(row.id)\n",
    "    except:\n",
    "        print('No activity found')\n",
    "    for col in cols:\n",
    "        try:\n",
    "            attr = getattr(activity,col)\n",
    "            if col == 'total_elevation_gain':\n",
    "                a = unithelper.feet(attr).num\n",
    "                #print(unithelper.feet(attr))\n",
    "            elif col=='average_speed' or col=='max_speed':\n",
    "                a = unithelper.mph(attr).num\n",
    "            else:\n",
    "                a = attr\n",
    "            activities.loc[ind,col] = a\n",
    "        except:\n",
    "            pass\n",
    "    "
   ]
  },
  {
   "cell_type": "code",
   "execution_count": 24,
   "metadata": {},
   "outputs": [],
   "source": [
    "activities['moving_time_seconds'] = activities['moving_time'].apply(lambda x: x.seconds)"
   ]
  },
  {
   "cell_type": "code",
   "execution_count": 25,
   "metadata": {},
   "outputs": [],
   "source": [
    "activities['other_athlete_count'] = activities['athlete_count'] - 1"
   ]
  },
  {
   "cell_type": "markdown",
   "metadata": {
    "heading_collapsed": true
   },
   "source": [
    "# Weather"
   ]
  },
  {
   "cell_type": "code",
   "execution_count": 22,
   "metadata": {
    "hidden": true
   },
   "outputs": [],
   "source": [
    "import datetime\n",
    "import requests\n",
    "import time\n",
    "\n",
    "ex_url = 'https://www.ncdc.noaa.gov/cdo-web/api/v2/data?datasetid=GHCND&locationid=ZIP:28801&startdate=2010-05-01&enddate=2010-05-01'\n",
    "\n",
    "def get_noaa_data(url,params, header):\n",
    "    r = requests.get(url, params=params, headers=header)\n",
    "    return r\n",
    "    \n",
    "def construct_params(token,station_id,start,end):\n",
    "    creds = dict(token=token)\n",
    "    params={}\n",
    "    params['datasetid'] = 'GHCND'\n",
    "    params['stationid'] = 'GHCND:%s'%station_id\n",
    "    params['startdate'] = start\n",
    "    params['enddate'] = end\n",
    "    u = 'https://www.ncdc.noaa.gov/cdo-web/api/v2/data'\n",
    "    r = get_noaa_data(u,params,creds)\n",
    "    return r\n",
    "\n",
    "def c_to_f(c):\n",
    "    return c/10.0 * 9.0/5 + 32\n",
    "\n",
    "def get_ranges(activity,token):\n",
    "    loc = activity.stationid\n",
    "    #assume start and end on same day - I'm not doing any multiday touring\n",
    "    start = activity.date.strftime('%Y-%m-%d')\n",
    "    end = start\n",
    "    try:\n",
    "        weather = construct_params(token,loc,start,end)\n",
    "        tmax = None\n",
    "        tmin = None\n",
    "        precip = None\n",
    "        for res in weather.json()['results']:\n",
    "            if res['datatype']=='TMAX':\n",
    "                tmax = c_to_f(res['value'])\n",
    "            elif res['datatype'] == 'TMIN':\n",
    "                tmin = c_to_f(res['value'])\n",
    "            elif res['datatype']=='PRCP':\n",
    "                precip = res['value']\n",
    "        retdict = {'TMAX': tmax,'TMIN':tmin,'PRECIP':precip}\n",
    "    except:\n",
    "        retdict = {'TMAX': None,'TMIN':None,'PRECIP':None}\n",
    "    return retdict"
   ]
  },
  {
   "cell_type": "code",
   "execution_count": 216,
   "metadata": {
    "hidden": true
   },
   "outputs": [],
   "source": [
    "for index,row in activities.iterrows():\n",
    "    #already have identified the temperature for this particular row\n",
    "    if not np.isnan(row['TMAX']):\n",
    "        continue\n",
    "    r = get_ranges(row,token)\n",
    "    activities.loc[index,'TMAX'] = r['TMAX']\n",
    "    activities.loc[index,'TMIN'] = r['TMIN']\n",
    "    activities.loc[index,'PRECIP'] = r['PRECIP']\n",
    "    time.sleep(0.200)"
   ]
  },
  {
   "cell_type": "code",
   "execution_count": 189,
   "metadata": {
    "hidden": true
   },
   "outputs": [],
   "source": [
    "activities.to_csv(data_path + 'activities_out.csv')"
   ]
  },
  {
   "cell_type": "code",
   "execution_count": 19,
   "metadata": {
    "hidden": true
   },
   "outputs": [],
   "source": [
    "temp = activities[activities.has_weather]\n",
    "temp = temp[temp['date'].apply(lambda x: x.year) >= 2016]"
   ]
  },
  {
   "cell_type": "code",
   "execution_count": 20,
   "metadata": {
    "hidden": true
   },
   "outputs": [],
   "source": [
    "temp.loc[:,'TAVG'] = (temp.loc[:,'TMAX'] + temp.loc[:,'TMIN'])/2\n",
    "temp.loc[:,'temp_bucket'] = np.floor(temp.loc[:,'TMAX']/10) * 10"
   ]
  },
  {
   "cell_type": "code",
   "execution_count": 21,
   "metadata": {
    "hidden": true
   },
   "outputs": [],
   "source": [
    "temp.loc[:,'dist_ft'] = temp.loc[:,'distance'] * 3.2808399\n",
    "temp.loc[:,'dist_mi'] = temp.loc[:,'dist_ft'] / 5280"
   ]
  },
  {
   "cell_type": "code",
   "execution_count": 22,
   "metadata": {
    "hidden": true
   },
   "outputs": [
    {
     "data": {
      "text/plain": [
       "temp_bucket\n",
       "10.0    102.648098\n",
       "20.0     86.596508\n",
       "30.0    311.060476\n",
       "40.0    409.918843\n",
       "50.0    341.087972\n",
       "60.0    353.178811\n",
       "70.0    406.677349\n",
       "80.0    531.324211\n",
       "90.0    124.382854\n",
       "Name: dist_mi, dtype: float64"
      ]
     },
     "execution_count": 22,
     "metadata": {},
     "output_type": "execute_result"
    }
   ],
   "source": [
    "temp.groupby('temp_bucket').sum()['dist_mi']"
   ]
  },
  {
   "cell_type": "code",
   "execution_count": 23,
   "metadata": {
    "hidden": true
   },
   "outputs": [],
   "source": [
    "from scipy.interpolate import UnivariateSpline\n",
    "import math\n",
    "import seaborn as sns\n",
    "import matplotlib.patches as mpatches\n",
    "from sklearn.preprocessing import minmax_scale"
   ]
  },
  {
   "cell_type": "code",
   "execution_count": 23,
   "metadata": {
    "hidden": true
   },
   "outputs": [],
   "source": [
    "x = temp.date\n",
    "y = temp.TMAX\n",
    "ind = temp.indoor\n",
    "act_type = temp.new_type\n",
    "\n",
    "xd = np.linspace(0,1,len(x))\n",
    "xs = np.linspace(0,1,len(x)*3)\n",
    "\n",
    "x_labels = x.apply(lambda j: j.strftime('%Y-%m'))\n",
    "x_labels = np.stack([xd,x_labels])\n",
    "\n",
    "new_tick_pos = x_labels[0][range(0,len(x),math.floor(len(x)/10))]\n",
    "new_tick_labels = x_labels[1][range(0,len(x),math.floor(len(x)/10))]"
   ]
  },
  {
   "cell_type": "code",
   "execution_count": 24,
   "metadata": {
    "hidden": true
   },
   "outputs": [],
   "source": [
    "#let's size the bubbles so that each bubble is sized relative to its activity type\n",
    "temp_s = temp[['new_type','distance']]\n",
    "mx = temp_s.groupby('new_type').max()\n",
    "temp_s = temp_s.merge(mx,left_on='new_type',right_index=True)\n",
    "temp_s['s'] = temp_s['distance_x']/temp_s['distance_y']\n",
    "\n",
    "z = minmax_scale(temp_s.s)"
   ]
  },
  {
   "cell_type": "code",
   "execution_count": 25,
   "metadata": {
    "hidden": true
   },
   "outputs": [
    {
     "data": {
      "image/png": "[encoded data removed]",
      "text/plain": [
       "<matplotlib.figure.Figure at 0x1ff13db93c8>"
      ]
     },
     "metadata": {},
     "output_type": "display_data"
    }
   ],
   "source": [
    "var_y = np.var(y)\n",
    "len_y = len(y)\n",
    "smoothing_factor = (var_y*len_y)*0.25\n",
    "\n",
    "s = UnivariateSpline(xd, y,s=smoothing_factor)\n",
    "ys = s(xs)\n",
    "\n",
    "fig,ax = plt.subplots(1,1)\n",
    "\n",
    "color_map = {True:'r',False:'b'}\n",
    "color_map_act = {'Run':'r','Ride':'b'}\n",
    "#colors = ind.apply(lambda x: color_map[x]).values\n",
    "colors = act_type.apply(lambda x: color_map_act[x]).values\n",
    "handles = []\n",
    "\n",
    "\n",
    "for k,v in color_map_act.items():\n",
    "    handles.append(mpatches.Patch(color=v,label=k))\n",
    "    \n",
    "#for k,v in color_map.items():\n",
    "#    if k:\n",
    "#        label = 'Indoor'\n",
    "#    else:\n",
    "#        label = 'Outdoor'\n",
    "#    handles.append(mpatches.Patch(color=v,label=label))\n",
    "    \n",
    "ax.scatter(xd,y,c=colors,s=z*100)\n",
    "ax.scatter(xs,ys,c='k',marker='.',s=4)\n",
    "plt.xticks(new_tick_pos,new_tick_labels,rotation=45)\n",
    "plt.legend(handles=handles)\n",
    "\n",
    "plt.show()"
   ]
  },
  {
   "cell_type": "markdown",
   "metadata": {
    "heading_collapsed": true
   },
   "source": [
    "# Map"
   ]
  },
  {
   "cell_type": "code",
   "execution_count": 19,
   "metadata": {
    "hidden": true
   },
   "outputs": [],
   "source": [
    "from folium.plugins import HeatMap\n",
    "import folium\n",
    "import mplleaflet"
   ]
  },
  {
   "cell_type": "code",
   "execution_count": 20,
   "metadata": {
    "hidden": true
   },
   "outputs": [],
   "source": [
    "#Looking to plot only the activities relatively close to Pittsburgh\n",
    "ll = activities['latlng'].apply(lambda x: np.array(x))\n",
    "ll = ll.apply(lambda x: x-np.array((40.466192, -79.922708)))\n",
    "ll = ll.apply(lambda x: np.sum(np.power(x,2)))"
   ]
  },
  {
   "cell_type": "code",
   "execution_count": 21,
   "metadata": {
    "hidden": true
   },
   "outputs": [],
   "source": [
    "def smooth_speed(point_num,segment,num_pts_to_smooth):\n",
    "    start_point = point_num - num_pts_to_smooth\n",
    "    end_point = point_num + num_pts_to_smooth + 1\n",
    "    if start_point < 0:\n",
    "        start_point = 0\n",
    "    if end_point > len(segment.points):\n",
    "        end_point = len(segment.points)\n",
    "    n = end_point - start_point\n",
    "    \n",
    "    avg = 0\n",
    "    for i in range(start_point,end_point - 1):\n",
    "        cur_pt = segment.points[i]\n",
    "        next_pt = segment.points[i+1]\n",
    "        avg += cur_pt.speed_between(next_pt)\n",
    "    return avg / n"
   ]
  },
  {
   "cell_type": "code",
   "execution_count": 22,
   "metadata": {
    "hidden": true
   },
   "outputs": [],
   "source": [
    "def plot_activity(activity):\n",
    "    fn = activity.filename_fix\n",
    "    with open(fn,'r') as gpx_file:\n",
    "        gpx = gpxpy.parse(gpx_file)\n",
    "        lat = []\n",
    "        lng = []\n",
    "        segment = gpx.tracks[0].segments[0]\n",
    "        for point_no, pt in enumerate(segment.points):\n",
    "            lat.append(pt.latitude)\n",
    "            lng.append(pt.longitude)\n",
    "    #plt.plot(lng, lat, color = 'deepskyblue', lw = 0.2, alpha = 0.8)\n",
    "    return lat,lng"
   ]
  },
  {
   "cell_type": "code",
   "execution_count": 23,
   "metadata": {
    "hidden": true
   },
   "outputs": [],
   "source": [
    "#Puts them into a list of lists\n",
    "#activities_subset = activities[(activities['manual']==False)]\n",
    "activities_subset = activities[(ll < 0.5)&(activities['manual']==False)]\n",
    "\n",
    "all_lat = []\n",
    "all_lng = []\n",
    "act_type = []\n",
    "for ind,row in activities_subset.iterrows():\n",
    "    lat,lng = plot_activity(row)\n",
    "    act_type.append(row.new_type)\n",
    "    all_lat.append(lat)\n",
    "    all_lng.append(lng)"
   ]
  },
  {
   "cell_type": "code",
   "execution_count": 24,
   "metadata": {
    "hidden": true,
    "scrolled": false
   },
   "outputs": [],
   "source": [
    "fig = plt.figure(facecolor = '0.05',figsize=(20,20))\n",
    "ax = plt.Axes(fig, [0., 0., 1., 1.], )\n",
    "ax.set_aspect('equal')\n",
    "ax.set_axis_off()\n",
    "fig.add_axes(ax)\n",
    "for i in range(len(all_lat)):\n",
    "    lat = all_lat[i]\n",
    "    lng = all_lng[i]\n",
    "    a = act_type[i]\n",
    "    if a=='Ride':\n",
    "        plot_col = 'red'\n",
    "    else:\n",
    "        plot_col = 'blue'\n",
    "    plt.plot(lng,lat, color = plot_col, lw = 2, alpha = 0.2)\n",
    "mplleaflet.show(tiles='cartodb_positron')"
   ]
  },
  {
   "cell_type": "markdown",
   "metadata": {
    "heading_collapsed": true
   },
   "source": [
    "# Trying to Use Quiver"
   ]
  },
  {
   "cell_type": "code",
   "execution_count": 44,
   "metadata": {
    "hidden": true
   },
   "outputs": [],
   "source": [
    "import pyproj"
   ]
  },
  {
   "cell_type": "code",
   "execution_count": 45,
   "metadata": {
    "hidden": true
   },
   "outputs": [],
   "source": [
    "fn = activities_subset.loc[0].filename_fix\n",
    "with open(fn,'r') as gpx_file:\n",
    "    gpx = gpxpy.parse(gpx_file)"
   ]
  },
  {
   "cell_type": "code",
   "execution_count": 52,
   "metadata": {
    "hidden": true
   },
   "outputs": [],
   "source": [
    "seg = gpx.tracks[0].segments[0]"
   ]
  },
  {
   "cell_type": "code",
   "execution_count": 99,
   "metadata": {
    "hidden": true
   },
   "outputs": [],
   "source": [
    "y = [pt.latitude for pt in seg.points]\n",
    "x = [pt.longitude for pt in seg.points]\n",
    "speed = [seg.get_speed(i) for i in range(len(seg.points))]\n",
    "speed = np.array(speed)"
   ]
  },
  {
   "cell_type": "code",
   "execution_count": 56,
   "metadata": {
    "hidden": true
   },
   "outputs": [],
   "source": [
    "proj_in = pyproj.Proj(preserve_units=True, init='epsg:4326', no_defs=True)\n",
    "crs_out = {'init': 'epsg:26986', 'no_defs': True}\n",
    "proj_out = pyproj.Proj(preserve_units=True, **crs_out)\n",
    "t = pyproj.transform(proj_in, proj_out, x, y)"
   ]
  },
  {
   "cell_type": "code",
   "execution_count": 93,
   "metadata": {
    "hidden": true
   },
   "outputs": [],
   "source": [
    "from math import radians, degrees,cos, sin, asin, sqrt, atan2\n",
    "\n",
    "def bearing(pt_one, pt_two):\n",
    "    lat1, lon1 = map(radians,pt_one)\n",
    "    lat2, lon2 = map(radians,pt_two)\n",
    "    \n",
    "    dL = lon2 - lon1\n",
    "    x = cos(lat2) * sin(dL)\n",
    "    y = cos(lat1) * sin(lat2) - sin(lat1) * cos(lat2) * cos(dL)\n",
    "    b = atan2(x,y)\n",
    "    return b"
   ]
  },
  {
   "cell_type": "code",
   "execution_count": 110,
   "metadata": {
    "hidden": true
   },
   "outputs": [],
   "source": [
    "#Calculating bearing between two points\n",
    "pt_one=[39.099912, -94.581213]\n",
    "pt_two=[38.627089, -90.200203]\n",
    "\n",
    "h = bearing(pt_one,pt_two)"
   ]
  },
  {
   "cell_type": "code",
   "execution_count": 100,
   "metadata": {
    "hidden": true
   },
   "outputs": [],
   "source": [
    "bearings = []\n",
    "for i in range(len(y)):\n",
    "    pt_one = [y[i],x[i]]\n",
    "    try:\n",
    "        pt_two = [y[i+1],x[i+1]]\n",
    "    except:\n",
    "        pt_two = pt_one\n",
    "    bearings.append(bearing(pt_one,pt_two))\n",
    "bearings = np.array(bearings)"
   ]
  },
  {
   "cell_type": "code",
   "execution_count": 115,
   "metadata": {
    "hidden": true
   },
   "outputs": [],
   "source": [
    "r = speed / max(speed)\n",
    "uv = r[:, np.newaxis] * np.column_stack([np.sin(bearings), np.cos(bearings)])"
   ]
  },
  {
   "cell_type": "code",
   "execution_count": 128,
   "metadata": {
    "hidden": true
   },
   "outputs": [],
   "source": [
    "mapfile = 'strava_quiver.html'\n",
    "\n",
    "plt.quiver(x, y, uv[:,0], uv[:,1], speed,scale=20)\n",
    "mplleaflet.show(path=mapfile,tiles='cartodb_positron')"
   ]
  },
  {
   "cell_type": "markdown",
   "metadata": {
    "heading_collapsed": true
   },
   "source": [
    "# Speed and Smoothing"
   ]
  },
  {
   "cell_type": "code",
   "execution_count": 48,
   "metadata": {
    "hidden": true
   },
   "outputs": [],
   "source": [
    "pt = []\n",
    "x = []\n",
    "smoothed_x = []\n",
    "\n",
    "for track in gpx.tracks:\n",
    "    for segment in track.segments:\n",
    "        for point_no, point in enumerate(segment.points):\n",
    "            pt.append(point_no)\n",
    "            x.append(point.speed_between(segment.points[point_no - 1]))\n",
    "            smoothed_x.append(smooth_speed(point_no,segment,5))\n",
    "#             print('Point at ({0},{1}) -> {2}'.format(point.latitude, point.longitude, point.elevation))"
   ]
  },
  {
   "cell_type": "code",
   "execution_count": 49,
   "metadata": {
    "hidden": true
   },
   "outputs": [
    {
     "data": {
      "image/png": "[encoded data removed]",
      "text/plain": [
       "<matplotlib.figure.Figure at 0x2549fc07ef0>"
      ]
     },
     "metadata": {},
     "output_type": "display_data"
    }
   ],
   "source": [
    "plt.plot(pt,x)\n",
    "plt.plot(pt,smoothed_x)\n",
    "plt.show()"
   ]
  },
  {
   "cell_type": "markdown",
   "metadata": {},
   "source": [
    "# Strava Attributes"
   ]
  },
  {
   "cell_type": "code",
   "execution_count": 33,
   "metadata": {},
   "outputs": [],
   "source": [
    "import seaborn as sns"
   ]
  },
  {
   "cell_type": "code",
   "execution_count": 34,
   "metadata": {},
   "outputs": [],
   "source": [
    "biking = activities[activities['new_type']=='Ride']"
   ]
  },
  {
   "cell_type": "code",
   "execution_count": 35,
   "metadata": {},
   "outputs": [
    {
     "data": {
      "text/html": [
       "<div>\n",
       "<style scoped>\n",
       "    .dataframe tbody tr th:only-of-type {\n",
       "        vertical-align: middle;\n",
       "    }\n",
       "\n",
       "    .dataframe tbody tr th {\n",
       "        vertical-align: top;\n",
       "    }\n",
       "\n",
       "    .dataframe thead th {\n",
       "        text-align: right;\n",
       "    }\n",
       "</style>\n",
       "<table border=\"1\" class=\"dataframe\">\n",
       "  <thead>\n",
       "    <tr style=\"text-align: right;\">\n",
       "      <th></th>\n",
       "      <th>id</th>\n",
       "      <th>date</th>\n",
       "      <th>name</th>\n",
       "      <th>type</th>\n",
       "      <th>description</th>\n",
       "      <th>elapsed_time</th>\n",
       "      <th>distance</th>\n",
       "      <th>commute</th>\n",
       "      <th>gear</th>\n",
       "      <th>filename</th>\n",
       "      <th>...</th>\n",
       "      <th>moving_time_seconds</th>\n",
       "      <th>distance_feet</th>\n",
       "      <th>distance_miles</th>\n",
       "      <th>manual</th>\n",
       "      <th>has_station</th>\n",
       "      <th>has_weather</th>\n",
       "      <th>has_file</th>\n",
       "      <th>indoor</th>\n",
       "      <th>new_type</th>\n",
       "      <th>other_athlete_count</th>\n",
       "    </tr>\n",
       "  </thead>\n",
       "  <tbody>\n",
       "    <tr>\n",
       "      <th>0</th>\n",
       "      <td>11823912</td>\n",
       "      <td>2012-06-26 22:17:36</td>\n",
       "      <td>Jun 26, 2012</td>\n",
       "      <td>Ride</td>\n",
       "      <td>NaN</td>\n",
       "      <td>01:35:28</td>\n",
       "      <td>32518.2</td>\n",
       "      <td>False</td>\n",
       "      <td>NaN</td>\n",
       "      <td>activities/11823912.gpx</td>\n",
       "      <td>...</td>\n",
       "      <td>5322.0</td>\n",
       "      <td>106687.011288</td>\n",
       "      <td>20.205873</td>\n",
       "      <td>False</td>\n",
       "      <td>True</td>\n",
       "      <td>False</td>\n",
       "      <td>True</td>\n",
       "      <td>False</td>\n",
       "      <td>Ride</td>\n",
       "      <td>1.0</td>\n",
       "    </tr>\n",
       "    <tr>\n",
       "      <th>1</th>\n",
       "      <td>12093460</td>\n",
       "      <td>2012-06-30 14:05:19</td>\n",
       "      <td>Jun 30, 2012</td>\n",
       "      <td>Ride</td>\n",
       "      <td>NaN</td>\n",
       "      <td>01:54:06</td>\n",
       "      <td>39051.2</td>\n",
       "      <td>False</td>\n",
       "      <td>NaN</td>\n",
       "      <td>activities/12093460.gpx</td>\n",
       "      <td>...</td>\n",
       "      <td>6273.0</td>\n",
       "      <td>128120.739008</td>\n",
       "      <td>24.265291</td>\n",
       "      <td>False</td>\n",
       "      <td>True</td>\n",
       "      <td>False</td>\n",
       "      <td>True</td>\n",
       "      <td>False</td>\n",
       "      <td>Ride</td>\n",
       "      <td>0.0</td>\n",
       "    </tr>\n",
       "    <tr>\n",
       "      <th>2</th>\n",
       "      <td>12413019</td>\n",
       "      <td>2012-07-03 22:30:35</td>\n",
       "      <td>Jul 3, 2012</td>\n",
       "      <td>Ride</td>\n",
       "      <td>NaN</td>\n",
       "      <td>01:29:29</td>\n",
       "      <td>29010.3</td>\n",
       "      <td>False</td>\n",
       "      <td>Orbea</td>\n",
       "      <td>activities/12413019.gpx</td>\n",
       "      <td>...</td>\n",
       "      <td>4838.0</td>\n",
       "      <td>95178.152652</td>\n",
       "      <td>18.026165</td>\n",
       "      <td>False</td>\n",
       "      <td>True</td>\n",
       "      <td>False</td>\n",
       "      <td>True</td>\n",
       "      <td>False</td>\n",
       "      <td>Ride</td>\n",
       "      <td>1.0</td>\n",
       "    </tr>\n",
       "    <tr>\n",
       "      <th>3</th>\n",
       "      <td>13691080</td>\n",
       "      <td>2012-07-17 22:22:28</td>\n",
       "      <td>Riverview Park</td>\n",
       "      <td>Ride</td>\n",
       "      <td>NaN</td>\n",
       "      <td>01:44:33</td>\n",
       "      <td>37623.0</td>\n",
       "      <td>False</td>\n",
       "      <td>Orbea</td>\n",
       "      <td>activities/13691080.gpx</td>\n",
       "      <td>...</td>\n",
       "      <td>5846.0</td>\n",
       "      <td>123435.043320</td>\n",
       "      <td>23.377849</td>\n",
       "      <td>False</td>\n",
       "      <td>True</td>\n",
       "      <td>False</td>\n",
       "      <td>True</td>\n",
       "      <td>False</td>\n",
       "      <td>Ride</td>\n",
       "      <td>2.0</td>\n",
       "    </tr>\n",
       "    <tr>\n",
       "      <th>4</th>\n",
       "      <td>14016843</td>\n",
       "      <td>2012-07-21 12:37:10</td>\n",
       "      <td>Forward Avenue</td>\n",
       "      <td>Ride</td>\n",
       "      <td>NaN</td>\n",
       "      <td>02:03:56</td>\n",
       "      <td>36497.3</td>\n",
       "      <td>False</td>\n",
       "      <td>Orbea</td>\n",
       "      <td>activities/14016843.gpx</td>\n",
       "      <td>...</td>\n",
       "      <td>6599.0</td>\n",
       "      <td>119741.801732</td>\n",
       "      <td>22.678372</td>\n",
       "      <td>False</td>\n",
       "      <td>True</td>\n",
       "      <td>False</td>\n",
       "      <td>True</td>\n",
       "      <td>False</td>\n",
       "      <td>Ride</td>\n",
       "      <td>2.0</td>\n",
       "    </tr>\n",
       "  </tbody>\n",
       "</table>\n",
       "<p>5 rows × 39 columns</p>\n",
       "</div>"
      ],
      "text/plain": [
       "         id                date            name  type description  \\\n",
       "0  11823912 2012-06-26 22:17:36    Jun 26, 2012  Ride         NaN   \n",
       "1  12093460 2012-06-30 14:05:19    Jun 30, 2012  Ride         NaN   \n",
       "2  12413019 2012-07-03 22:30:35     Jul 3, 2012  Ride         NaN   \n",
       "3  13691080 2012-07-17 22:22:28  Riverview Park  Ride         NaN   \n",
       "4  14016843 2012-07-21 12:37:10  Forward Avenue  Ride         NaN   \n",
       "\n",
       "  elapsed_time  distance  commute   gear                 filename  \\\n",
       "0     01:35:28   32518.2    False    NaN  activities/11823912.gpx   \n",
       "1     01:54:06   39051.2    False    NaN  activities/12093460.gpx   \n",
       "2     01:29:29   29010.3    False  Orbea  activities/12413019.gpx   \n",
       "3     01:44:33   37623.0    False  Orbea  activities/13691080.gpx   \n",
       "4     02:03:56   36497.3    False  Orbea  activities/14016843.gpx   \n",
       "\n",
       "          ...           moving_time_seconds  distance_feet  distance_miles  \\\n",
       "0         ...                        5322.0  106687.011288       20.205873   \n",
       "1         ...                        6273.0  128120.739008       24.265291   \n",
       "2         ...                        4838.0   95178.152652       18.026165   \n",
       "3         ...                        5846.0  123435.043320       23.377849   \n",
       "4         ...                        6599.0  119741.801732       22.678372   \n",
       "\n",
       "   manual has_station  has_weather  has_file  indoor  new_type  \\\n",
       "0   False        True        False      True   False      Ride   \n",
       "1   False        True        False      True   False      Ride   \n",
       "2   False        True        False      True   False      Ride   \n",
       "3   False        True        False      True   False      Ride   \n",
       "4   False        True        False      True   False      Ride   \n",
       "\n",
       "   other_athlete_count  \n",
       "0                  1.0  \n",
       "1                  0.0  \n",
       "2                  1.0  \n",
       "3                  2.0  \n",
       "4                  2.0  \n",
       "\n",
       "[5 rows x 39 columns]"
      ]
     },
     "execution_count": 35,
     "metadata": {},
     "output_type": "execute_result"
    }
   ],
   "source": [
    "biking.head()"
   ]
  },
  {
   "cell_type": "code",
   "execution_count": 36,
   "metadata": {},
   "outputs": [
    {
     "data": {
      "text/html": [
       "<div>\n",
       "<style scoped>\n",
       "    .dataframe tbody tr th:only-of-type {\n",
       "        vertical-align: middle;\n",
       "    }\n",
       "\n",
       "    .dataframe tbody tr th {\n",
       "        vertical-align: top;\n",
       "    }\n",
       "\n",
       "    .dataframe thead th {\n",
       "        text-align: right;\n",
       "    }\n",
       "</style>\n",
       "<table border=\"1\" class=\"dataframe\">\n",
       "  <thead>\n",
       "    <tr style=\"text-align: right;\">\n",
       "      <th></th>\n",
       "      <th>id</th>\n",
       "      <th>elapsed_time</th>\n",
       "      <th>distance</th>\n",
       "      <th>athlete_count</th>\n",
       "      <th>achievement_count</th>\n",
       "      <th>comment_count</th>\n",
       "      <th>kudos_count</th>\n",
       "      <th>moving_time</th>\n",
       "      <th>total_elevation_gain</th>\n",
       "      <th>average_speed</th>\n",
       "      <th>...</th>\n",
       "      <th>TMAX</th>\n",
       "      <th>TMIN</th>\n",
       "      <th>PRECIP</th>\n",
       "      <th>zip</th>\n",
       "      <th>year</th>\n",
       "      <th>month</th>\n",
       "      <th>moving_time_seconds</th>\n",
       "      <th>distance_feet</th>\n",
       "      <th>distance_miles</th>\n",
       "      <th>other_athlete_count</th>\n",
       "    </tr>\n",
       "  </thead>\n",
       "  <tbody>\n",
       "    <tr>\n",
       "      <th>count</th>\n",
       "      <td>2.160000e+02</td>\n",
       "      <td>216</td>\n",
       "      <td>216.000000</td>\n",
       "      <td>216.000000</td>\n",
       "      <td>216.000000</td>\n",
       "      <td>216.000000</td>\n",
       "      <td>216.000000</td>\n",
       "      <td>216</td>\n",
       "      <td>216.000000</td>\n",
       "      <td>216.000000</td>\n",
       "      <td>...</td>\n",
       "      <td>162.000000</td>\n",
       "      <td>162.000000</td>\n",
       "      <td>186.000000</td>\n",
       "      <td>216.000000</td>\n",
       "      <td>216.000000</td>\n",
       "      <td>216.000000</td>\n",
       "      <td>216.000000</td>\n",
       "      <td>216.000000</td>\n",
       "      <td>216.000000</td>\n",
       "      <td>216.000000</td>\n",
       "    </tr>\n",
       "    <tr>\n",
       "      <th>mean</th>\n",
       "      <td>1.017120e+09</td>\n",
       "      <td>0 days 01:08:33.615740</td>\n",
       "      <td>26079.583333</td>\n",
       "      <td>1.620370</td>\n",
       "      <td>2.152778</td>\n",
       "      <td>0.101852</td>\n",
       "      <td>2.041667</td>\n",
       "      <td>0 days 01:01:55.902777</td>\n",
       "      <td>591.257222</td>\n",
       "      <td>16.254910</td>\n",
       "      <td>...</td>\n",
       "      <td>57.092222</td>\n",
       "      <td>35.884444</td>\n",
       "      <td>21.392473</td>\n",
       "      <td>15478.050926</td>\n",
       "      <td>2016.458333</td>\n",
       "      <td>6.087963</td>\n",
       "      <td>3715.902778</td>\n",
       "      <td>85562.940183</td>\n",
       "      <td>16.205102</td>\n",
       "      <td>0.620370</td>\n",
       "    </tr>\n",
       "    <tr>\n",
       "      <th>std</th>\n",
       "      <td>5.488606e+08</td>\n",
       "      <td>0 days 00:43:47.884106</td>\n",
       "      <td>13618.368698</td>\n",
       "      <td>2.423596</td>\n",
       "      <td>4.147265</td>\n",
       "      <td>0.384340</td>\n",
       "      <td>2.535905</td>\n",
       "      <td>0 days 00:35:18.776339</td>\n",
       "      <td>783.261761</td>\n",
       "      <td>2.268657</td>\n",
       "      <td>...</td>\n",
       "      <td>20.518347</td>\n",
       "      <td>17.513309</td>\n",
       "      <td>54.363459</td>\n",
       "      <td>1356.309858</td>\n",
       "      <td>1.918848</td>\n",
       "      <td>3.435335</td>\n",
       "      <td>2118.776339</td>\n",
       "      <td>44679.688758</td>\n",
       "      <td>8.462062</td>\n",
       "      <td>2.423596</td>\n",
       "    </tr>\n",
       "    <tr>\n",
       "      <th>min</th>\n",
       "      <td>1.182391e+07</td>\n",
       "      <td>0 days 00:11:05</td>\n",
       "      <td>1202.200000</td>\n",
       "      <td>1.000000</td>\n",
       "      <td>0.000000</td>\n",
       "      <td>0.000000</td>\n",
       "      <td>0.000000</td>\n",
       "      <td>0 days 00:06:51</td>\n",
       "      <td>0.000000</td>\n",
       "      <td>6.540000</td>\n",
       "      <td>...</td>\n",
       "      <td>12.920000</td>\n",
       "      <td>-5.980000</td>\n",
       "      <td>0.000000</td>\n",
       "      <td>1085.000000</td>\n",
       "      <td>2012.000000</td>\n",
       "      <td>1.000000</td>\n",
       "      <td>411.000000</td>\n",
       "      <td>3944.225848</td>\n",
       "      <td>0.747012</td>\n",
       "      <td>0.000000</td>\n",
       "    </tr>\n",
       "    <tr>\n",
       "      <th>25%</th>\n",
       "      <td>5.211019e+08</td>\n",
       "      <td>0 days 00:34:00</td>\n",
       "      <td>16093.400000</td>\n",
       "      <td>1.000000</td>\n",
       "      <td>0.000000</td>\n",
       "      <td>0.000000</td>\n",
       "      <td>0.000000</td>\n",
       "      <td>0 days 00:34:00</td>\n",
       "      <td>0.000000</td>\n",
       "      <td>14.845000</td>\n",
       "      <td>...</td>\n",
       "      <td>42.080000</td>\n",
       "      <td>24.080000</td>\n",
       "      <td>0.000000</td>\n",
       "      <td>15233.000000</td>\n",
       "      <td>2015.750000</td>\n",
       "      <td>3.000000</td>\n",
       "      <td>2040.000000</td>\n",
       "      <td>52799.870456</td>\n",
       "      <td>9.999975</td>\n",
       "      <td>0.000000</td>\n",
       "    </tr>\n",
       "    <tr>\n",
       "      <th>50%</th>\n",
       "      <td>1.286322e+09</td>\n",
       "      <td>0 days 00:52:15.500000</td>\n",
       "      <td>20921.500000</td>\n",
       "      <td>1.000000</td>\n",
       "      <td>0.000000</td>\n",
       "      <td>0.000000</td>\n",
       "      <td>1.000000</td>\n",
       "      <td>0 days 00:48:37.500000</td>\n",
       "      <td>117.455000</td>\n",
       "      <td>17.165000</td>\n",
       "      <td>...</td>\n",
       "      <td>56.480000</td>\n",
       "      <td>35.060000</td>\n",
       "      <td>0.000000</td>\n",
       "      <td>15237.000000</td>\n",
       "      <td>2017.000000</td>\n",
       "      <td>5.000000</td>\n",
       "      <td>2917.500000</td>\n",
       "      <td>68640.094060</td>\n",
       "      <td>13.000018</td>\n",
       "      <td>0.000000</td>\n",
       "    </tr>\n",
       "    <tr>\n",
       "      <th>75%</th>\n",
       "      <td>1.418903e+09</td>\n",
       "      <td>0 days 01:34:52.750000</td>\n",
       "      <td>32283.975000</td>\n",
       "      <td>1.000000</td>\n",
       "      <td>2.000000</td>\n",
       "      <td>0.000000</td>\n",
       "      <td>3.000000</td>\n",
       "      <td>0 days 01:20:12.500000</td>\n",
       "      <td>1161.250000</td>\n",
       "      <td>18.000626</td>\n",
       "      <td>...</td>\n",
       "      <td>75.020000</td>\n",
       "      <td>51.080000</td>\n",
       "      <td>17.250000</td>\n",
       "      <td>15237.000000</td>\n",
       "      <td>2018.000000</td>\n",
       "      <td>9.000000</td>\n",
       "      <td>4812.500000</td>\n",
       "      <td>105918.556539</td>\n",
       "      <td>20.060333</td>\n",
       "      <td>0.000000</td>\n",
       "    </tr>\n",
       "    <tr>\n",
       "      <th>max</th>\n",
       "      <td>1.600810e+09</td>\n",
       "      <td>0 days 03:28:00</td>\n",
       "      <td>80588.300000</td>\n",
       "      <td>30.000000</td>\n",
       "      <td>20.000000</td>\n",
       "      <td>3.000000</td>\n",
       "      <td>12.000000</td>\n",
       "      <td>0 days 03:14:51</td>\n",
       "      <td>4166.670000</td>\n",
       "      <td>21.000358</td>\n",
       "      <td>...</td>\n",
       "      <td>91.940000</td>\n",
       "      <td>69.080000</td>\n",
       "      <td>457.000000</td>\n",
       "      <td>18709.000000</td>\n",
       "      <td>2018.000000</td>\n",
       "      <td>12.000000</td>\n",
       "      <td>11691.000000</td>\n",
       "      <td>264397.318172</td>\n",
       "      <td>50.075250</td>\n",
       "      <td>29.000000</td>\n",
       "    </tr>\n",
       "  </tbody>\n",
       "</table>\n",
       "<p>8 rows × 22 columns</p>\n",
       "</div>"
      ],
      "text/plain": [
       "                 id            elapsed_time      distance  athlete_count  \\\n",
       "count  2.160000e+02                     216    216.000000     216.000000   \n",
       "mean   1.017120e+09  0 days 01:08:33.615740  26079.583333       1.620370   \n",
       "std    5.488606e+08  0 days 00:43:47.884106  13618.368698       2.423596   \n",
       "min    1.182391e+07         0 days 00:11:05   1202.200000       1.000000   \n",
       "25%    5.211019e+08         0 days 00:34:00  16093.400000       1.000000   \n",
       "50%    1.286322e+09  0 days 00:52:15.500000  20921.500000       1.000000   \n",
       "75%    1.418903e+09  0 days 01:34:52.750000  32283.975000       1.000000   \n",
       "max    1.600810e+09         0 days 03:28:00  80588.300000      30.000000   \n",
       "\n",
       "       achievement_count  comment_count  kudos_count             moving_time  \\\n",
       "count         216.000000     216.000000   216.000000                     216   \n",
       "mean            2.152778       0.101852     2.041667  0 days 01:01:55.902777   \n",
       "std             4.147265       0.384340     2.535905  0 days 00:35:18.776339   \n",
       "min             0.000000       0.000000     0.000000         0 days 00:06:51   \n",
       "25%             0.000000       0.000000     0.000000         0 days 00:34:00   \n",
       "50%             0.000000       0.000000     1.000000  0 days 00:48:37.500000   \n",
       "75%             2.000000       0.000000     3.000000  0 days 01:20:12.500000   \n",
       "max            20.000000       3.000000    12.000000         0 days 03:14:51   \n",
       "\n",
       "       total_elevation_gain  average_speed         ...                 TMAX  \\\n",
       "count            216.000000     216.000000         ...           162.000000   \n",
       "mean             591.257222      16.254910         ...            57.092222   \n",
       "std              783.261761       2.268657         ...            20.518347   \n",
       "min                0.000000       6.540000         ...            12.920000   \n",
       "25%                0.000000      14.845000         ...            42.080000   \n",
       "50%              117.455000      17.165000         ...            56.480000   \n",
       "75%             1161.250000      18.000626         ...            75.020000   \n",
       "max             4166.670000      21.000358         ...            91.940000   \n",
       "\n",
       "             TMIN      PRECIP           zip         year       month  \\\n",
       "count  162.000000  186.000000    216.000000   216.000000  216.000000   \n",
       "mean    35.884444   21.392473  15478.050926  2016.458333    6.087963   \n",
       "std     17.513309   54.363459   1356.309858     1.918848    3.435335   \n",
       "min     -5.980000    0.000000   1085.000000  2012.000000    1.000000   \n",
       "25%     24.080000    0.000000  15233.000000  2015.750000    3.000000   \n",
       "50%     35.060000    0.000000  15237.000000  2017.000000    5.000000   \n",
       "75%     51.080000   17.250000  15237.000000  2018.000000    9.000000   \n",
       "max     69.080000  457.000000  18709.000000  2018.000000   12.000000   \n",
       "\n",
       "       moving_time_seconds  distance_feet  distance_miles  other_athlete_count  \n",
       "count           216.000000     216.000000      216.000000           216.000000  \n",
       "mean           3715.902778   85562.940183       16.205102             0.620370  \n",
       "std            2118.776339   44679.688758        8.462062             2.423596  \n",
       "min             411.000000    3944.225848        0.747012             0.000000  \n",
       "25%            2040.000000   52799.870456        9.999975             0.000000  \n",
       "50%            2917.500000   68640.094060       13.000018             0.000000  \n",
       "75%            4812.500000  105918.556539       20.060333             0.000000  \n",
       "max           11691.000000  264397.318172       50.075250            29.000000  \n",
       "\n",
       "[8 rows x 22 columns]"
      ]
     },
     "execution_count": 36,
     "metadata": {},
     "output_type": "execute_result"
    }
   ],
   "source": [
    "biking.describe()"
   ]
  },
  {
   "cell_type": "code",
   "execution_count": 37,
   "metadata": {},
   "outputs": [
    {
     "data": {
      "text/html": [
       "<div>\n",
       "<style scoped>\n",
       "    .dataframe tbody tr th:only-of-type {\n",
       "        vertical-align: middle;\n",
       "    }\n",
       "\n",
       "    .dataframe tbody tr th {\n",
       "        vertical-align: top;\n",
       "    }\n",
       "\n",
       "    .dataframe thead tr th {\n",
       "        text-align: left;\n",
       "    }\n",
       "\n",
       "    .dataframe thead tr:last-of-type th {\n",
       "        text-align: right;\n",
       "    }\n",
       "</style>\n",
       "<table border=\"1\" class=\"dataframe\">\n",
       "  <thead>\n",
       "    <tr>\n",
       "      <th></th>\n",
       "      <th colspan=\"4\" halign=\"left\">distance_miles</th>\n",
       "      <th colspan=\"4\" halign=\"left\">kudos_count</th>\n",
       "    </tr>\n",
       "    <tr>\n",
       "      <th></th>\n",
       "      <th>mean</th>\n",
       "      <th>sum</th>\n",
       "      <th>count</th>\n",
       "      <th>max</th>\n",
       "      <th>mean</th>\n",
       "      <th>sum</th>\n",
       "      <th>count</th>\n",
       "      <th>max</th>\n",
       "    </tr>\n",
       "    <tr>\n",
       "      <th>athlete_count</th>\n",
       "      <th></th>\n",
       "      <th></th>\n",
       "      <th></th>\n",
       "      <th></th>\n",
       "      <th></th>\n",
       "      <th></th>\n",
       "      <th></th>\n",
       "      <th></th>\n",
       "    </tr>\n",
       "  </thead>\n",
       "  <tbody>\n",
       "    <tr>\n",
       "      <th>1.0</th>\n",
       "      <td>14.751431</td>\n",
       "      <td>2729.014704</td>\n",
       "      <td>185</td>\n",
       "      <td>50.075250</td>\n",
       "      <td>1.924324</td>\n",
       "      <td>356.0</td>\n",
       "      <td>185</td>\n",
       "      <td>10.0</td>\n",
       "    </tr>\n",
       "    <tr>\n",
       "      <th>2.0</th>\n",
       "      <td>18.528458</td>\n",
       "      <td>148.227668</td>\n",
       "      <td>8</td>\n",
       "      <td>27.010820</td>\n",
       "      <td>1.000000</td>\n",
       "      <td>8.0</td>\n",
       "      <td>8</td>\n",
       "      <td>5.0</td>\n",
       "    </tr>\n",
       "    <tr>\n",
       "      <th>3.0</th>\n",
       "      <td>26.318538</td>\n",
       "      <td>131.592690</td>\n",
       "      <td>5</td>\n",
       "      <td>34.341820</td>\n",
       "      <td>2.000000</td>\n",
       "      <td>10.0</td>\n",
       "      <td>5</td>\n",
       "      <td>10.0</td>\n",
       "    </tr>\n",
       "    <tr>\n",
       "      <th>4.0</th>\n",
       "      <td>28.872200</td>\n",
       "      <td>115.488799</td>\n",
       "      <td>4</td>\n",
       "      <td>38.747963</td>\n",
       "      <td>2.250000</td>\n",
       "      <td>9.0</td>\n",
       "      <td>4</td>\n",
       "      <td>7.0</td>\n",
       "    </tr>\n",
       "    <tr>\n",
       "      <th>6.0</th>\n",
       "      <td>28.340213</td>\n",
       "      <td>170.041277</td>\n",
       "      <td>6</td>\n",
       "      <td>33.452762</td>\n",
       "      <td>1.500000</td>\n",
       "      <td>9.0</td>\n",
       "      <td>6</td>\n",
       "      <td>6.0</td>\n",
       "    </tr>\n",
       "    <tr>\n",
       "      <th>7.0</th>\n",
       "      <td>24.222821</td>\n",
       "      <td>96.891283</td>\n",
       "      <td>4</td>\n",
       "      <td>27.117199</td>\n",
       "      <td>7.000000</td>\n",
       "      <td>28.0</td>\n",
       "      <td>4</td>\n",
       "      <td>8.0</td>\n",
       "    </tr>\n",
       "    <tr>\n",
       "      <th>8.0</th>\n",
       "      <td>32.786362</td>\n",
       "      <td>98.359086</td>\n",
       "      <td>3</td>\n",
       "      <td>40.027118</td>\n",
       "      <td>7.000000</td>\n",
       "      <td>21.0</td>\n",
       "      <td>3</td>\n",
       "      <td>12.0</td>\n",
       "    </tr>\n",
       "    <tr>\n",
       "      <th>30.0</th>\n",
       "      <td>10.686591</td>\n",
       "      <td>10.686591</td>\n",
       "      <td>1</td>\n",
       "      <td>10.686591</td>\n",
       "      <td>0.000000</td>\n",
       "      <td>0.0</td>\n",
       "      <td>1</td>\n",
       "      <td>0.0</td>\n",
       "    </tr>\n",
       "  </tbody>\n",
       "</table>\n",
       "</div>"
      ],
      "text/plain": [
       "              distance_miles                               kudos_count         \\\n",
       "                        mean          sum count        max        mean    sum   \n",
       "athlete_count                                                                   \n",
       "1.0                14.751431  2729.014704   185  50.075250    1.924324  356.0   \n",
       "2.0                18.528458   148.227668     8  27.010820    1.000000    8.0   \n",
       "3.0                26.318538   131.592690     5  34.341820    2.000000   10.0   \n",
       "4.0                28.872200   115.488799     4  38.747963    2.250000    9.0   \n",
       "6.0                28.340213   170.041277     6  33.452762    1.500000    9.0   \n",
       "7.0                24.222821    96.891283     4  27.117199    7.000000   28.0   \n",
       "8.0                32.786362    98.359086     3  40.027118    7.000000   21.0   \n",
       "30.0               10.686591    10.686591     1  10.686591    0.000000    0.0   \n",
       "\n",
       "                           \n",
       "              count   max  \n",
       "athlete_count              \n",
       "1.0             185  10.0  \n",
       "2.0               8   5.0  \n",
       "3.0               5  10.0  \n",
       "4.0               4   7.0  \n",
       "6.0               6   6.0  \n",
       "7.0               4   8.0  \n",
       "8.0               3  12.0  \n",
       "30.0              1   0.0  "
      ]
     },
     "execution_count": 37,
     "metadata": {},
     "output_type": "execute_result"
    }
   ],
   "source": [
    "biking.groupby('athlete_count').agg({'count','mean','max','sum'})[['distance_miles','kudos_count']]"
   ]
  },
  {
   "cell_type": "code",
   "execution_count": 38,
   "metadata": {},
   "outputs": [
    {
     "data": {
      "image/png": "[encoded data removed]",
      "text/plain": [
       "<matplotlib.figure.Figure at 0x12450eccf28>"
      ]
     },
     "metadata": {},
     "output_type": "display_data"
    }
   ],
   "source": [
    "sns.boxplot(x='athlete_count',y='distance_miles',data=biking)\n",
    "plt.show()"
   ]
  },
  {
   "cell_type": "code",
   "execution_count": 39,
   "metadata": {},
   "outputs": [
    {
     "data": {
      "image/png": "[encoded data removed]",
      "text/plain": [
       "<matplotlib.figure.Figure at 0x12449a2c240>"
      ]
     },
     "metadata": {},
     "output_type": "display_data"
    }
   ],
   "source": [
    "sns.boxplot(x='kudos_count',y='distance_miles',data=biking)\n",
    "plt.show()"
   ]
  },
  {
   "cell_type": "code",
   "execution_count": 40,
   "metadata": {},
   "outputs": [
    {
     "name": "stderr",
     "output_type": "stream",
     "text": [
      "C:\\Users\\Rich\\Anaconda3\\lib\\site-packages\\pandas\\core\\generic.py:4355: SettingWithCopyWarning: \n",
      "A value is trying to be set on a copy of a slice from a DataFrame\n",
      "\n",
      "See the caveats in the documentation: http://pandas.pydata.org/pandas-docs/stable/indexing.html#indexing-view-versus-copy\n",
      "  self._update_inplace(new_data)\n"
     ]
    }
   ],
   "source": [
    "biking['achievement_count'].fillna(0,inplace=True)\n",
    "biking['kudos_count'].fillna(0,inplace=True)"
   ]
  },
  {
   "cell_type": "code",
   "execution_count": 41,
   "metadata": {},
   "outputs": [
    {
     "data": {
      "image/png": "[encoded data removed]",
      "text/plain": [
       "<matplotlib.figure.Figure at 0x12450f29b00>"
      ]
     },
     "metadata": {},
     "output_type": "display_data"
    }
   ],
   "source": [
    "corr_set = biking.select_dtypes('float64')\n",
    "\n",
    "c = corr_set.corr()\n",
    "c = c[~c.isnull()]\n",
    "\n",
    "fig,ax = plt.subplots(figsize=(20,20))\n",
    "cmap = sns.diverging_palette(220, 10, as_cmap=True)\n",
    "sns.heatmap(c,ax=ax,cmap=cmap,annot=True)\n",
    "plt.show()"
   ]
  },
  {
   "cell_type": "code",
   "execution_count": 42,
   "metadata": {},
   "outputs": [
    {
     "data": {
      "image/png": "[encoded data removed]",
      "text/plain": [
       "<matplotlib.figure.Figure at 0x12451c72518>"
      ]
     },
     "metadata": {},
     "output_type": "display_data"
    }
   ],
   "source": [
    "fig,ax = plt.subplots(figsize=(16,8))\n",
    "\n",
    "x = biking['date'].apply(lambda x: pd.to_datetime(x)).values\n",
    "y = biking['kudos_count'].values\n",
    "y2 = biking['athlete_count'].values\n",
    "\n",
    "ax.scatter(x,y,c='b',label='kudos count')\n",
    "ax.scatter(x,y2,c='r',label='athlete count')\n",
    "ax.legend()\n",
    "plt.show()"
   ]
  },
  {
   "cell_type": "markdown",
   "metadata": {},
   "source": [
    "Is there any relationship between distance and time of day or athlete count and time of day?"
   ]
  },
  {
   "cell_type": "code",
   "execution_count": 43,
   "metadata": {},
   "outputs": [
    {
     "name": "stderr",
     "output_type": "stream",
     "text": [
      "C:\\Users\\Rich\\Anaconda3\\lib\\site-packages\\pandas\\core\\indexing.py:357: SettingWithCopyWarning: \n",
      "A value is trying to be set on a copy of a slice from a DataFrame.\n",
      "Try using .loc[row_indexer,col_indexer] = value instead\n",
      "\n",
      "See the caveats in the documentation: http://pandas.pydata.org/pandas-docs/stable/indexing.html#indexing-view-versus-copy\n",
      "  self.obj[key] = _infer_fill_value(value)\n",
      "C:\\Users\\Rich\\Anaconda3\\lib\\site-packages\\pandas\\core\\indexing.py:537: SettingWithCopyWarning: \n",
      "A value is trying to be set on a copy of a slice from a DataFrame.\n",
      "Try using .loc[row_indexer,col_indexer] = value instead\n",
      "\n",
      "See the caveats in the documentation: http://pandas.pydata.org/pandas-docs/stable/indexing.html#indexing-view-versus-copy\n",
      "  self.obj[item] = s\n"
     ]
    }
   ],
   "source": [
    "time_of_day = biking[['date_est','distance_miles','other_athlete_count']]\n",
    "time_of_day.loc[:,'hour'] = time_of_day.loc[:,'date_est'].apply(lambda x: x.hour)"
   ]
  },
  {
   "cell_type": "code",
   "execution_count": 44,
   "metadata": {},
   "outputs": [],
   "source": [
    "gb = time_of_day.groupby('hour',as_index=False).agg({'count','sum','mean'})[['other_athlete_count','distance_miles']]\n",
    "gb.columns = list(map('_'.join, gb.columns.values))\n",
    "gb = gb.reset_index()"
   ]
  },
  {
   "cell_type": "code",
   "execution_count": 45,
   "metadata": {},
   "outputs": [
    {
     "data": {
      "image/png": "[encoded data removed]",
      "text/plain": [
       "<matplotlib.figure.Figure at 0x1244eeccac8>"
      ]
     },
     "metadata": {},
     "output_type": "display_data"
    }
   ],
   "source": [
    "sns.barplot(x='hour',y='distance_miles_sum',data=gb)\n",
    "plt.show()"
   ]
  },
  {
   "cell_type": "code",
   "execution_count": 46,
   "metadata": {},
   "outputs": [
    {
     "data": {
      "image/png": "[encoded data removed]",
      "text/plain": [
       "<matplotlib.figure.Figure at 0x1245126ba58>"
      ]
     },
     "metadata": {},
     "output_type": "display_data"
    }
   ],
   "source": [
    "sns.barplot(x='hour',y='distance_miles_mean',data=gb)\n",
    "plt.show()"
   ]
  },
  {
   "cell_type": "code",
   "execution_count": 47,
   "metadata": {},
   "outputs": [
    {
     "data": {
      "image/png": "[encoded data removed]",
      "text/plain": [
       "<matplotlib.figure.Figure at 0x12451c46e10>"
      ]
     },
     "metadata": {},
     "output_type": "display_data"
    }
   ],
   "source": [
    "sns.barplot(x='hour',y='other_athlete_count_mean',data=gb)\n",
    "plt.show()"
   ]
  },
  {
   "cell_type": "code",
   "execution_count": 48,
   "metadata": {},
   "outputs": [
    {
     "data": {
      "image/png": "[encoded data removed]",
      "text/plain": [
       "<matplotlib.figure.Figure at 0x12450e08a58>"
      ]
     },
     "metadata": {},
     "output_type": "display_data"
    }
   ],
   "source": [
    "sns.barplot(x='hour',y='other_athlete_count_sum',data=gb)\n",
    "plt.show()"
   ]
  },
  {
   "cell_type": "code",
   "execution_count": 49,
   "metadata": {},
   "outputs": [
    {
     "data": {
      "image/png": "[encoded data removed]",
      "text/plain": [
       "<matplotlib.figure.Figure at 0x124513c0898>"
      ]
     },
     "metadata": {},
     "output_type": "display_data"
    }
   ],
   "source": [
    "x = time_of_day['hour']\n",
    "\n",
    "sns.distplot(x)\n",
    "plt.show()"
   ]
  },
  {
   "cell_type": "markdown",
   "metadata": {},
   "source": [
    "# Machine Learning"
   ]
  },
  {
   "cell_type": "code",
   "execution_count": 50,
   "metadata": {},
   "outputs": [],
   "source": [
    "import xgboost\n",
    "from sklearn import metrics\n",
    "from sklearn.model_selection import train_test_split, KFold, cross_val_score"
   ]
  },
  {
   "cell_type": "code",
   "execution_count": 51,
   "metadata": {},
   "outputs": [],
   "source": [
    "#predictors = ['athlete_count','distance_miles','elapsed_time','gear','total_elevation_gain','average_speed','TMAX','PRECIP']\n",
    "target = 'kudos_count'"
   ]
  },
  {
   "cell_type": "code",
   "execution_count": 52,
   "metadata": {},
   "outputs": [],
   "source": [
    "train_df = biking.copy()"
   ]
  },
  {
   "cell_type": "code",
   "execution_count": 53,
   "metadata": {},
   "outputs": [
    {
     "name": "stdout",
     "output_type": "stream",
     "text": [
      "name            126\n",
      "type              1\n",
      "description      46\n",
      "gear              2\n",
      "filename        112\n",
      "stationid        12\n",
      "filename_fix    112\n",
      "latlng          112\n",
      "new_type          1\n",
      "dtype: int64\n"
     ]
    }
   ],
   "source": [
    "num_unique = train_df.select_dtypes('object').apply(pd.Series.nunique,axis=0)\n",
    "print(num_unique)"
   ]
  },
  {
   "cell_type": "markdown",
   "metadata": {},
   "source": [
    "Here are some columns that probably won't help us:\n",
    "\n",
    "* Name\n",
    "* Description\n",
    "* Latitude or Longitude\n",
    "* Filename\n",
    "* Type or New_Type (only 1 value)\n",
    "\n",
    "Gear on the other hand might - trainer vs. Orbea? And stationid has few enough that we can encode without causing too many issues"
   ]
  },
  {
   "cell_type": "code",
   "execution_count": 54,
   "metadata": {},
   "outputs": [],
   "source": [
    "cols_to_drop = ['name','type','new_type','description','filename','filename_fix','latlng']\n",
    "\n",
    "train_df.drop(cols_to_drop,axis=1,inplace=True)"
   ]
  },
  {
   "cell_type": "markdown",
   "metadata": {},
   "source": [
    "We also have some boolean values - let's convert those to int"
   ]
  },
  {
   "cell_type": "code",
   "execution_count": 55,
   "metadata": {},
   "outputs": [],
   "source": [
    "cols = train_df.select_dtypes('bool').columns\n",
    "train_df.loc[:,cols] = train_df.loc[:,cols].astype(object)"
   ]
  },
  {
   "cell_type": "markdown",
   "metadata": {},
   "source": [
    "Our xgboost algorithm won't be able to deal with object data, so let's 1-hot encode those columns"
   ]
  },
  {
   "cell_type": "code",
   "execution_count": 56,
   "metadata": {},
   "outputs": [],
   "source": [
    "train_df = pd.get_dummies(train_df)"
   ]
  },
  {
   "cell_type": "code",
   "execution_count": 57,
   "metadata": {
    "scrolled": false
   },
   "outputs": [
    {
     "name": "stdout",
     "output_type": "stream",
     "text": [
      "has_weather_False       -0.275741\n",
      "stationid_US1PALZ0024   -0.206052\n",
      "stationid_US1PAAL0046   -0.193311\n",
      "zip                     -0.129570\n",
      "stationid_US1PAVN0005   -0.104164\n",
      "PRECIP                  -0.084880\n",
      "stationid_USC00368888   -0.078013\n",
      "indoor_True             -0.070804\n",
      "has_file_False          -0.070804\n",
      "manual_True             -0.070804\n",
      "stationid_USW00014775   -0.055035\n",
      "stationid_USC00363028   -0.055035\n",
      "stationid_US1PALZ0018   -0.055035\n",
      "stationid_US1PAAL0033   -0.055035\n",
      "month                   -0.029253\n",
      "gear_Orbea              -0.001982\n",
      "stationid_US1PABT0006    0.011311\n",
      "stationid_USW00094823    0.013681\n",
      "gear_Trainer             0.024294\n",
      "has_file_True            0.070804\n",
      "indoor_False             0.070804\n",
      "manual_False             0.070804\n",
      "moving_time_seconds      0.099215\n",
      "athlete_count            0.107021\n",
      "other_athlete_count      0.107021\n",
      "average_speed            0.109395\n",
      "max_speed                0.126221\n",
      "distance_feet            0.133556\n",
      "distance                 0.133556\n",
      "distance_miles           0.133556\n",
      "calories                 0.139462\n",
      "comment_count            0.262865\n",
      "stationid_US1PABT0015    0.265881\n",
      "stationid_USC00362574    0.270044\n",
      "has_weather_True         0.275741\n",
      "total_elevation_gain     0.301651\n",
      "TMIN                     0.317986\n",
      "TMAX                     0.343009\n",
      "year                     0.473024\n",
      "achievement_count        0.505325\n",
      "id                       0.541831\n",
      "kudos_count              1.000000\n",
      "commute_False                 NaN\n",
      "has_station_True              NaN\n",
      "Name: kudos_count, dtype: float64\n"
     ]
    }
   ],
   "source": [
    "train_corr = train_df.corr().loc[:,target].sort_values()\n",
    "print(train_corr)"
   ]
  },
  {
   "cell_type": "markdown",
   "metadata": {},
   "source": [
    "What's going on with those last few columns?"
   ]
  },
  {
   "cell_type": "code",
   "execution_count": 58,
   "metadata": {},
   "outputs": [
    {
     "data": {
      "text/plain": [
       "commute_False       1\n",
       "has_station_True    1\n",
       "dtype: int64"
      ]
     },
     "execution_count": 58,
     "metadata": {},
     "output_type": "execute_result"
    }
   ],
   "source": [
    "null_corr = list(train_corr[train_corr.isnull()].index)\n",
    "train_df.loc[:,null_corr].apply(pd.Series.nunique,axis=0)"
   ]
  },
  {
   "cell_type": "code",
   "execution_count": 59,
   "metadata": {},
   "outputs": [],
   "source": [
    "train_df.drop(['commute_False','has_station_True'],axis=1,inplace=True)"
   ]
  },
  {
   "cell_type": "markdown",
   "metadata": {},
   "source": [
    "We're missing some weather data - we may need to impute?\n",
    "\n",
    "Missing 54 rows worth of weather data. I'll impute by year and month first, then by month if I still have NaN. I'll do this for TMIN and TMAX - if PRECIP is missing I'll assume it's 0."
   ]
  },
  {
   "cell_type": "code",
   "execution_count": 61,
   "metadata": {},
   "outputs": [
    {
     "name": "stdout",
     "output_type": "stream",
     "text": [
      "TMAX      True\n",
      "TMIN      True\n",
      "PRECIP    True\n",
      "dtype: bool\n"
     ]
    }
   ],
   "source": [
    "missing = train_df.isnull().any()\n",
    "print(missing[missing])"
   ]
  },
  {
   "cell_type": "code",
   "execution_count": 66,
   "metadata": {},
   "outputs": [],
   "source": [
    "med_yrmnth = train_df.groupby(by=['year','month'])['TMAX','TMIN','PRECIP'].agg(['median','mean']).reset_index()\n",
    "med_mnth = train_df.groupby(by=['month'])['TMAX','TMIN','PRECIP'].agg(['median','mean']).reset_index()"
   ]
  },
  {
   "cell_type": "code",
   "execution_count": 67,
   "metadata": {},
   "outputs": [],
   "source": [
    "med_yrmnth.columns = list(map('_'.join, med_yrmnth.columns.values))\n",
    "med_mnth.columns = list(map('_'.join, med_mnth.columns.values))"
   ]
  },
  {
   "cell_type": "code",
   "execution_count": 68,
   "metadata": {},
   "outputs": [
    {
     "data": {
      "text/plain": [
       "(216, 46)"
      ]
     },
     "execution_count": 68,
     "metadata": {},
     "output_type": "execute_result"
    }
   ],
   "source": [
    "train_df.shape"
   ]
  },
  {
   "cell_type": "code",
   "execution_count": 69,
   "metadata": {},
   "outputs": [],
   "source": [
    "train_df = train_df.merge(med_yrmnth,left_on=['year','month'],right_on=['year_','month_'],suffixes=('','_yrmnth'))\n",
    "train_df = train_df.merge(med_mnth,left_on=['month'],right_on=['month_'],suffixes=('','_month'))"
   ]
  },
  {
   "cell_type": "code",
   "execution_count": 71,
   "metadata": {},
   "outputs": [],
   "source": [
    "train_df.loc[train_df['TMAX'].isnull(),'TMAX'] = train_df.loc[train_df['TMAX'].isnull(),'TMAX_median']\n",
    "train_df.loc[train_df['TMIN'].isnull(),'TMIN'] = train_df.loc[train_df['TMIN'].isnull(),'TMIN_median']\n",
    "train_df.loc[train_df['PRECIP'].isnull(),'PRECIP'] = 0\n",
    "\n",
    "train_df.loc[train_df['TMAX'].isnull(),'TMAX'] = train_df.loc[train_df['TMAX'].isnull(),'TMAX_median_month']\n",
    "train_df.loc[train_df['TMIN'].isnull(),'TMIN'] = train_df.loc[train_df['TMIN'].isnull(),'TMIN_median_month']\n",
    "train_df.loc[train_df['PRECIP'].isnull(),'PRECIP'] = 0"
   ]
  },
  {
   "cell_type": "markdown",
   "metadata": {},
   "source": [
    "Let's get rid of the imputation columns"
   ]
  },
  {
   "cell_type": "code",
   "execution_count": 72,
   "metadata": {},
   "outputs": [],
   "source": [
    "drop_cols = ['year_', 'month_', 'TMAX_median', 'TMAX_mean', 'TMIN_median',\n",
    "    'TMIN_mean', 'PRECIP_median', 'PRECIP_mean', 'month__month',\n",
    "    'TMAX_median_month', 'TMAX_mean_month', 'TMIN_median_month',\n",
    "    'TMIN_mean_month', 'PRECIP_median_month', 'PRECIP_mean_month']\n",
    "\n",
    "train_df.drop(drop_cols,axis=1,inplace=True)"
   ]
  },
  {
   "cell_type": "markdown",
   "metadata": {},
   "source": [
    "No need to train on our target variable"
   ]
  },
  {
   "cell_type": "code",
   "execution_count": 73,
   "metadata": {},
   "outputs": [],
   "source": [
    "train_df.drop(target,axis=1,inplace=True)"
   ]
  },
  {
   "cell_type": "markdown",
   "metadata": {
    "heading_collapsed": true
   },
   "source": [
    "# Polynomial Features"
   ]
  },
  {
   "cell_type": "markdown",
   "metadata": {
    "hidden": true
   },
   "source": [
    "Let's add in some polynomial features as well, see if those help anything"
   ]
  },
  {
   "cell_type": "code",
   "execution_count": 445,
   "metadata": {
    "hidden": true
   },
   "outputs": [],
   "source": [
    "from sklearn.preprocessing import PolynomialFeatures"
   ]
  },
  {
   "cell_type": "code",
   "execution_count": 457,
   "metadata": {
    "hidden": true
   },
   "outputs": [],
   "source": [
    "pf_cols = ['id','average_speed','max_speed','distance_miles','calories','total_elevation_gain']\n",
    "pf_df = train_df.loc[:,pf_cols]\n",
    "\n",
    "id_col = pf_df['id']\n",
    "pf_df = pf_df.drop('id',axis=1)\n",
    "\n",
    "pt = PolynomialFeatures(3,include_bias=True,interaction_only=False)\n",
    "feats = pt.fit_transform(pf_df)\n",
    "names = pt.get_feature_names(input_features = pf_cols[1:])\n",
    "poly_features = pd.DataFrame(feats,columns=names)"
   ]
  },
  {
   "cell_type": "code",
   "execution_count": 459,
   "metadata": {
    "hidden": true
   },
   "outputs": [],
   "source": [
    "poly_features['TARGET'] = biking[target]\n",
    "poly_features['id'] = id_col"
   ]
  },
  {
   "cell_type": "code",
   "execution_count": 460,
   "metadata": {
    "hidden": true
   },
   "outputs": [
    {
     "data": {
      "text/plain": [
       "average_speed                     -0.214899\n",
       "average_speed^2                   -0.180777\n",
       "average_speed^3                   -0.155448\n",
       "average_speed^2 distance_miles    -0.104365\n",
       "average_speed distance_miles      -0.099169\n",
       "distance_miles                    -0.090181\n",
       "distance_miles^3                  -0.088119\n",
       "total_elevation_gain^3            -0.085652\n",
       "calories total_elevation_gain^2   -0.083191\n",
       "calories^3                        -0.083096\n",
       "Name: TARGET, dtype: float64"
      ]
     },
     "execution_count": 460,
     "metadata": {},
     "output_type": "execute_result"
    }
   ],
   "source": [
    "poly_features.corr()['TARGET'].sort_values().nsmallest(10)"
   ]
  },
  {
   "cell_type": "markdown",
   "metadata": {
    "hidden": true
   },
   "source": [
    "The original features are already in our training set so no need to reincorporate"
   ]
  },
  {
   "cell_type": "code",
   "execution_count": 461,
   "metadata": {
    "hidden": true
   },
   "outputs": [],
   "source": [
    "poly_features.drop(pf_cols[1:],axis=1,inplace=True)\n",
    "poly_features.drop('TARGET',axis=1,inplace=True)"
   ]
  },
  {
   "cell_type": "code",
   "execution_count": 462,
   "metadata": {
    "hidden": true
   },
   "outputs": [],
   "source": [
    "train_df = train_df.merge(poly_features,on='id',how='inner').sort_values(by='id')"
   ]
  },
  {
   "cell_type": "markdown",
   "metadata": {},
   "source": [
    "# XGBoost"
   ]
  },
  {
   "cell_type": "code",
   "execution_count": 74,
   "metadata": {},
   "outputs": [],
   "source": [
    "train_df.drop('id',inplace=True,axis=1)"
   ]
  },
  {
   "cell_type": "code",
   "execution_count": 75,
   "metadata": {},
   "outputs": [],
   "source": [
    "target_df = biking[target]\n",
    "xgb1 = xgboost.sklearn.XGBClassifier(\n",
    " learning_rate =0.3,\n",
    " n_estimators=1000,\n",
    " max_depth=5,\n",
    " min_child_weight=1,\n",
    " gamma=0,\n",
    " subsample=0.8,\n",
    " colsample_bytree=0.8,\n",
    " objective= 'binary:logistic',\n",
    " nthread=4,\n",
    " scale_pos_weight=1,\n",
    " seed=27)"
   ]
  },
  {
   "cell_type": "markdown",
   "metadata": {},
   "source": [
    "I'll apply a scaler to the (some of) the data as well"
   ]
  },
  {
   "cell_type": "code",
   "execution_count": 76,
   "metadata": {},
   "outputs": [],
   "source": [
    "numerics = ['int16', 'int32', 'int64', 'float16', 'float32', 'float64']\n",
    "cols = train_df.select_dtypes(numerics).columns"
   ]
  },
  {
   "cell_type": "code",
   "execution_count": 77,
   "metadata": {},
   "outputs": [],
   "source": [
    "from sklearn.preprocessing import MinMaxScaler\n",
    "\n",
    "scaler = MinMaxScaler(feature_range = (0,1))\n",
    "scaler.fit(train_df[cols])\n",
    "train_df[cols] = scaler.transform(train_df[cols])"
   ]
  },
  {
   "cell_type": "markdown",
   "metadata": {},
   "source": [
    "Get rid of time columns - can't fit on them anyways"
   ]
  },
  {
   "cell_type": "code",
   "execution_count": 78,
   "metadata": {},
   "outputs": [],
   "source": [
    "drop_cols = ['date', 'elapsed_time', 'moving_time', 'date_est']\n",
    "train_df.drop(drop_cols,inplace=True,axis=1)"
   ]
  },
  {
   "cell_type": "code",
   "execution_count": 79,
   "metadata": {},
   "outputs": [
    {
     "data": {
      "text/plain": [
       "XGBClassifier(base_score=0.5, booster='gbtree', colsample_bylevel=1,\n",
       "       colsample_bytree=0.8, gamma=0, learning_rate=0.3, max_delta_step=0,\n",
       "       max_depth=5, min_child_weight=1, missing=None, n_estimators=1000,\n",
       "       n_jobs=1, nthread=4, objective='multi:softprob', random_state=0,\n",
       "       reg_alpha=0, reg_lambda=1, scale_pos_weight=1, seed=27, silent=True,\n",
       "       subsample=0.8)"
      ]
     },
     "execution_count": 79,
     "metadata": {},
     "output_type": "execute_result"
    }
   ],
   "source": [
    "xgb1.fit(train_df,target_df,eval_metric='rmse')"
   ]
  },
  {
   "cell_type": "code",
   "execution_count": 80,
   "metadata": {},
   "outputs": [],
   "source": [
    "dtrain_predictions = xgb1.predict(train_df)"
   ]
  },
  {
   "cell_type": "code",
   "execution_count": 81,
   "metadata": {},
   "outputs": [
    {
     "name": "stdout",
     "output_type": "stream",
     "text": [
      "Accuracy : 1.0000\n"
     ]
    }
   ],
   "source": [
    "print(\"Accuracy : %.4f\" % metrics.accuracy_score(target_df.values, dtrain_predictions))"
   ]
  },
  {
   "cell_type": "code",
   "execution_count": 82,
   "metadata": {},
   "outputs": [
    {
     "data": {
      "text/plain": [
       "<matplotlib.axes._subplots.AxesSubplot at 0x124519e4f60>"
      ]
     },
     "execution_count": 82,
     "metadata": {},
     "output_type": "execute_result"
    },
    {
     "data": {
      "image/png": "[encoded data removed]",
      "text/plain": [
       "<matplotlib.figure.Figure at 0x124519eacc0>"
      ]
     },
     "metadata": {},
     "output_type": "display_data"
    }
   ],
   "source": [
    "xgboost.plot_importance(xgb1)"
   ]
  },
  {
   "cell_type": "markdown",
   "metadata": {},
   "source": [
    "What great accuracy! 100% accurate. What obvious problems are there with this?\n",
    "\n",
    "Overfitting is the biggest issue - and comparing predictions within the set used for training\n",
    "So, let's split into train and test, and see how well we do."
   ]
  },
  {
   "cell_type": "code",
   "execution_count": 83,
   "metadata": {},
   "outputs": [],
   "source": [
    "X_train, X_test, y_train, y_test = train_test_split(train_df, target_df, test_size=0.33, random_state=2)"
   ]
  },
  {
   "cell_type": "code",
   "execution_count": 84,
   "metadata": {},
   "outputs": [
    {
     "data": {
      "text/plain": [
       "XGBClassifier(base_score=0.5, booster='gbtree', colsample_bylevel=1,\n",
       "       colsample_bytree=0.8, gamma=0, learning_rate=0.3, max_delta_step=0,\n",
       "       max_depth=5, min_child_weight=1, missing=None, n_estimators=1000,\n",
       "       n_jobs=1, nthread=4, objective='multi:softprob', random_state=0,\n",
       "       reg_alpha=0, reg_lambda=1, scale_pos_weight=1, seed=27, silent=True,\n",
       "       subsample=0.8)"
      ]
     },
     "execution_count": 84,
     "metadata": {},
     "output_type": "execute_result"
    }
   ],
   "source": [
    "xgb1.fit(X_train,y_train,eval_metric='rmse')"
   ]
  },
  {
   "cell_type": "code",
   "execution_count": 85,
   "metadata": {},
   "outputs": [],
   "source": [
    "p_test = xgb1.predict(X_test)"
   ]
  },
  {
   "cell_type": "code",
   "execution_count": 86,
   "metadata": {},
   "outputs": [
    {
     "name": "stdout",
     "output_type": "stream",
     "text": [
      "Accuracy : 0.4444\n"
     ]
    }
   ],
   "source": [
    "print(\"Accuracy : %.4f\"%metrics.accuracy_score(y_test.values, p_test))"
   ]
  },
  {
   "cell_type": "code",
   "execution_count": 101,
   "metadata": {},
   "outputs": [],
   "source": [
    "pred_df = pd.DataFrame(np.stack((y_test,p_test),axis=1),columns=['actual','predicted'])"
   ]
  },
  {
   "cell_type": "code",
   "execution_count": 104,
   "metadata": {},
   "outputs": [
    {
     "data": {
      "image/png": "[encoded data removed]",
      "text/plain": [
       "<matplotlib.figure.Figure at 0x124518e2588>"
      ]
     },
     "metadata": {},
     "output_type": "display_data"
    }
   ],
   "source": [
    "plt.scatter(pred_df['actual'],pred_df['predicted'])\n",
    "plt.show()"
   ]
  },
  {
   "cell_type": "markdown",
   "metadata": {},
   "source": [
    "We can also cross-validate - this is similar to train/test split, but run multiple times"
   ]
  },
  {
   "cell_type": "code",
   "execution_count": 87,
   "metadata": {},
   "outputs": [],
   "source": [
    "kfold = KFold(n_splits=10,random_state=2)\n",
    "results = cross_val_score(xgb1, train_df, target_df, cv=kfold)"
   ]
  },
  {
   "cell_type": "code",
   "execution_count": 88,
   "metadata": {},
   "outputs": [
    {
     "name": "stdout",
     "output_type": "stream",
     "text": [
      "Cross-validation accuracy: mean 31.15%, std 30.57%\n"
     ]
    }
   ],
   "source": [
    "print('Cross-validation accuracy: mean %0.2f%%, std %0.2f%%'%(results.mean()*100.0,results.std()*100.0))"
   ]
  },
  {
   "cell_type": "markdown",
   "metadata": {},
   "source": [
    "Well that isn't great! But it's also not surprising - I don't have many activities and a lot of them are indoors over the winter (so they're guaranteed to get 0 kudos)."
   ]
  },
  {
   "cell_type": "code",
   "execution_count": 105,
   "metadata": {},
   "outputs": [
    {
     "data": {
      "text/plain": [
       "(216, 40)"
      ]
     },
     "execution_count": 105,
     "metadata": {},
     "output_type": "execute_result"
    }
   ],
   "source": [
    "train_df.shape"
   ]
  },
  {
   "cell_type": "code",
   "execution_count": 106,
   "metadata": {},
   "outputs": [
    {
     "data": {
      "image/png": "[encoded data removed]",
      "text/plain": [
       "<matplotlib.figure.Figure at 0x124513f9f98>"
      ]
     },
     "metadata": {},
     "output_type": "display_data"
    }
   ],
   "source": [
    "sns.distplot(target_df)\n",
    "plt.show()"
   ]
  },
  {
   "cell_type": "markdown",
   "metadata": {},
   "source": [
    "# Bike vs Run"
   ]
  },
  {
   "cell_type": "code",
   "execution_count": null,
   "metadata": {},
   "outputs": [],
   "source": []
  }
 ],
 "metadata": {
  "kernelspec": {
   "display_name": "Python 3",
   "language": "python",
   "name": "python3"
  },
  "language_info": {
   "codemirror_mode": {
    "name": "ipython",
    "version": 3
   },
   "file_extension": ".py",
   "mimetype": "text/x-python",
   "name": "python",
   "nbconvert_exporter": "python",
   "pygments_lexer": "ipython3",
   "version": "3.6.0"
  },
  "varInspector": {
   "cols": {
    "lenName": 16,
    "lenType": 16,
    "lenVar": 40
   },
   "kernels_config": {
    "python": {
     "delete_cmd_postfix": "",
     "delete_cmd_prefix": "del ",
     "library": "var_list.py",
     "varRefreshCmd": "print(var_dic_list())"
    },
    "r": {
     "delete_cmd_postfix": ") ",
     "delete_cmd_prefix": "rm(",
     "library": "var_list.r",
     "varRefreshCmd": "cat(var_dic_list()) "
    }
   },
   "types_to_exclude": [
    "module",
    "function",
    "builtin_function_or_method",
    "instance",
    "_Feature"
   ],
   "window_display": false
  }
 },
 "nbformat": 4,
 "nbformat_minor": 2
}
