{
 "cells": [
  {
   "cell_type": "markdown",
   "metadata": {},
   "source": [
    "# Introduction"
   ]
  },
  {
   "cell_type": "markdown",
   "metadata": {},
   "source": [
    "In this presentation, I will walk through the steps I took to analyze my Strava biking and running activities. I will:\n",
    "\n",
    "- Export the data from Strava.\n",
    "- Add contextual information about the rides using APIs.\n",
    "    -  Strava will give me idata that Strava creates (other athetes, calories burned, etc.).\n",
    "    -  NOAA will give me information about what the weather was like during the ride.\n",
    "- Clean data and add new data features.\n",
    "- Map out all activities from around Pittsburgh using matplotlib.\n",
    "- Apply machine learning to identify bike vs run activities and find mislabeled rides."
   ]
  },
  {
   "cell_type": "markdown",
   "metadata": {
    "heading_collapsed": true
   },
   "source": [
    "# Imports and Setup"
   ]
  },
  {
   "cell_type": "markdown",
   "metadata": {
    "hidden": true
   },
   "source": [
    "First things first, we need to import all of the libraries that we plan on using.\n",
    "\n",
    "The canonical data science stack for Python is:\n",
    "- pandas\n",
    "- numpy\n",
    "- matplotlib (and seaborn to make the graphs look pretty)\n",
    "- scikit-learn (sklearn)"
   ]
  },
  {
   "cell_type": "code",
   "execution_count": 1,
   "metadata": {
    "hidden": true
   },
   "outputs": [],
   "source": [
    "import gpxpy\n",
    "import pandas as pd\n",
    "import numpy as np\n",
    "import srtm\n",
    "import matplotlib.pyplot as plt\n",
    "import seaborn as sns\n",
    "import datetime\n",
    "\n",
    "import noaa_api_token\n",
    "import strava_api_token"
   ]
  },
  {
   "cell_type": "markdown",
   "metadata": {
    "hidden": true
   },
   "source": [
    "First, import any API tokens we need (NOAA, Strava)"
   ]
  },
  {
   "cell_type": "code",
   "execution_count": 2,
   "metadata": {
    "hidden": true
   },
   "outputs": [],
   "source": [
    "def print_missing(df):\n",
    "    missing = df.isnull().any()\n",
    "    print(missing[missing])"
   ]
  },
  {
   "cell_type": "code",
   "execution_count": 3,
   "metadata": {
    "hidden": true
   },
   "outputs": [],
   "source": [
    "strava = strava_api_token.strava_token\n",
    "token = noaa_api_token.token\n"
   ]
  },
  {
   "cell_type": "code",
   "execution_count": 4,
   "metadata": {
    "hidden": true
   },
   "outputs": [],
   "source": [
    "data_path = 'Data//'"
   ]
  },
  {
   "cell_type": "markdown",
   "metadata": {
    "hidden": true
   },
   "source": [
    "Open the CSV file containing my activities, formatting the filename and dates in their correct formats"
   ]
  },
  {
   "cell_type": "code",
   "execution_count": 5,
   "metadata": {
    "hidden": true
   },
   "outputs": [],
   "source": [
    "converters={'filename': lambda x: str(x)}\n",
    "activities = pd.read_csv(data_path + 'activities.csv',converters=converters)\n",
    "activities.date = pd.to_datetime(activities['date'])"
   ]
  },
  {
   "cell_type": "code",
   "execution_count": 12,
   "metadata": {
    "hidden": true
   },
   "outputs": [],
   "source": [
    "#example url to request for a zip and given start/end date\n",
    "ex_url = 'https://www.ncdc.noaa.gov/cdo-web/api/v2/data?datasetid=GHCND&locationid=ZIP:28801&startdate=2010-05-01&enddate=2010-05-01'\n",
    "#example from github\n",
    "ex_gh = 'https://github.com/paulokuong/noaa'"
   ]
  },
  {
   "cell_type": "markdown",
   "metadata": {
    "heading_collapsed": true
   },
   "source": [
    "# Data Cleaning and Prep"
   ]
  },
  {
   "cell_type": "markdown",
   "metadata": {
    "hidden": true
   },
   "source": [
    "Below are some helper functions:\n",
    "\n",
    "* **lat_lng_to_zip**\n",
    "    - Translates a given latitude and longitude into the nearest US zip code\n",
    "* **parse_filename**\n",
    "    - Removes the .fit.gz and replaces with .gpx for files which aren't identified as .gpx in the Strava data\n",
    "* **gpx_attributes**\n",
    "    - Figures out the latitude and longitude of the first point within a .gpx file\n",
    "    "
   ]
  },
  {
   "cell_type": "markdown",
   "metadata": {
    "hidden": true
   },
   "source": [
    "One thing to notice is that I'm not actually converting the files themselves within this code.\n",
    "\n",
    "I used a converter to convert the files from their original formats (a mix of .GPX and .FIT) to all .GPX. I will need to make the corrections to the filenames to reflect the new format so that I know which files to open for the <font color=blue>gpx_attributes(x)</font> function call. <font color=blue>gpx_attributes(x)</font> identifies the latitude and longitude of the first point in the file. The call to <font color=blue>lat_lng_to_zip(x)</font> will identify, for each activity, which zip code it took place nearest to. I will use this data to identify the weather later on."
   ]
  },
  {
   "cell_type": "code",
   "execution_count": 7,
   "metadata": {
    "hidden": true
   },
   "outputs": [],
   "source": [
    "def lat_lng_to_zip(latlng,ztc):\n",
    "    \"\"\"Identifies the zip code nearest to a particular latitude and longitude point\"\"\"\n",
    "    minrow = (np.sqrt((ztc['LAT'] - latlng[0])**2 + (ztc['LNG'] - latlng[1])**2)).values.argmin()\n",
    "    return ztc.iloc[minrow]['ZIP']\n",
    "\n",
    "#all activities have been converted to GPX using GPSBabel, so I need to fix the filenames\n",
    "def parse_filename(filename):\n",
    "    \"\"\"Strips out the file descriptor and replaces with .GPX\"\"\"\n",
    "    filename = filename.split('/')\n",
    "    if len(filename) == 1:\n",
    "        filename = None\n",
    "    else:\n",
    "        filename = filename[1]\n",
    "    \n",
    "    if filename is None:\n",
    "        fn = ''\n",
    "    elif filename[-4:] == '.gpx':\n",
    "        fn = filename\n",
    "    else:\n",
    "        fn = filename[:-7] + '.gpx'\n",
    "    return 'Data/activities/GPX/' + fn\n",
    "\n",
    "def gpx_attributes(filename):\n",
    "    \"\"\"Opens a .GPX file, parses using gpxpy and returns the starting latitude/longitude\"\"\"\n",
    "    try:\n",
    "        with open(filename,'r') as gpx_file:\n",
    "            #gpx_file = open(filename,'r')\n",
    "            gpx = gpxpy.parse(gpx_file)\n",
    "            first_pt = gpx.tracks[0].segments[0].points[0]\n",
    "            start_pos = (first_pt.latitude,first_pt.longitude)\n",
    "        ret = start_pos\n",
    "    except:\n",
    "        #if there's no file then it was manually input, \n",
    "        #which means I most likely rode on my trainer at home\n",
    "        ret = (40.552273, -80.044383)\n",
    "    return ret"
   ]
  },
  {
   "cell_type": "code",
   "execution_count": 8,
   "metadata": {
    "hidden": true
   },
   "outputs": [],
   "source": [
    "#load zip code data from https://gist.github.com/erichurst/7882666\n",
    "converters={'ZIP': lambda x: str(x)}\n",
    "ztc = pd.read_csv(data_path + 'zip_to_coord.txt',converters=converters)"
   ]
  },
  {
   "cell_type": "code",
   "execution_count": 9,
   "metadata": {
    "hidden": true
   },
   "outputs": [],
   "source": [
    "activities['filename_fix'] = activities['filename'].apply(lambda x: parse_filename(x))\n",
    "activities['latlng'] = activities['filename_fix'].apply(lambda x: gpx_attributes(x))\n",
    "activities['zip'] = activities['latlng'].apply(lambda x: lat_lng_to_zip(x,ztc))"
   ]
  },
  {
   "cell_type": "code",
   "execution_count": 10,
   "metadata": {
    "hidden": true
   },
   "outputs": [
    {
     "data": {
      "text/html": [
       "<div>\n",
       "<style scoped>\n",
       "    .dataframe tbody tr th:only-of-type {\n",
       "        vertical-align: middle;\n",
       "    }\n",
       "\n",
       "    .dataframe tbody tr th {\n",
       "        vertical-align: top;\n",
       "    }\n",
       "\n",
       "    .dataframe thead th {\n",
       "        text-align: right;\n",
       "    }\n",
       "</style>\n",
       "<table border=\"1\" class=\"dataframe\">\n",
       "  <thead>\n",
       "    <tr style=\"text-align: right;\">\n",
       "      <th></th>\n",
       "      <th>id</th>\n",
       "      <th>date</th>\n",
       "      <th>name</th>\n",
       "      <th>type</th>\n",
       "      <th>description</th>\n",
       "      <th>elapsed_time</th>\n",
       "      <th>distance</th>\n",
       "      <th>commute</th>\n",
       "      <th>gear</th>\n",
       "      <th>filename</th>\n",
       "      <th>filename_fix</th>\n",
       "      <th>latlng</th>\n",
       "      <th>zip</th>\n",
       "    </tr>\n",
       "  </thead>\n",
       "  <tbody>\n",
       "    <tr>\n",
       "      <th>0</th>\n",
       "      <td>11823912</td>\n",
       "      <td>2012-06-26 22:17:36</td>\n",
       "      <td>Jun 26, 2012</td>\n",
       "      <td>Ride</td>\n",
       "      <td>NaN</td>\n",
       "      <td>5728</td>\n",
       "      <td>32518.2</td>\n",
       "      <td>False</td>\n",
       "      <td>NaN</td>\n",
       "      <td>activities/11823912.gpx</td>\n",
       "      <td>Data/activities/GPX/11823912.gpx</td>\n",
       "      <td>(40.475049, -79.918379)</td>\n",
       "      <td>15206</td>\n",
       "    </tr>\n",
       "    <tr>\n",
       "      <th>1</th>\n",
       "      <td>12093460</td>\n",
       "      <td>2012-06-30 14:05:19</td>\n",
       "      <td>Jun 30, 2012</td>\n",
       "      <td>Ride</td>\n",
       "      <td>NaN</td>\n",
       "      <td>6846</td>\n",
       "      <td>39051.2</td>\n",
       "      <td>False</td>\n",
       "      <td>NaN</td>\n",
       "      <td>activities/12093460.gpx</td>\n",
       "      <td>Data/activities/GPX/12093460.gpx</td>\n",
       "      <td>(40.475199, -79.918298)</td>\n",
       "      <td>15206</td>\n",
       "    </tr>\n",
       "    <tr>\n",
       "      <th>2</th>\n",
       "      <td>12413019</td>\n",
       "      <td>2012-07-03 22:30:35</td>\n",
       "      <td>Jul 3, 2012</td>\n",
       "      <td>Ride</td>\n",
       "      <td>NaN</td>\n",
       "      <td>5369</td>\n",
       "      <td>29010.3</td>\n",
       "      <td>False</td>\n",
       "      <td>Orbea</td>\n",
       "      <td>activities/12413019.gpx</td>\n",
       "      <td>Data/activities/GPX/12413019.gpx</td>\n",
       "      <td>(40.486821, -79.894246)</td>\n",
       "      <td>15215</td>\n",
       "    </tr>\n",
       "    <tr>\n",
       "      <th>3</th>\n",
       "      <td>13691080</td>\n",
       "      <td>2012-07-17 22:22:28</td>\n",
       "      <td>Riverview Park</td>\n",
       "      <td>Ride</td>\n",
       "      <td>NaN</td>\n",
       "      <td>6273</td>\n",
       "      <td>37623.0</td>\n",
       "      <td>False</td>\n",
       "      <td>Orbea</td>\n",
       "      <td>activities/13691080.gpx</td>\n",
       "      <td>Data/activities/GPX/13691080.gpx</td>\n",
       "      <td>(40.466192, -79.922708)</td>\n",
       "      <td>15206</td>\n",
       "    </tr>\n",
       "    <tr>\n",
       "      <th>4</th>\n",
       "      <td>14016843</td>\n",
       "      <td>2012-07-21 12:37:10</td>\n",
       "      <td>Forward Avenue</td>\n",
       "      <td>Ride</td>\n",
       "      <td>NaN</td>\n",
       "      <td>7436</td>\n",
       "      <td>36497.3</td>\n",
       "      <td>False</td>\n",
       "      <td>Orbea</td>\n",
       "      <td>activities/14016843.gpx</td>\n",
       "      <td>Data/activities/GPX/14016843.gpx</td>\n",
       "      <td>(40.452901, -79.932796)</td>\n",
       "      <td>15232</td>\n",
       "    </tr>\n",
       "  </tbody>\n",
       "</table>\n",
       "</div>"
      ],
      "text/plain": [
       "         id                date            name  type description  \\\n",
       "0  11823912 2012-06-26 22:17:36    Jun 26, 2012  Ride         NaN   \n",
       "1  12093460 2012-06-30 14:05:19    Jun 30, 2012  Ride         NaN   \n",
       "2  12413019 2012-07-03 22:30:35     Jul 3, 2012  Ride         NaN   \n",
       "3  13691080 2012-07-17 22:22:28  Riverview Park  Ride         NaN   \n",
       "4  14016843 2012-07-21 12:37:10  Forward Avenue  Ride         NaN   \n",
       "\n",
       "   elapsed_time  distance  commute   gear                 filename  \\\n",
       "0          5728   32518.2    False    NaN  activities/11823912.gpx   \n",
       "1          6846   39051.2    False    NaN  activities/12093460.gpx   \n",
       "2          5369   29010.3    False  Orbea  activities/12413019.gpx   \n",
       "3          6273   37623.0    False  Orbea  activities/13691080.gpx   \n",
       "4          7436   36497.3    False  Orbea  activities/14016843.gpx   \n",
       "\n",
       "                       filename_fix                   latlng    zip  \n",
       "0  Data/activities/GPX/11823912.gpx  (40.475049, -79.918379)  15206  \n",
       "1  Data/activities/GPX/12093460.gpx  (40.475199, -79.918298)  15206  \n",
       "2  Data/activities/GPX/12413019.gpx  (40.486821, -79.894246)  15215  \n",
       "3  Data/activities/GPX/13691080.gpx  (40.466192, -79.922708)  15206  \n",
       "4  Data/activities/GPX/14016843.gpx  (40.452901, -79.932796)  15232  "
      ]
     },
     "execution_count": 10,
     "metadata": {},
     "output_type": "execute_result"
    }
   ],
   "source": [
    "activities.head()"
   ]
  },
  {
   "cell_type": "markdown",
   "metadata": {
    "heading_collapsed": true
   },
   "source": [
    "# Nearest Stations"
   ]
  },
  {
   "cell_type": "markdown",
   "metadata": {
    "hidden": true
   },
   "source": [
    "The NOAA API needs to have a station requested in order to receive weather data back. So, for each activity, we need to figure out which station was nearest to that activity.\n",
    "\n",
    "I found a list of all ghcnd network stations from ftp://ftp.ncdc.noaa.gov/pub/data/ghcn/daily/readme.txt. As the \"g\" stands for \"global\", I need to filter down to only look at the US stations. The station file is messy, so I process manually to extract the relevant rows."
   ]
  },
  {
   "cell_type": "code",
   "execution_count": 16,
   "metadata": {
    "hidden": true
   },
   "outputs": [],
   "source": [
    "ghcnd_names = ['ID','LATITUDE','LONGITUDE','ELEVATION','STATE','NAME']\n",
    "stations_g = pd.DataFrame(columns=ghcnd_names)\n",
    "all_rows = []\n",
    "with open(data_path + 'ghcnd-stations.txt','r') as file:\n",
    "    ind = 0\n",
    "    for row in file:\n",
    "        if row[0:2]!='US':\n",
    "            continue\n",
    "        state = row[38:40].strip()\n",
    "        name = row[41:71].strip()\n",
    "        t = ' '.join(row.split())\n",
    "        l = t.split(' ',maxsplit=5)\n",
    "        all_rows.append(l)\n",
    "        #stations_g.loc[ind] = l\n",
    "        #ind += 1\n",
    "stations_g = pd.DataFrame(all_rows,columns=ghcnd_names)"
   ]
  },
  {
   "cell_type": "code",
   "execution_count": 17,
   "metadata": {
    "hidden": true
   },
   "outputs": [
    {
     "data": {
      "text/html": [
       "<div>\n",
       "<style scoped>\n",
       "    .dataframe tbody tr th:only-of-type {\n",
       "        vertical-align: middle;\n",
       "    }\n",
       "\n",
       "    .dataframe tbody tr th {\n",
       "        vertical-align: top;\n",
       "    }\n",
       "\n",
       "    .dataframe thead th {\n",
       "        text-align: right;\n",
       "    }\n",
       "</style>\n",
       "<table border=\"1\" class=\"dataframe\">\n",
       "  <thead>\n",
       "    <tr style=\"text-align: right;\">\n",
       "      <th></th>\n",
       "      <th>ID</th>\n",
       "      <th>LATITUDE</th>\n",
       "      <th>LONGITUDE</th>\n",
       "      <th>ELEVATION</th>\n",
       "      <th>STATE</th>\n",
       "      <th>NAME</th>\n",
       "    </tr>\n",
       "  </thead>\n",
       "  <tbody>\n",
       "    <tr>\n",
       "      <th>0</th>\n",
       "      <td>US009052008</td>\n",
       "      <td>43.7333</td>\n",
       "      <td>-96.6333</td>\n",
       "      <td>482.0</td>\n",
       "      <td>SD</td>\n",
       "      <td>SIOUX FALLS (ENVIRON. CANADA)</td>\n",
       "    </tr>\n",
       "    <tr>\n",
       "      <th>1</th>\n",
       "      <td>US10RMHS145</td>\n",
       "      <td>40.5268</td>\n",
       "      <td>-105.1113</td>\n",
       "      <td>1569.1</td>\n",
       "      <td>CO</td>\n",
       "      <td>RMHS 1.6 SSW</td>\n",
       "    </tr>\n",
       "    <tr>\n",
       "      <th>2</th>\n",
       "      <td>US10adam001</td>\n",
       "      <td>40.5680</td>\n",
       "      <td>-98.5069</td>\n",
       "      <td>598.0</td>\n",
       "      <td>NE</td>\n",
       "      <td>JUNIATA 1.5 S</td>\n",
       "    </tr>\n",
       "    <tr>\n",
       "      <th>3</th>\n",
       "      <td>US10adam002</td>\n",
       "      <td>40.5093</td>\n",
       "      <td>-98.5493</td>\n",
       "      <td>601.1</td>\n",
       "      <td>NE</td>\n",
       "      <td>JUNIATA 6.0 SSW</td>\n",
       "    </tr>\n",
       "    <tr>\n",
       "      <th>4</th>\n",
       "      <td>US10adam003</td>\n",
       "      <td>40.4663</td>\n",
       "      <td>-98.6537</td>\n",
       "      <td>615.1</td>\n",
       "      <td>NE</td>\n",
       "      <td>HOLSTEIN 0.1 NW</td>\n",
       "    </tr>\n",
       "  </tbody>\n",
       "</table>\n",
       "</div>"
      ],
      "text/plain": [
       "            ID LATITUDE  LONGITUDE ELEVATION STATE  \\\n",
       "0  US009052008  43.7333   -96.6333     482.0    SD   \n",
       "1  US10RMHS145  40.5268  -105.1113    1569.1    CO   \n",
       "2  US10adam001  40.5680   -98.5069     598.0    NE   \n",
       "3  US10adam002  40.5093   -98.5493     601.1    NE   \n",
       "4  US10adam003  40.4663   -98.6537     615.1    NE   \n",
       "\n",
       "                            NAME  \n",
       "0  SIOUX FALLS (ENVIRON. CANADA)  \n",
       "1                   RMHS 1.6 SSW  \n",
       "2                  JUNIATA 1.5 S  \n",
       "3                JUNIATA 6.0 SSW  \n",
       "4                HOLSTEIN 0.1 NW  "
      ]
     },
     "execution_count": 17,
     "metadata": {},
     "output_type": "execute_result"
    }
   ],
   "source": [
    "stations_g.head()"
   ]
  },
  {
   "cell_type": "code",
   "execution_count": 18,
   "metadata": {
    "hidden": true
   },
   "outputs": [],
   "source": [
    "numeric = ['LATITUDE','LONGITUDE','ELEVATION']\n",
    "for c in numeric:\n",
    "    stations_g[c] = pd.to_numeric(stations_g[c])"
   ]
  },
  {
   "cell_type": "markdown",
   "metadata": {
    "hidden": true
   },
   "source": [
    "To get better data density on weather data I will also pull in the list of ISD stations (another weather network)."
   ]
  },
  {
   "cell_type": "code",
   "execution_count": 19,
   "metadata": {
    "hidden": true
   },
   "outputs": [],
   "source": [
    "stations_i = pd.read_csv(data_path + 'isd-history.csv',quotechar='\"')\n",
    "stations_i = stations_i[~stations_i['LAT'].isnull()]"
   ]
  },
  {
   "cell_type": "markdown",
   "metadata": {
    "hidden": true
   },
   "source": [
    "Then I find the nearest station by again looking at the nearest station to the first point of the activity."
   ]
  },
  {
   "cell_type": "code",
   "execution_count": 20,
   "metadata": {
    "hidden": true
   },
   "outputs": [],
   "source": [
    "def find_nearest_station(latlng,stations):\n",
    "    \"\"\"Identifies the nearest GHCND station to a given latitude and longitude\"\"\"\n",
    "    minrow = (np.sqrt((stations['LATITUDE'] - latlng[0])**2 + (stations['LONGITUDE'] - latlng[1])**2)).values.argmin()\n",
    "    return stations.iloc[minrow]['ID']"
   ]
  },
  {
   "cell_type": "code",
   "execution_count": 21,
   "metadata": {
    "hidden": true
   },
   "outputs": [],
   "source": [
    "activities['stationid'] = activities['latlng'].apply(lambda x: find_nearest_station(x,stations_g))"
   ]
  },
  {
   "cell_type": "markdown",
   "metadata": {
    "hidden": true
   },
   "source": [
    "The next two functions, <font color=blue>get_noaa_data_station</font> and <font color=blue>construct_params_station</font> will create the correct URL to pass as a get request for NOAA to return data."
   ]
  },
  {
   "cell_type": "code",
   "execution_count": 23,
   "metadata": {
    "hidden": true
   },
   "outputs": [],
   "source": [
    "def get_noaa_data_station(url,station,header):\n",
    "    \"\"\"Creates and returns a GET request for a given station using the NOAA header\"\"\"\n",
    "    url = url + station\n",
    "    r = requests.get(url,headers=header)\n",
    "    return r\n",
    "    \n",
    "def construct_params_station(token,station_id):\n",
    "    \"\"\"Creates the GHCND header and calls get_noaa_data_station using the NOAA API\"\"\"\n",
    "    creds = dict(token=token)\n",
    "    station = 'GHCND:%s'%station_id\n",
    "    u = 'https://www.ncdc.noaa.gov/cdo-web/api/v2/stations/'\n",
    "    r = get_noaa_data_station(u,station,creds)\n",
    "    return r"
   ]
  },
  {
   "cell_type": "markdown",
   "metadata": {
    "hidden": true
   },
   "source": [
    "The next cell will try to request data from the station. The data will look something like:\n",
    "<font color=red>{\"elevation\":353,\"mindate\":\"1947-11-01\",\"maxdate\":\"1952-09-14\",\"latitude\":40.48333,\"name\":\"GREATER PITTSBURGH AFB, PA US\",\"datacoverage\":1,\"id\":\"GHCND:USW00014809\",\"elevationUnit\":\"METERS\",\"longitude\":-80.21667}</font><br>\n",
    "\n",
    "The mindate and maxdate will allow us to check to see if our station will give meaningful data for our activities - if the station wasn't active for some of the activities in our time range then we shouldn't try to use it."
   ]
  },
  {
   "cell_type": "code",
   "execution_count": 174,
   "metadata": {
    "hidden": true
   },
   "outputs": [],
   "source": [
    "#some stations are no longer active - need to delete these\n",
    "token = noaa_api_token.token\n",
    "for s in activities['stationid'].unique():\n",
    "    r = construct_params_station(token,s)\n",
    "    rj = r.json()\n",
    "    mnd = datetime.datetime.strptime(rj['mindate'], '%Y-%m-%d')\n",
    "    mxd = datetime.datetime.strptime(rj['maxdate'], '%Y-%m-%d')\n",
    "    #how many are within the date range? if 0, then remove from dataset\n",
    "    ct = activities[(activities['stationid']==s)&(activities['date'] > mnd)&(activities['date'] < mxd)].count()['id']\n",
    "    if ct == 0:\n",
    "        print(\"REMOVED\")\n",
    "        stations_g = stations_g[stations_g['ID']!=s]\n",
    "        activities[(activities['stationid']==s)]['stationid'] = None\n",
    "    time.sleep(0.200)\n",
    "        #remove station"
   ]
  },
  {
   "cell_type": "code",
   "execution_count": 173,
   "metadata": {
    "hidden": true
   },
   "outputs": [],
   "source": [
    "activities['stationid'] = activities['latlng'].apply(lambda x: find_nearest_station(x,stations_g))"
   ]
  },
  {
   "cell_type": "markdown",
   "metadata": {
    "heading_collapsed": true
   },
   "source": [
    "# Weather"
   ]
  },
  {
   "cell_type": "markdown",
   "metadata": {
    "hidden": true
   },
   "source": [
    "Now we will construct the get request for a given station and date, and associate the data with the station for each activity."
   ]
  },
  {
   "cell_type": "code",
   "execution_count": 24,
   "metadata": {
    "hidden": true
   },
   "outputs": [],
   "source": [
    "import datetime\n",
    "import requests\n",
    "import time\n",
    "\n",
    "ex_url = 'https://www.ncdc.noaa.gov/cdo-web/api/v2/data?datasetid=GHCND&locationid=ZIP:28801&startdate=2010-05-01&enddate=2010-05-01'\n",
    "\n",
    "def get_noaa_data(url,params, header):\n",
    "    \"\"\"Submits the GET request using the url, params, and header variables passed in as parameters\"\"\"\n",
    "    r = requests.get(url, params=params, headers=header)\n",
    "    return r\n",
    "    \n",
    "def construct_params(token,station_id,start,end):\n",
    "    \"\"\"Creates the parameters to pass to the get request, then submits the request and returns the result\"\"\"\n",
    "    creds = dict(token=token)\n",
    "    params={}\n",
    "    params['datasetid'] = 'GHCND'\n",
    "    params['stationid'] = 'GHCND:%s'%station_id\n",
    "    params['startdate'] = start\n",
    "    params['enddate'] = end\n",
    "    u = 'https://www.ncdc.noaa.gov/cdo-web/api/v2/data'\n",
    "    r = get_noaa_data(u,params,creds)\n",
    "    return r\n",
    "\n",
    "def c_to_f(c):\n",
    "    \"\"\"Converts Celsius to Fahrenheit\"\"\"\n",
    "    return c/10.0 * 9.0/5 + 32\n",
    "\n",
    "def get_ranges(activity,token):\n",
    "    \"\"\"Requests the weather for an activity on a given day\n",
    "    \n",
    "    Tries to request weather for each activity.\n",
    "    If the API fails to return a result, returns None instead\n",
    "    \"\"\"\n",
    "    loc = activity.stationid\n",
    "    #assume start and end on same day - I'm not doing any multiday touring\n",
    "    start = activity.date.strftime('%Y-%m-%d')\n",
    "    end = start\n",
    "    try:\n",
    "        weather = construct_params(token,loc,start,end)\n",
    "        tmax = None\n",
    "        tmin = None\n",
    "        precip = None\n",
    "        for res in weather.json()['results']:\n",
    "            if res['datatype']=='TMAX':\n",
    "                tmax = c_to_f(res['value'])\n",
    "            elif res['datatype'] == 'TMIN':\n",
    "                tmin = c_to_f(res['value'])\n",
    "            elif res['datatype']=='PRCP':\n",
    "                precip = res['value']\n",
    "        retdict = {'TMAX': tmax,'TMIN':tmin,'PRECIP':precip}\n",
    "    except:\n",
    "        retdict = {'TMAX': None,'TMIN':None,'PRECIP':None}\n",
    "    return retdict"
   ]
  },
  {
   "cell_type": "code",
   "execution_count": 216,
   "metadata": {
    "hidden": true
   },
   "outputs": [],
   "source": [
    "for index,row in activities.iterrows():\n",
    "    #already have identified the temperature for this particular row\n",
    "    if not np.isnan(row['TMAX']):\n",
    "        continue\n",
    "    r = get_ranges(row,token)\n",
    "    activities.loc[index,'TMAX'] = r['TMAX']\n",
    "    activities.loc[index,'TMIN'] = r['TMIN']\n",
    "    activities.loc[index,'PRECIP'] = r['PRECIP']\n",
    "    time.sleep(0.200)"
   ]
  },
  {
   "cell_type": "markdown",
   "metadata": {
    "hidden": true
   },
   "source": [
    "Below will save the results that we've compiled so far so that next time I don't need to do all of the Strava and weather API calls"
   ]
  },
  {
   "cell_type": "code",
   "execution_count": 189,
   "metadata": {
    "hidden": true
   },
   "outputs": [],
   "source": [
    "activities.to_csv(data_path + 'activities_out.csv')"
   ]
  },
  {
   "cell_type": "code",
   "execution_count": 35,
   "metadata": {
    "hidden": true
   },
   "outputs": [],
   "source": [
    "temp = activities[activities.has_weather]\n",
    "temp = temp[temp['date'].apply(lambda x: x.year) >= 2016]"
   ]
  },
  {
   "cell_type": "code",
   "execution_count": 51,
   "metadata": {
    "hidden": true
   },
   "outputs": [
    {
     "name": "stdout",
     "output_type": "stream",
     "text": [
      "Percent of activities with weather: 72.9%\n"
     ]
    }
   ],
   "source": [
    "print('Percent of activities with weather: %2.1f%%'%((temp.shape[0]/activities.shape[0])*100))"
   ]
  },
  {
   "cell_type": "code",
   "execution_count": 36,
   "metadata": {
    "hidden": true
   },
   "outputs": [],
   "source": [
    "temp.loc[:,'TAVG'] = (temp.loc[:,'TMAX'] + temp.loc[:,'TMIN'])/2\n",
    "temp.loc[:,'temp_bucket'] = np.floor(temp.loc[:,'TMAX']/10) * 10"
   ]
  },
  {
   "cell_type": "code",
   "execution_count": 37,
   "metadata": {
    "hidden": true
   },
   "outputs": [],
   "source": [
    "temp.loc[:,'dist_ft'] = temp.loc[:,'distance'] * 3.2808399\n",
    "temp.loc[:,'dist_mi'] = temp.loc[:,'dist_ft'] / 5280"
   ]
  },
  {
   "cell_type": "code",
   "execution_count": 38,
   "metadata": {
    "hidden": true
   },
   "outputs": [
    {
     "data": {
      "text/plain": [
       "temp_bucket\n",
       "10.0    102.648098\n",
       "20.0     86.596508\n",
       "30.0    311.060476\n",
       "40.0    409.918843\n",
       "50.0    341.087972\n",
       "60.0    353.178811\n",
       "70.0    406.677349\n",
       "80.0    531.324211\n",
       "90.0    124.382854\n",
       "Name: dist_mi, dtype: float64"
      ]
     },
     "execution_count": 38,
     "metadata": {},
     "output_type": "execute_result"
    }
   ],
   "source": [
    "temp.groupby('temp_bucket').sum()['dist_mi']"
   ]
  },
  {
   "cell_type": "markdown",
   "metadata": {
    "hidden": true
   },
   "source": [
    "As you can see below, I don't really like to ride outside when it gets cold out - I start to use my trainer instead. On the other hand I am willing to run outside even when it's below freezing."
   ]
  },
  {
   "cell_type": "code",
   "execution_count": 58,
   "metadata": {
    "hidden": true
   },
   "outputs": [
    {
     "data": {
      "image/png": "[encoded data removed]",
      "text/plain": [
       "<matplotlib.figure.Figure at 0x27b410f9160>"
      ]
     },
     "metadata": {},
     "output_type": "display_data"
    }
   ],
   "source": [
    "sns.boxplot(x=\"new_type\",y=\"TAVG\",hue=\"indoor\",data=temp)\n",
    "plt.show()"
   ]
  },
  {
   "cell_type": "markdown",
   "metadata": {
    "hidden": true
   },
   "source": [
    "Let's do a quick sense check - does the weather data look correct according to where I rode and the time of year in which I rode?"
   ]
  },
  {
   "cell_type": "code",
   "execution_count": 59,
   "metadata": {
    "hidden": true
   },
   "outputs": [],
   "source": [
    "from scipy.interpolate import UnivariateSpline\n",
    "import math\n",
    "import seaborn as sns\n",
    "import matplotlib.patches as mpatches\n",
    "from sklearn.preprocessing import minmax_scale"
   ]
  },
  {
   "cell_type": "code",
   "execution_count": 78,
   "metadata": {
    "hidden": true
   },
   "outputs": [],
   "source": [
    "x = temp.date.sort_values()\n",
    "y = temp.loc[x.index,'TMAX']\n",
    "ind = temp.loc[x.index,'indoor']\n",
    "act_type = temp.loc[x.index,'new_type']\n",
    "\n",
    "xd = np.linspace(0,1,len(x))\n",
    "xs = np.linspace(0,1,len(x)*3)\n",
    "\n",
    "x_labels = x.apply(lambda j: j.strftime('%Y-%m'))\n",
    "x_labels = np.stack([xd,x_labels])\n",
    "\n",
    "new_tick_pos = x_labels[0][range(0,len(x),math.floor(len(x)/10))]\n",
    "new_tick_labels = x_labels[1][range(0,len(x),math.floor(len(x)/10))]"
   ]
  },
  {
   "cell_type": "markdown",
   "metadata": {
    "hidden": true
   },
   "source": [
    "Let's size the bubbles so that each bubble is sized relative to its activity type"
   ]
  },
  {
   "cell_type": "code",
   "execution_count": 79,
   "metadata": {
    "hidden": true
   },
   "outputs": [],
   "source": [
    "temp_s = temp[['new_type','distance']]\n",
    "mx = temp_s.groupby('new_type').max()\n",
    "temp_s = temp_s.merge(mx,left_on='new_type',right_index=True)\n",
    "temp_s['s'] = temp_s['distance_x']/temp_s['distance_y']\n",
    "\n",
    "z = minmax_scale(temp_s.s)"
   ]
  },
  {
   "cell_type": "markdown",
   "metadata": {
    "hidden": true
   },
   "source": [
    "I'll also add a smoothing spline to show about what the temperature was during that part of the year."
   ]
  },
  {
   "cell_type": "code",
   "execution_count": 80,
   "metadata": {
    "hidden": true
   },
   "outputs": [
    {
     "data": {
      "image/png": "[encoded data removed]",
      "text/plain": [
       "<matplotlib.figure.Figure at 0x27b4151add8>"
      ]
     },
     "metadata": {},
     "output_type": "display_data"
    }
   ],
   "source": [
    "var_y = np.var(y)\n",
    "len_y = len(y)\n",
    "smoothing_factor = (var_y*len_y)*0.25\n",
    "\n",
    "s = UnivariateSpline(xd, y,s=smoothing_factor)\n",
    "ys = s(xs)\n",
    "\n",
    "fig,ax = plt.subplots(1,1)\n",
    "\n",
    "color_map = {True:'r',False:'b'}\n",
    "color_map_act = {'Run':'r','Ride':'b'}\n",
    "#colors = ind.apply(lambda x: color_map[x]).values\n",
    "colors = act_type.apply(lambda x: color_map_act[x]).values\n",
    "handles = []\n",
    "\n",
    "\n",
    "for k,v in color_map_act.items():\n",
    "    handles.append(mpatches.Patch(color=v,label=k))\n",
    "    \n",
    "#for k,v in color_map.items():\n",
    "#    if k:\n",
    "#        label = 'Indoor'\n",
    "#    else:\n",
    "#        label = 'Outdoor'\n",
    "#    handles.append(mpatches.Patch(color=v,label=label))\n",
    "    \n",
    "ax.scatter(xd,y,c=colors,s=z*100)\n",
    "ax.scatter(xs,ys,c='k',marker='.',s=4)\n",
    "plt.xticks(new_tick_pos,new_tick_labels,rotation=45)\n",
    "plt.legend(handles=handles)\n",
    "\n",
    "plt.show()"
   ]
  },
  {
   "cell_type": "markdown",
   "metadata": {
    "heading_collapsed": true
   },
   "source": [
    "# Strava API"
   ]
  },
  {
   "cell_type": "markdown",
   "metadata": {
    "hidden": true
   },
   "source": [
    "The data Strava gives to you as part of its export isn't perfect. It's missing quite a few of the fields that you might find useful as a Strava user, such as achievements count, kudos count, etc. We will use the Strava API in order to bring these fields back into the analysis."
   ]
  },
  {
   "cell_type": "code",
   "execution_count": null,
   "metadata": {
    "hidden": true
   },
   "outputs": [],
   "source": [
    "#https://developers.strava.com/docs/reference/#api-Activities-getActivityById"
   ]
  },
  {
   "cell_type": "code",
   "execution_count": 158,
   "metadata": {
    "hidden": true
   },
   "outputs": [],
   "source": [
    "from stravalib.client import Client\n",
    "from stravalib import unithelper"
   ]
  },
  {
   "cell_type": "code",
   "execution_count": 159,
   "metadata": {
    "hidden": true
   },
   "outputs": [],
   "source": [
    "client = Client()\n",
    "authorize_url = client.authorization_url(client_id=26961, redirect_uri='127.0.0.1')\n",
    "client.access_token = strava"
   ]
  },
  {
   "cell_type": "code",
   "execution_count": 26,
   "metadata": {
    "hidden": true
   },
   "outputs": [],
   "source": [
    "#Create new columns for all of our interesting fields above\n",
    "for i in strava_fields:\n",
    "    activities[i] = None"
   ]
  },
  {
   "cell_type": "markdown",
   "metadata": {
    "hidden": true
   },
   "source": [
    "If we don't have a GPX file (it was a trainer ride), then no point in trying to get data back from Strava - most of the fields are empty anyways as I typically set my trainer activities to private."
   ]
  },
  {
   "cell_type": "code",
   "execution_count": null,
   "metadata": {
    "hidden": true
   },
   "outputs": [],
   "source": [
    "for ind,row in activities.iterrows():\n",
    "    if not row.has_file or row.athlete_count is not None:\n",
    "        continue\n",
    "    try:\n",
    "        activity = client.get_activity(row.id)\n",
    "        if activity.resource_state != 3:\n",
    "            continue\n",
    "        for i in strava_fields:\n",
    "            attr = getattr(activity,i)\n",
    "            if i == 'total_elevation_gain':\n",
    "                a = unithelper.feet(attr)\n",
    "                #print(unithelper.feet(attr))\n",
    "            elif i=='average_speed' or i=='max_speed':\n",
    "                a = unithelper.mph(attr)\n",
    "                #print(unithelper.mph(attr))\n",
    "            else:\n",
    "                a = attr\n",
    "            activities.loc[ind,i] = a\n",
    "    except:\n",
    "        print('Failed')\n"
   ]
  },
  {
   "cell_type": "markdown",
   "metadata": {
    "hidden": true
   },
   "source": [
    "For my trainer rides I still have some rows where I don't have a description available, but this isn't really a necessity for analysis."
   ]
  },
  {
   "cell_type": "code",
   "execution_count": 59,
   "metadata": {
    "hidden": true
   },
   "outputs": [
    {
     "name": "stdout",
     "output_type": "stream",
     "text": [
      "description    True\n",
      "dtype: bool\n"
     ]
    }
   ],
   "source": [
    "indoor = activities[activities['indoor']==True]\n",
    "missing = indoor.isnull().any()\n",
    "print(missing[missing])\n",
    "cols = list(missing[missing].index)"
   ]
  },
  {
   "cell_type": "code",
   "execution_count": null,
   "metadata": {
    "hidden": true
   },
   "outputs": [],
   "source": []
  },
  {
   "cell_type": "code",
   "execution_count": 195,
   "metadata": {
    "hidden": true,
    "scrolled": true
   },
   "outputs": [
    {
     "name": "stderr",
     "output_type": "stream",
     "text": [
      "No such attribute available_zones on entity <Activity id=903844262 name='Bike trainer' resource_state=3>\n",
      "No such attribute available_zones on entity <Activity id=920858052 name='Trainer Ride' resource_state=3>\n",
      "No such attribute available_zones on entity <Activity id=971985144 name='Morning Ride' resource_state=3>\n",
      "No such attribute available_zones on entity <Activity id=1186521046 name='Trainer Warmup/Cooldown' resource_state=3>\n",
      "No such attribute available_zones on entity <Activity id=1214023374 name='Spinning' resource_state=3>\n",
      "No such attribute available_zones on entity <Activity id=1264515201 name='Work Short Ride' resource_state=3>\n",
      "No such attribute available_zones on entity <Activity id=1264516318 name='Lunch Ride' resource_state=3>\n",
      "No such attribute available_zones on entity <Activity id=1264517543 name='Trainer Evening Ride' resource_state=3>\n",
      "No such attribute available_zones on entity <Activity id=1272903132 name='Trainer Ride' resource_state=3>\n",
      "No such attribute available_zones on entity <Activity id=1272903778 name='Lunch Trainer Session' resource_state=3>\n",
      "No such attribute available_zones on entity <Activity id=1272904205 name='Sunday Trainer' resource_state=3>\n",
      "No such attribute available_zones on entity <Activity id=1277064424 name='Evening Trainer Ride' resource_state=3>\n",
      "No such attribute available_zones on entity <Activity id=1277116301 name='Evening Trainer' resource_state=3>\n",
      "No such attribute available_zones on entity <Activity id=1280769489 name='Trainer' resource_state=3>\n",
      "No such attribute available_zones on entity <Activity id=1280770207 name='Rainy Day Trainer Ride' resource_state=3>\n",
      "No such attribute available_zones on entity <Activity id=1283876444 name='Sunday Trainer' resource_state=3>\n",
      "No such attribute available_zones on entity <Activity id=1288767108 name='Thanksgiving Trainer Ride' resource_state=3>\n",
      "No such attribute available_zones on entity <Activity id=1288768418 name='Post-Thanksgiving Indoor Ride' resource_state=3>\n",
      "No such attribute available_zones on entity <Activity id=1288770347 name='Lunch Ride' resource_state=3>\n",
      "No such attribute available_zones on entity <Activity id=1292647394 name='Sunday Morning Trainer Ride' resource_state=3>\n",
      "No such attribute available_zones on entity <Activity id=1297369982 name='Rainy Evening Trainer' resource_state=3>\n",
      "No such attribute available_zones on entity <Activity id=1297373482 name='Evening Trainer' resource_state=3>\n",
      "No such attribute available_zones on entity <Activity id=1298310480 name='Afternoon Ride' resource_state=3>\n",
      "No such attribute available_zones on entity <Activity id=1299262077 name='Morning Trainer' resource_state=3>\n",
      "No such attribute available_zones on entity <Activity id=1303789085 name='Trainer' resource_state=3>\n",
      "No such attribute available_zones on entity <Activity id=1303789389 name='Trainer' resource_state=3>\n",
      "No such attribute available_zones on entity <Activity id=1307393267 name='Post-Work Trainer' resource_state=3>\n",
      "No such attribute available_zones on entity <Activity id=1307393436 name='Trainer' resource_state=3>\n",
      "No such attribute available_zones on entity <Activity id=1307935588 name='Trainer' resource_state=3>\n",
      "No such attribute available_zones on entity <Activity id=1311532282 name='Trainer' resource_state=3>\n",
      "No such attribute available_zones on entity <Activity id=1313299130 name='Spin Class' resource_state=3>\n",
      "No such attribute available_zones on entity <Activity id=1315309284 name='Trainer' resource_state=3>\n",
      "No such attribute available_zones on entity <Activity id=1316214648 name='Trainer' resource_state=3>\n",
      "No such attribute available_zones on entity <Activity id=1316304947 name='Saturday Trainer Ride' resource_state=3>\n",
      "No such attribute available_zones on entity <Activity id=1319022182 name='1,000 Miles Riding in 2017' resource_state=3>\n",
      "No such attribute available_zones on entity <Activity id=1323110284 name='Trainer' resource_state=3>\n",
      "No such attribute available_zones on entity <Activity id=1329765565 name='Trainer' resource_state=3>\n",
      "No such attribute available_zones on entity <Activity id=1331076164 name='Trainer' resource_state=3>\n",
      "No such attribute available_zones on entity <Activity id=1334821199 name='Trainer' resource_state=3>\n",
      "No such attribute available_zones on entity <Activity id=1334822095 name='My last trainer ride of 2017' resource_state=3>\n",
      "No such attribute available_zones on entity <Activity id=1338205105 name='Trainer' resource_state=3>\n",
      "No such attribute available_zones on entity <Activity id=1341167517 name='Trainer' resource_state=3>\n",
      "No such attribute available_zones on entity <Activity id=1341234010 name='Trainer' resource_state=3>\n",
      "No such attribute available_zones on entity <Activity id=1343940270 name='Trainer' resource_state=3>\n",
      "No such attribute available_zones on entity <Activity id=1348777047 name='Trainer' resource_state=3>\n",
      "No such attribute available_zones on entity <Activity id=1348777609 name='Spin Class' resource_state=3>\n",
      "No such attribute available_zones on entity <Activity id=1350790819 name='Trainer' resource_state=3>\n",
      "No such attribute available_zones on entity <Activity id=1364843006 name='Trainer' resource_state=3>\n",
      "No such attribute available_zones on entity <Activity id=1364843720 name='Spin Class' resource_state=3>\n",
      "No such attribute available_zones on entity <Activity id=1364844197 name='Trainer' resource_state=3>\n",
      "No such attribute available_zones on entity <Activity id=1364847651 name='Trainer' resource_state=3>\n",
      "No such attribute available_zones on entity <Activity id=1366905985 name='GCN 30 Minute Ride' resource_state=3>\n",
      "No such attribute available_zones on entity <Activity id=1371639685 name='Spin Class' resource_state=3>\n",
      "No such attribute available_zones on entity <Activity id=1374489043 name='GCN 30 Minute Intervals' resource_state=3>\n",
      "No such attribute available_zones on entity <Activity id=1378544240 name='Morning Trainer' resource_state=3>\n",
      "No such attribute available_zones on entity <Activity id=1380585502 name='Trainer' resource_state=3>\n",
      "No such attribute available_zones on entity <Activity id=1383363950 name='Spin Class' resource_state=3>\n",
      "No such attribute available_zones on entity <Activity id=1387101429 name='Trainer' resource_state=3>\n",
      "No such attribute available_zones on entity <Activity id=1387101828 name='GCN 30 Minute + Extra' resource_state=3>\n",
      "No such attribute available_zones on entity <Activity id=1392272527 name='Saturday Trainer' resource_state=3>\n",
      "No such attribute available_zones on entity <Activity id=1392273354 name='Trainer' resource_state=3>\n",
      "No such attribute available_zones on entity <Activity id=1395245455 name='Spin Class' resource_state=3>\n",
      "No such attribute available_zones on entity <Activity id=1397521793 name='Trainer' resource_state=3>\n",
      "No such attribute available_zones on entity <Activity id=1401007761 name='Trainer' resource_state=3>\n",
      "No such attribute available_zones on entity <Activity id=1406205057 name='Spin Class' resource_state=3>\n",
      "No such attribute available_zones on entity <Activity id=1406207761 name='Trainer' resource_state=3>\n",
      "No such attribute available_zones on entity <Activity id=1414997258 name='Lunch Trainer' resource_state=3>\n",
      "No such attribute available_zones on entity <Activity id=1414997544 name='Saturday Trainer' resource_state=3>\n",
      "No such attribute available_zones on entity <Activity id=1414997671 name='Evening Trainer' resource_state=3>\n",
      "No such attribute available_zones on entity <Activity id=1421919703 name='Back on the Trainer' resource_state=3>\n",
      "No such attribute available_zones on entity <Activity id=1426264798 name='Trainer' resource_state=3>\n",
      "No such attribute available_zones on entity <Activity id=1426265556 name='Trainer' resource_state=3>\n",
      "No such attribute available_zones on entity <Activity id=1429263004 name='Evening Trainer' resource_state=3>\n",
      "No such attribute available_zones on entity <Activity id=1432933755 name='Lunch Ride' resource_state=3>\n",
      "No such attribute available_zones on entity <Activity id=1435752254 name='Early Trainer' resource_state=3>\n",
      "No such attribute available_zones on entity <Activity id=1440997600 name='Trainer' resource_state=3>\n",
      "No such attribute available_zones on entity <Activity id=1441000256 name='Spin Class' resource_state=3>\n"
     ]
    },
    {
     "name": "stderr",
     "output_type": "stream",
     "text": [
      "No such attribute available_zones on entity <Activity id=1445701366 name='Trainer' resource_state=3>\n",
      "No such attribute available_zones on entity <Activity id=1445704216 name='Trainer' resource_state=3>\n",
      "No such attribute available_zones on entity <Activity id=1449330115 name='Early Trainer' resource_state=3>\n",
      "No such attribute available_zones on entity <Activity id=1457414767 name='Trainer' resource_state=3>\n",
      "No such attribute available_zones on entity <Activity id=1457415275 name='Trainer' resource_state=3>\n",
      "No such attribute available_zones on entity <Activity id=1457416633 name='Morning Trainer' resource_state=3>\n",
      "No such attribute available_zones on entity <Activity id=1459396401 name='Trainer' resource_state=3>\n",
      "No such attribute available_zones on entity <Activity id=1469948748 name='Spin Class' resource_state=3>\n",
      "No such attribute available_zones on entity <Activity id=1469949181 name='Trainer' resource_state=3>\n",
      "No such attribute available_zones on entity <Activity id=1469949990 name='Trainer' resource_state=3>\n",
      "No such attribute available_zones on entity <Activity id=1469950459 name='Trainer' resource_state=3>\n",
      "No such attribute available_zones on entity <Activity id=1475520208 name='Trainer' resource_state=3>\n",
      "No such attribute available_zones on entity <Activity id=1475520719 name='Spin Class' resource_state=3>\n",
      "No such attribute available_zones on entity <Activity id=1480519454 name='Trainer' resource_state=3>\n",
      "No such attribute available_zones on entity <Activity id=1480519766 name='Trainer' resource_state=3>\n",
      "No such attribute available_zones on entity <Activity id=1494764901 name='Trainer' resource_state=3>\n",
      "No such attribute available_zones on entity <Activity id=1497661412 name='Trainer' resource_state=3>\n",
      "No such attribute available_zones on entity <Activity id=1519401232 name='Trainer' resource_state=3>\n",
      "No such attribute available_zones on entity <Activity id=1519401491 name='Another Trainer Ride' resource_state=3>\n",
      "No such attribute available_zones on entity <Activity id=1529792224 name='Back on the trainer' resource_state=3>\n",
      "No such attribute available_zones on entity <Activity id=1536937189 name='Trainer' resource_state=3>\n",
      "No such attribute available_zones on entity <Activity id=1554780672 name='Trainer' resource_state=3>\n",
      "No such attribute available_zones on entity <Activity id=1571649208 name='Easy Trainer' resource_state=3>\n",
      "No such attribute available_zones on entity <Activity id=1575888686 name='Trainer - Missed the sunlight' resource_state=3>\n",
      "No such attribute available_zones on entity <Activity id=1591436985 name='MS150 Charity Spin' resource_state=3>\n"
     ]
    },
    {
     "name": "stdout",
     "output_type": "stream",
     "text": [
      "No activity found\n",
      "No activity found\n"
     ]
    }
   ],
   "source": [
    "for ind,row in indoor.iterrows():\n",
    "    try:\n",
    "        activity = client.get_activity(row.id)\n",
    "    except:\n",
    "        print('No activity found')\n",
    "    for col in cols:\n",
    "        try:\n",
    "            attr = getattr(activity,col)\n",
    "            if col == 'total_elevation_gain':\n",
    "                a = unithelper.feet(attr).num\n",
    "                #print(unithelper.feet(attr))\n",
    "            elif col=='average_speed' or col=='max_speed':\n",
    "                a = unithelper.mph(attr).num\n",
    "            else:\n",
    "                a = attr\n",
    "            activities.loc[ind,col] = a\n",
    "        except:\n",
    "            pass\n",
    "    "
   ]
  },
  {
   "cell_type": "code",
   "execution_count": 60,
   "metadata": {
    "hidden": true
   },
   "outputs": [],
   "source": [
    "activities['moving_time_seconds'] = activities['moving_time'].apply(lambda x: x.seconds)"
   ]
  },
  {
   "cell_type": "code",
   "execution_count": 61,
   "metadata": {
    "hidden": true
   },
   "outputs": [],
   "source": [
    "activities['other_athlete_count'] = activities['athlete_count'] - 1"
   ]
  },
  {
   "cell_type": "markdown",
   "metadata": {
    "heading_collapsed": true
   },
   "source": [
    "# File Additions and Cleanup"
   ]
  },
  {
   "cell_type": "markdown",
   "metadata": {
    "hidden": true
   },
   "source": [
    "This section will pull in all of the fields that I saved the last time I ran the notebook. This will allow me to not need to rerun the API calls for Strava and NOAA the next time I run through the notebook."
   ]
  },
  {
   "cell_type": "code",
   "execution_count": 11,
   "metadata": {
    "hidden": true
   },
   "outputs": [],
   "source": [
    "#strava and weather added fields\n",
    "strava_fields = [\n",
    "    'athlete_count',\n",
    "    'achievement_count',\n",
    "    'comment_count',\n",
    "    'kudos_count',\n",
    "    'moving_time',\n",
    "    'elapsed_time',\n",
    "    'total_elevation_gain',\n",
    "    'average_speed',\n",
    "    'max_speed',\n",
    "    'calories',\n",
    "    'description'\n",
    "]\n",
    "weather_fields = ['TMAX','TMIN','PRECIP','stationid','filename_fix','latlng','zip']\n",
    "all_fields = strava_fields + weather_fields"
   ]
  },
  {
   "cell_type": "code",
   "execution_count": 12,
   "metadata": {
    "hidden": true
   },
   "outputs": [],
   "source": [
    "for i in all_fields:\n",
    "    if i not in activities.columns:\n",
    "        activities[i] = None"
   ]
  },
  {
   "cell_type": "code",
   "execution_count": 13,
   "metadata": {
    "hidden": true
   },
   "outputs": [],
   "source": [
    "def rep_none(field):\n",
    "    if pd.isnull(field) or field is not None:\n",
    "        pass\n",
    "    else:\n",
    "        field = None\n",
    "    return field\n",
    "\n",
    "activities.loc[:,all_fields] = activities.loc[:,all_fields].applymap(lambda x: rep_none(x))"
   ]
  },
  {
   "cell_type": "code",
   "execution_count": 14,
   "metadata": {
    "hidden": true
   },
   "outputs": [],
   "source": [
    "fix_activities = pd.read_csv(data_path + 'activities_out.csv')"
   ]
  },
  {
   "cell_type": "code",
   "execution_count": 15,
   "metadata": {
    "hidden": true
   },
   "outputs": [],
   "source": [
    "m = pd.merge(activities,fix_activities,left_index=True,right_on='Unnamed: 0',suffixes=['','_y'])\n",
    "for i in all_fields:\n",
    "    m[i].replace(np.NaN,m[i + '_y'],inplace=True)"
   ]
  },
  {
   "cell_type": "code",
   "execution_count": 16,
   "metadata": {
    "hidden": true
   },
   "outputs": [],
   "source": [
    "activities = m.loc[:,activities.columns]"
   ]
  },
  {
   "cell_type": "markdown",
   "metadata": {
    "hidden": true
   },
   "source": [
    "Let's put the times in the correct formats"
   ]
  },
  {
   "cell_type": "code",
   "execution_count": 17,
   "metadata": {
    "hidden": true
   },
   "outputs": [],
   "source": [
    "activities['moving_time'] = pd.to_timedelta(activities['moving_time'],unit='s')\n",
    "activities['elapsed_time'] = pd.to_timedelta(activities['elapsed_time'],unit='s')\n",
    "\n",
    "activities.loc[activities['moving_time'].isnull(),'moving_time'] = activities.loc[activities['moving_time'].isnull(),'elapsed_time']"
   ]
  },
  {
   "cell_type": "code",
   "execution_count": 18,
   "metadata": {
    "hidden": true
   },
   "outputs": [],
   "source": [
    "activities['year'] = activities['date'].apply(lambda x: x.year)\n",
    "activities['month'] = activities['date'].apply(lambda x: x.month)"
   ]
  },
  {
   "cell_type": "markdown",
   "metadata": {
    "hidden": true
   },
   "source": [
    "Strava has times wrong - 4 hours ahead during the summer and 5 ahead during the winter"
   ]
  },
  {
   "cell_type": "code",
   "execution_count": 19,
   "metadata": {
    "hidden": true
   },
   "outputs": [],
   "source": [
    "def fix_timezone(date):\n",
    "    hour_adjust = 0\n",
    "    if date.month < 3 or date.month > 11:\n",
    "        hour_adjust = -5\n",
    "    elif date.month > 3 or date.month < 11:\n",
    "        hour_adjust = -4\n",
    "    elif (date.month == 3 and date.day < 11) or (date.month == 11 and date.day > 4):\n",
    "        hour_adjust = -5\n",
    "    else:\n",
    "        hour_adjust = -4\n",
    "    ret_date = date + datetime.timedelta(hours=hour_adjust)\n",
    "    return ret_date\n",
    "\n",
    "activities['date_est'] = activities['date'].apply(lambda x: fix_timezone(x))"
   ]
  },
  {
   "cell_type": "markdown",
   "metadata": {
    "hidden": true
   },
   "source": [
    "Also, strava keeps distance in meters, so let's convert to 'Merican units"
   ]
  },
  {
   "cell_type": "code",
   "execution_count": 20,
   "metadata": {
    "hidden": true
   },
   "outputs": [],
   "source": [
    "activities['moving_time_seconds'] = activities['moving_time'].apply(lambda x: x.seconds)\n",
    "activities['distance_feet'] = activities['distance'] * 3.28084\n",
    "activities['distance_miles'] = activities['distance_feet'] / 5280.0"
   ]
  },
  {
   "cell_type": "markdown",
   "metadata": {
    "hidden": true
   },
   "source": [
    "Also, let's identify whether a ride was put in manually or if we have a GPX file to use"
   ]
  },
  {
   "cell_type": "code",
   "execution_count": 21,
   "metadata": {
    "hidden": true
   },
   "outputs": [],
   "source": [
    "activities['manual'] = activities['filename_fix'].apply(lambda x: x[-4:]) == 'GPX/'"
   ]
  },
  {
   "cell_type": "code",
   "execution_count": 22,
   "metadata": {
    "hidden": true
   },
   "outputs": [],
   "source": [
    "activities['has_station'] = ~activities['stationid'].isnull()\n",
    "activities['has_weather'] = ~activities['TMAX'].isnull()\n",
    "activities['has_file'] = (activities['filename'].str.len() > 0)"
   ]
  },
  {
   "cell_type": "markdown",
   "metadata": {
    "hidden": true
   },
   "source": [
    "If there's no file and it was either on a trainer or on my bike, it was ridden inside"
   ]
  },
  {
   "cell_type": "code",
   "execution_count": 23,
   "metadata": {
    "hidden": true
   },
   "outputs": [],
   "source": [
    "activities['indoor'] = (~activities['has_file']&((activities['gear'] == 'Trainer') | (activities['gear'] == 'Orbea')))"
   ]
  },
  {
   "cell_type": "markdown",
   "metadata": {
    "hidden": true
   },
   "source": [
    "If the total elevation gain is null then it should be 0 - indoor rides, manual entries, etc.\n",
    "\n",
    "Same with kudos count"
   ]
  },
  {
   "cell_type": "code",
   "execution_count": 24,
   "metadata": {
    "hidden": true
   },
   "outputs": [],
   "source": [
    "activities.loc[activities['kudos_count'].isnull(),'kudos_count'] = 0\n",
    "activities.loc[activities['total_elevation_gain'].isnull(),'total_elevation_gain'] = 0"
   ]
  },
  {
   "cell_type": "code",
   "execution_count": 25,
   "metadata": {
    "hidden": true
   },
   "outputs": [],
   "source": [
    "#Very few rows that are \"Hike\" or \"Walk\" - make a new column for sake of analysis to simplify\n",
    "activities['new_type'] = activities['type']\n",
    "activities.loc[activities['type']=='Hike','new_type'] = 'Run'\n",
    "activities.loc[activities['type']=='Walk','new_type'] = 'Run'"
   ]
  },
  {
   "cell_type": "markdown",
   "metadata": {
    "hidden": true
   },
   "source": [
    "Athlete count includes me (which may not be useful, I know I rode the ride after all). other_athlete_count will have 1 fewer"
   ]
  },
  {
   "cell_type": "code",
   "execution_count": 26,
   "metadata": {
    "hidden": true
   },
   "outputs": [],
   "source": [
    "activities['other_athlete_count']  = activities['athlete_count'] - 1"
   ]
  },
  {
   "cell_type": "code",
   "execution_count": 27,
   "metadata": {
    "hidden": true
   },
   "outputs": [],
   "source": [
    "def replace_with_zero(df,cols):\n",
    "    for col in cols:\n",
    "        df[col].fillna(0,inplace=True)\n",
    "\n",
    "rep_zero = ['achievement_count','kudos_count','comment_count','other_athlete_count']\n",
    "replace_with_zero(activities,rep_zero)\n",
    "\n",
    "activities['athlete_count'].fillna(1,inplace=True)"
   ]
  },
  {
   "cell_type": "code",
   "execution_count": 28,
   "metadata": {
    "hidden": true,
    "scrolled": true
   },
   "outputs": [],
   "source": [
    "activities.loc[activities['average_speed'].isnull(),'average_speed'] = activities.loc[activities['average_speed'].isnull(),'distance_miles']/activities.loc[activities['average_speed'].isnull(),'elapsed_time'].apply(lambda x: x.seconds/3600.0)"
   ]
  },
  {
   "cell_type": "code",
   "execution_count": 29,
   "metadata": {
    "hidden": true
   },
   "outputs": [],
   "source": [
    "activities.loc[activities['max_speed'].isnull(),'max_speed'] = activities.loc[activities['max_speed'].isnull(),'average_speed']"
   ]
  },
  {
   "cell_type": "code",
   "execution_count": 30,
   "metadata": {
    "hidden": true
   },
   "outputs": [],
   "source": [
    "med_yrmnth = activities.groupby(by=['year','month'])['TMAX','TMIN','PRECIP'].agg(['median','mean']).reset_index()\n",
    "med_mnth = activities.groupby(by=['month'])['TMAX','TMIN','PRECIP'].agg(['median','mean']).reset_index()"
   ]
  },
  {
   "cell_type": "code",
   "execution_count": 31,
   "metadata": {
    "hidden": true
   },
   "outputs": [],
   "source": [
    "med_yrmnth.columns = list(map('_'.join, med_yrmnth.columns.values))\n",
    "med_mnth.columns = list(map('_'.join, med_mnth.columns.values))"
   ]
  },
  {
   "cell_type": "code",
   "execution_count": 32,
   "metadata": {
    "hidden": true
   },
   "outputs": [],
   "source": [
    "activities = activities.merge(med_yrmnth,left_on=['year','month'],right_on=['year_','month_'],suffixes=('','_yrmnth'))\n",
    "activities = activities.merge(med_mnth,left_on=['month'],right_on=['month_'],suffixes=('','_month'))"
   ]
  },
  {
   "cell_type": "code",
   "execution_count": 33,
   "metadata": {
    "hidden": true
   },
   "outputs": [],
   "source": [
    "activities.loc[activities['TMAX'].isnull(),'TMAX'] = activities.loc[activities['TMAX'].isnull(),'TMAX_median']\n",
    "activities.loc[activities['TMIN'].isnull(),'TMIN'] = activities.loc[activities['TMIN'].isnull(),'TMIN_median']\n",
    "activities.loc[activities['PRECIP'].isnull(),'PRECIP'] = 0\n",
    "\n",
    "activities.loc[activities['TMAX'].isnull(),'TMAX'] = activities.loc[activities['TMAX'].isnull(),'TMAX_median_month']\n",
    "activities.loc[activities['TMIN'].isnull(),'TMIN'] = activities.loc[activities['TMIN'].isnull(),'TMIN_median_month']\n",
    "activities.loc[activities['PRECIP'].isnull(),'PRECIP'] = 0"
   ]
  },
  {
   "cell_type": "markdown",
   "metadata": {
    "hidden": true
   },
   "source": [
    "Let's get rid of the imputation columns"
   ]
  },
  {
   "cell_type": "code",
   "execution_count": 34,
   "metadata": {
    "hidden": true
   },
   "outputs": [],
   "source": [
    "drop_cols = ['year_', 'month_', 'TMAX_median', 'TMAX_mean', 'TMIN_median',\n",
    "    'TMIN_mean', 'PRECIP_median', 'PRECIP_mean', 'month__month',\n",
    "    'TMAX_median_month', 'TMAX_mean_month', 'TMIN_median_month',\n",
    "    'TMIN_mean_month', 'PRECIP_median_month', 'PRECIP_mean_month']\n",
    "\n",
    "activities.drop(drop_cols,axis=1,inplace=True)"
   ]
  },
  {
   "cell_type": "markdown",
   "metadata": {},
   "source": [
    "# Imputation of missing data"
   ]
  },
  {
   "cell_type": "code",
   "execution_count": 45,
   "metadata": {},
   "outputs": [
    {
     "data": {
      "text/plain": [
       "34"
      ]
     },
     "execution_count": 45,
     "metadata": {},
     "output_type": "execute_result"
    }
   ],
   "source": [
    "activities['calories'].isnull().sum()"
   ]
  },
  {
   "cell_type": "markdown",
   "metadata": {},
   "source": [
    "What should I do about the 34 rows with missing calorie data?"
   ]
  },
  {
   "cell_type": "code",
   "execution_count": 32,
   "metadata": {},
   "outputs": [
    {
     "data": {
      "image/png": "[encoded data removed]",
      "text/plain": [
       "<matplotlib.figure.Figure at 0x1cc7681fc50>"
      ]
     },
     "metadata": {},
     "output_type": "display_data"
    }
   ],
   "source": [
    "sns.scatterplot(activities['distance_miles'],activities['calories'])\n",
    "plt.show()"
   ]
  },
  {
   "cell_type": "markdown",
   "metadata": {},
   "source": [
    "Definitely some *almost* linear relationships going on. Is it related to the type of activity?"
   ]
  },
  {
   "cell_type": "code",
   "execution_count": 83,
   "metadata": {},
   "outputs": [
    {
     "data": {
      "image/png": "[encoded data removed]",
      "text/plain": [
       "<matplotlib.figure.Figure at 0x1f18c9f04a8>"
      ]
     },
     "metadata": {},
     "output_type": "display_data"
    }
   ],
   "source": [
    "g = sns.lmplot(x=\"distance_miles\", y=\"calories\", hue=\"type\",\n",
    "               truncate=True, data=activities)\n",
    "plt.ylim(0,2500)\n",
    "plt.show()"
   ]
  },
  {
   "cell_type": "markdown",
   "metadata": {},
   "source": [
    "Mostly related - run, walk, and hike all obey one type of logic and ride obeys a different logic. But what's with all of the riding activities where there are 0 calories?"
   ]
  },
  {
   "cell_type": "code",
   "execution_count": 85,
   "metadata": {},
   "outputs": [
    {
     "data": {
      "text/html": [
       "<div>\n",
       "<style scoped>\n",
       "    .dataframe tbody tr th:only-of-type {\n",
       "        vertical-align: middle;\n",
       "    }\n",
       "\n",
       "    .dataframe tbody tr th {\n",
       "        vertical-align: top;\n",
       "    }\n",
       "\n",
       "    .dataframe thead th {\n",
       "        text-align: right;\n",
       "    }\n",
       "</style>\n",
       "<table border=\"1\" class=\"dataframe\">\n",
       "  <thead>\n",
       "    <tr style=\"text-align: right;\">\n",
       "      <th></th>\n",
       "      <th>id</th>\n",
       "      <th>date</th>\n",
       "      <th>name</th>\n",
       "      <th>type</th>\n",
       "      <th>description</th>\n",
       "      <th>elapsed_time</th>\n",
       "      <th>distance</th>\n",
       "      <th>commute</th>\n",
       "      <th>gear</th>\n",
       "      <th>filename</th>\n",
       "      <th>...</th>\n",
       "      <th>moving_time_seconds</th>\n",
       "      <th>distance_feet</th>\n",
       "      <th>distance_miles</th>\n",
       "      <th>manual</th>\n",
       "      <th>has_station</th>\n",
       "      <th>has_weather</th>\n",
       "      <th>has_file</th>\n",
       "      <th>indoor</th>\n",
       "      <th>new_type</th>\n",
       "      <th>other_athlete_count</th>\n",
       "    </tr>\n",
       "  </thead>\n",
       "  <tbody>\n",
       "    <tr>\n",
       "      <th>169</th>\n",
       "      <td>1186521046</td>\n",
       "      <td>2017-09-15 15:30:00</td>\n",
       "      <td>Trainer Warmup/Cooldown</td>\n",
       "      <td>Ride</td>\n",
       "      <td>Was originally going to do a full ride on the ...</td>\n",
       "      <td>00:12:00</td>\n",
       "      <td>6437.38</td>\n",
       "      <td>False</td>\n",
       "      <td>Trainer</td>\n",
       "      <td></td>\n",
       "      <td>...</td>\n",
       "      <td>720</td>\n",
       "      <td>21120.013799</td>\n",
       "      <td>4.000003</td>\n",
       "      <td>True</td>\n",
       "      <td>True</td>\n",
       "      <td>True</td>\n",
       "      <td>False</td>\n",
       "      <td>True</td>\n",
       "      <td>Ride</td>\n",
       "      <td>0.0</td>\n",
       "    </tr>\n",
       "    <tr>\n",
       "      <th>196</th>\n",
       "      <td>1214023374</td>\n",
       "      <td>2017-10-03 16:00:00</td>\n",
       "      <td>Spinning</td>\n",
       "      <td>Ride</td>\n",
       "      <td>Spin class at work. First ever spin class, act...</td>\n",
       "      <td>00:45:00</td>\n",
       "      <td>24140.20</td>\n",
       "      <td>False</td>\n",
       "      <td>Trainer</td>\n",
       "      <td></td>\n",
       "      <td>...</td>\n",
       "      <td>2700</td>\n",
       "      <td>79200.133768</td>\n",
       "      <td>15.000025</td>\n",
       "      <td>True</td>\n",
       "      <td>True</td>\n",
       "      <td>True</td>\n",
       "      <td>False</td>\n",
       "      <td>True</td>\n",
       "      <td>Ride</td>\n",
       "      <td>0.0</td>\n",
       "    </tr>\n",
       "    <tr>\n",
       "      <th>244</th>\n",
       "      <td>1494764901</td>\n",
       "      <td>2018-04-07 14:00:00</td>\n",
       "      <td>Trainer</td>\n",
       "      <td>Ride</td>\n",
       "      <td>Shortened my usual Saturday trainer ride since...</td>\n",
       "      <td>00:40:00</td>\n",
       "      <td>19312.10</td>\n",
       "      <td>False</td>\n",
       "      <td>Orbea</td>\n",
       "      <td></td>\n",
       "      <td>...</td>\n",
       "      <td>2400</td>\n",
       "      <td>63359.910164</td>\n",
       "      <td>11.999983</td>\n",
       "      <td>True</td>\n",
       "      <td>True</td>\n",
       "      <td>True</td>\n",
       "      <td>False</td>\n",
       "      <td>True</td>\n",
       "      <td>Ride</td>\n",
       "      <td>0.0</td>\n",
       "    </tr>\n",
       "    <tr>\n",
       "      <th>245</th>\n",
       "      <td>1497661412</td>\n",
       "      <td>2018-04-08 13:00:00</td>\n",
       "      <td>Trainer</td>\n",
       "      <td>Ride</td>\n",
       "      <td>NaN</td>\n",
       "      <td>01:00:00</td>\n",
       "      <td>28968.20</td>\n",
       "      <td>False</td>\n",
       "      <td>Orbea</td>\n",
       "      <td></td>\n",
       "      <td>...</td>\n",
       "      <td>3600</td>\n",
       "      <td>95040.029288</td>\n",
       "      <td>18.000006</td>\n",
       "      <td>True</td>\n",
       "      <td>True</td>\n",
       "      <td>True</td>\n",
       "      <td>False</td>\n",
       "      <td>True</td>\n",
       "      <td>Ride</td>\n",
       "      <td>0.0</td>\n",
       "    </tr>\n",
       "    <tr>\n",
       "      <th>250</th>\n",
       "      <td>1519401232</td>\n",
       "      <td>2018-04-18 21:00:00</td>\n",
       "      <td>Trainer</td>\n",
       "      <td>Ride</td>\n",
       "      <td>One day it'll be consistently nice outside</td>\n",
       "      <td>00:40:00</td>\n",
       "      <td>19312.10</td>\n",
       "      <td>False</td>\n",
       "      <td>Orbea</td>\n",
       "      <td></td>\n",
       "      <td>...</td>\n",
       "      <td>2400</td>\n",
       "      <td>63359.910164</td>\n",
       "      <td>11.999983</td>\n",
       "      <td>True</td>\n",
       "      <td>True</td>\n",
       "      <td>True</td>\n",
       "      <td>False</td>\n",
       "      <td>True</td>\n",
       "      <td>Ride</td>\n",
       "      <td>0.0</td>\n",
       "    </tr>\n",
       "    <tr>\n",
       "      <th>251</th>\n",
       "      <td>1519401491</td>\n",
       "      <td>2018-04-19 22:00:00</td>\n",
       "      <td>Another Trainer Ride</td>\n",
       "      <td>Ride</td>\n",
       "      <td>NaN</td>\n",
       "      <td>00:34:00</td>\n",
       "      <td>16093.40</td>\n",
       "      <td>False</td>\n",
       "      <td>Orbea</td>\n",
       "      <td></td>\n",
       "      <td>...</td>\n",
       "      <td>2040</td>\n",
       "      <td>52799.870456</td>\n",
       "      <td>9.999975</td>\n",
       "      <td>True</td>\n",
       "      <td>True</td>\n",
       "      <td>True</td>\n",
       "      <td>False</td>\n",
       "      <td>True</td>\n",
       "      <td>Ride</td>\n",
       "      <td>0.0</td>\n",
       "    </tr>\n",
       "    <tr>\n",
       "      <th>255</th>\n",
       "      <td>1529792224</td>\n",
       "      <td>2018-04-24 21:30:00</td>\n",
       "      <td>Back on the trainer</td>\n",
       "      <td>Ride</td>\n",
       "      <td>NaN</td>\n",
       "      <td>00:34:00</td>\n",
       "      <td>16093.40</td>\n",
       "      <td>False</td>\n",
       "      <td>Orbea</td>\n",
       "      <td></td>\n",
       "      <td>...</td>\n",
       "      <td>2040</td>\n",
       "      <td>52799.870456</td>\n",
       "      <td>9.999975</td>\n",
       "      <td>True</td>\n",
       "      <td>True</td>\n",
       "      <td>True</td>\n",
       "      <td>False</td>\n",
       "      <td>True</td>\n",
       "      <td>Ride</td>\n",
       "      <td>0.0</td>\n",
       "    </tr>\n",
       "    <tr>\n",
       "      <th>258</th>\n",
       "      <td>1536937189</td>\n",
       "      <td>2018-04-28 13:00:00</td>\n",
       "      <td>Trainer</td>\n",
       "      <td>Ride</td>\n",
       "      <td>Didn't feel like riding in the rain</td>\n",
       "      <td>01:20:00</td>\n",
       "      <td>38624.30</td>\n",
       "      <td>False</td>\n",
       "      <td>Orbea</td>\n",
       "      <td></td>\n",
       "      <td>...</td>\n",
       "      <td>4800</td>\n",
       "      <td>126720.148412</td>\n",
       "      <td>24.000028</td>\n",
       "      <td>True</td>\n",
       "      <td>True</td>\n",
       "      <td>True</td>\n",
       "      <td>False</td>\n",
       "      <td>True</td>\n",
       "      <td>Ride</td>\n",
       "      <td>0.0</td>\n",
       "    </tr>\n",
       "    <tr>\n",
       "      <th>290</th>\n",
       "      <td>971985144</td>\n",
       "      <td>2017-05-05 12:00:00</td>\n",
       "      <td>Morning Ride</td>\n",
       "      <td>Ride</td>\n",
       "      <td>Bike MS fundraiser in the lobby of my work - b...</td>\n",
       "      <td>00:45:00</td>\n",
       "      <td>24140.20</td>\n",
       "      <td>False</td>\n",
       "      <td>Trainer</td>\n",
       "      <td></td>\n",
       "      <td>...</td>\n",
       "      <td>2700</td>\n",
       "      <td>79200.133768</td>\n",
       "      <td>15.000025</td>\n",
       "      <td>True</td>\n",
       "      <td>True</td>\n",
       "      <td>True</td>\n",
       "      <td>False</td>\n",
       "      <td>True</td>\n",
       "      <td>Ride</td>\n",
       "      <td>0.0</td>\n",
       "    </tr>\n",
       "    <tr>\n",
       "      <th>306</th>\n",
       "      <td>1554780672</td>\n",
       "      <td>2018-05-06 22:39:45</td>\n",
       "      <td>Trainer</td>\n",
       "      <td>Ride</td>\n",
       "      <td>Easy trainer, legs are sore from yesterday. Ov...</td>\n",
       "      <td>00:30:00</td>\n",
       "      <td>14484.10</td>\n",
       "      <td>False</td>\n",
       "      <td>Orbea</td>\n",
       "      <td></td>\n",
       "      <td>...</td>\n",
       "      <td>1800</td>\n",
       "      <td>47520.014644</td>\n",
       "      <td>9.000003</td>\n",
       "      <td>True</td>\n",
       "      <td>True</td>\n",
       "      <td>True</td>\n",
       "      <td>False</td>\n",
       "      <td>True</td>\n",
       "      <td>Ride</td>\n",
       "      <td>0.0</td>\n",
       "    </tr>\n",
       "    <tr>\n",
       "      <th>313</th>\n",
       "      <td>1571649208</td>\n",
       "      <td>2018-05-13 16:00:00</td>\n",
       "      <td>Easy Trainer</td>\n",
       "      <td>Ride</td>\n",
       "      <td>NaN</td>\n",
       "      <td>00:45:00</td>\n",
       "      <td>20921.50</td>\n",
       "      <td>False</td>\n",
       "      <td>Orbea</td>\n",
       "      <td></td>\n",
       "      <td>...</td>\n",
       "      <td>2700</td>\n",
       "      <td>68640.094060</td>\n",
       "      <td>13.000018</td>\n",
       "      <td>True</td>\n",
       "      <td>True</td>\n",
       "      <td>True</td>\n",
       "      <td>False</td>\n",
       "      <td>True</td>\n",
       "      <td>Ride</td>\n",
       "      <td>0.0</td>\n",
       "    </tr>\n",
       "    <tr>\n",
       "      <th>314</th>\n",
       "      <td>1575888686</td>\n",
       "      <td>2018-05-16 00:00:00</td>\n",
       "      <td>Trainer - Missed the sunlight</td>\n",
       "      <td>Ride</td>\n",
       "      <td>Too many errands to run, not enough time in th...</td>\n",
       "      <td>00:35:00</td>\n",
       "      <td>16898.10</td>\n",
       "      <td>False</td>\n",
       "      <td>Orbea</td>\n",
       "      <td></td>\n",
       "      <td>...</td>\n",
       "      <td>2100</td>\n",
       "      <td>55439.962404</td>\n",
       "      <td>10.499993</td>\n",
       "      <td>True</td>\n",
       "      <td>True</td>\n",
       "      <td>True</td>\n",
       "      <td>False</td>\n",
       "      <td>True</td>\n",
       "      <td>Ride</td>\n",
       "      <td>0.0</td>\n",
       "    </tr>\n",
       "    <tr>\n",
       "      <th>317</th>\n",
       "      <td>1587847759</td>\n",
       "      <td>2018-05-22 00:00:00</td>\n",
       "      <td>Trainer</td>\n",
       "      <td>Ride</td>\n",
       "      <td>Too many errands to run, not enough time in th...</td>\n",
       "      <td>00:34:00</td>\n",
       "      <td>16093.40</td>\n",
       "      <td>False</td>\n",
       "      <td>Orbea</td>\n",
       "      <td></td>\n",
       "      <td>...</td>\n",
       "      <td>2100</td>\n",
       "      <td>52799.870456</td>\n",
       "      <td>9.999975</td>\n",
       "      <td>True</td>\n",
       "      <td>True</td>\n",
       "      <td>True</td>\n",
       "      <td>False</td>\n",
       "      <td>True</td>\n",
       "      <td>Ride</td>\n",
       "      <td>0.0</td>\n",
       "    </tr>\n",
       "    <tr>\n",
       "      <th>318</th>\n",
       "      <td>1591436985</td>\n",
       "      <td>2018-05-23 12:30:00</td>\n",
       "      <td>MS150 Charity Spin</td>\n",
       "      <td>Ride</td>\n",
       "      <td>NaN</td>\n",
       "      <td>01:00:00</td>\n",
       "      <td>28968.20</td>\n",
       "      <td>False</td>\n",
       "      <td>Trainer</td>\n",
       "      <td></td>\n",
       "      <td>...</td>\n",
       "      <td>3600</td>\n",
       "      <td>95040.029288</td>\n",
       "      <td>18.000006</td>\n",
       "      <td>True</td>\n",
       "      <td>True</td>\n",
       "      <td>True</td>\n",
       "      <td>False</td>\n",
       "      <td>True</td>\n",
       "      <td>Ride</td>\n",
       "      <td>0.0</td>\n",
       "    </tr>\n",
       "    <tr>\n",
       "      <th>323</th>\n",
       "      <td>1600809500</td>\n",
       "      <td>2018-05-27 17:00:00</td>\n",
       "      <td>Lazy Trainer</td>\n",
       "      <td>Ride</td>\n",
       "      <td>NaN</td>\n",
       "      <td>00:40:00</td>\n",
       "      <td>19312.10</td>\n",
       "      <td>False</td>\n",
       "      <td>Orbea</td>\n",
       "      <td></td>\n",
       "      <td>...</td>\n",
       "      <td>3600</td>\n",
       "      <td>63359.910164</td>\n",
       "      <td>11.999983</td>\n",
       "      <td>True</td>\n",
       "      <td>True</td>\n",
       "      <td>True</td>\n",
       "      <td>False</td>\n",
       "      <td>True</td>\n",
       "      <td>Ride</td>\n",
       "      <td>0.0</td>\n",
       "    </tr>\n",
       "    <tr>\n",
       "      <th>348</th>\n",
       "      <td>903844262</td>\n",
       "      <td>2017-03-17 16:20:00</td>\n",
       "      <td>Bike trainer</td>\n",
       "      <td>Ride</td>\n",
       "      <td>Cross training</td>\n",
       "      <td>00:20:00</td>\n",
       "      <td>11265.40</td>\n",
       "      <td>False</td>\n",
       "      <td>Orbea</td>\n",
       "      <td></td>\n",
       "      <td>...</td>\n",
       "      <td>1200</td>\n",
       "      <td>36959.974936</td>\n",
       "      <td>6.999995</td>\n",
       "      <td>True</td>\n",
       "      <td>True</td>\n",
       "      <td>True</td>\n",
       "      <td>False</td>\n",
       "      <td>True</td>\n",
       "      <td>Ride</td>\n",
       "      <td>0.0</td>\n",
       "    </tr>\n",
       "    <tr>\n",
       "      <th>355</th>\n",
       "      <td>920858052</td>\n",
       "      <td>2017-03-30 15:20:00</td>\n",
       "      <td>Trainer Ride</td>\n",
       "      <td>Ride</td>\n",
       "      <td>Bike trainer for a little bit of cross-trainin...</td>\n",
       "      <td>00:23:00</td>\n",
       "      <td>12874.80</td>\n",
       "      <td>False</td>\n",
       "      <td>Orbea</td>\n",
       "      <td></td>\n",
       "      <td>...</td>\n",
       "      <td>1380</td>\n",
       "      <td>42240.158832</td>\n",
       "      <td>8.000030</td>\n",
       "      <td>True</td>\n",
       "      <td>True</td>\n",
       "      <td>True</td>\n",
       "      <td>False</td>\n",
       "      <td>True</td>\n",
       "      <td>Ride</td>\n",
       "      <td>0.0</td>\n",
       "    </tr>\n",
       "    <tr>\n",
       "      <th>356</th>\n",
       "      <td>1432933755</td>\n",
       "      <td>2018-03-02 17:00:00</td>\n",
       "      <td>Lunch Ride</td>\n",
       "      <td>Ride</td>\n",
       "      <td>NaN</td>\n",
       "      <td>00:45:00</td>\n",
       "      <td>20921.50</td>\n",
       "      <td>False</td>\n",
       "      <td>Orbea</td>\n",
       "      <td></td>\n",
       "      <td>...</td>\n",
       "      <td>2700</td>\n",
       "      <td>68640.094060</td>\n",
       "      <td>13.000018</td>\n",
       "      <td>True</td>\n",
       "      <td>True</td>\n",
       "      <td>True</td>\n",
       "      <td>False</td>\n",
       "      <td>True</td>\n",
       "      <td>Ride</td>\n",
       "      <td>0.0</td>\n",
       "    </tr>\n",
       "    <tr>\n",
       "      <th>357</th>\n",
       "      <td>1435752254</td>\n",
       "      <td>2018-03-03 12:00:00</td>\n",
       "      <td>Early Trainer</td>\n",
       "      <td>Ride</td>\n",
       "      <td>NaN</td>\n",
       "      <td>01:00:00</td>\n",
       "      <td>28968.20</td>\n",
       "      <td>False</td>\n",
       "      <td>Orbea</td>\n",
       "      <td></td>\n",
       "      <td>...</td>\n",
       "      <td>3600</td>\n",
       "      <td>95040.029288</td>\n",
       "      <td>18.000006</td>\n",
       "      <td>True</td>\n",
       "      <td>True</td>\n",
       "      <td>True</td>\n",
       "      <td>False</td>\n",
       "      <td>True</td>\n",
       "      <td>Ride</td>\n",
       "      <td>0.0</td>\n",
       "    </tr>\n",
       "    <tr>\n",
       "      <th>359</th>\n",
       "      <td>1440997600</td>\n",
       "      <td>2018-03-04 16:00:00</td>\n",
       "      <td>Trainer</td>\n",
       "      <td>Ride</td>\n",
       "      <td>Short session, split with 2.5 mile run</td>\n",
       "      <td>00:20:00</td>\n",
       "      <td>9656.06</td>\n",
       "      <td>False</td>\n",
       "      <td>Orbea</td>\n",
       "      <td></td>\n",
       "      <td>...</td>\n",
       "      <td>1200</td>\n",
       "      <td>31679.987890</td>\n",
       "      <td>5.999998</td>\n",
       "      <td>True</td>\n",
       "      <td>True</td>\n",
       "      <td>True</td>\n",
       "      <td>False</td>\n",
       "      <td>True</td>\n",
       "      <td>Ride</td>\n",
       "      <td>0.0</td>\n",
       "    </tr>\n",
       "    <tr>\n",
       "      <th>360</th>\n",
       "      <td>1441000256</td>\n",
       "      <td>2018-03-06 17:00:00</td>\n",
       "      <td>Spin Class</td>\n",
       "      <td>Ride</td>\n",
       "      <td>Showed up a little early to warm up and get a ...</td>\n",
       "      <td>01:00:00</td>\n",
       "      <td>25749.50</td>\n",
       "      <td>False</td>\n",
       "      <td>Trainer</td>\n",
       "      <td></td>\n",
       "      <td>...</td>\n",
       "      <td>3600</td>\n",
       "      <td>84479.989580</td>\n",
       "      <td>15.999998</td>\n",
       "      <td>True</td>\n",
       "      <td>True</td>\n",
       "      <td>True</td>\n",
       "      <td>False</td>\n",
       "      <td>True</td>\n",
       "      <td>Ride</td>\n",
       "      <td>0.0</td>\n",
       "    </tr>\n",
       "    <tr>\n",
       "      <th>362</th>\n",
       "      <td>1445701366</td>\n",
       "      <td>2018-03-10 13:45:33</td>\n",
       "      <td>Trainer</td>\n",
       "      <td>Ride</td>\n",
       "      <td>NaN</td>\n",
       "      <td>01:10:00</td>\n",
       "      <td>33796.20</td>\n",
       "      <td>False</td>\n",
       "      <td>Orbea</td>\n",
       "      <td></td>\n",
       "      <td>...</td>\n",
       "      <td>4200</td>\n",
       "      <td>110879.924808</td>\n",
       "      <td>20.999986</td>\n",
       "      <td>True</td>\n",
       "      <td>True</td>\n",
       "      <td>True</td>\n",
       "      <td>False</td>\n",
       "      <td>True</td>\n",
       "      <td>Ride</td>\n",
       "      <td>0.0</td>\n",
       "    </tr>\n",
       "    <tr>\n",
       "      <th>363</th>\n",
       "      <td>1445704216</td>\n",
       "      <td>2018-03-07 17:00:03</td>\n",
       "      <td>Trainer</td>\n",
       "      <td>Ride</td>\n",
       "      <td>NaN</td>\n",
       "      <td>00:34:00</td>\n",
       "      <td>16093.40</td>\n",
       "      <td>False</td>\n",
       "      <td>Orbea</td>\n",
       "      <td></td>\n",
       "      <td>...</td>\n",
       "      <td>2040</td>\n",
       "      <td>52799.870456</td>\n",
       "      <td>9.999975</td>\n",
       "      <td>True</td>\n",
       "      <td>True</td>\n",
       "      <td>True</td>\n",
       "      <td>False</td>\n",
       "      <td>True</td>\n",
       "      <td>Ride</td>\n",
       "      <td>0.0</td>\n",
       "    </tr>\n",
       "    <tr>\n",
       "      <th>364</th>\n",
       "      <td>1449330115</td>\n",
       "      <td>2018-03-11 12:00:00</td>\n",
       "      <td>Early Trainer</td>\n",
       "      <td>Ride</td>\n",
       "      <td>NaN</td>\n",
       "      <td>00:40:00</td>\n",
       "      <td>19312.10</td>\n",
       "      <td>False</td>\n",
       "      <td>Orbea</td>\n",
       "      <td></td>\n",
       "      <td>...</td>\n",
       "      <td>2400</td>\n",
       "      <td>63359.910164</td>\n",
       "      <td>11.999983</td>\n",
       "      <td>True</td>\n",
       "      <td>True</td>\n",
       "      <td>True</td>\n",
       "      <td>False</td>\n",
       "      <td>True</td>\n",
       "      <td>Ride</td>\n",
       "      <td>0.0</td>\n",
       "    </tr>\n",
       "    <tr>\n",
       "      <th>365</th>\n",
       "      <td>1457414767</td>\n",
       "      <td>2018-03-14 21:30:00</td>\n",
       "      <td>Trainer</td>\n",
       "      <td>Ride</td>\n",
       "      <td>NaN</td>\n",
       "      <td>00:34:00</td>\n",
       "      <td>16093.40</td>\n",
       "      <td>False</td>\n",
       "      <td>Orbea</td>\n",
       "      <td></td>\n",
       "      <td>...</td>\n",
       "      <td>2040</td>\n",
       "      <td>52799.870456</td>\n",
       "      <td>9.999975</td>\n",
       "      <td>True</td>\n",
       "      <td>True</td>\n",
       "      <td>True</td>\n",
       "      <td>False</td>\n",
       "      <td>True</td>\n",
       "      <td>Ride</td>\n",
       "      <td>0.0</td>\n",
       "    </tr>\n",
       "    <tr>\n",
       "      <th>366</th>\n",
       "      <td>1457415275</td>\n",
       "      <td>2018-03-15 21:00:00</td>\n",
       "      <td>Trainer</td>\n",
       "      <td>Ride</td>\n",
       "      <td>NaN</td>\n",
       "      <td>00:34:00</td>\n",
       "      <td>16093.40</td>\n",
       "      <td>False</td>\n",
       "      <td>Orbea</td>\n",
       "      <td></td>\n",
       "      <td>...</td>\n",
       "      <td>2040</td>\n",
       "      <td>52799.870456</td>\n",
       "      <td>9.999975</td>\n",
       "      <td>True</td>\n",
       "      <td>True</td>\n",
       "      <td>True</td>\n",
       "      <td>False</td>\n",
       "      <td>True</td>\n",
       "      <td>Ride</td>\n",
       "      <td>0.0</td>\n",
       "    </tr>\n",
       "    <tr>\n",
       "      <th>367</th>\n",
       "      <td>1457416633</td>\n",
       "      <td>2018-03-17 12:00:00</td>\n",
       "      <td>Morning Trainer</td>\n",
       "      <td>Ride</td>\n",
       "      <td>NaN</td>\n",
       "      <td>01:10:00</td>\n",
       "      <td>33796.20</td>\n",
       "      <td>False</td>\n",
       "      <td>Orbea</td>\n",
       "      <td></td>\n",
       "      <td>...</td>\n",
       "      <td>4200</td>\n",
       "      <td>110879.924808</td>\n",
       "      <td>20.999986</td>\n",
       "      <td>True</td>\n",
       "      <td>True</td>\n",
       "      <td>True</td>\n",
       "      <td>False</td>\n",
       "      <td>True</td>\n",
       "      <td>Ride</td>\n",
       "      <td>0.0</td>\n",
       "    </tr>\n",
       "    <tr>\n",
       "      <th>368</th>\n",
       "      <td>1459396401</td>\n",
       "      <td>2018-03-18 13:00:00</td>\n",
       "      <td>Trainer</td>\n",
       "      <td>Ride</td>\n",
       "      <td>NaN</td>\n",
       "      <td>00:34:00</td>\n",
       "      <td>16093.40</td>\n",
       "      <td>False</td>\n",
       "      <td>Orbea</td>\n",
       "      <td></td>\n",
       "      <td>...</td>\n",
       "      <td>2040</td>\n",
       "      <td>52799.870456</td>\n",
       "      <td>9.999975</td>\n",
       "      <td>True</td>\n",
       "      <td>True</td>\n",
       "      <td>True</td>\n",
       "      <td>False</td>\n",
       "      <td>True</td>\n",
       "      <td>Ride</td>\n",
       "      <td>0.0</td>\n",
       "    </tr>\n",
       "    <tr>\n",
       "      <th>369</th>\n",
       "      <td>1469948748</td>\n",
       "      <td>2018-03-20 16:00:00</td>\n",
       "      <td>Spin Class</td>\n",
       "      <td>Ride</td>\n",
       "      <td>NaN</td>\n",
       "      <td>00:45:00</td>\n",
       "      <td>20921.50</td>\n",
       "      <td>False</td>\n",
       "      <td>Trainer</td>\n",
       "      <td></td>\n",
       "      <td>...</td>\n",
       "      <td>2700</td>\n",
       "      <td>68640.094060</td>\n",
       "      <td>13.000018</td>\n",
       "      <td>True</td>\n",
       "      <td>True</td>\n",
       "      <td>True</td>\n",
       "      <td>False</td>\n",
       "      <td>True</td>\n",
       "      <td>Ride</td>\n",
       "      <td>0.0</td>\n",
       "    </tr>\n",
       "    <tr>\n",
       "      <th>370</th>\n",
       "      <td>1469949181</td>\n",
       "      <td>2018-03-21 22:00:00</td>\n",
       "      <td>Trainer</td>\n",
       "      <td>Ride</td>\n",
       "      <td>NaN</td>\n",
       "      <td>00:20:00</td>\n",
       "      <td>9656.06</td>\n",
       "      <td>False</td>\n",
       "      <td>Orbea</td>\n",
       "      <td></td>\n",
       "      <td>...</td>\n",
       "      <td>1200</td>\n",
       "      <td>31679.987890</td>\n",
       "      <td>5.999998</td>\n",
       "      <td>True</td>\n",
       "      <td>True</td>\n",
       "      <td>True</td>\n",
       "      <td>False</td>\n",
       "      <td>True</td>\n",
       "      <td>Ride</td>\n",
       "      <td>0.0</td>\n",
       "    </tr>\n",
       "    <tr>\n",
       "      <th>...</th>\n",
       "      <td>...</td>\n",
       "      <td>...</td>\n",
       "      <td>...</td>\n",
       "      <td>...</td>\n",
       "      <td>...</td>\n",
       "      <td>...</td>\n",
       "      <td>...</td>\n",
       "      <td>...</td>\n",
       "      <td>...</td>\n",
       "      <td>...</td>\n",
       "      <td>...</td>\n",
       "      <td>...</td>\n",
       "      <td>...</td>\n",
       "      <td>...</td>\n",
       "      <td>...</td>\n",
       "      <td>...</td>\n",
       "      <td>...</td>\n",
       "      <td>...</td>\n",
       "      <td>...</td>\n",
       "      <td>...</td>\n",
       "      <td>...</td>\n",
       "    </tr>\n",
       "    <tr>\n",
       "      <th>465</th>\n",
       "      <td>1392273354</td>\n",
       "      <td>2018-02-04 23:15:41</td>\n",
       "      <td>Trainer</td>\n",
       "      <td>Ride</td>\n",
       "      <td>NaN</td>\n",
       "      <td>00:34:00</td>\n",
       "      <td>16093.40</td>\n",
       "      <td>False</td>\n",
       "      <td>Orbea</td>\n",
       "      <td></td>\n",
       "      <td>...</td>\n",
       "      <td>2040</td>\n",
       "      <td>52799.870456</td>\n",
       "      <td>9.999975</td>\n",
       "      <td>True</td>\n",
       "      <td>True</td>\n",
       "      <td>True</td>\n",
       "      <td>False</td>\n",
       "      <td>True</td>\n",
       "      <td>Ride</td>\n",
       "      <td>0.0</td>\n",
       "    </tr>\n",
       "    <tr>\n",
       "      <th>466</th>\n",
       "      <td>1395245455</td>\n",
       "      <td>2018-02-06 17:00:00</td>\n",
       "      <td>Spin Class</td>\n",
       "      <td>Ride</td>\n",
       "      <td>NaN</td>\n",
       "      <td>00:45:00</td>\n",
       "      <td>20921.50</td>\n",
       "      <td>False</td>\n",
       "      <td>Orbea</td>\n",
       "      <td></td>\n",
       "      <td>...</td>\n",
       "      <td>2700</td>\n",
       "      <td>68640.094060</td>\n",
       "      <td>13.000018</td>\n",
       "      <td>True</td>\n",
       "      <td>True</td>\n",
       "      <td>True</td>\n",
       "      <td>False</td>\n",
       "      <td>True</td>\n",
       "      <td>Ride</td>\n",
       "      <td>0.0</td>\n",
       "    </tr>\n",
       "    <tr>\n",
       "      <th>467</th>\n",
       "      <td>1397521793</td>\n",
       "      <td>2018-02-07 17:00:00</td>\n",
       "      <td>Trainer</td>\n",
       "      <td>Ride</td>\n",
       "      <td>NaN</td>\n",
       "      <td>00:34:00</td>\n",
       "      <td>16093.40</td>\n",
       "      <td>False</td>\n",
       "      <td>Orbea</td>\n",
       "      <td></td>\n",
       "      <td>...</td>\n",
       "      <td>2040</td>\n",
       "      <td>52799.870456</td>\n",
       "      <td>9.999975</td>\n",
       "      <td>True</td>\n",
       "      <td>True</td>\n",
       "      <td>True</td>\n",
       "      <td>False</td>\n",
       "      <td>True</td>\n",
       "      <td>Ride</td>\n",
       "      <td>0.0</td>\n",
       "    </tr>\n",
       "    <tr>\n",
       "      <th>469</th>\n",
       "      <td>1401007761</td>\n",
       "      <td>2018-02-10 15:00:00</td>\n",
       "      <td>Trainer</td>\n",
       "      <td>Ride</td>\n",
       "      <td>NaN</td>\n",
       "      <td>01:00:00</td>\n",
       "      <td>28968.20</td>\n",
       "      <td>False</td>\n",
       "      <td>Orbea</td>\n",
       "      <td></td>\n",
       "      <td>...</td>\n",
       "      <td>3600</td>\n",
       "      <td>95040.029288</td>\n",
       "      <td>18.000006</td>\n",
       "      <td>True</td>\n",
       "      <td>True</td>\n",
       "      <td>True</td>\n",
       "      <td>False</td>\n",
       "      <td>True</td>\n",
       "      <td>Ride</td>\n",
       "      <td>0.0</td>\n",
       "    </tr>\n",
       "    <tr>\n",
       "      <th>470</th>\n",
       "      <td>1406205057</td>\n",
       "      <td>2018-02-13 17:15:00</td>\n",
       "      <td>Spin Class</td>\n",
       "      <td>Ride</td>\n",
       "      <td>NaN</td>\n",
       "      <td>00:45:00</td>\n",
       "      <td>20921.50</td>\n",
       "      <td>False</td>\n",
       "      <td>Trainer</td>\n",
       "      <td></td>\n",
       "      <td>...</td>\n",
       "      <td>2700</td>\n",
       "      <td>68640.094060</td>\n",
       "      <td>13.000018</td>\n",
       "      <td>True</td>\n",
       "      <td>True</td>\n",
       "      <td>True</td>\n",
       "      <td>False</td>\n",
       "      <td>True</td>\n",
       "      <td>Ride</td>\n",
       "      <td>0.0</td>\n",
       "    </tr>\n",
       "    <tr>\n",
       "      <th>472</th>\n",
       "      <td>1406207761</td>\n",
       "      <td>2018-02-11 15:00:00</td>\n",
       "      <td>Trainer</td>\n",
       "      <td>Ride</td>\n",
       "      <td>NaN</td>\n",
       "      <td>00:34:00</td>\n",
       "      <td>16093.40</td>\n",
       "      <td>False</td>\n",
       "      <td>Orbea</td>\n",
       "      <td></td>\n",
       "      <td>...</td>\n",
       "      <td>2040</td>\n",
       "      <td>52799.870456</td>\n",
       "      <td>9.999975</td>\n",
       "      <td>True</td>\n",
       "      <td>True</td>\n",
       "      <td>True</td>\n",
       "      <td>False</td>\n",
       "      <td>True</td>\n",
       "      <td>Ride</td>\n",
       "      <td>0.0</td>\n",
       "    </tr>\n",
       "    <tr>\n",
       "      <th>474</th>\n",
       "      <td>1414997258</td>\n",
       "      <td>2018-02-14 17:00:00</td>\n",
       "      <td>Lunch Trainer</td>\n",
       "      <td>Ride</td>\n",
       "      <td>NaN</td>\n",
       "      <td>00:34:00</td>\n",
       "      <td>16093.40</td>\n",
       "      <td>False</td>\n",
       "      <td>Orbea</td>\n",
       "      <td></td>\n",
       "      <td>...</td>\n",
       "      <td>2040</td>\n",
       "      <td>52799.870456</td>\n",
       "      <td>9.999975</td>\n",
       "      <td>True</td>\n",
       "      <td>True</td>\n",
       "      <td>True</td>\n",
       "      <td>False</td>\n",
       "      <td>True</td>\n",
       "      <td>Ride</td>\n",
       "      <td>0.0</td>\n",
       "    </tr>\n",
       "    <tr>\n",
       "      <th>475</th>\n",
       "      <td>1414997544</td>\n",
       "      <td>2018-02-17 15:00:00</td>\n",
       "      <td>Saturday Trainer</td>\n",
       "      <td>Ride</td>\n",
       "      <td>NaN</td>\n",
       "      <td>01:00:00</td>\n",
       "      <td>28968.20</td>\n",
       "      <td>False</td>\n",
       "      <td>Orbea</td>\n",
       "      <td></td>\n",
       "      <td>...</td>\n",
       "      <td>3600</td>\n",
       "      <td>95040.029288</td>\n",
       "      <td>18.000006</td>\n",
       "      <td>True</td>\n",
       "      <td>True</td>\n",
       "      <td>True</td>\n",
       "      <td>False</td>\n",
       "      <td>True</td>\n",
       "      <td>Ride</td>\n",
       "      <td>0.0</td>\n",
       "    </tr>\n",
       "    <tr>\n",
       "      <th>476</th>\n",
       "      <td>1414997671</td>\n",
       "      <td>2018-02-19 00:00:00</td>\n",
       "      <td>Evening Trainer</td>\n",
       "      <td>Ride</td>\n",
       "      <td>NaN</td>\n",
       "      <td>00:34:00</td>\n",
       "      <td>16093.40</td>\n",
       "      <td>False</td>\n",
       "      <td>Orbea</td>\n",
       "      <td></td>\n",
       "      <td>...</td>\n",
       "      <td>2040</td>\n",
       "      <td>52799.870456</td>\n",
       "      <td>9.999975</td>\n",
       "      <td>True</td>\n",
       "      <td>True</td>\n",
       "      <td>True</td>\n",
       "      <td>False</td>\n",
       "      <td>True</td>\n",
       "      <td>Ride</td>\n",
       "      <td>0.0</td>\n",
       "    </tr>\n",
       "    <tr>\n",
       "      <th>481</th>\n",
       "      <td>1421919703</td>\n",
       "      <td>2018-02-22 17:00:00</td>\n",
       "      <td>Back on the Trainer</td>\n",
       "      <td>Ride</td>\n",
       "      <td>It was nice being outside while it lasted</td>\n",
       "      <td>00:34:00</td>\n",
       "      <td>16093.40</td>\n",
       "      <td>False</td>\n",
       "      <td>Orbea</td>\n",
       "      <td></td>\n",
       "      <td>...</td>\n",
       "      <td>2040</td>\n",
       "      <td>52799.870456</td>\n",
       "      <td>9.999975</td>\n",
       "      <td>True</td>\n",
       "      <td>True</td>\n",
       "      <td>True</td>\n",
       "      <td>False</td>\n",
       "      <td>True</td>\n",
       "      <td>Ride</td>\n",
       "      <td>0.0</td>\n",
       "    </tr>\n",
       "    <tr>\n",
       "      <th>482</th>\n",
       "      <td>1426264798</td>\n",
       "      <td>2018-02-24 16:00:00</td>\n",
       "      <td>Trainer</td>\n",
       "      <td>Ride</td>\n",
       "      <td>NaN</td>\n",
       "      <td>00:42:00</td>\n",
       "      <td>20116.80</td>\n",
       "      <td>False</td>\n",
       "      <td>Orbea</td>\n",
       "      <td></td>\n",
       "      <td>...</td>\n",
       "      <td>2520</td>\n",
       "      <td>66000.002112</td>\n",
       "      <td>12.500000</td>\n",
       "      <td>True</td>\n",
       "      <td>True</td>\n",
       "      <td>True</td>\n",
       "      <td>False</td>\n",
       "      <td>True</td>\n",
       "      <td>Ride</td>\n",
       "      <td>0.0</td>\n",
       "    </tr>\n",
       "    <tr>\n",
       "      <th>483</th>\n",
       "      <td>1426265556</td>\n",
       "      <td>2018-02-25 17:00:00</td>\n",
       "      <td>Trainer</td>\n",
       "      <td>Ride</td>\n",
       "      <td>Still waiting on the new tires. Really wish I ...</td>\n",
       "      <td>00:34:00</td>\n",
       "      <td>16093.40</td>\n",
       "      <td>False</td>\n",
       "      <td>Orbea</td>\n",
       "      <td></td>\n",
       "      <td>...</td>\n",
       "      <td>2040</td>\n",
       "      <td>52799.870456</td>\n",
       "      <td>9.999975</td>\n",
       "      <td>True</td>\n",
       "      <td>True</td>\n",
       "      <td>True</td>\n",
       "      <td>False</td>\n",
       "      <td>True</td>\n",
       "      <td>Ride</td>\n",
       "      <td>0.0</td>\n",
       "    </tr>\n",
       "    <tr>\n",
       "      <th>486</th>\n",
       "      <td>1429263004</td>\n",
       "      <td>2018-02-27 23:00:00</td>\n",
       "      <td>Evening Trainer</td>\n",
       "      <td>Ride</td>\n",
       "      <td>NaN</td>\n",
       "      <td>00:34:00</td>\n",
       "      <td>16093.40</td>\n",
       "      <td>False</td>\n",
       "      <td>Orbea</td>\n",
       "      <td></td>\n",
       "      <td>...</td>\n",
       "      <td>2040</td>\n",
       "      <td>52799.870456</td>\n",
       "      <td>9.999975</td>\n",
       "      <td>True</td>\n",
       "      <td>True</td>\n",
       "      <td>True</td>\n",
       "      <td>False</td>\n",
       "      <td>True</td>\n",
       "      <td>Ride</td>\n",
       "      <td>0.0</td>\n",
       "    </tr>\n",
       "    <tr>\n",
       "      <th>499</th>\n",
       "      <td>1264515201</td>\n",
       "      <td>2017-11-02 16:00:00</td>\n",
       "      <td>Work Short Ride</td>\n",
       "      <td>Ride</td>\n",
       "      <td>Starting my way back to being in shape</td>\n",
       "      <td>00:15:00</td>\n",
       "      <td>6437.38</td>\n",
       "      <td>False</td>\n",
       "      <td>Trainer</td>\n",
       "      <td></td>\n",
       "      <td>...</td>\n",
       "      <td>900</td>\n",
       "      <td>21120.013799</td>\n",
       "      <td>4.000003</td>\n",
       "      <td>True</td>\n",
       "      <td>True</td>\n",
       "      <td>True</td>\n",
       "      <td>False</td>\n",
       "      <td>True</td>\n",
       "      <td>Ride</td>\n",
       "      <td>0.0</td>\n",
       "    </tr>\n",
       "    <tr>\n",
       "      <th>501</th>\n",
       "      <td>1264516318</td>\n",
       "      <td>2017-11-03 16:00:00</td>\n",
       "      <td>Lunch Ride</td>\n",
       "      <td>Ride</td>\n",
       "      <td>NaN</td>\n",
       "      <td>00:16:00</td>\n",
       "      <td>8046.72</td>\n",
       "      <td>False</td>\n",
       "      <td>Trainer</td>\n",
       "      <td></td>\n",
       "      <td>...</td>\n",
       "      <td>960</td>\n",
       "      <td>26400.000845</td>\n",
       "      <td>5.000000</td>\n",
       "      <td>True</td>\n",
       "      <td>True</td>\n",
       "      <td>True</td>\n",
       "      <td>False</td>\n",
       "      <td>True</td>\n",
       "      <td>Ride</td>\n",
       "      <td>0.0</td>\n",
       "    </tr>\n",
       "    <tr>\n",
       "      <th>503</th>\n",
       "      <td>1264517543</td>\n",
       "      <td>2017-11-06 22:40:00</td>\n",
       "      <td>Trainer Evening Ride</td>\n",
       "      <td>Ride</td>\n",
       "      <td>Trying out the new CycleOps</td>\n",
       "      <td>00:30:00</td>\n",
       "      <td>14484.10</td>\n",
       "      <td>False</td>\n",
       "      <td>Orbea</td>\n",
       "      <td></td>\n",
       "      <td>...</td>\n",
       "      <td>1800</td>\n",
       "      <td>47520.014644</td>\n",
       "      <td>9.000003</td>\n",
       "      <td>True</td>\n",
       "      <td>True</td>\n",
       "      <td>True</td>\n",
       "      <td>False</td>\n",
       "      <td>True</td>\n",
       "      <td>Ride</td>\n",
       "      <td>0.0</td>\n",
       "    </tr>\n",
       "    <tr>\n",
       "      <th>504</th>\n",
       "      <td>1272903132</td>\n",
       "      <td>2017-11-09 23:00:00</td>\n",
       "      <td>Trainer Ride</td>\n",
       "      <td>Ride</td>\n",
       "      <td>NaN</td>\n",
       "      <td>00:30:00</td>\n",
       "      <td>14484.10</td>\n",
       "      <td>False</td>\n",
       "      <td>Orbea</td>\n",
       "      <td></td>\n",
       "      <td>...</td>\n",
       "      <td>1800</td>\n",
       "      <td>47520.014644</td>\n",
       "      <td>9.000003</td>\n",
       "      <td>True</td>\n",
       "      <td>True</td>\n",
       "      <td>True</td>\n",
       "      <td>False</td>\n",
       "      <td>True</td>\n",
       "      <td>Ride</td>\n",
       "      <td>0.0</td>\n",
       "    </tr>\n",
       "    <tr>\n",
       "      <th>505</th>\n",
       "      <td>1272903778</td>\n",
       "      <td>2017-11-10 17:00:00</td>\n",
       "      <td>Lunch Trainer Session</td>\n",
       "      <td>Ride</td>\n",
       "      <td>NaN</td>\n",
       "      <td>00:33:00</td>\n",
       "      <td>16093.40</td>\n",
       "      <td>False</td>\n",
       "      <td>Orbea</td>\n",
       "      <td></td>\n",
       "      <td>...</td>\n",
       "      <td>1980</td>\n",
       "      <td>52799.870456</td>\n",
       "      <td>9.999975</td>\n",
       "      <td>True</td>\n",
       "      <td>True</td>\n",
       "      <td>True</td>\n",
       "      <td>False</td>\n",
       "      <td>True</td>\n",
       "      <td>Ride</td>\n",
       "      <td>0.0</td>\n",
       "    </tr>\n",
       "    <tr>\n",
       "      <th>506</th>\n",
       "      <td>1272904205</td>\n",
       "      <td>2017-11-12 20:20:00</td>\n",
       "      <td>Sunday Trainer</td>\n",
       "      <td>Ride</td>\n",
       "      <td>NaN</td>\n",
       "      <td>00:36:00</td>\n",
       "      <td>17702.80</td>\n",
       "      <td>False</td>\n",
       "      <td>Orbea</td>\n",
       "      <td></td>\n",
       "      <td>...</td>\n",
       "      <td>2160</td>\n",
       "      <td>58080.054352</td>\n",
       "      <td>11.000010</td>\n",
       "      <td>True</td>\n",
       "      <td>True</td>\n",
       "      <td>True</td>\n",
       "      <td>False</td>\n",
       "      <td>True</td>\n",
       "      <td>Ride</td>\n",
       "      <td>0.0</td>\n",
       "    </tr>\n",
       "    <tr>\n",
       "      <th>508</th>\n",
       "      <td>1277064424</td>\n",
       "      <td>2017-11-14 22:30:00</td>\n",
       "      <td>Evening Trainer Ride</td>\n",
       "      <td>Ride</td>\n",
       "      <td>NaN</td>\n",
       "      <td>00:33:00</td>\n",
       "      <td>16093.40</td>\n",
       "      <td>False</td>\n",
       "      <td>Orbea</td>\n",
       "      <td></td>\n",
       "      <td>...</td>\n",
       "      <td>1980</td>\n",
       "      <td>52799.870456</td>\n",
       "      <td>9.999975</td>\n",
       "      <td>True</td>\n",
       "      <td>True</td>\n",
       "      <td>True</td>\n",
       "      <td>False</td>\n",
       "      <td>True</td>\n",
       "      <td>Ride</td>\n",
       "      <td>0.0</td>\n",
       "    </tr>\n",
       "    <tr>\n",
       "      <th>509</th>\n",
       "      <td>1277116301</td>\n",
       "      <td>2017-11-15 22:30:00</td>\n",
       "      <td>Evening Trainer</td>\n",
       "      <td>Ride</td>\n",
       "      <td>NaN</td>\n",
       "      <td>00:33:00</td>\n",
       "      <td>16093.40</td>\n",
       "      <td>False</td>\n",
       "      <td>Orbea</td>\n",
       "      <td></td>\n",
       "      <td>...</td>\n",
       "      <td>1980</td>\n",
       "      <td>52799.870456</td>\n",
       "      <td>9.999975</td>\n",
       "      <td>True</td>\n",
       "      <td>True</td>\n",
       "      <td>True</td>\n",
       "      <td>False</td>\n",
       "      <td>True</td>\n",
       "      <td>Ride</td>\n",
       "      <td>0.0</td>\n",
       "    </tr>\n",
       "    <tr>\n",
       "      <th>510</th>\n",
       "      <td>1280769489</td>\n",
       "      <td>2017-11-17 22:00:00</td>\n",
       "      <td>Trainer</td>\n",
       "      <td>Ride</td>\n",
       "      <td>NaN</td>\n",
       "      <td>00:36:00</td>\n",
       "      <td>18507.50</td>\n",
       "      <td>False</td>\n",
       "      <td>Orbea</td>\n",
       "      <td></td>\n",
       "      <td>...</td>\n",
       "      <td>2160</td>\n",
       "      <td>60720.146300</td>\n",
       "      <td>11.500028</td>\n",
       "      <td>True</td>\n",
       "      <td>True</td>\n",
       "      <td>True</td>\n",
       "      <td>False</td>\n",
       "      <td>True</td>\n",
       "      <td>Ride</td>\n",
       "      <td>0.0</td>\n",
       "    </tr>\n",
       "    <tr>\n",
       "      <th>511</th>\n",
       "      <td>1280770207</td>\n",
       "      <td>2017-11-18 18:10:00</td>\n",
       "      <td>Rainy Day Trainer Ride</td>\n",
       "      <td>Ride</td>\n",
       "      <td>NaN</td>\n",
       "      <td>00:45:00</td>\n",
       "      <td>22530.80</td>\n",
       "      <td>False</td>\n",
       "      <td>Orbea</td>\n",
       "      <td></td>\n",
       "      <td>...</td>\n",
       "      <td>2700</td>\n",
       "      <td>73919.949872</td>\n",
       "      <td>13.999991</td>\n",
       "      <td>True</td>\n",
       "      <td>True</td>\n",
       "      <td>True</td>\n",
       "      <td>False</td>\n",
       "      <td>True</td>\n",
       "      <td>Ride</td>\n",
       "      <td>0.0</td>\n",
       "    </tr>\n",
       "    <tr>\n",
       "      <th>512</th>\n",
       "      <td>1283876444</td>\n",
       "      <td>2017-11-19 21:30:00</td>\n",
       "      <td>Sunday Trainer</td>\n",
       "      <td>Ride</td>\n",
       "      <td>NaN</td>\n",
       "      <td>00:35:00</td>\n",
       "      <td>17702.80</td>\n",
       "      <td>False</td>\n",
       "      <td>Orbea</td>\n",
       "      <td></td>\n",
       "      <td>...</td>\n",
       "      <td>2100</td>\n",
       "      <td>58080.054352</td>\n",
       "      <td>11.000010</td>\n",
       "      <td>True</td>\n",
       "      <td>True</td>\n",
       "      <td>True</td>\n",
       "      <td>False</td>\n",
       "      <td>True</td>\n",
       "      <td>Ride</td>\n",
       "      <td>0.0</td>\n",
       "    </tr>\n",
       "    <tr>\n",
       "      <th>513</th>\n",
       "      <td>1288767108</td>\n",
       "      <td>2017-11-23 13:00:00</td>\n",
       "      <td>Thanksgiving Trainer Ride</td>\n",
       "      <td>Ride</td>\n",
       "      <td>NaN</td>\n",
       "      <td>00:33:00</td>\n",
       "      <td>16093.40</td>\n",
       "      <td>False</td>\n",
       "      <td>Orbea</td>\n",
       "      <td></td>\n",
       "      <td>...</td>\n",
       "      <td>1980</td>\n",
       "      <td>52799.870456</td>\n",
       "      <td>9.999975</td>\n",
       "      <td>True</td>\n",
       "      <td>True</td>\n",
       "      <td>True</td>\n",
       "      <td>False</td>\n",
       "      <td>True</td>\n",
       "      <td>Ride</td>\n",
       "      <td>0.0</td>\n",
       "    </tr>\n",
       "    <tr>\n",
       "      <th>514</th>\n",
       "      <td>1288768418</td>\n",
       "      <td>2017-11-24 16:00:00</td>\n",
       "      <td>Post-Thanksgiving Indoor Ride</td>\n",
       "      <td>Ride</td>\n",
       "      <td>NaN</td>\n",
       "      <td>01:00:00</td>\n",
       "      <td>28968.20</td>\n",
       "      <td>False</td>\n",
       "      <td>Orbea</td>\n",
       "      <td></td>\n",
       "      <td>...</td>\n",
       "      <td>3600</td>\n",
       "      <td>95040.029288</td>\n",
       "      <td>18.000006</td>\n",
       "      <td>True</td>\n",
       "      <td>True</td>\n",
       "      <td>True</td>\n",
       "      <td>False</td>\n",
       "      <td>True</td>\n",
       "      <td>Ride</td>\n",
       "      <td>0.0</td>\n",
       "    </tr>\n",
       "    <tr>\n",
       "      <th>515</th>\n",
       "      <td>1288770347</td>\n",
       "      <td>2017-11-22 17:00:00</td>\n",
       "      <td>Lunch Ride</td>\n",
       "      <td>Ride</td>\n",
       "      <td>NaN</td>\n",
       "      <td>00:30:00</td>\n",
       "      <td>14484.10</td>\n",
       "      <td>False</td>\n",
       "      <td>Orbea</td>\n",
       "      <td></td>\n",
       "      <td>...</td>\n",
       "      <td>1800</td>\n",
       "      <td>47520.014644</td>\n",
       "      <td>9.000003</td>\n",
       "      <td>True</td>\n",
       "      <td>True</td>\n",
       "      <td>True</td>\n",
       "      <td>False</td>\n",
       "      <td>True</td>\n",
       "      <td>Ride</td>\n",
       "      <td>0.0</td>\n",
       "    </tr>\n",
       "    <tr>\n",
       "      <th>516</th>\n",
       "      <td>1292647394</td>\n",
       "      <td>2017-11-26 14:00:00</td>\n",
       "      <td>Sunday Morning Trainer Ride</td>\n",
       "      <td>Ride</td>\n",
       "      <td>NaN</td>\n",
       "      <td>00:40:00</td>\n",
       "      <td>19312.10</td>\n",
       "      <td>False</td>\n",
       "      <td>Orbea</td>\n",
       "      <td></td>\n",
       "      <td>...</td>\n",
       "      <td>2400</td>\n",
       "      <td>63359.910164</td>\n",
       "      <td>11.999983</td>\n",
       "      <td>True</td>\n",
       "      <td>True</td>\n",
       "      <td>True</td>\n",
       "      <td>False</td>\n",
       "      <td>True</td>\n",
       "      <td>Ride</td>\n",
       "      <td>0.0</td>\n",
       "    </tr>\n",
       "    <tr>\n",
       "      <th>519</th>\n",
       "      <td>1297369982</td>\n",
       "      <td>2017-11-30 22:30:25</td>\n",
       "      <td>Rainy Evening Trainer</td>\n",
       "      <td>Ride</td>\n",
       "      <td>NaN</td>\n",
       "      <td>00:33:00</td>\n",
       "      <td>16093.40</td>\n",
       "      <td>False</td>\n",
       "      <td>Orbea</td>\n",
       "      <td></td>\n",
       "      <td>...</td>\n",
       "      <td>1980</td>\n",
       "      <td>52799.870456</td>\n",
       "      <td>9.999975</td>\n",
       "      <td>True</td>\n",
       "      <td>True</td>\n",
       "      <td>True</td>\n",
       "      <td>False</td>\n",
       "      <td>True</td>\n",
       "      <td>Ride</td>\n",
       "      <td>0.0</td>\n",
       "    </tr>\n",
       "    <tr>\n",
       "      <th>520</th>\n",
       "      <td>1297373482</td>\n",
       "      <td>2017-11-27 22:00:23</td>\n",
       "      <td>Evening Trainer</td>\n",
       "      <td>Ride</td>\n",
       "      <td>NaN</td>\n",
       "      <td>00:30:00</td>\n",
       "      <td>14484.10</td>\n",
       "      <td>False</td>\n",
       "      <td>Orbea</td>\n",
       "      <td></td>\n",
       "      <td>...</td>\n",
       "      <td>1800</td>\n",
       "      <td>47520.014644</td>\n",
       "      <td>9.000003</td>\n",
       "      <td>True</td>\n",
       "      <td>True</td>\n",
       "      <td>True</td>\n",
       "      <td>False</td>\n",
       "      <td>True</td>\n",
       "      <td>Ride</td>\n",
       "      <td>0.0</td>\n",
       "    </tr>\n",
       "  </tbody>\n",
       "</table>\n",
       "<p>104 rows × 39 columns</p>\n",
       "</div>"
      ],
      "text/plain": [
       "             id                date                           name  type  \\\n",
       "169  1186521046 2017-09-15 15:30:00        Trainer Warmup/Cooldown  Ride   \n",
       "196  1214023374 2017-10-03 16:00:00                       Spinning  Ride   \n",
       "244  1494764901 2018-04-07 14:00:00                        Trainer  Ride   \n",
       "245  1497661412 2018-04-08 13:00:00                        Trainer  Ride   \n",
       "250  1519401232 2018-04-18 21:00:00                        Trainer  Ride   \n",
       "251  1519401491 2018-04-19 22:00:00           Another Trainer Ride  Ride   \n",
       "255  1529792224 2018-04-24 21:30:00            Back on the trainer  Ride   \n",
       "258  1536937189 2018-04-28 13:00:00                        Trainer  Ride   \n",
       "290   971985144 2017-05-05 12:00:00                   Morning Ride  Ride   \n",
       "306  1554780672 2018-05-06 22:39:45                        Trainer  Ride   \n",
       "313  1571649208 2018-05-13 16:00:00                   Easy Trainer  Ride   \n",
       "314  1575888686 2018-05-16 00:00:00  Trainer - Missed the sunlight  Ride   \n",
       "317  1587847759 2018-05-22 00:00:00                        Trainer  Ride   \n",
       "318  1591436985 2018-05-23 12:30:00             MS150 Charity Spin  Ride   \n",
       "323  1600809500 2018-05-27 17:00:00                   Lazy Trainer  Ride   \n",
       "348   903844262 2017-03-17 16:20:00                   Bike trainer  Ride   \n",
       "355   920858052 2017-03-30 15:20:00                   Trainer Ride  Ride   \n",
       "356  1432933755 2018-03-02 17:00:00                     Lunch Ride  Ride   \n",
       "357  1435752254 2018-03-03 12:00:00                  Early Trainer  Ride   \n",
       "359  1440997600 2018-03-04 16:00:00                        Trainer  Ride   \n",
       "360  1441000256 2018-03-06 17:00:00                     Spin Class  Ride   \n",
       "362  1445701366 2018-03-10 13:45:33                        Trainer  Ride   \n",
       "363  1445704216 2018-03-07 17:00:03                        Trainer  Ride   \n",
       "364  1449330115 2018-03-11 12:00:00                  Early Trainer  Ride   \n",
       "365  1457414767 2018-03-14 21:30:00                        Trainer  Ride   \n",
       "366  1457415275 2018-03-15 21:00:00                        Trainer  Ride   \n",
       "367  1457416633 2018-03-17 12:00:00                Morning Trainer  Ride   \n",
       "368  1459396401 2018-03-18 13:00:00                        Trainer  Ride   \n",
       "369  1469948748 2018-03-20 16:00:00                     Spin Class  Ride   \n",
       "370  1469949181 2018-03-21 22:00:00                        Trainer  Ride   \n",
       "..          ...                 ...                            ...   ...   \n",
       "465  1392273354 2018-02-04 23:15:41                        Trainer  Ride   \n",
       "466  1395245455 2018-02-06 17:00:00                     Spin Class  Ride   \n",
       "467  1397521793 2018-02-07 17:00:00                        Trainer  Ride   \n",
       "469  1401007761 2018-02-10 15:00:00                        Trainer  Ride   \n",
       "470  1406205057 2018-02-13 17:15:00                     Spin Class  Ride   \n",
       "472  1406207761 2018-02-11 15:00:00                        Trainer  Ride   \n",
       "474  1414997258 2018-02-14 17:00:00                  Lunch Trainer  Ride   \n",
       "475  1414997544 2018-02-17 15:00:00               Saturday Trainer  Ride   \n",
       "476  1414997671 2018-02-19 00:00:00                Evening Trainer  Ride   \n",
       "481  1421919703 2018-02-22 17:00:00            Back on the Trainer  Ride   \n",
       "482  1426264798 2018-02-24 16:00:00                        Trainer  Ride   \n",
       "483  1426265556 2018-02-25 17:00:00                        Trainer  Ride   \n",
       "486  1429263004 2018-02-27 23:00:00                Evening Trainer  Ride   \n",
       "499  1264515201 2017-11-02 16:00:00                Work Short Ride  Ride   \n",
       "501  1264516318 2017-11-03 16:00:00                     Lunch Ride  Ride   \n",
       "503  1264517543 2017-11-06 22:40:00           Trainer Evening Ride  Ride   \n",
       "504  1272903132 2017-11-09 23:00:00                   Trainer Ride  Ride   \n",
       "505  1272903778 2017-11-10 17:00:00          Lunch Trainer Session  Ride   \n",
       "506  1272904205 2017-11-12 20:20:00                 Sunday Trainer  Ride   \n",
       "508  1277064424 2017-11-14 22:30:00           Evening Trainer Ride  Ride   \n",
       "509  1277116301 2017-11-15 22:30:00                Evening Trainer  Ride   \n",
       "510  1280769489 2017-11-17 22:00:00                        Trainer  Ride   \n",
       "511  1280770207 2017-11-18 18:10:00         Rainy Day Trainer Ride  Ride   \n",
       "512  1283876444 2017-11-19 21:30:00                 Sunday Trainer  Ride   \n",
       "513  1288767108 2017-11-23 13:00:00      Thanksgiving Trainer Ride  Ride   \n",
       "514  1288768418 2017-11-24 16:00:00  Post-Thanksgiving Indoor Ride  Ride   \n",
       "515  1288770347 2017-11-22 17:00:00                     Lunch Ride  Ride   \n",
       "516  1292647394 2017-11-26 14:00:00    Sunday Morning Trainer Ride  Ride   \n",
       "519  1297369982 2017-11-30 22:30:25          Rainy Evening Trainer  Ride   \n",
       "520  1297373482 2017-11-27 22:00:23                Evening Trainer  Ride   \n",
       "\n",
       "                                           description elapsed_time  distance  \\\n",
       "169  Was originally going to do a full ride on the ...     00:12:00   6437.38   \n",
       "196  Spin class at work. First ever spin class, act...     00:45:00  24140.20   \n",
       "244  Shortened my usual Saturday trainer ride since...     00:40:00  19312.10   \n",
       "245                                                NaN     01:00:00  28968.20   \n",
       "250         One day it'll be consistently nice outside     00:40:00  19312.10   \n",
       "251                                                NaN     00:34:00  16093.40   \n",
       "255                                                NaN     00:34:00  16093.40   \n",
       "258                Didn't feel like riding in the rain     01:20:00  38624.30   \n",
       "290  Bike MS fundraiser in the lobby of my work - b...     00:45:00  24140.20   \n",
       "306  Easy trainer, legs are sore from yesterday. Ov...     00:30:00  14484.10   \n",
       "313                                                NaN     00:45:00  20921.50   \n",
       "314  Too many errands to run, not enough time in th...     00:35:00  16898.10   \n",
       "317  Too many errands to run, not enough time in th...     00:34:00  16093.40   \n",
       "318                                                NaN     01:00:00  28968.20   \n",
       "323                                                NaN     00:40:00  19312.10   \n",
       "348                                     Cross training     00:20:00  11265.40   \n",
       "355  Bike trainer for a little bit of cross-trainin...     00:23:00  12874.80   \n",
       "356                                                NaN     00:45:00  20921.50   \n",
       "357                                                NaN     01:00:00  28968.20   \n",
       "359             Short session, split with 2.5 mile run     00:20:00   9656.06   \n",
       "360  Showed up a little early to warm up and get a ...     01:00:00  25749.50   \n",
       "362                                                NaN     01:10:00  33796.20   \n",
       "363                                                NaN     00:34:00  16093.40   \n",
       "364                                                NaN     00:40:00  19312.10   \n",
       "365                                                NaN     00:34:00  16093.40   \n",
       "366                                                NaN     00:34:00  16093.40   \n",
       "367                                                NaN     01:10:00  33796.20   \n",
       "368                                                NaN     00:34:00  16093.40   \n",
       "369                                                NaN     00:45:00  20921.50   \n",
       "370                                                NaN     00:20:00   9656.06   \n",
       "..                                                 ...          ...       ...   \n",
       "465                                                NaN     00:34:00  16093.40   \n",
       "466                                                NaN     00:45:00  20921.50   \n",
       "467                                                NaN     00:34:00  16093.40   \n",
       "469                                                NaN     01:00:00  28968.20   \n",
       "470                                                NaN     00:45:00  20921.50   \n",
       "472                                                NaN     00:34:00  16093.40   \n",
       "474                                                NaN     00:34:00  16093.40   \n",
       "475                                                NaN     01:00:00  28968.20   \n",
       "476                                                NaN     00:34:00  16093.40   \n",
       "481          It was nice being outside while it lasted     00:34:00  16093.40   \n",
       "482                                                NaN     00:42:00  20116.80   \n",
       "483  Still waiting on the new tires. Really wish I ...     00:34:00  16093.40   \n",
       "486                                                NaN     00:34:00  16093.40   \n",
       "499             Starting my way back to being in shape     00:15:00   6437.38   \n",
       "501                                                NaN     00:16:00   8046.72   \n",
       "503                        Trying out the new CycleOps     00:30:00  14484.10   \n",
       "504                                                NaN     00:30:00  14484.10   \n",
       "505                                                NaN     00:33:00  16093.40   \n",
       "506                                                NaN     00:36:00  17702.80   \n",
       "508                                                NaN     00:33:00  16093.40   \n",
       "509                                                NaN     00:33:00  16093.40   \n",
       "510                                                NaN     00:36:00  18507.50   \n",
       "511                                                NaN     00:45:00  22530.80   \n",
       "512                                                NaN     00:35:00  17702.80   \n",
       "513                                                NaN     00:33:00  16093.40   \n",
       "514                                                NaN     01:00:00  28968.20   \n",
       "515                                                NaN     00:30:00  14484.10   \n",
       "516                                                NaN     00:40:00  19312.10   \n",
       "519                                                NaN     00:33:00  16093.40   \n",
       "520                                                NaN     00:30:00  14484.10   \n",
       "\n",
       "     commute     gear filename         ...           moving_time_seconds  \\\n",
       "169    False  Trainer                  ...                           720   \n",
       "196    False  Trainer                  ...                          2700   \n",
       "244    False    Orbea                  ...                          2400   \n",
       "245    False    Orbea                  ...                          3600   \n",
       "250    False    Orbea                  ...                          2400   \n",
       "251    False    Orbea                  ...                          2040   \n",
       "255    False    Orbea                  ...                          2040   \n",
       "258    False    Orbea                  ...                          4800   \n",
       "290    False  Trainer                  ...                          2700   \n",
       "306    False    Orbea                  ...                          1800   \n",
       "313    False    Orbea                  ...                          2700   \n",
       "314    False    Orbea                  ...                          2100   \n",
       "317    False    Orbea                  ...                          2100   \n",
       "318    False  Trainer                  ...                          3600   \n",
       "323    False    Orbea                  ...                          3600   \n",
       "348    False    Orbea                  ...                          1200   \n",
       "355    False    Orbea                  ...                          1380   \n",
       "356    False    Orbea                  ...                          2700   \n",
       "357    False    Orbea                  ...                          3600   \n",
       "359    False    Orbea                  ...                          1200   \n",
       "360    False  Trainer                  ...                          3600   \n",
       "362    False    Orbea                  ...                          4200   \n",
       "363    False    Orbea                  ...                          2040   \n",
       "364    False    Orbea                  ...                          2400   \n",
       "365    False    Orbea                  ...                          2040   \n",
       "366    False    Orbea                  ...                          2040   \n",
       "367    False    Orbea                  ...                          4200   \n",
       "368    False    Orbea                  ...                          2040   \n",
       "369    False  Trainer                  ...                          2700   \n",
       "370    False    Orbea                  ...                          1200   \n",
       "..       ...      ...      ...         ...                           ...   \n",
       "465    False    Orbea                  ...                          2040   \n",
       "466    False    Orbea                  ...                          2700   \n",
       "467    False    Orbea                  ...                          2040   \n",
       "469    False    Orbea                  ...                          3600   \n",
       "470    False  Trainer                  ...                          2700   \n",
       "472    False    Orbea                  ...                          2040   \n",
       "474    False    Orbea                  ...                          2040   \n",
       "475    False    Orbea                  ...                          3600   \n",
       "476    False    Orbea                  ...                          2040   \n",
       "481    False    Orbea                  ...                          2040   \n",
       "482    False    Orbea                  ...                          2520   \n",
       "483    False    Orbea                  ...                          2040   \n",
       "486    False    Orbea                  ...                          2040   \n",
       "499    False  Trainer                  ...                           900   \n",
       "501    False  Trainer                  ...                           960   \n",
       "503    False    Orbea                  ...                          1800   \n",
       "504    False    Orbea                  ...                          1800   \n",
       "505    False    Orbea                  ...                          1980   \n",
       "506    False    Orbea                  ...                          2160   \n",
       "508    False    Orbea                  ...                          1980   \n",
       "509    False    Orbea                  ...                          1980   \n",
       "510    False    Orbea                  ...                          2160   \n",
       "511    False    Orbea                  ...                          2700   \n",
       "512    False    Orbea                  ...                          2100   \n",
       "513    False    Orbea                  ...                          1980   \n",
       "514    False    Orbea                  ...                          3600   \n",
       "515    False    Orbea                  ...                          1800   \n",
       "516    False    Orbea                  ...                          2400   \n",
       "519    False    Orbea                  ...                          1980   \n",
       "520    False    Orbea                  ...                          1800   \n",
       "\n",
       "     distance_feet  distance_miles  manual has_station  has_weather  has_file  \\\n",
       "169   21120.013799        4.000003    True        True         True     False   \n",
       "196   79200.133768       15.000025    True        True         True     False   \n",
       "244   63359.910164       11.999983    True        True         True     False   \n",
       "245   95040.029288       18.000006    True        True         True     False   \n",
       "250   63359.910164       11.999983    True        True         True     False   \n",
       "251   52799.870456        9.999975    True        True         True     False   \n",
       "255   52799.870456        9.999975    True        True         True     False   \n",
       "258  126720.148412       24.000028    True        True         True     False   \n",
       "290   79200.133768       15.000025    True        True         True     False   \n",
       "306   47520.014644        9.000003    True        True         True     False   \n",
       "313   68640.094060       13.000018    True        True         True     False   \n",
       "314   55439.962404       10.499993    True        True         True     False   \n",
       "317   52799.870456        9.999975    True        True         True     False   \n",
       "318   95040.029288       18.000006    True        True         True     False   \n",
       "323   63359.910164       11.999983    True        True         True     False   \n",
       "348   36959.974936        6.999995    True        True         True     False   \n",
       "355   42240.158832        8.000030    True        True         True     False   \n",
       "356   68640.094060       13.000018    True        True         True     False   \n",
       "357   95040.029288       18.000006    True        True         True     False   \n",
       "359   31679.987890        5.999998    True        True         True     False   \n",
       "360   84479.989580       15.999998    True        True         True     False   \n",
       "362  110879.924808       20.999986    True        True         True     False   \n",
       "363   52799.870456        9.999975    True        True         True     False   \n",
       "364   63359.910164       11.999983    True        True         True     False   \n",
       "365   52799.870456        9.999975    True        True         True     False   \n",
       "366   52799.870456        9.999975    True        True         True     False   \n",
       "367  110879.924808       20.999986    True        True         True     False   \n",
       "368   52799.870456        9.999975    True        True         True     False   \n",
       "369   68640.094060       13.000018    True        True         True     False   \n",
       "370   31679.987890        5.999998    True        True         True     False   \n",
       "..             ...             ...     ...         ...          ...       ...   \n",
       "465   52799.870456        9.999975    True        True         True     False   \n",
       "466   68640.094060       13.000018    True        True         True     False   \n",
       "467   52799.870456        9.999975    True        True         True     False   \n",
       "469   95040.029288       18.000006    True        True         True     False   \n",
       "470   68640.094060       13.000018    True        True         True     False   \n",
       "472   52799.870456        9.999975    True        True         True     False   \n",
       "474   52799.870456        9.999975    True        True         True     False   \n",
       "475   95040.029288       18.000006    True        True         True     False   \n",
       "476   52799.870456        9.999975    True        True         True     False   \n",
       "481   52799.870456        9.999975    True        True         True     False   \n",
       "482   66000.002112       12.500000    True        True         True     False   \n",
       "483   52799.870456        9.999975    True        True         True     False   \n",
       "486   52799.870456        9.999975    True        True         True     False   \n",
       "499   21120.013799        4.000003    True        True         True     False   \n",
       "501   26400.000845        5.000000    True        True         True     False   \n",
       "503   47520.014644        9.000003    True        True         True     False   \n",
       "504   47520.014644        9.000003    True        True         True     False   \n",
       "505   52799.870456        9.999975    True        True         True     False   \n",
       "506   58080.054352       11.000010    True        True         True     False   \n",
       "508   52799.870456        9.999975    True        True         True     False   \n",
       "509   52799.870456        9.999975    True        True         True     False   \n",
       "510   60720.146300       11.500028    True        True         True     False   \n",
       "511   73919.949872       13.999991    True        True         True     False   \n",
       "512   58080.054352       11.000010    True        True         True     False   \n",
       "513   52799.870456        9.999975    True        True         True     False   \n",
       "514   95040.029288       18.000006    True        True         True     False   \n",
       "515   47520.014644        9.000003    True        True         True     False   \n",
       "516   63359.910164       11.999983    True        True         True     False   \n",
       "519   52799.870456        9.999975    True        True         True     False   \n",
       "520   47520.014644        9.000003    True        True         True     False   \n",
       "\n",
       "     indoor  new_type  other_athlete_count  \n",
       "169    True      Ride                  0.0  \n",
       "196    True      Ride                  0.0  \n",
       "244    True      Ride                  0.0  \n",
       "245    True      Ride                  0.0  \n",
       "250    True      Ride                  0.0  \n",
       "251    True      Ride                  0.0  \n",
       "255    True      Ride                  0.0  \n",
       "258    True      Ride                  0.0  \n",
       "290    True      Ride                  0.0  \n",
       "306    True      Ride                  0.0  \n",
       "313    True      Ride                  0.0  \n",
       "314    True      Ride                  0.0  \n",
       "317    True      Ride                  0.0  \n",
       "318    True      Ride                  0.0  \n",
       "323    True      Ride                  0.0  \n",
       "348    True      Ride                  0.0  \n",
       "355    True      Ride                  0.0  \n",
       "356    True      Ride                  0.0  \n",
       "357    True      Ride                  0.0  \n",
       "359    True      Ride                  0.0  \n",
       "360    True      Ride                  0.0  \n",
       "362    True      Ride                  0.0  \n",
       "363    True      Ride                  0.0  \n",
       "364    True      Ride                  0.0  \n",
       "365    True      Ride                  0.0  \n",
       "366    True      Ride                  0.0  \n",
       "367    True      Ride                  0.0  \n",
       "368    True      Ride                  0.0  \n",
       "369    True      Ride                  0.0  \n",
       "370    True      Ride                  0.0  \n",
       "..      ...       ...                  ...  \n",
       "465    True      Ride                  0.0  \n",
       "466    True      Ride                  0.0  \n",
       "467    True      Ride                  0.0  \n",
       "469    True      Ride                  0.0  \n",
       "470    True      Ride                  0.0  \n",
       "472    True      Ride                  0.0  \n",
       "474    True      Ride                  0.0  \n",
       "475    True      Ride                  0.0  \n",
       "476    True      Ride                  0.0  \n",
       "481    True      Ride                  0.0  \n",
       "482    True      Ride                  0.0  \n",
       "483    True      Ride                  0.0  \n",
       "486    True      Ride                  0.0  \n",
       "499    True      Ride                  0.0  \n",
       "501    True      Ride                  0.0  \n",
       "503    True      Ride                  0.0  \n",
       "504    True      Ride                  0.0  \n",
       "505    True      Ride                  0.0  \n",
       "506    True      Ride                  0.0  \n",
       "508    True      Ride                  0.0  \n",
       "509    True      Ride                  0.0  \n",
       "510    True      Ride                  0.0  \n",
       "511    True      Ride                  0.0  \n",
       "512    True      Ride                  0.0  \n",
       "513    True      Ride                  0.0  \n",
       "514    True      Ride                  0.0  \n",
       "515    True      Ride                  0.0  \n",
       "516    True      Ride                  0.0  \n",
       "519    True      Ride                  0.0  \n",
       "520    True      Ride                  0.0  \n",
       "\n",
       "[104 rows x 39 columns]"
      ]
     },
     "execution_count": 85,
     "metadata": {},
     "output_type": "execute_result"
    }
   ],
   "source": [
    "#They're all trainer activities\n",
    "activities.loc[(activities['calories']==0)&(activities['type']=='Ride'),:]"
   ]
  },
  {
   "cell_type": "code",
   "execution_count": 33,
   "metadata": {},
   "outputs": [
    {
     "data": {
      "image/png": "[encoded data removed]",
      "text/plain": [
       "<matplotlib.figure.Figure at 0x1cc76a8cef0>"
      ]
     },
     "metadata": {},
     "output_type": "display_data"
    }
   ],
   "source": [
    "sns.scatterplot(activities['average_speed'],activities['calories'])\n",
    "plt.show()"
   ]
  },
  {
   "cell_type": "code",
   "execution_count": 34,
   "metadata": {},
   "outputs": [
    {
     "data": {
      "text/plain": [
       "calories                1.000000\n",
       "total_elevation_gain    0.917231\n",
       "moving_time_seconds     0.895154\n",
       "max_speed               0.871362\n",
       "distance_miles          0.863736\n",
       "distance                0.863736\n",
       "distance_feet           0.863736\n",
       "has_file                0.805677\n",
       "TMAX                    0.631561\n",
       "TMIN                    0.602499\n",
       "Name: calories, dtype: float64"
      ]
     },
     "execution_count": 34,
     "metadata": {},
     "output_type": "execute_result"
    }
   ],
   "source": [
    "activities[activities['type']=='Ride'].corr()['calories'].sort_values(ascending=False).head(10)\n",
    "\n",
    "#total_elevation_gain\n",
    "#moving_time_seconds\n",
    "#max_speed\n",
    "#distance_miles"
   ]
  },
  {
   "cell_type": "code",
   "execution_count": 35,
   "metadata": {},
   "outputs": [
    {
     "data": {
      "text/plain": [
       "calories                1.000000\n",
       "distance_miles          0.988201\n",
       "distance                0.988201\n",
       "distance_feet           0.988201\n",
       "moving_time_seconds     0.747454\n",
       "total_elevation_gain    0.463237\n",
       "achievement_count       0.404129\n",
       "average_speed           0.333111\n",
       "TMIN                    0.094405\n",
       "kudos_count             0.087242\n",
       "Name: calories, dtype: float64"
      ]
     },
     "execution_count": 35,
     "metadata": {},
     "output_type": "execute_result"
    }
   ],
   "source": [
    "activities[activities['type']=='Run'].corr()['calories'].sort_values(ascending=False).head(10)\n",
    "\n",
    "#total_elevation_gain\n",
    "#moving_time_seconds\n",
    "#max_speed\n",
    "#distance_miles"
   ]
  },
  {
   "cell_type": "markdown",
   "metadata": {},
   "source": [
    "Interestingly, for running calories are almost entirely correlated with distance\n",
    "\n",
    "For cycling, calories are largely correlated with elevation, moving time, max_speed, and distance (all of which are  correlated amongst each other)"
   ]
  },
  {
   "cell_type": "code",
   "execution_count": 46,
   "metadata": {},
   "outputs": [
    {
     "data": {
      "text/html": [
       "<div>\n",
       "<style scoped>\n",
       "    .dataframe tbody tr th:only-of-type {\n",
       "        vertical-align: middle;\n",
       "    }\n",
       "\n",
       "    .dataframe tbody tr th {\n",
       "        vertical-align: top;\n",
       "    }\n",
       "\n",
       "    .dataframe thead th {\n",
       "        text-align: right;\n",
       "    }\n",
       "</style>\n",
       "<table border=\"1\" class=\"dataframe\">\n",
       "  <thead>\n",
       "    <tr style=\"text-align: right;\">\n",
       "      <th></th>\n",
       "      <th>total_elevation_gain</th>\n",
       "      <th>moving_time_seconds</th>\n",
       "      <th>max_speed</th>\n",
       "      <th>distance</th>\n",
       "    </tr>\n",
       "  </thead>\n",
       "  <tbody>\n",
       "    <tr>\n",
       "      <th>total_elevation_gain</th>\n",
       "      <td>1.000000</td>\n",
       "      <td>0.806530</td>\n",
       "      <td>0.802353</td>\n",
       "      <td>0.759940</td>\n",
       "    </tr>\n",
       "    <tr>\n",
       "      <th>moving_time_seconds</th>\n",
       "      <td>0.806530</td>\n",
       "      <td>1.000000</td>\n",
       "      <td>0.665893</td>\n",
       "      <td>0.968837</td>\n",
       "    </tr>\n",
       "    <tr>\n",
       "      <th>max_speed</th>\n",
       "      <td>0.802353</td>\n",
       "      <td>0.665893</td>\n",
       "      <td>1.000000</td>\n",
       "      <td>0.594031</td>\n",
       "    </tr>\n",
       "    <tr>\n",
       "      <th>distance</th>\n",
       "      <td>0.759940</td>\n",
       "      <td>0.968837</td>\n",
       "      <td>0.594031</td>\n",
       "      <td>1.000000</td>\n",
       "    </tr>\n",
       "  </tbody>\n",
       "</table>\n",
       "</div>"
      ],
      "text/plain": [
       "                      total_elevation_gain  moving_time_seconds  max_speed  \\\n",
       "total_elevation_gain              1.000000             0.806530   0.802353   \n",
       "moving_time_seconds               0.806530             1.000000   0.665893   \n",
       "max_speed                         0.802353             0.665893   1.000000   \n",
       "distance                          0.759940             0.968837   0.594031   \n",
       "\n",
       "                      distance  \n",
       "total_elevation_gain  0.759940  \n",
       "moving_time_seconds   0.968837  \n",
       "max_speed             0.594031  \n",
       "distance              1.000000  "
      ]
     },
     "execution_count": 46,
     "metadata": {},
     "output_type": "execute_result"
    }
   ],
   "source": [
    "chk = ['total_elevation_gain','moving_time_seconds','max_speed','distance']\n",
    "\n",
    "activities[activities['type']=='Ride'].corr()[chk].loc[chk,:]"
   ]
  },
  {
   "cell_type": "code",
   "execution_count": 98,
   "metadata": {},
   "outputs": [
    {
     "name": "stdout",
     "output_type": "stream",
     "text": [
      "Ride\n",
      "Average R2: 87.01%\n",
      "Standard deviation: 8.20%\n",
      "Linear average R2: 94.77%\n",
      "Linear standard deviation: 4.68%\n",
      "\n",
      "Run\n",
      "Average R2: 98.11%\n",
      "Standard deviation: 1.09%\n",
      "Linear average R2: 97.09%\n",
      "Linear standard deviation: 1.09%\n",
      "\n",
      "Walk\n",
      "Average R2: 0.00%\n",
      "Standard deviation: 0.00%\n",
      "Linear average R2: 0.00%\n",
      "Linear standard deviation: 0.00%\n",
      "\n",
      "Hike\n"
     ]
    }
   ],
   "source": [
    "from sklearn.ensemble import RandomForestRegressor\n",
    "from sklearn.linear_model import LinearRegression\n",
    "from sklearn.preprocessing import MinMaxScaler\n",
    "from sklearn.model_selection import cross_val_score\n",
    "from sklearn.model_selection import KFold\n",
    "\n",
    "x = activities.copy()\n",
    "all_types = x['type'].unique()\n",
    "\n",
    "cols_to_drop = ['name','description','filename','filename_fix','latlng']\n",
    "x.drop(cols_to_drop,axis=1,inplace=True)\n",
    "\n",
    "x = pd.get_dummies(x)\n",
    "\n",
    "impute = x[(x['calories'].isnull())|(x['calories']==0)]\n",
    "x = x[(~x['calories'].isnull())&(x['calories']!=0)]\n",
    "\n",
    "y = x['calories']\n",
    "x.drop('calories',axis=1,inplace=True)\n",
    "\n",
    "numerics = ['int16', 'int32', 'int64', 'float16', 'float32', 'float64']\n",
    "cols = x.select_dtypes(numerics).columns\n",
    "\n",
    "scaler = MinMaxScaler(feature_range = (0,1))\n",
    "scaler.fit(x[cols])\n",
    "x[cols] = scaler.transform(x[cols])\n",
    "impute[cols] = scaler.transform(impute[cols])\n",
    "\n",
    "drop_cols = ['id','date', 'elapsed_time', 'moving_time', 'date_est']\n",
    "x.drop(drop_cols,inplace=True,axis=1)\n",
    "\n",
    "rf = RandomForestRegressor()\n",
    "linreg = LinearRegression()\n",
    "linear_ride_vars = ['distance_miles','max_speed','total_elevation_gain','moving_time_seconds']\n",
    "linear_run_vars = ['distance_miles','moving_time_seconds']\n",
    "\n",
    "for t in all_types:\n",
    "    print(t)\n",
    "    new_x = x[x['type_'+t]==1]\n",
    "    if t == 'Ride':\n",
    "        lin_x = new_x[linear_ride_vars]\n",
    "    else:\n",
    "        lin_x = new_x[linear_run_vars]\n",
    "    new_y = y[new_x.index]\n",
    "    n_splits = 10\n",
    "    if new_x.shape[0] < 10:\n",
    "        n_splits = new_x.shape[0]\n",
    "    if n_splits == 1:\n",
    "        continue\n",
    "    kfold = KFold(n_splits=n_splits,random_state=2)\n",
    "    results_rf = cross_val_score(rf, new_x, new_y, cv=kfold,scoring='r2')\n",
    "    results_lr = cross_val_score(linreg, lin_x, new_y, cv=kfold,scoring='r2')\n",
    "    print('Average R2: %2.2f%%'%(results_rf.mean()*100.0))\n",
    "    print('Standard deviation: %2.2f%%'%(results_rf.std()*100.0))\n",
    "    print('Linear average R2: %2.2f%%'%(results_lr.mean()*100.0))\n",
    "    print('Linear standard deviation: %2.2f%%'%(results_lr.std()*100.0))\n",
    "    print('')"
   ]
  },
  {
   "cell_type": "markdown",
   "metadata": {},
   "source": [
    "Interesting - a linear model does better for rides and worse for runs than a random forest. But, on the whole, I'm okay with being a few percentage points off where I'm missing data - I'll use a linear model"
   ]
  },
  {
   "cell_type": "code",
   "execution_count": 99,
   "metadata": {},
   "outputs": [],
   "source": [
    "for t in all_types:\n",
    "    new_x = x[x['type_'+t]==1]\n",
    "    if t == 'Ride':\n",
    "        lin_x = new_x[linear_ride_vars]\n",
    "        imp = impute[impute['type_'+t]==1][linear_ride_vars]\n",
    "    else:\n",
    "        lin_x = new_x[linear_run_vars]\n",
    "        imp = impute[impute['type_'+t]==1][linear_run_vars]\n",
    "        \n",
    "    if imp.shape[0] == 0:\n",
    "        continue\n",
    "        \n",
    "    new_y = y[new_x.index]\n",
    "    linreg = LinearRegression()\n",
    "    linreg.fit(lin_x,new_y)\n",
    "    imp['pred'] = linreg.predict(imp)\n",
    "    impute.loc[imp.index,'pred'] = imp['pred']"
   ]
  },
  {
   "cell_type": "code",
   "execution_count": 100,
   "metadata": {},
   "outputs": [],
   "source": [
    "i = impute.index"
   ]
  },
  {
   "cell_type": "code",
   "execution_count": 101,
   "metadata": {},
   "outputs": [],
   "source": [
    "activities.loc[i,'calories'] = impute['pred']"
   ]
  },
  {
   "cell_type": "markdown",
   "metadata": {},
   "source": [
    "Now that we've imputed the data, how does it look?"
   ]
  },
  {
   "cell_type": "code",
   "execution_count": 102,
   "metadata": {},
   "outputs": [
    {
     "data": {
      "image/png": "[encoded data removed]",
      "text/plain": [
       "<matplotlib.figure.Figure at 0x27b40031d30>"
      ]
     },
     "metadata": {},
     "output_type": "display_data"
    }
   ],
   "source": [
    "g = sns.lmplot(x=\"distance_miles\", y=\"calories\", hue=\"type\",\n",
    "               truncate=True, data=activities)\n",
    "plt.ylim(0,2500)\n",
    "plt.show()"
   ]
  },
  {
   "cell_type": "markdown",
   "metadata": {},
   "source": [
    "Total elevation gain is returned with units (e.g. feet) so this needs to be converted to a float\n",
    "\n",
    "\n",
    "We'll need to do the same for average and max speed as well"
   ]
  },
  {
   "cell_type": "code",
   "execution_count": null,
   "metadata": {},
   "outputs": [],
   "source": [
    "activities.select_dtypes(object)"
   ]
  },
  {
   "cell_type": "code",
   "execution_count": 58,
   "metadata": {},
   "outputs": [
    {
     "data": {
      "text/html": [
       "<div>\n",
       "<style scoped>\n",
       "    .dataframe tbody tr th:only-of-type {\n",
       "        vertical-align: middle;\n",
       "    }\n",
       "\n",
       "    .dataframe tbody tr th {\n",
       "        vertical-align: top;\n",
       "    }\n",
       "\n",
       "    .dataframe thead th {\n",
       "        text-align: right;\n",
       "    }\n",
       "</style>\n",
       "<table border=\"1\" class=\"dataframe\">\n",
       "  <thead>\n",
       "    <tr style=\"text-align: right;\">\n",
       "      <th></th>\n",
       "      <th>id</th>\n",
       "      <th>date</th>\n",
       "      <th>name</th>\n",
       "      <th>type</th>\n",
       "      <th>description</th>\n",
       "      <th>elapsed_time</th>\n",
       "      <th>distance</th>\n",
       "      <th>commute</th>\n",
       "      <th>gear</th>\n",
       "      <th>filename</th>\n",
       "      <th>...</th>\n",
       "      <th>moving_time_seconds</th>\n",
       "      <th>distance_feet</th>\n",
       "      <th>distance_miles</th>\n",
       "      <th>manual</th>\n",
       "      <th>has_station</th>\n",
       "      <th>has_weather</th>\n",
       "      <th>has_file</th>\n",
       "      <th>indoor</th>\n",
       "      <th>new_type</th>\n",
       "      <th>other_athlete_count</th>\n",
       "    </tr>\n",
       "  </thead>\n",
       "  <tbody>\n",
       "    <tr>\n",
       "      <th>0</th>\n",
       "      <td>11823912</td>\n",
       "      <td>2012-06-26 22:17:36</td>\n",
       "      <td>Jun 26, 2012</td>\n",
       "      <td>Ride</td>\n",
       "      <td>NaN</td>\n",
       "      <td>01:35:28</td>\n",
       "      <td>32518.2</td>\n",
       "      <td>False</td>\n",
       "      <td>NaN</td>\n",
       "      <td>activities/11823912.gpx</td>\n",
       "      <td>...</td>\n",
       "      <td>5322</td>\n",
       "      <td>106687.011288</td>\n",
       "      <td>20.205873</td>\n",
       "      <td>False</td>\n",
       "      <td>True</td>\n",
       "      <td>False</td>\n",
       "      <td>True</td>\n",
       "      <td>False</td>\n",
       "      <td>Ride</td>\n",
       "      <td>1.0</td>\n",
       "    </tr>\n",
       "    <tr>\n",
       "      <th>1</th>\n",
       "      <td>12093460</td>\n",
       "      <td>2012-06-30 14:05:19</td>\n",
       "      <td>Jun 30, 2012</td>\n",
       "      <td>Ride</td>\n",
       "      <td>NaN</td>\n",
       "      <td>01:54:06</td>\n",
       "      <td>39051.2</td>\n",
       "      <td>False</td>\n",
       "      <td>NaN</td>\n",
       "      <td>activities/12093460.gpx</td>\n",
       "      <td>...</td>\n",
       "      <td>6273</td>\n",
       "      <td>128120.739008</td>\n",
       "      <td>24.265291</td>\n",
       "      <td>False</td>\n",
       "      <td>True</td>\n",
       "      <td>False</td>\n",
       "      <td>True</td>\n",
       "      <td>False</td>\n",
       "      <td>Ride</td>\n",
       "      <td>0.0</td>\n",
       "    </tr>\n",
       "    <tr>\n",
       "      <th>2</th>\n",
       "      <td>57479962</td>\n",
       "      <td>2013-06-01 11:22:25</td>\n",
       "      <td>Morning Ride</td>\n",
       "      <td>Ride</td>\n",
       "      <td>NaN</td>\n",
       "      <td>02:38:45</td>\n",
       "      <td>51531.0</td>\n",
       "      <td>False</td>\n",
       "      <td>Orbea</td>\n",
       "      <td>activities/57479962.gpx</td>\n",
       "      <td>...</td>\n",
       "      <td>7379</td>\n",
       "      <td>169064.966040</td>\n",
       "      <td>32.019880</td>\n",
       "      <td>False</td>\n",
       "      <td>True</td>\n",
       "      <td>False</td>\n",
       "      <td>True</td>\n",
       "      <td>False</td>\n",
       "      <td>Ride</td>\n",
       "      <td>7.0</td>\n",
       "    </tr>\n",
       "    <tr>\n",
       "      <th>3</th>\n",
       "      <td>58993417</td>\n",
       "      <td>2013-06-08 11:20:05</td>\n",
       "      <td>Larksville Mountain</td>\n",
       "      <td>Ride</td>\n",
       "      <td>NaN</td>\n",
       "      <td>02:59:04</td>\n",
       "      <td>53837.0</td>\n",
       "      <td>False</td>\n",
       "      <td>Orbea</td>\n",
       "      <td>activities/58993417.gpx</td>\n",
       "      <td>...</td>\n",
       "      <td>7529</td>\n",
       "      <td>176630.583080</td>\n",
       "      <td>33.452762</td>\n",
       "      <td>False</td>\n",
       "      <td>True</td>\n",
       "      <td>False</td>\n",
       "      <td>True</td>\n",
       "      <td>False</td>\n",
       "      <td>Ride</td>\n",
       "      <td>5.0</td>\n",
       "    </tr>\n",
       "    <tr>\n",
       "      <th>4</th>\n",
       "      <td>148403154</td>\n",
       "      <td>2014-06-01 23:10:05</td>\n",
       "      <td>Sunday long run</td>\n",
       "      <td>Run</td>\n",
       "      <td>NaN</td>\n",
       "      <td>00:42:16</td>\n",
       "      <td>4809.8</td>\n",
       "      <td>False</td>\n",
       "      <td>NaN</td>\n",
       "      <td>activities/162388804.fit.gz</td>\n",
       "      <td>...</td>\n",
       "      <td>1448</td>\n",
       "      <td>15780.184232</td>\n",
       "      <td>2.988671</td>\n",
       "      <td>False</td>\n",
       "      <td>True</td>\n",
       "      <td>True</td>\n",
       "      <td>True</td>\n",
       "      <td>False</td>\n",
       "      <td>Run</td>\n",
       "      <td>0.0</td>\n",
       "    </tr>\n",
       "  </tbody>\n",
       "</table>\n",
       "<p>5 rows × 39 columns</p>\n",
       "</div>"
      ],
      "text/plain": [
       "          id                date                 name  type description  \\\n",
       "0   11823912 2012-06-26 22:17:36         Jun 26, 2012  Ride         NaN   \n",
       "1   12093460 2012-06-30 14:05:19         Jun 30, 2012  Ride         NaN   \n",
       "2   57479962 2013-06-01 11:22:25         Morning Ride  Ride         NaN   \n",
       "3   58993417 2013-06-08 11:20:05  Larksville Mountain  Ride         NaN   \n",
       "4  148403154 2014-06-01 23:10:05      Sunday long run   Run         NaN   \n",
       "\n",
       "  elapsed_time  distance  commute   gear                     filename  \\\n",
       "0     01:35:28   32518.2    False    NaN      activities/11823912.gpx   \n",
       "1     01:54:06   39051.2    False    NaN      activities/12093460.gpx   \n",
       "2     02:38:45   51531.0    False  Orbea      activities/57479962.gpx   \n",
       "3     02:59:04   53837.0    False  Orbea      activities/58993417.gpx   \n",
       "4     00:42:16    4809.8    False    NaN  activities/162388804.fit.gz   \n",
       "\n",
       "          ...           moving_time_seconds  distance_feet  distance_miles  \\\n",
       "0         ...                          5322  106687.011288       20.205873   \n",
       "1         ...                          6273  128120.739008       24.265291   \n",
       "2         ...                          7379  169064.966040       32.019880   \n",
       "3         ...                          7529  176630.583080       33.452762   \n",
       "4         ...                          1448   15780.184232        2.988671   \n",
       "\n",
       "   manual has_station  has_weather  has_file  indoor  new_type  \\\n",
       "0   False        True        False      True   False      Ride   \n",
       "1   False        True        False      True   False      Ride   \n",
       "2   False        True        False      True   False      Ride   \n",
       "3   False        True        False      True   False      Ride   \n",
       "4   False        True         True      True   False       Run   \n",
       "\n",
       "   other_athlete_count  \n",
       "0                  1.0  \n",
       "1                  0.0  \n",
       "2                  7.0  \n",
       "3                  5.0  \n",
       "4                  0.0  \n",
       "\n",
       "[5 rows x 39 columns]"
      ]
     },
     "execution_count": 58,
     "metadata": {},
     "output_type": "execute_result"
    }
   ],
   "source": [
    "activities.head()"
   ]
  },
  {
   "cell_type": "markdown",
   "metadata": {
    "heading_collapsed": true
   },
   "source": [
    "# Map"
   ]
  },
  {
   "cell_type": "markdown",
   "metadata": {
    "hidden": true
   },
   "source": [
    "I'll use a library named mplleaflet to create the \"heatmap\" of my rides.\n",
    "\n",
    "Library found at:\n",
    "https://github.com/jwass/mplleaflet"
   ]
  },
  {
   "cell_type": "markdown",
   "metadata": {
    "hidden": true
   },
   "source": [
    "First thing I'll do is draw a circle (ends up looking like an oval) around Pittsburgh showing the boundaries of rides I'll map"
   ]
  },
  {
   "cell_type": "code",
   "execution_count": 81,
   "metadata": {
    "hidden": true
   },
   "outputs": [],
   "source": [
    "a = 40.466192\n",
    "b = -79.922708"
   ]
  },
  {
   "cell_type": "code",
   "execution_count": 82,
   "metadata": {
    "hidden": true
   },
   "outputs": [],
   "source": [
    "alin = np.linspace(a-0.5,a+0.5,100)\n",
    "blin_top = b + np.sqrt(0.25 - np.power(alin-a,2))\n",
    "blin_bot = b - np.sqrt(0.25 - np.power(alin-a,2))"
   ]
  },
  {
   "cell_type": "code",
   "execution_count": 83,
   "metadata": {
    "hidden": true
   },
   "outputs": [],
   "source": [
    "from folium.plugins import HeatMap\n",
    "import folium\n",
    "import mplleaflet"
   ]
  },
  {
   "cell_type": "markdown",
   "metadata": {
    "hidden": true
   },
   "source": [
    "Looking to plot only the activities relatively close to Pittsburgh, as defined by those points within a circle of radius 0.25 of the defined latitude/longitude. Since longitude degrees have a different length at our latitude than at the equator, it essentially turns into an oval instead of a circle."
   ]
  },
  {
   "cell_type": "code",
   "execution_count": 84,
   "metadata": {
    "hidden": true
   },
   "outputs": [],
   "source": [
    "ll = activities['latlng'].apply(lambda x: np.array(x))\n",
    "ll = ll.apply(lambda x: x-np.array((40.466192, -79.922708)))\n",
    "ll = ll.apply(lambda x: np.sum(np.power(x,2)))"
   ]
  },
  {
   "cell_type": "code",
   "execution_count": 85,
   "metadata": {
    "hidden": true
   },
   "outputs": [],
   "source": [
    "def smooth_speed(point_num,segment,num_pts_to_smooth):\n",
    "    start_point = point_num - num_pts_to_smooth\n",
    "    end_point = point_num + num_pts_to_smooth + 1\n",
    "    if start_point < 0:\n",
    "        start_point = 0\n",
    "    if end_point > len(segment.points):\n",
    "        end_point = len(segment.points)\n",
    "    n = end_point - start_point\n",
    "    \n",
    "    avg = 0\n",
    "    for i in range(start_point,end_point - 1):\n",
    "        cur_pt = segment.points[i]\n",
    "        next_pt = segment.points[i+1]\n",
    "        avg += cur_pt.speed_between(next_pt)\n",
    "    return avg / n"
   ]
  },
  {
   "cell_type": "code",
   "execution_count": 86,
   "metadata": {
    "hidden": true
   },
   "outputs": [],
   "source": [
    "def plot_activity(activity):\n",
    "    fn = activity.filename_fix\n",
    "    with open(fn,'r') as gpx_file:\n",
    "        gpx = gpxpy.parse(gpx_file)\n",
    "        lat = []\n",
    "        lng = []\n",
    "        segment = gpx.tracks[0].segments[0]\n",
    "        for point_no, pt in enumerate(segment.points):\n",
    "            lat.append(pt.latitude)\n",
    "            lng.append(pt.longitude)\n",
    "    #plt.plot(lng, lat, color = 'deepskyblue', lw = 0.2, alpha = 0.8)\n",
    "    return lat,lng"
   ]
  },
  {
   "cell_type": "markdown",
   "metadata": {
    "hidden": true
   },
   "source": [
    "Note: I'm using ll (a distance from Pittsburgh) as a filter, so that I'm only looking at activities which start within .25 degree of Pittsburgh."
   ]
  },
  {
   "cell_type": "code",
   "execution_count": 71,
   "metadata": {
    "hidden": true
   },
   "outputs": [],
   "source": [
    "#Puts them into a list of lists\n",
    "#activities_subset = activities[(activities['manual']==False)]\n",
    "activities_subset = activities[(ll < 0.5)&(activities['manual']==False)]\n",
    "\n",
    "all_lat = []\n",
    "all_lng = []\n",
    "act_type = []\n",
    "for ind,row in activities_subset.iterrows():\n",
    "    lat,lng = plot_activity(row)\n",
    "    act_type.append(row.new_type)\n",
    "    all_lat.append(lat)\n",
    "    all_lng.append(lng)"
   ]
  },
  {
   "cell_type": "code",
   "execution_count": 78,
   "metadata": {
    "hidden": true,
    "scrolled": false
   },
   "outputs": [],
   "source": [
    "fig = plt.figure(facecolor = '0.05',figsize=(20,20))\n",
    "ax = plt.Axes(fig, [0., 0., 1., 1.], )\n",
    "ax.set_aspect('equal')\n",
    "ax.set_axis_off()\n",
    "fig.add_axes(ax)\n",
    "for i in range(len(all_lat)):\n",
    "    lat = all_lat[i]\n",
    "    lng = all_lng[i]\n",
    "    a = act_type[i]\n",
    "    if a=='Ride':\n",
    "        plot_col = 'red'\n",
    "    else:\n",
    "        plot_col = 'blue'\n",
    "    plt.plot(lng,lat, color = plot_col, lw = 2, alpha = 0.2)\n",
    "    \n",
    "plt.plot(blin_top,alin,color='black',lw=1,alpha=1)\n",
    "plt.plot(blin_bot,alin,color='black',lw=1,alpha=1)\n",
    "mplleaflet.show(tiles='cartodb_positron')"
   ]
  },
  {
   "cell_type": "markdown",
   "metadata": {
    "heading_collapsed": true
   },
   "source": [
    "# Trying to Use Quiver"
   ]
  },
  {
   "cell_type": "code",
   "execution_count": 44,
   "metadata": {
    "hidden": true
   },
   "outputs": [],
   "source": [
    "import pyproj"
   ]
  },
  {
   "cell_type": "code",
   "execution_count": 45,
   "metadata": {
    "hidden": true
   },
   "outputs": [],
   "source": [
    "fn = activities_subset.loc[0].filename_fix\n",
    "with open(fn,'r') as gpx_file:\n",
    "    gpx = gpxpy.parse(gpx_file)"
   ]
  },
  {
   "cell_type": "code",
   "execution_count": 52,
   "metadata": {
    "hidden": true
   },
   "outputs": [],
   "source": [
    "seg = gpx.tracks[0].segments[0]"
   ]
  },
  {
   "cell_type": "code",
   "execution_count": 99,
   "metadata": {
    "hidden": true
   },
   "outputs": [],
   "source": [
    "y = [pt.latitude for pt in seg.points]\n",
    "x = [pt.longitude for pt in seg.points]\n",
    "speed = [seg.get_speed(i) for i in range(len(seg.points))]\n",
    "speed = np.array(speed)"
   ]
  },
  {
   "cell_type": "code",
   "execution_count": 56,
   "metadata": {
    "hidden": true
   },
   "outputs": [],
   "source": [
    "proj_in = pyproj.Proj(preserve_units=True, init='epsg:4326', no_defs=True)\n",
    "crs_out = {'init': 'epsg:26986', 'no_defs': True}\n",
    "proj_out = pyproj.Proj(preserve_units=True, **crs_out)\n",
    "t = pyproj.transform(proj_in, proj_out, x, y)"
   ]
  },
  {
   "cell_type": "code",
   "execution_count": 93,
   "metadata": {
    "hidden": true
   },
   "outputs": [],
   "source": [
    "from math import radians, degrees,cos, sin, asin, sqrt, atan2\n",
    "\n",
    "def bearing(pt_one, pt_two):\n",
    "    lat1, lon1 = map(radians,pt_one)\n",
    "    lat2, lon2 = map(radians,pt_two)\n",
    "    \n",
    "    dL = lon2 - lon1\n",
    "    x = cos(lat2) * sin(dL)\n",
    "    y = cos(lat1) * sin(lat2) - sin(lat1) * cos(lat2) * cos(dL)\n",
    "    b = atan2(x,y)\n",
    "    return b"
   ]
  },
  {
   "cell_type": "code",
   "execution_count": 110,
   "metadata": {
    "hidden": true
   },
   "outputs": [],
   "source": [
    "#Calculating bearing between two points\n",
    "pt_one=[39.099912, -94.581213]\n",
    "pt_two=[38.627089, -90.200203]\n",
    "\n",
    "h = bearing(pt_one,pt_two)"
   ]
  },
  {
   "cell_type": "code",
   "execution_count": 100,
   "metadata": {
    "hidden": true
   },
   "outputs": [],
   "source": [
    "bearings = []\n",
    "for i in range(len(y)):\n",
    "    pt_one = [y[i],x[i]]\n",
    "    try:\n",
    "        pt_two = [y[i+1],x[i+1]]\n",
    "    except:\n",
    "        pt_two = pt_one\n",
    "    bearings.append(bearing(pt_one,pt_two))\n",
    "bearings = np.array(bearings)"
   ]
  },
  {
   "cell_type": "code",
   "execution_count": 115,
   "metadata": {
    "hidden": true
   },
   "outputs": [],
   "source": [
    "r = speed / max(speed)\n",
    "uv = r[:, np.newaxis] * np.column_stack([np.sin(bearings), np.cos(bearings)])"
   ]
  },
  {
   "cell_type": "code",
   "execution_count": 128,
   "metadata": {
    "hidden": true
   },
   "outputs": [],
   "source": [
    "mapfile = 'strava_quiver.html'\n",
    "\n",
    "plt.quiver(x, y, uv[:,0], uv[:,1], speed,scale=20)\n",
    "mplleaflet.show(path=mapfile,tiles='cartodb_positron')"
   ]
  },
  {
   "cell_type": "markdown",
   "metadata": {
    "heading_collapsed": true
   },
   "source": [
    "# Speed and Smoothing"
   ]
  },
  {
   "cell_type": "code",
   "execution_count": 48,
   "metadata": {
    "hidden": true
   },
   "outputs": [],
   "source": [
    "pt = []\n",
    "x = []\n",
    "smoothed_x = []\n",
    "\n",
    "for track in gpx.tracks:\n",
    "    for segment in track.segments:\n",
    "        for point_no, point in enumerate(segment.points):\n",
    "            pt.append(point_no)\n",
    "            x.append(point.speed_between(segment.points[point_no - 1]))\n",
    "            smoothed_x.append(smooth_speed(point_no,segment,5))\n",
    "#             print('Point at ({0},{1}) -> {2}'.format(point.latitude, point.longitude, point.elevation))"
   ]
  },
  {
   "cell_type": "code",
   "execution_count": 49,
   "metadata": {
    "hidden": true
   },
   "outputs": [
    {
     "data": {
      "image/png": "[encoded data removed]",
      "text/plain": [
       "<matplotlib.figure.Figure at 0x2549fc07ef0>"
      ]
     },
     "metadata": {},
     "output_type": "display_data"
    }
   ],
   "source": [
    "plt.plot(pt,x)\n",
    "plt.plot(pt,smoothed_x)\n",
    "plt.show()"
   ]
  },
  {
   "cell_type": "markdown",
   "metadata": {
    "heading_collapsed": true
   },
   "source": [
    "# Strava Attributes"
   ]
  },
  {
   "cell_type": "markdown",
   "metadata": {
    "hidden": true
   },
   "source": [
    "In this section I will go through some descriptive statistics about what my Strava-derived data (such as achievement count) looks like."
   ]
  },
  {
   "cell_type": "code",
   "execution_count": 62,
   "metadata": {
    "hidden": true
   },
   "outputs": [],
   "source": [
    "import seaborn as sns"
   ]
  },
  {
   "cell_type": "code",
   "execution_count": 85,
   "metadata": {
    "hidden": true
   },
   "outputs": [],
   "source": [
    "biking = activities[activities['new_type']=='Ride']"
   ]
  },
  {
   "cell_type": "code",
   "execution_count": 86,
   "metadata": {
    "hidden": true
   },
   "outputs": [
    {
     "data": {
      "text/html": [
       "<div>\n",
       "<style scoped>\n",
       "    .dataframe tbody tr th:only-of-type {\n",
       "        vertical-align: middle;\n",
       "    }\n",
       "\n",
       "    .dataframe tbody tr th {\n",
       "        vertical-align: top;\n",
       "    }\n",
       "\n",
       "    .dataframe thead th {\n",
       "        text-align: right;\n",
       "    }\n",
       "</style>\n",
       "<table border=\"1\" class=\"dataframe\">\n",
       "  <thead>\n",
       "    <tr style=\"text-align: right;\">\n",
       "      <th></th>\n",
       "      <th>id</th>\n",
       "      <th>date</th>\n",
       "      <th>name</th>\n",
       "      <th>type</th>\n",
       "      <th>description</th>\n",
       "      <th>elapsed_time</th>\n",
       "      <th>distance</th>\n",
       "      <th>commute</th>\n",
       "      <th>gear</th>\n",
       "      <th>filename</th>\n",
       "      <th>...</th>\n",
       "      <th>moving_time_seconds</th>\n",
       "      <th>distance_feet</th>\n",
       "      <th>distance_miles</th>\n",
       "      <th>manual</th>\n",
       "      <th>has_station</th>\n",
       "      <th>has_weather</th>\n",
       "      <th>has_file</th>\n",
       "      <th>indoor</th>\n",
       "      <th>new_type</th>\n",
       "      <th>other_athlete_count</th>\n",
       "    </tr>\n",
       "  </thead>\n",
       "  <tbody>\n",
       "    <tr>\n",
       "      <th>0</th>\n",
       "      <td>11823912</td>\n",
       "      <td>2012-06-26 22:17:36</td>\n",
       "      <td>Jun 26, 2012</td>\n",
       "      <td>Ride</td>\n",
       "      <td>NaN</td>\n",
       "      <td>01:35:28</td>\n",
       "      <td>32518.2</td>\n",
       "      <td>False</td>\n",
       "      <td>NaN</td>\n",
       "      <td>activities/11823912.gpx</td>\n",
       "      <td>...</td>\n",
       "      <td>5322</td>\n",
       "      <td>106687.011288</td>\n",
       "      <td>20.205873</td>\n",
       "      <td>False</td>\n",
       "      <td>True</td>\n",
       "      <td>False</td>\n",
       "      <td>True</td>\n",
       "      <td>False</td>\n",
       "      <td>Ride</td>\n",
       "      <td>1.0</td>\n",
       "    </tr>\n",
       "    <tr>\n",
       "      <th>1</th>\n",
       "      <td>12093460</td>\n",
       "      <td>2012-06-30 14:05:19</td>\n",
       "      <td>Jun 30, 2012</td>\n",
       "      <td>Ride</td>\n",
       "      <td>NaN</td>\n",
       "      <td>01:54:06</td>\n",
       "      <td>39051.2</td>\n",
       "      <td>False</td>\n",
       "      <td>NaN</td>\n",
       "      <td>activities/12093460.gpx</td>\n",
       "      <td>...</td>\n",
       "      <td>6273</td>\n",
       "      <td>128120.739008</td>\n",
       "      <td>24.265291</td>\n",
       "      <td>False</td>\n",
       "      <td>True</td>\n",
       "      <td>False</td>\n",
       "      <td>True</td>\n",
       "      <td>False</td>\n",
       "      <td>Ride</td>\n",
       "      <td>0.0</td>\n",
       "    </tr>\n",
       "    <tr>\n",
       "      <th>2</th>\n",
       "      <td>57479962</td>\n",
       "      <td>2013-06-01 11:22:25</td>\n",
       "      <td>Morning Ride</td>\n",
       "      <td>Ride</td>\n",
       "      <td>NaN</td>\n",
       "      <td>02:38:45</td>\n",
       "      <td>51531.0</td>\n",
       "      <td>False</td>\n",
       "      <td>Orbea</td>\n",
       "      <td>activities/57479962.gpx</td>\n",
       "      <td>...</td>\n",
       "      <td>7379</td>\n",
       "      <td>169064.966040</td>\n",
       "      <td>32.019880</td>\n",
       "      <td>False</td>\n",
       "      <td>True</td>\n",
       "      <td>False</td>\n",
       "      <td>True</td>\n",
       "      <td>False</td>\n",
       "      <td>Ride</td>\n",
       "      <td>7.0</td>\n",
       "    </tr>\n",
       "    <tr>\n",
       "      <th>3</th>\n",
       "      <td>58993417</td>\n",
       "      <td>2013-06-08 11:20:05</td>\n",
       "      <td>Larksville Mountain</td>\n",
       "      <td>Ride</td>\n",
       "      <td>NaN</td>\n",
       "      <td>02:59:04</td>\n",
       "      <td>53837.0</td>\n",
       "      <td>False</td>\n",
       "      <td>Orbea</td>\n",
       "      <td>activities/58993417.gpx</td>\n",
       "      <td>...</td>\n",
       "      <td>7529</td>\n",
       "      <td>176630.583080</td>\n",
       "      <td>33.452762</td>\n",
       "      <td>False</td>\n",
       "      <td>True</td>\n",
       "      <td>False</td>\n",
       "      <td>True</td>\n",
       "      <td>False</td>\n",
       "      <td>Ride</td>\n",
       "      <td>5.0</td>\n",
       "    </tr>\n",
       "    <tr>\n",
       "      <th>35</th>\n",
       "      <td>1031765759</td>\n",
       "      <td>2017-06-11 13:00:43</td>\n",
       "      <td>Morning Ride with Friends</td>\n",
       "      <td>Ride</td>\n",
       "      <td>NaN</td>\n",
       "      <td>02:02:07</td>\n",
       "      <td>37719.6</td>\n",
       "      <td>False</td>\n",
       "      <td>Orbea</td>\n",
       "      <td>activities/1134789725.fit.gz</td>\n",
       "      <td>...</td>\n",
       "      <td>6572</td>\n",
       "      <td>123751.972464</td>\n",
       "      <td>23.437874</td>\n",
       "      <td>False</td>\n",
       "      <td>True</td>\n",
       "      <td>False</td>\n",
       "      <td>True</td>\n",
       "      <td>False</td>\n",
       "      <td>Ride</td>\n",
       "      <td>1.0</td>\n",
       "    </tr>\n",
       "  </tbody>\n",
       "</table>\n",
       "<p>5 rows × 39 columns</p>\n",
       "</div>"
      ],
      "text/plain": [
       "            id                date                       name  type  \\\n",
       "0     11823912 2012-06-26 22:17:36               Jun 26, 2012  Ride   \n",
       "1     12093460 2012-06-30 14:05:19               Jun 30, 2012  Ride   \n",
       "2     57479962 2013-06-01 11:22:25               Morning Ride  Ride   \n",
       "3     58993417 2013-06-08 11:20:05        Larksville Mountain  Ride   \n",
       "35  1031765759 2017-06-11 13:00:43  Morning Ride with Friends  Ride   \n",
       "\n",
       "   description elapsed_time  distance  commute   gear  \\\n",
       "0          NaN     01:35:28   32518.2    False    NaN   \n",
       "1          NaN     01:54:06   39051.2    False    NaN   \n",
       "2          NaN     02:38:45   51531.0    False  Orbea   \n",
       "3          NaN     02:59:04   53837.0    False  Orbea   \n",
       "35         NaN     02:02:07   37719.6    False  Orbea   \n",
       "\n",
       "                        filename         ...           moving_time_seconds  \\\n",
       "0        activities/11823912.gpx         ...                          5322   \n",
       "1        activities/12093460.gpx         ...                          6273   \n",
       "2        activities/57479962.gpx         ...                          7379   \n",
       "3        activities/58993417.gpx         ...                          7529   \n",
       "35  activities/1134789725.fit.gz         ...                          6572   \n",
       "\n",
       "    distance_feet  distance_miles  manual has_station  has_weather  has_file  \\\n",
       "0   106687.011288       20.205873   False        True        False      True   \n",
       "1   128120.739008       24.265291   False        True        False      True   \n",
       "2   169064.966040       32.019880   False        True        False      True   \n",
       "3   176630.583080       33.452762   False        True        False      True   \n",
       "35  123751.972464       23.437874   False        True        False      True   \n",
       "\n",
       "    indoor  new_type  other_athlete_count  \n",
       "0    False      Ride                  1.0  \n",
       "1    False      Ride                  0.0  \n",
       "2    False      Ride                  7.0  \n",
       "3    False      Ride                  5.0  \n",
       "35   False      Ride                  1.0  \n",
       "\n",
       "[5 rows x 39 columns]"
      ]
     },
     "execution_count": 86,
     "metadata": {},
     "output_type": "execute_result"
    }
   ],
   "source": [
    "biking.head()"
   ]
  },
  {
   "cell_type": "code",
   "execution_count": 87,
   "metadata": {
    "hidden": true
   },
   "outputs": [
    {
     "data": {
      "text/html": [
       "<div>\n",
       "<style scoped>\n",
       "    .dataframe tbody tr th:only-of-type {\n",
       "        vertical-align: middle;\n",
       "    }\n",
       "\n",
       "    .dataframe tbody tr th {\n",
       "        vertical-align: top;\n",
       "    }\n",
       "\n",
       "    .dataframe thead th {\n",
       "        text-align: right;\n",
       "    }\n",
       "</style>\n",
       "<table border=\"1\" class=\"dataframe\">\n",
       "  <thead>\n",
       "    <tr style=\"text-align: right;\">\n",
       "      <th></th>\n",
       "      <th>id</th>\n",
       "      <th>elapsed_time</th>\n",
       "      <th>distance</th>\n",
       "      <th>athlete_count</th>\n",
       "      <th>achievement_count</th>\n",
       "      <th>comment_count</th>\n",
       "      <th>kudos_count</th>\n",
       "      <th>moving_time</th>\n",
       "      <th>total_elevation_gain</th>\n",
       "      <th>average_speed</th>\n",
       "      <th>...</th>\n",
       "      <th>calories</th>\n",
       "      <th>TMAX</th>\n",
       "      <th>TMIN</th>\n",
       "      <th>PRECIP</th>\n",
       "      <th>year</th>\n",
       "      <th>month</th>\n",
       "      <th>moving_time_seconds</th>\n",
       "      <th>distance_feet</th>\n",
       "      <th>distance_miles</th>\n",
       "      <th>other_athlete_count</th>\n",
       "    </tr>\n",
       "  </thead>\n",
       "  <tbody>\n",
       "    <tr>\n",
       "      <th>count</th>\n",
       "      <td>2.160000e+02</td>\n",
       "      <td>216</td>\n",
       "      <td>216.000000</td>\n",
       "      <td>216.000000</td>\n",
       "      <td>216.000000</td>\n",
       "      <td>216.000000</td>\n",
       "      <td>216.000000</td>\n",
       "      <td>216</td>\n",
       "      <td>216.000000</td>\n",
       "      <td>216.000000</td>\n",
       "      <td>...</td>\n",
       "      <td>216.000000</td>\n",
       "      <td>216.000000</td>\n",
       "      <td>216.000000</td>\n",
       "      <td>216.000000</td>\n",
       "      <td>216.000000</td>\n",
       "      <td>216.000000</td>\n",
       "      <td>216.000000</td>\n",
       "      <td>216.000000</td>\n",
       "      <td>216.000000</td>\n",
       "      <td>216.000000</td>\n",
       "    </tr>\n",
       "    <tr>\n",
       "      <th>mean</th>\n",
       "      <td>1.017120e+09</td>\n",
       "      <td>0 days 01:08:27.782407</td>\n",
       "      <td>26079.583333</td>\n",
       "      <td>1.620370</td>\n",
       "      <td>2.152778</td>\n",
       "      <td>0.101852</td>\n",
       "      <td>2.041667</td>\n",
       "      <td>0 days 01:01:55.902777</td>\n",
       "      <td>591.257222</td>\n",
       "      <td>16.254910</td>\n",
       "      <td>...</td>\n",
       "      <td>512.762747</td>\n",
       "      <td>61.612083</td>\n",
       "      <td>39.807917</td>\n",
       "      <td>18.421296</td>\n",
       "      <td>2016.458333</td>\n",
       "      <td>6.087963</td>\n",
       "      <td>3715.902778</td>\n",
       "      <td>85562.940183</td>\n",
       "      <td>16.205102</td>\n",
       "      <td>0.620370</td>\n",
       "    </tr>\n",
       "    <tr>\n",
       "      <th>std</th>\n",
       "      <td>5.488606e+08</td>\n",
       "      <td>0 days 00:43:50.458586</td>\n",
       "      <td>13618.368698</td>\n",
       "      <td>2.423596</td>\n",
       "      <td>4.147265</td>\n",
       "      <td>0.384340</td>\n",
       "      <td>2.535905</td>\n",
       "      <td>0 days 00:35:18.776339</td>\n",
       "      <td>783.261761</td>\n",
       "      <td>2.268657</td>\n",
       "      <td>...</td>\n",
       "      <td>392.822998</td>\n",
       "      <td>20.469688</td>\n",
       "      <td>17.578383</td>\n",
       "      <td>50.970519</td>\n",
       "      <td>1.918848</td>\n",
       "      <td>3.435335</td>\n",
       "      <td>2118.776339</td>\n",
       "      <td>44679.688758</td>\n",
       "      <td>8.462062</td>\n",
       "      <td>2.423596</td>\n",
       "    </tr>\n",
       "    <tr>\n",
       "      <th>min</th>\n",
       "      <td>1.182391e+07</td>\n",
       "      <td>0 days 00:11:05</td>\n",
       "      <td>1202.200000</td>\n",
       "      <td>1.000000</td>\n",
       "      <td>0.000000</td>\n",
       "      <td>0.000000</td>\n",
       "      <td>0.000000</td>\n",
       "      <td>0 days 00:06:51</td>\n",
       "      <td>0.000000</td>\n",
       "      <td>6.540000</td>\n",
       "      <td>...</td>\n",
       "      <td>-7.793737</td>\n",
       "      <td>12.920000</td>\n",
       "      <td>-5.980000</td>\n",
       "      <td>0.000000</td>\n",
       "      <td>2012.000000</td>\n",
       "      <td>1.000000</td>\n",
       "      <td>411.000000</td>\n",
       "      <td>3944.225848</td>\n",
       "      <td>0.747012</td>\n",
       "      <td>0.000000</td>\n",
       "    </tr>\n",
       "    <tr>\n",
       "      <th>25%</th>\n",
       "      <td>5.211019e+08</td>\n",
       "      <td>0 days 00:34:00</td>\n",
       "      <td>16093.400000</td>\n",
       "      <td>1.000000</td>\n",
       "      <td>0.000000</td>\n",
       "      <td>0.000000</td>\n",
       "      <td>0.000000</td>\n",
       "      <td>0 days 00:34:00</td>\n",
       "      <td>0.000000</td>\n",
       "      <td>14.845000</td>\n",
       "      <td>...</td>\n",
       "      <td>185.583951</td>\n",
       "      <td>44.735000</td>\n",
       "      <td>28.040000</td>\n",
       "      <td>0.000000</td>\n",
       "      <td>2015.750000</td>\n",
       "      <td>3.000000</td>\n",
       "      <td>2040.000000</td>\n",
       "      <td>52799.870456</td>\n",
       "      <td>9.999975</td>\n",
       "      <td>0.000000</td>\n",
       "    </tr>\n",
       "    <tr>\n",
       "      <th>50%</th>\n",
       "      <td>1.286322e+09</td>\n",
       "      <td>0 days 00:51:47.500000</td>\n",
       "      <td>20921.500000</td>\n",
       "      <td>1.000000</td>\n",
       "      <td>0.000000</td>\n",
       "      <td>0.000000</td>\n",
       "      <td>1.000000</td>\n",
       "      <td>0 days 00:48:37.500000</td>\n",
       "      <td>117.455000</td>\n",
       "      <td>17.165000</td>\n",
       "      <td>...</td>\n",
       "      <td>403.000000</td>\n",
       "      <td>66.020000</td>\n",
       "      <td>42.080000</td>\n",
       "      <td>0.000000</td>\n",
       "      <td>2017.000000</td>\n",
       "      <td>5.000000</td>\n",
       "      <td>2917.500000</td>\n",
       "      <td>68640.094060</td>\n",
       "      <td>13.000018</td>\n",
       "      <td>0.000000</td>\n",
       "    </tr>\n",
       "    <tr>\n",
       "      <th>75%</th>\n",
       "      <td>1.418903e+09</td>\n",
       "      <td>0 days 01:34:52.750000</td>\n",
       "      <td>32283.975000</td>\n",
       "      <td>1.000000</td>\n",
       "      <td>2.000000</td>\n",
       "      <td>0.000000</td>\n",
       "      <td>3.000000</td>\n",
       "      <td>0 days 01:20:12.500000</td>\n",
       "      <td>1161.250000</td>\n",
       "      <td>18.000626</td>\n",
       "      <td>...</td>\n",
       "      <td>740.250000</td>\n",
       "      <td>80.960000</td>\n",
       "      <td>55.940000</td>\n",
       "      <td>5.750000</td>\n",
       "      <td>2018.000000</td>\n",
       "      <td>9.000000</td>\n",
       "      <td>4812.500000</td>\n",
       "      <td>105918.556539</td>\n",
       "      <td>20.060333</td>\n",
       "      <td>0.000000</td>\n",
       "    </tr>\n",
       "    <tr>\n",
       "      <th>max</th>\n",
       "      <td>1.600810e+09</td>\n",
       "      <td>0 days 03:28:00</td>\n",
       "      <td>80588.300000</td>\n",
       "      <td>30.000000</td>\n",
       "      <td>20.000000</td>\n",
       "      <td>3.000000</td>\n",
       "      <td>12.000000</td>\n",
       "      <td>0 days 03:14:51</td>\n",
       "      <td>4166.670000</td>\n",
       "      <td>21.000358</td>\n",
       "      <td>...</td>\n",
       "      <td>2032.500000</td>\n",
       "      <td>91.940000</td>\n",
       "      <td>69.080000</td>\n",
       "      <td>457.000000</td>\n",
       "      <td>2018.000000</td>\n",
       "      <td>12.000000</td>\n",
       "      <td>11691.000000</td>\n",
       "      <td>264397.318172</td>\n",
       "      <td>50.075250</td>\n",
       "      <td>29.000000</td>\n",
       "    </tr>\n",
       "  </tbody>\n",
       "</table>\n",
       "<p>8 rows × 21 columns</p>\n",
       "</div>"
      ],
      "text/plain": [
       "                 id            elapsed_time      distance  athlete_count  \\\n",
       "count  2.160000e+02                     216    216.000000     216.000000   \n",
       "mean   1.017120e+09  0 days 01:08:27.782407  26079.583333       1.620370   \n",
       "std    5.488606e+08  0 days 00:43:50.458586  13618.368698       2.423596   \n",
       "min    1.182391e+07         0 days 00:11:05   1202.200000       1.000000   \n",
       "25%    5.211019e+08         0 days 00:34:00  16093.400000       1.000000   \n",
       "50%    1.286322e+09  0 days 00:51:47.500000  20921.500000       1.000000   \n",
       "75%    1.418903e+09  0 days 01:34:52.750000  32283.975000       1.000000   \n",
       "max    1.600810e+09         0 days 03:28:00  80588.300000      30.000000   \n",
       "\n",
       "       achievement_count  comment_count  kudos_count             moving_time  \\\n",
       "count         216.000000     216.000000   216.000000                     216   \n",
       "mean            2.152778       0.101852     2.041667  0 days 01:01:55.902777   \n",
       "std             4.147265       0.384340     2.535905  0 days 00:35:18.776339   \n",
       "min             0.000000       0.000000     0.000000         0 days 00:06:51   \n",
       "25%             0.000000       0.000000     0.000000         0 days 00:34:00   \n",
       "50%             0.000000       0.000000     1.000000  0 days 00:48:37.500000   \n",
       "75%             2.000000       0.000000     3.000000  0 days 01:20:12.500000   \n",
       "max            20.000000       3.000000    12.000000         0 days 03:14:51   \n",
       "\n",
       "       total_elevation_gain  average_speed         ...              calories  \\\n",
       "count            216.000000     216.000000         ...            216.000000   \n",
       "mean             591.257222      16.254910         ...            512.762747   \n",
       "std              783.261761       2.268657         ...            392.822998   \n",
       "min                0.000000       6.540000         ...             -7.793737   \n",
       "25%                0.000000      14.845000         ...            185.583951   \n",
       "50%              117.455000      17.165000         ...            403.000000   \n",
       "75%             1161.250000      18.000626         ...            740.250000   \n",
       "max             4166.670000      21.000358         ...           2032.500000   \n",
       "\n",
       "             TMAX        TMIN      PRECIP         year       month  \\\n",
       "count  216.000000  216.000000  216.000000   216.000000  216.000000   \n",
       "mean    61.612083   39.807917   18.421296  2016.458333    6.087963   \n",
       "std     20.469688   17.578383   50.970519     1.918848    3.435335   \n",
       "min     12.920000   -5.980000    0.000000  2012.000000    1.000000   \n",
       "25%     44.735000   28.040000    0.000000  2015.750000    3.000000   \n",
       "50%     66.020000   42.080000    0.000000  2017.000000    5.000000   \n",
       "75%     80.960000   55.940000    5.750000  2018.000000    9.000000   \n",
       "max     91.940000   69.080000  457.000000  2018.000000   12.000000   \n",
       "\n",
       "       moving_time_seconds  distance_feet  distance_miles  other_athlete_count  \n",
       "count           216.000000     216.000000      216.000000           216.000000  \n",
       "mean           3715.902778   85562.940183       16.205102             0.620370  \n",
       "std            2118.776339   44679.688758        8.462062             2.423596  \n",
       "min             411.000000    3944.225848        0.747012             0.000000  \n",
       "25%            2040.000000   52799.870456        9.999975             0.000000  \n",
       "50%            2917.500000   68640.094060       13.000018             0.000000  \n",
       "75%            4812.500000  105918.556539       20.060333             0.000000  \n",
       "max           11691.000000  264397.318172       50.075250            29.000000  \n",
       "\n",
       "[8 rows x 21 columns]"
      ]
     },
     "execution_count": 87,
     "metadata": {},
     "output_type": "execute_result"
    }
   ],
   "source": [
    "biking.describe()"
   ]
  },
  {
   "cell_type": "code",
   "execution_count": 88,
   "metadata": {
    "hidden": true
   },
   "outputs": [
    {
     "data": {
      "text/html": [
       "<div>\n",
       "<style scoped>\n",
       "    .dataframe tbody tr th:only-of-type {\n",
       "        vertical-align: middle;\n",
       "    }\n",
       "\n",
       "    .dataframe tbody tr th {\n",
       "        vertical-align: top;\n",
       "    }\n",
       "\n",
       "    .dataframe thead tr th {\n",
       "        text-align: left;\n",
       "    }\n",
       "\n",
       "    .dataframe thead tr:last-of-type th {\n",
       "        text-align: right;\n",
       "    }\n",
       "</style>\n",
       "<table border=\"1\" class=\"dataframe\">\n",
       "  <thead>\n",
       "    <tr>\n",
       "      <th></th>\n",
       "      <th colspan=\"4\" halign=\"left\">distance_miles</th>\n",
       "      <th colspan=\"4\" halign=\"left\">kudos_count</th>\n",
       "    </tr>\n",
       "    <tr>\n",
       "      <th></th>\n",
       "      <th>mean</th>\n",
       "      <th>sum</th>\n",
       "      <th>count</th>\n",
       "      <th>max</th>\n",
       "      <th>mean</th>\n",
       "      <th>sum</th>\n",
       "      <th>count</th>\n",
       "      <th>max</th>\n",
       "    </tr>\n",
       "    <tr>\n",
       "      <th>athlete_count</th>\n",
       "      <th></th>\n",
       "      <th></th>\n",
       "      <th></th>\n",
       "      <th></th>\n",
       "      <th></th>\n",
       "      <th></th>\n",
       "      <th></th>\n",
       "      <th></th>\n",
       "    </tr>\n",
       "  </thead>\n",
       "  <tbody>\n",
       "    <tr>\n",
       "      <th>1.0</th>\n",
       "      <td>14.751431</td>\n",
       "      <td>2729.014704</td>\n",
       "      <td>185</td>\n",
       "      <td>50.075250</td>\n",
       "      <td>1.924324</td>\n",
       "      <td>356.0</td>\n",
       "      <td>185</td>\n",
       "      <td>10.0</td>\n",
       "    </tr>\n",
       "    <tr>\n",
       "      <th>2.0</th>\n",
       "      <td>18.528458</td>\n",
       "      <td>148.227668</td>\n",
       "      <td>8</td>\n",
       "      <td>27.010820</td>\n",
       "      <td>1.000000</td>\n",
       "      <td>8.0</td>\n",
       "      <td>8</td>\n",
       "      <td>5.0</td>\n",
       "    </tr>\n",
       "    <tr>\n",
       "      <th>3.0</th>\n",
       "      <td>26.318538</td>\n",
       "      <td>131.592690</td>\n",
       "      <td>5</td>\n",
       "      <td>34.341820</td>\n",
       "      <td>2.000000</td>\n",
       "      <td>10.0</td>\n",
       "      <td>5</td>\n",
       "      <td>10.0</td>\n",
       "    </tr>\n",
       "    <tr>\n",
       "      <th>4.0</th>\n",
       "      <td>28.872200</td>\n",
       "      <td>115.488799</td>\n",
       "      <td>4</td>\n",
       "      <td>38.747963</td>\n",
       "      <td>2.250000</td>\n",
       "      <td>9.0</td>\n",
       "      <td>4</td>\n",
       "      <td>7.0</td>\n",
       "    </tr>\n",
       "    <tr>\n",
       "      <th>6.0</th>\n",
       "      <td>28.340213</td>\n",
       "      <td>170.041277</td>\n",
       "      <td>6</td>\n",
       "      <td>33.452762</td>\n",
       "      <td>1.500000</td>\n",
       "      <td>9.0</td>\n",
       "      <td>6</td>\n",
       "      <td>6.0</td>\n",
       "    </tr>\n",
       "    <tr>\n",
       "      <th>7.0</th>\n",
       "      <td>24.222821</td>\n",
       "      <td>96.891283</td>\n",
       "      <td>4</td>\n",
       "      <td>27.117199</td>\n",
       "      <td>7.000000</td>\n",
       "      <td>28.0</td>\n",
       "      <td>4</td>\n",
       "      <td>8.0</td>\n",
       "    </tr>\n",
       "    <tr>\n",
       "      <th>8.0</th>\n",
       "      <td>32.786362</td>\n",
       "      <td>98.359086</td>\n",
       "      <td>3</td>\n",
       "      <td>40.027118</td>\n",
       "      <td>7.000000</td>\n",
       "      <td>21.0</td>\n",
       "      <td>3</td>\n",
       "      <td>12.0</td>\n",
       "    </tr>\n",
       "    <tr>\n",
       "      <th>30.0</th>\n",
       "      <td>10.686591</td>\n",
       "      <td>10.686591</td>\n",
       "      <td>1</td>\n",
       "      <td>10.686591</td>\n",
       "      <td>0.000000</td>\n",
       "      <td>0.0</td>\n",
       "      <td>1</td>\n",
       "      <td>0.0</td>\n",
       "    </tr>\n",
       "  </tbody>\n",
       "</table>\n",
       "</div>"
      ],
      "text/plain": [
       "              distance_miles                               kudos_count         \\\n",
       "                        mean          sum count        max        mean    sum   \n",
       "athlete_count                                                                   \n",
       "1.0                14.751431  2729.014704   185  50.075250    1.924324  356.0   \n",
       "2.0                18.528458   148.227668     8  27.010820    1.000000    8.0   \n",
       "3.0                26.318538   131.592690     5  34.341820    2.000000   10.0   \n",
       "4.0                28.872200   115.488799     4  38.747963    2.250000    9.0   \n",
       "6.0                28.340213   170.041277     6  33.452762    1.500000    9.0   \n",
       "7.0                24.222821    96.891283     4  27.117199    7.000000   28.0   \n",
       "8.0                32.786362    98.359086     3  40.027118    7.000000   21.0   \n",
       "30.0               10.686591    10.686591     1  10.686591    0.000000    0.0   \n",
       "\n",
       "                           \n",
       "              count   max  \n",
       "athlete_count              \n",
       "1.0             185  10.0  \n",
       "2.0               8   5.0  \n",
       "3.0               5  10.0  \n",
       "4.0               4   7.0  \n",
       "6.0               6   6.0  \n",
       "7.0               4   8.0  \n",
       "8.0               3  12.0  \n",
       "30.0              1   0.0  "
      ]
     },
     "execution_count": 88,
     "metadata": {},
     "output_type": "execute_result"
    }
   ],
   "source": [
    "biking.groupby('athlete_count').agg({'count','mean','max','sum'})[['distance_miles','kudos_count']]"
   ]
  },
  {
   "cell_type": "markdown",
   "metadata": {
    "hidden": true
   },
   "source": [
    "The more people I ride with, the longer I tend to ride. However, I have done my longest rides ever by myself."
   ]
  },
  {
   "cell_type": "code",
   "execution_count": 89,
   "metadata": {
    "hidden": true
   },
   "outputs": [
    {
     "data": {
      "image/png": "[encoded data removed]",
      "text/plain": [
       "<matplotlib.figure.Figure at 0x171674ea400>"
      ]
     },
     "metadata": {},
     "output_type": "display_data"
    }
   ],
   "source": [
    "sns.boxplot(x='athlete_count',y='distance_miles',data=biking)\n",
    "plt.show()"
   ]
  },
  {
   "cell_type": "markdown",
   "metadata": {
    "hidden": true
   },
   "source": [
    "I do appear to have more kudos on the longer rides, but the correlation is weak as we'll see in a bit"
   ]
  },
  {
   "cell_type": "code",
   "execution_count": 90,
   "metadata": {
    "hidden": true
   },
   "outputs": [
    {
     "data": {
      "image/png": "[encoded data removed]",
      "text/plain": [
       "<matplotlib.figure.Figure at 0x1716ccf1f28>"
      ]
     },
     "metadata": {},
     "output_type": "display_data"
    }
   ],
   "source": [
    "sns.boxplot(x='kudos_count',y='distance_miles',data=biking)\n",
    "plt.show()"
   ]
  },
  {
   "cell_type": "code",
   "execution_count": 91,
   "metadata": {
    "hidden": true
   },
   "outputs": [
    {
     "name": "stderr",
     "output_type": "stream",
     "text": [
      "C:\\Users\\Rich\\Anaconda3\\lib\\site-packages\\pandas\\core\\generic.py:4355: SettingWithCopyWarning: \n",
      "A value is trying to be set on a copy of a slice from a DataFrame\n",
      "\n",
      "See the caveats in the documentation: http://pandas.pydata.org/pandas-docs/stable/indexing.html#indexing-view-versus-copy\n",
      "  self._update_inplace(new_data)\n"
     ]
    }
   ],
   "source": [
    "biking['achievement_count'].fillna(0,inplace=True)\n",
    "biking['kudos_count'].fillna(0,inplace=True)"
   ]
  },
  {
   "cell_type": "code",
   "execution_count": 92,
   "metadata": {
    "hidden": true
   },
   "outputs": [
    {
     "data": {
      "image/png": "[encoded data removed]",
      "text/plain": [
       "<matplotlib.figure.Figure at 0x1716d3ffc88>"
      ]
     },
     "metadata": {},
     "output_type": "display_data"
    }
   ],
   "source": [
    "corr_set = biking.select_dtypes('float64')\n",
    "\n",
    "c = corr_set.corr()\n",
    "c = c[~c.isnull()]\n",
    "\n",
    "fig,ax = plt.subplots(figsize=(20,20))\n",
    "cmap = sns.diverging_palette(220, 10, as_cmap=True)\n",
    "sns.heatmap(c,ax=ax,cmap=cmap,annot=True)\n",
    "plt.show()"
   ]
  },
  {
   "cell_type": "code",
   "execution_count": 93,
   "metadata": {
    "hidden": true
   },
   "outputs": [
    {
     "data": {
      "image/png": "[encoded data removed]",
      "text/plain": [
       "<matplotlib.figure.Figure at 0x1716ba34048>"
      ]
     },
     "metadata": {},
     "output_type": "display_data"
    }
   ],
   "source": [
    "fig,ax = plt.subplots(figsize=(16,8))\n",
    "\n",
    "x = biking['date'].apply(lambda x: pd.to_datetime(x)).values\n",
    "y = biking['kudos_count'].values\n",
    "y2 = biking['athlete_count'].values\n",
    "\n",
    "ax.scatter(x,y,c='b',label='kudos count')\n",
    "ax.scatter(x,y2,c='r',label='athlete count')\n",
    "ax.legend()\n",
    "plt.show()"
   ]
  },
  {
   "cell_type": "markdown",
   "metadata": {
    "hidden": true
   },
   "source": [
    "Is there any relationship between distance and time of day or athlete count and time of day?"
   ]
  },
  {
   "cell_type": "code",
   "execution_count": 72,
   "metadata": {
    "hidden": true
   },
   "outputs": [
    {
     "name": "stderr",
     "output_type": "stream",
     "text": [
      "C:\\Users\\Rich\\Anaconda3\\lib\\site-packages\\pandas\\core\\indexing.py:357: SettingWithCopyWarning: \n",
      "A value is trying to be set on a copy of a slice from a DataFrame.\n",
      "Try using .loc[row_indexer,col_indexer] = value instead\n",
      "\n",
      "See the caveats in the documentation: http://pandas.pydata.org/pandas-docs/stable/indexing.html#indexing-view-versus-copy\n",
      "  self.obj[key] = _infer_fill_value(value)\n",
      "C:\\Users\\Rich\\Anaconda3\\lib\\site-packages\\pandas\\core\\indexing.py:537: SettingWithCopyWarning: \n",
      "A value is trying to be set on a copy of a slice from a DataFrame.\n",
      "Try using .loc[row_indexer,col_indexer] = value instead\n",
      "\n",
      "See the caveats in the documentation: http://pandas.pydata.org/pandas-docs/stable/indexing.html#indexing-view-versus-copy\n",
      "  self.obj[item] = s\n"
     ]
    }
   ],
   "source": [
    "time_of_day = biking[['date_est','distance_miles','other_athlete_count']]\n",
    "time_of_day.loc[:,'hour'] = time_of_day.loc[:,'date_est'].apply(lambda x: x.hour)"
   ]
  },
  {
   "cell_type": "code",
   "execution_count": 73,
   "metadata": {
    "hidden": true
   },
   "outputs": [],
   "source": [
    "gb = time_of_day.groupby('hour',as_index=False).agg({'count','sum','mean'})[['other_athlete_count','distance_miles']]\n",
    "gb.columns = list(map('_'.join, gb.columns.values))\n",
    "gb = gb.reset_index()"
   ]
  },
  {
   "cell_type": "code",
   "execution_count": 74,
   "metadata": {
    "hidden": true
   },
   "outputs": [
    {
     "data": {
      "image/png": "[encoded data removed]",
      "text/plain": [
       "<matplotlib.figure.Figure at 0x1cc7758b2b0>"
      ]
     },
     "metadata": {},
     "output_type": "display_data"
    }
   ],
   "source": [
    "sns.barplot(x='hour',y='distance_miles_sum',data=gb)\n",
    "plt.show()"
   ]
  },
  {
   "cell_type": "markdown",
   "metadata": {
    "hidden": true
   },
   "source": [
    "It makes sense that I would ride less during the day (have to go to work most days, after all). But what if I look at this by day?"
   ]
  },
  {
   "cell_type": "code",
   "execution_count": 80,
   "metadata": {
    "hidden": true
   },
   "outputs": [
    {
     "name": "stderr",
     "output_type": "stream",
     "text": [
      "C:\\Users\\Rich\\Anaconda3\\lib\\site-packages\\ipykernel_launcher.py:5: SettingWithCopyWarning: \n",
      "A value is trying to be set on a copy of a slice from a DataFrame.\n",
      "Try using .loc[row_indexer,col_indexer] = value instead\n",
      "\n",
      "See the caveats in the documentation: http://pandas.pydata.org/pandas-docs/stable/indexing.html#indexing-view-versus-copy\n",
      "  \"\"\"\n"
     ]
    }
   ],
   "source": [
    "days = ['Monday','Tuesday','Wednesday','Thursday','Friday','Saturday','Sunday']\n",
    "def date_to_string(date):\n",
    "    return days[date.weekday()]\n",
    "\n",
    "time_of_day['day_string'] = time_of_day['date_est'].apply(lambda x: date_to_string(x))"
   ]
  },
  {
   "cell_type": "code",
   "execution_count": 84,
   "metadata": {
    "hidden": true
   },
   "outputs": [
    {
     "data": {
      "image/png": "[encoded data removed]",
      "text/plain": [
       "<matplotlib.figure.Figure at 0x1cc771fd208>"
      ]
     },
     "metadata": {},
     "output_type": "display_data"
    }
   ],
   "source": [
    "sns.boxplot(x='day_string',y='hour',data=time_of_day,order=days)\n",
    "plt.show()"
   ]
  },
  {
   "cell_type": "markdown",
   "metadata": {
    "hidden": true
   },
   "source": [
    "I prefer to ride late during the week and early on the weekend (though later on Sunday than on Saturday)."
   ]
  },
  {
   "cell_type": "code",
   "execution_count": 85,
   "metadata": {
    "hidden": true
   },
   "outputs": [
    {
     "data": {
      "image/png": "[encoded data removed]",
      "text/plain": [
       "<matplotlib.figure.Figure at 0x1cc775036d8>"
      ]
     },
     "metadata": {},
     "output_type": "display_data"
    }
   ],
   "source": [
    "sns.barplot(x='hour',y='distance_miles_mean',data=gb)\n",
    "plt.show()"
   ]
  },
  {
   "cell_type": "code",
   "execution_count": 47,
   "metadata": {
    "hidden": true
   },
   "outputs": [
    {
     "data": {
      "image/png": "[encoded data removed]",
      "text/plain": [
       "<matplotlib.figure.Figure at 0x12451c46e10>"
      ]
     },
     "metadata": {},
     "output_type": "display_data"
    }
   ],
   "source": [
    "sns.barplot(x='hour',y='other_athlete_count_mean',data=gb)\n",
    "plt.show()"
   ]
  },
  {
   "cell_type": "code",
   "execution_count": 48,
   "metadata": {
    "hidden": true
   },
   "outputs": [
    {
     "data": {
      "image/png": "[encoded data removed]",
      "text/plain": [
       "<matplotlib.figure.Figure at 0x12450e08a58>"
      ]
     },
     "metadata": {},
     "output_type": "display_data"
    }
   ],
   "source": [
    "sns.barplot(x='hour',y='other_athlete_count_sum',data=gb)\n",
    "plt.show()"
   ]
  },
  {
   "cell_type": "code",
   "execution_count": 49,
   "metadata": {
    "hidden": true
   },
   "outputs": [
    {
     "data": {
      "image/png": "[encoded data removed]",
      "text/plain": [
       "<matplotlib.figure.Figure at 0x124513c0898>"
      ]
     },
     "metadata": {},
     "output_type": "display_data"
    }
   ],
   "source": [
    "x = time_of_day['hour']\n",
    "\n",
    "sns.distplot(x)\n",
    "plt.show()"
   ]
  },
  {
   "cell_type": "markdown",
   "metadata": {
    "heading_collapsed": true
   },
   "source": [
    "# Machine Learning"
   ]
  },
  {
   "cell_type": "code",
   "execution_count": 150,
   "metadata": {
    "hidden": true
   },
   "outputs": [],
   "source": [
    "import xgboost\n",
    "from sklearn import metrics\n",
    "from sklearn.model_selection import train_test_split, KFold, cross_val_score"
   ]
  },
  {
   "cell_type": "code",
   "execution_count": 151,
   "metadata": {
    "hidden": true
   },
   "outputs": [],
   "source": [
    "#predictors = ['athlete_count','distance_miles','elapsed_time','gear','total_elevation_gain','average_speed','TMAX','PRECIP']\n",
    "target = 'kudos_count'"
   ]
  },
  {
   "cell_type": "code",
   "execution_count": 152,
   "metadata": {
    "hidden": true
   },
   "outputs": [],
   "source": [
    "train_df = biking.copy()"
   ]
  },
  {
   "cell_type": "code",
   "execution_count": 153,
   "metadata": {
    "hidden": true
   },
   "outputs": [
    {
     "name": "stdout",
     "output_type": "stream",
     "text": [
      "name            126\n",
      "type              1\n",
      "description      46\n",
      "gear              2\n",
      "filename        112\n",
      "stationid        12\n",
      "filename_fix    112\n",
      "latlng          112\n",
      "zip              24\n",
      "new_type          1\n",
      "dtype: int64\n"
     ]
    }
   ],
   "source": [
    "num_unique = train_df.select_dtypes('object').apply(pd.Series.nunique,axis=0)\n",
    "print(num_unique)"
   ]
  },
  {
   "cell_type": "markdown",
   "metadata": {
    "hidden": true
   },
   "source": [
    "Here are some columns that probably won't help us:\n",
    "\n",
    "* Name\n",
    "* Description\n",
    "* Latitude or Longitude\n",
    "* Filename\n",
    "* Type or New_Type (only 1 value)\n",
    "\n",
    "Gear on the other hand might - trainer vs. Orbea? And stationid has few enough that we can encode without causing too many issues"
   ]
  },
  {
   "cell_type": "code",
   "execution_count": 154,
   "metadata": {
    "hidden": true
   },
   "outputs": [],
   "source": [
    "cols_to_drop = ['name','type','new_type','description','filename','filename_fix','latlng']\n",
    "\n",
    "train_df.drop(cols_to_drop,axis=1,inplace=True)"
   ]
  },
  {
   "cell_type": "markdown",
   "metadata": {
    "hidden": true
   },
   "source": [
    "We also have some boolean values - let's convert those to int"
   ]
  },
  {
   "cell_type": "code",
   "execution_count": 155,
   "metadata": {
    "hidden": true
   },
   "outputs": [],
   "source": [
    "cols = train_df.select_dtypes('bool').columns\n",
    "train_df.loc[:,cols] = train_df.loc[:,cols].astype(object)"
   ]
  },
  {
   "cell_type": "markdown",
   "metadata": {
    "hidden": true
   },
   "source": [
    "Our xgboost algorithm won't be able to deal with object data, so let's 1-hot encode those columns"
   ]
  },
  {
   "cell_type": "code",
   "execution_count": 156,
   "metadata": {
    "hidden": true
   },
   "outputs": [],
   "source": [
    "train_df = pd.get_dummies(train_df)"
   ]
  },
  {
   "cell_type": "code",
   "execution_count": 157,
   "metadata": {
    "hidden": true,
    "scrolled": false
   },
   "outputs": [
    {
     "data": {
      "text/plain": [
       "has_weather_False       -0.275741\n",
       "zip_15202               -0.228247\n",
       "stationid_US1PALZ0024   -0.206052\n",
       "stationid_US1PAAL0046   -0.193311\n",
       "zip_18709               -0.188825\n",
       "zip_15206               -0.125269\n",
       "zip_16343               -0.104164\n",
       "stationid_US1PAVN0005   -0.104164\n",
       "zip_18701               -0.078013\n",
       "zip_15126               -0.078013\n",
       "Name: kudos_count, dtype: float64"
      ]
     },
     "execution_count": 157,
     "metadata": {},
     "output_type": "execute_result"
    }
   ],
   "source": [
    "train_corr = train_df.corr().loc[:,target].sort_values()\n",
    "train_corr.head(10)"
   ]
  },
  {
   "cell_type": "markdown",
   "metadata": {
    "hidden": true
   },
   "source": [
    "What's going on with those last few columns?"
   ]
  },
  {
   "cell_type": "code",
   "execution_count": 158,
   "metadata": {
    "hidden": true
   },
   "outputs": [
    {
     "data": {
      "text/plain": [
       "commute_False       1\n",
       "has_station_True    1\n",
       "dtype: int64"
      ]
     },
     "execution_count": 158,
     "metadata": {},
     "output_type": "execute_result"
    }
   ],
   "source": [
    "null_corr = list(train_corr[train_corr.isnull()].index)\n",
    "train_df.loc[:,null_corr].apply(pd.Series.nunique,axis=0)"
   ]
  },
  {
   "cell_type": "code",
   "execution_count": 159,
   "metadata": {
    "hidden": true
   },
   "outputs": [],
   "source": [
    "train_df.drop(['commute_False','has_station_True'],axis=1,inplace=True)"
   ]
  },
  {
   "cell_type": "markdown",
   "metadata": {
    "hidden": true
   },
   "source": [
    "We're missing some weather data - we may need to impute?\n",
    "\n",
    "Missing 54 rows worth of weather data. I'll impute by year and month first, then by month if I still have NaN. I'll do this for TMIN and TMAX - if PRECIP is missing I'll assume it's 0."
   ]
  },
  {
   "cell_type": "code",
   "execution_count": 160,
   "metadata": {
    "hidden": true
   },
   "outputs": [
    {
     "name": "stdout",
     "output_type": "stream",
     "text": [
      "Series([], dtype: bool)\n"
     ]
    }
   ],
   "source": [
    "print_missing(train_df)"
   ]
  },
  {
   "cell_type": "code",
   "execution_count": 161,
   "metadata": {
    "hidden": true
   },
   "outputs": [],
   "source": [
    "med_yrmnth = train_df.groupby(by=['year','month'])['TMAX','TMIN','PRECIP'].agg(['median','mean']).reset_index()\n",
    "med_mnth = train_df.groupby(by=['month'])['TMAX','TMIN','PRECIP'].agg(['median','mean']).reset_index()"
   ]
  },
  {
   "cell_type": "code",
   "execution_count": 162,
   "metadata": {
    "hidden": true
   },
   "outputs": [],
   "source": [
    "med_yrmnth.columns = list(map('_'.join, med_yrmnth.columns.values))\n",
    "med_mnth.columns = list(map('_'.join, med_mnth.columns.values))"
   ]
  },
  {
   "cell_type": "code",
   "execution_count": 163,
   "metadata": {
    "hidden": true
   },
   "outputs": [],
   "source": [
    "train_df = train_df.merge(med_yrmnth,left_on=['year','month'],right_on=['year_','month_'],suffixes=('','_yrmnth'))\n",
    "train_df = train_df.merge(med_mnth,left_on=['month'],right_on=['month_'],suffixes=('','_month'))"
   ]
  },
  {
   "cell_type": "code",
   "execution_count": 164,
   "metadata": {
    "hidden": true
   },
   "outputs": [],
   "source": [
    "train_df.loc[train_df['TMAX'].isnull(),'TMAX'] = train_df.loc[train_df['TMAX'].isnull(),'TMAX_median']\n",
    "train_df.loc[train_df['TMIN'].isnull(),'TMIN'] = train_df.loc[train_df['TMIN'].isnull(),'TMIN_median']\n",
    "train_df.loc[train_df['PRECIP'].isnull(),'PRECIP'] = 0\n",
    "\n",
    "train_df.loc[train_df['TMAX'].isnull(),'TMAX'] = train_df.loc[train_df['TMAX'].isnull(),'TMAX_median_month']\n",
    "train_df.loc[train_df['TMIN'].isnull(),'TMIN'] = train_df.loc[train_df['TMIN'].isnull(),'TMIN_median_month']\n",
    "train_df.loc[train_df['PRECIP'].isnull(),'PRECIP'] = 0"
   ]
  },
  {
   "cell_type": "markdown",
   "metadata": {
    "hidden": true
   },
   "source": [
    "Let's get rid of the imputation columns"
   ]
  },
  {
   "cell_type": "code",
   "execution_count": 165,
   "metadata": {
    "hidden": true
   },
   "outputs": [],
   "source": [
    "drop_cols = ['year_', 'month_', 'TMAX_median', 'TMAX_mean', 'TMIN_median',\n",
    "    'TMIN_mean', 'PRECIP_median', 'PRECIP_mean', 'month__month',\n",
    "    'TMAX_median_month', 'TMAX_mean_month', 'TMIN_median_month',\n",
    "    'TMIN_mean_month', 'PRECIP_median_month', 'PRECIP_mean_month']\n",
    "\n",
    "train_df.drop(drop_cols,axis=1,inplace=True)"
   ]
  },
  {
   "cell_type": "markdown",
   "metadata": {
    "hidden": true
   },
   "source": [
    "No need to train on our target variable"
   ]
  },
  {
   "cell_type": "code",
   "execution_count": 166,
   "metadata": {
    "hidden": true
   },
   "outputs": [],
   "source": [
    "train_df.drop(target,axis=1,inplace=True)"
   ]
  },
  {
   "cell_type": "markdown",
   "metadata": {
    "heading_collapsed": true
   },
   "source": [
    "# Polynomial Features"
   ]
  },
  {
   "cell_type": "markdown",
   "metadata": {
    "hidden": true
   },
   "source": [
    "Let's add in some polynomial features as well, see if those help anything"
   ]
  },
  {
   "cell_type": "code",
   "execution_count": 167,
   "metadata": {
    "hidden": true
   },
   "outputs": [],
   "source": [
    "from sklearn.preprocessing import PolynomialFeatures"
   ]
  },
  {
   "cell_type": "code",
   "execution_count": 168,
   "metadata": {
    "hidden": true
   },
   "outputs": [],
   "source": [
    "pf_cols = ['id','average_speed','max_speed','distance_miles','calories','total_elevation_gain']\n",
    "pf_df = train_df.loc[:,pf_cols]\n",
    "\n",
    "id_col = pf_df['id']\n",
    "pf_df = pf_df.drop('id',axis=1)\n",
    "\n",
    "pt = PolynomialFeatures(3,include_bias=True,interaction_only=False)\n",
    "feats = pt.fit_transform(pf_df)\n",
    "names = pt.get_feature_names(input_features = pf_cols[1:])\n",
    "poly_features = pd.DataFrame(feats,columns=names)"
   ]
  },
  {
   "cell_type": "code",
   "execution_count": 169,
   "metadata": {
    "hidden": true
   },
   "outputs": [],
   "source": [
    "poly_features['TARGET'] = biking[target]\n",
    "poly_features['id'] = id_col"
   ]
  },
  {
   "cell_type": "code",
   "execution_count": 170,
   "metadata": {
    "hidden": true
   },
   "outputs": [
    {
     "data": {
      "text/plain": [
       "max_speed                                      -0.320503\n",
       "average_speed max_speed                        -0.316866\n",
       "average_speed^2 max_speed                      -0.311887\n",
       "average_speed total_elevation_gain             -0.276475\n",
       "average_speed^2 total_elevation_gain           -0.275225\n",
       "total_elevation_gain                           -0.274874\n",
       "max_speed distance_miles                       -0.269913\n",
       "average_speed max_speed distance_miles         -0.266621\n",
       "calories                                       -0.264849\n",
       "average_speed max_speed total_elevation_gain   -0.262242\n",
       "Name: TARGET, dtype: float64"
      ]
     },
     "execution_count": 170,
     "metadata": {},
     "output_type": "execute_result"
    }
   ],
   "source": [
    "poly_features.corr()['TARGET'].sort_values().nsmallest(10)"
   ]
  },
  {
   "cell_type": "markdown",
   "metadata": {
    "hidden": true
   },
   "source": [
    "The original features are already in our training set so no need to reincorporate"
   ]
  },
  {
   "cell_type": "code",
   "execution_count": 171,
   "metadata": {
    "hidden": true
   },
   "outputs": [],
   "source": [
    "poly_features.drop(pf_cols[1:],axis=1,inplace=True)\n",
    "poly_features.drop('TARGET',axis=1,inplace=True)"
   ]
  },
  {
   "cell_type": "code",
   "execution_count": 180,
   "metadata": {
    "hidden": true
   },
   "outputs": [],
   "source": [
    "train_df = train_df.merge(poly_features,on='id',how='inner')"
   ]
  },
  {
   "cell_type": "markdown",
   "metadata": {
    "heading_collapsed": true
   },
   "source": [
    "# XGBoost"
   ]
  },
  {
   "cell_type": "code",
   "execution_count": 182,
   "metadata": {
    "hidden": true
   },
   "outputs": [],
   "source": [
    "train_df.drop('id',inplace=True,axis=1)"
   ]
  },
  {
   "cell_type": "code",
   "execution_count": 183,
   "metadata": {
    "hidden": true
   },
   "outputs": [],
   "source": [
    "target_df = biking[target]\n",
    "xgb1 = xgboost.sklearn.XGBClassifier(\n",
    " learning_rate =0.3,\n",
    " n_estimators=1000,\n",
    " max_depth=3,\n",
    " min_child_weight=1,\n",
    " gamma=0,\n",
    " subsample=0.6,\n",
    " colsample_bytree=0.8,\n",
    " objective= 'binary:logistic',\n",
    " nthread=4,\n",
    " scale_pos_weight=1,\n",
    " seed=27)"
   ]
  },
  {
   "cell_type": "markdown",
   "metadata": {
    "hidden": true
   },
   "source": [
    "I'll apply a scaler to the (some of) the data as well"
   ]
  },
  {
   "cell_type": "code",
   "execution_count": 184,
   "metadata": {
    "hidden": true
   },
   "outputs": [],
   "source": [
    "numerics = ['int16', 'int32', 'int64', 'float16', 'float32', 'float64']\n",
    "cols = train_df.select_dtypes(numerics).columns"
   ]
  },
  {
   "cell_type": "code",
   "execution_count": 185,
   "metadata": {
    "hidden": true
   },
   "outputs": [],
   "source": [
    "from sklearn.preprocessing import MinMaxScaler\n",
    "\n",
    "scaler = MinMaxScaler(feature_range = (0,1))\n",
    "scaler.fit(train_df[cols])\n",
    "train_df[cols] = scaler.transform(train_df[cols])"
   ]
  },
  {
   "cell_type": "markdown",
   "metadata": {
    "hidden": true
   },
   "source": [
    "Get rid of time columns - can't fit on them anyways"
   ]
  },
  {
   "cell_type": "code",
   "execution_count": 186,
   "metadata": {
    "hidden": true
   },
   "outputs": [],
   "source": [
    "drop_cols = ['date', 'elapsed_time', 'moving_time', 'date_est']\n",
    "train_df.drop(drop_cols,inplace=True,axis=1)"
   ]
  },
  {
   "cell_type": "code",
   "execution_count": 187,
   "metadata": {
    "hidden": true
   },
   "outputs": [
    {
     "data": {
      "text/plain": [
       "XGBClassifier(base_score=0.5, booster='gbtree', colsample_bylevel=1,\n",
       "       colsample_bytree=0.8, gamma=0, learning_rate=0.3, max_delta_step=0,\n",
       "       max_depth=3, min_child_weight=1, missing=None, n_estimators=1000,\n",
       "       n_jobs=1, nthread=4, objective='multi:softprob', random_state=0,\n",
       "       reg_alpha=0, reg_lambda=1, scale_pos_weight=1, seed=27, silent=True,\n",
       "       subsample=0.6)"
      ]
     },
     "execution_count": 187,
     "metadata": {},
     "output_type": "execute_result"
    }
   ],
   "source": [
    "xgb1.fit(train_df,target_df,eval_metric='rmse')"
   ]
  },
  {
   "cell_type": "code",
   "execution_count": 188,
   "metadata": {
    "hidden": true
   },
   "outputs": [],
   "source": [
    "dtrain_predictions = xgb1.predict(train_df)"
   ]
  },
  {
   "cell_type": "code",
   "execution_count": 189,
   "metadata": {
    "hidden": true
   },
   "outputs": [
    {
     "name": "stdout",
     "output_type": "stream",
     "text": [
      "Accuracy : 0.9954\n"
     ]
    }
   ],
   "source": [
    "print(\"Accuracy : %.4f\" % metrics.accuracy_score(target_df.values, dtrain_predictions))"
   ]
  },
  {
   "cell_type": "code",
   "execution_count": 190,
   "metadata": {
    "hidden": true
   },
   "outputs": [
    {
     "data": {
      "text/plain": [
       "<matplotlib.axes._subplots.AxesSubplot at 0x1716c2cdd30>"
      ]
     },
     "execution_count": 190,
     "metadata": {},
     "output_type": "execute_result"
    },
    {
     "data": {
      "image/png": "[encoded data removed]",
      "text/plain": [
       "<matplotlib.figure.Figure at 0x1716c2cd780>"
      ]
     },
     "metadata": {},
     "output_type": "display_data"
    }
   ],
   "source": [
    "xgboost.plot_importance(xgb1)"
   ]
  },
  {
   "cell_type": "markdown",
   "metadata": {
    "hidden": true
   },
   "source": [
    "What great accuracy! Nearly 100% accurate. What obvious problems are there with this?\n",
    "\n",
    "Overfitting is the biggest issue - and comparing predictions within the set used for training\n",
    "So, let's split into train and test, and see how well we do."
   ]
  },
  {
   "cell_type": "code",
   "execution_count": 191,
   "metadata": {
    "hidden": true
   },
   "outputs": [],
   "source": [
    "X_train, X_test, y_train, y_test = train_test_split(train_df, target_df, test_size=0.33, random_state=2)"
   ]
  },
  {
   "cell_type": "code",
   "execution_count": 192,
   "metadata": {
    "hidden": true
   },
   "outputs": [
    {
     "data": {
      "text/plain": [
       "XGBClassifier(base_score=0.5, booster='gbtree', colsample_bylevel=1,\n",
       "       colsample_bytree=0.8, gamma=0, learning_rate=0.3, max_delta_step=0,\n",
       "       max_depth=3, min_child_weight=1, missing=None, n_estimators=1000,\n",
       "       n_jobs=1, nthread=4, objective='multi:softprob', random_state=0,\n",
       "       reg_alpha=0, reg_lambda=1, scale_pos_weight=1, seed=27, silent=True,\n",
       "       subsample=0.6)"
      ]
     },
     "execution_count": 192,
     "metadata": {},
     "output_type": "execute_result"
    }
   ],
   "source": [
    "xgb1.fit(X_train,y_train,eval_metric='rmse')"
   ]
  },
  {
   "cell_type": "code",
   "execution_count": 193,
   "metadata": {
    "hidden": true
   },
   "outputs": [],
   "source": [
    "p_test = xgb1.predict(X_test)"
   ]
  },
  {
   "cell_type": "code",
   "execution_count": 194,
   "metadata": {
    "hidden": true
   },
   "outputs": [
    {
     "name": "stdout",
     "output_type": "stream",
     "text": [
      "Accuracy : 0.4444\n"
     ]
    }
   ],
   "source": [
    "print(\"Accuracy : %.4f\"%metrics.accuracy_score(y_test.values, p_test))"
   ]
  },
  {
   "cell_type": "code",
   "execution_count": 195,
   "metadata": {
    "hidden": true
   },
   "outputs": [],
   "source": [
    "pred_df = pd.DataFrame(np.stack((y_test,p_test),axis=1),columns=['actual','predicted'])"
   ]
  },
  {
   "cell_type": "code",
   "execution_count": 196,
   "metadata": {
    "hidden": true
   },
   "outputs": [
    {
     "data": {
      "image/png": "[encoded data removed]",
      "text/plain": [
       "<matplotlib.figure.Figure at 0x1716cc97630>"
      ]
     },
     "metadata": {},
     "output_type": "display_data"
    }
   ],
   "source": [
    "plt.scatter(pred_df['actual'],pred_df['predicted'])\n",
    "plt.show()"
   ]
  },
  {
   "cell_type": "markdown",
   "metadata": {
    "hidden": true
   },
   "source": [
    "We can also cross-validate - this is similar to train/test split, but run multiple times"
   ]
  },
  {
   "cell_type": "code",
   "execution_count": 197,
   "metadata": {
    "hidden": true
   },
   "outputs": [],
   "source": [
    "kfold = KFold(n_splits=10,random_state=2)\n",
    "results = cross_val_score(xgb1, train_df, target_df, cv=kfold)"
   ]
  },
  {
   "cell_type": "code",
   "execution_count": 198,
   "metadata": {
    "hidden": true
   },
   "outputs": [
    {
     "name": "stdout",
     "output_type": "stream",
     "text": [
      "Cross-validation accuracy: mean 39.65%, std 19.02%\n"
     ]
    }
   ],
   "source": [
    "print('Cross-validation accuracy: mean %0.2f%%, std %0.2f%%'%(results.mean()*100.0,results.std()*100.0))"
   ]
  },
  {
   "cell_type": "markdown",
   "metadata": {
    "hidden": true
   },
   "source": [
    "Well that isn't great! But it's also not surprising - I don't have many activities and a lot of them are indoors over the winter (so they're guaranteed to get 0 kudos)."
   ]
  },
  {
   "cell_type": "code",
   "execution_count": 199,
   "metadata": {
    "hidden": true
   },
   "outputs": [
    {
     "data": {
      "text/plain": [
       "(216, 114)"
      ]
     },
     "execution_count": 199,
     "metadata": {},
     "output_type": "execute_result"
    }
   ],
   "source": [
    "train_df.shape"
   ]
  },
  {
   "cell_type": "code",
   "execution_count": 200,
   "metadata": {
    "hidden": true
   },
   "outputs": [
    {
     "data": {
      "image/png": "[encoded data removed]",
      "text/plain": [
       "<matplotlib.figure.Figure at 0x1716d447b70>"
      ]
     },
     "metadata": {},
     "output_type": "display_data"
    }
   ],
   "source": [
    "sns.distplot(target_df)\n",
    "plt.show()"
   ]
  },
  {
   "cell_type": "markdown",
   "metadata": {},
   "source": [
    "# Bike vs Run"
   ]
  },
  {
   "cell_type": "code",
   "execution_count": 125,
   "metadata": {},
   "outputs": [],
   "source": [
    "import xgboost\n",
    "from sklearn.model_selection import train_test_split\n",
    "from sklearn import metrics"
   ]
  },
  {
   "cell_type": "markdown",
   "metadata": {},
   "source": [
    "So our first investigation was a resounding failure. But, here's a thought - I'm human, so I'm certain I've mislabeled some of my activities. Or, as Ryan and Charlie will sometimes do, maybe I purposely mislabeled a ride as a run to try to steal a CR. Can I use a classification regression to identify these?"
   ]
  },
  {
   "cell_type": "code",
   "execution_count": 103,
   "metadata": {},
   "outputs": [],
   "source": [
    "train_df = activities.copy()\n",
    "cols_to_drop = ['name','type','description','filename','filename_fix','latlng']\n",
    "train_df.drop(cols_to_drop,axis=1,inplace=True)\n",
    "\n",
    "cols = train_df.select_dtypes('bool').columns\n",
    "train_df.loc[:,cols] = train_df.loc[:,cols].astype(object)\n",
    "\n",
    "train_df['is_ride'] = train_df['new_type']=='Ride'\n",
    "train_df = pd.get_dummies(train_df)\n",
    "train_df.drop(['commute_False','has_station_True'],axis=1,inplace=True)\n",
    "\n",
    "target = 'new_type_Ride'\n",
    "target_df = train_df[target]\n",
    "train_df.drop(['new_type_Ride','new_type_Run'],axis=1,inplace=True)"
   ]
  },
  {
   "cell_type": "code",
   "execution_count": 104,
   "metadata": {},
   "outputs": [],
   "source": [
    "med_yrmnth = train_df.groupby(by=['year','month'])['TMAX','TMIN','PRECIP'].agg(['median','mean']).reset_index()\n",
    "med_mnth = train_df.groupby(by=['month'])['TMAX','TMIN','PRECIP'].agg(['median','mean']).reset_index()"
   ]
  },
  {
   "cell_type": "code",
   "execution_count": 105,
   "metadata": {},
   "outputs": [],
   "source": [
    "med_yrmnth.columns = list(map('_'.join, med_yrmnth.columns.values))\n",
    "med_mnth.columns = list(map('_'.join, med_mnth.columns.values))"
   ]
  },
  {
   "cell_type": "code",
   "execution_count": 106,
   "metadata": {},
   "outputs": [],
   "source": [
    "train_df = train_df.merge(med_yrmnth,left_on=['year','month'],right_on=['year_','month_'],suffixes=('','_yrmnth'))\n",
    "train_df = train_df.merge(med_mnth,left_on=['month'],right_on=['month_'],suffixes=('','_month'))"
   ]
  },
  {
   "cell_type": "code",
   "execution_count": 107,
   "metadata": {},
   "outputs": [],
   "source": [
    "train_df.loc[train_df['TMAX'].isnull(),'TMAX'] = train_df.loc[train_df['TMAX'].isnull(),'TMAX_median']\n",
    "train_df.loc[train_df['TMIN'].isnull(),'TMIN'] = train_df.loc[train_df['TMIN'].isnull(),'TMIN_median']\n",
    "train_df.loc[train_df['PRECIP'].isnull(),'PRECIP'] = 0\n",
    "\n",
    "train_df.loc[train_df['TMAX'].isnull(),'TMAX'] = train_df.loc[train_df['TMAX'].isnull(),'TMAX_median_month']\n",
    "train_df.loc[train_df['TMIN'].isnull(),'TMIN'] = train_df.loc[train_df['TMIN'].isnull(),'TMIN_median_month']\n",
    "train_df.loc[train_df['PRECIP'].isnull(),'PRECIP'] = 0"
   ]
  },
  {
   "cell_type": "markdown",
   "metadata": {},
   "source": [
    "Let's get rid of the imputation columns"
   ]
  },
  {
   "cell_type": "code",
   "execution_count": 108,
   "metadata": {},
   "outputs": [],
   "source": [
    "drop_cols = ['year_', 'month_', 'TMAX_median', 'TMAX_mean', 'TMIN_median',\n",
    "    'TMIN_mean', 'PRECIP_median', 'PRECIP_mean', 'month__month',\n",
    "    'TMAX_median_month', 'TMAX_mean_month', 'TMIN_median_month',\n",
    "    'TMIN_mean_month', 'PRECIP_median_month', 'PRECIP_mean_month']\n",
    "\n",
    "train_df.drop(drop_cols,axis=1,inplace=True)"
   ]
  },
  {
   "cell_type": "code",
   "execution_count": 109,
   "metadata": {},
   "outputs": [
    {
     "data": {
      "text/html": [
       "<div>\n",
       "<style scoped>\n",
       "    .dataframe tbody tr th:only-of-type {\n",
       "        vertical-align: middle;\n",
       "    }\n",
       "\n",
       "    .dataframe tbody tr th {\n",
       "        vertical-align: top;\n",
       "    }\n",
       "\n",
       "    .dataframe thead th {\n",
       "        text-align: right;\n",
       "    }\n",
       "</style>\n",
       "<table border=\"1\" class=\"dataframe\">\n",
       "  <thead>\n",
       "    <tr style=\"text-align: right;\">\n",
       "      <th></th>\n",
       "      <th>id</th>\n",
       "      <th>date</th>\n",
       "      <th>elapsed_time</th>\n",
       "      <th>distance</th>\n",
       "      <th>athlete_count</th>\n",
       "      <th>achievement_count</th>\n",
       "      <th>comment_count</th>\n",
       "      <th>kudos_count</th>\n",
       "      <th>moving_time</th>\n",
       "      <th>total_elevation_gain</th>\n",
       "      <th>...</th>\n",
       "      <th>stationid_USW00014775</th>\n",
       "      <th>stationid_USW00094823</th>\n",
       "      <th>manual_False</th>\n",
       "      <th>manual_True</th>\n",
       "      <th>has_weather_False</th>\n",
       "      <th>has_weather_True</th>\n",
       "      <th>has_file_False</th>\n",
       "      <th>has_file_True</th>\n",
       "      <th>indoor_False</th>\n",
       "      <th>indoor_True</th>\n",
       "    </tr>\n",
       "  </thead>\n",
       "  <tbody>\n",
       "    <tr>\n",
       "      <th>0</th>\n",
       "      <td>11823912</td>\n",
       "      <td>2012-06-26 22:17:36</td>\n",
       "      <td>01:35:28</td>\n",
       "      <td>32518.2</td>\n",
       "      <td>2.0</td>\n",
       "      <td>1.0</td>\n",
       "      <td>0.0</td>\n",
       "      <td>0.0</td>\n",
       "      <td>01:28:42</td>\n",
       "      <td>1318.24</td>\n",
       "      <td>...</td>\n",
       "      <td>0</td>\n",
       "      <td>0</td>\n",
       "      <td>1</td>\n",
       "      <td>0</td>\n",
       "      <td>1</td>\n",
       "      <td>0</td>\n",
       "      <td>0</td>\n",
       "      <td>1</td>\n",
       "      <td>1</td>\n",
       "      <td>0</td>\n",
       "    </tr>\n",
       "    <tr>\n",
       "      <th>1</th>\n",
       "      <td>12093460</td>\n",
       "      <td>2012-06-30 14:05:19</td>\n",
       "      <td>01:54:06</td>\n",
       "      <td>39051.2</td>\n",
       "      <td>1.0</td>\n",
       "      <td>2.0</td>\n",
       "      <td>0.0</td>\n",
       "      <td>1.0</td>\n",
       "      <td>01:44:33</td>\n",
       "      <td>1209.32</td>\n",
       "      <td>...</td>\n",
       "      <td>0</td>\n",
       "      <td>0</td>\n",
       "      <td>1</td>\n",
       "      <td>0</td>\n",
       "      <td>1</td>\n",
       "      <td>0</td>\n",
       "      <td>0</td>\n",
       "      <td>1</td>\n",
       "      <td>1</td>\n",
       "      <td>0</td>\n",
       "    </tr>\n",
       "    <tr>\n",
       "      <th>2</th>\n",
       "      <td>57479962</td>\n",
       "      <td>2013-06-01 11:22:25</td>\n",
       "      <td>02:38:45</td>\n",
       "      <td>51531.0</td>\n",
       "      <td>8.0</td>\n",
       "      <td>2.0</td>\n",
       "      <td>0.0</td>\n",
       "      <td>0.0</td>\n",
       "      <td>02:02:59</td>\n",
       "      <td>1049.54</td>\n",
       "      <td>...</td>\n",
       "      <td>0</td>\n",
       "      <td>0</td>\n",
       "      <td>1</td>\n",
       "      <td>0</td>\n",
       "      <td>1</td>\n",
       "      <td>0</td>\n",
       "      <td>0</td>\n",
       "      <td>1</td>\n",
       "      <td>1</td>\n",
       "      <td>0</td>\n",
       "    </tr>\n",
       "    <tr>\n",
       "      <th>3</th>\n",
       "      <td>58993417</td>\n",
       "      <td>2013-06-08 11:20:05</td>\n",
       "      <td>02:59:04</td>\n",
       "      <td>53837.0</td>\n",
       "      <td>6.0</td>\n",
       "      <td>3.0</td>\n",
       "      <td>0.0</td>\n",
       "      <td>0.0</td>\n",
       "      <td>02:05:29</td>\n",
       "      <td>2169.95</td>\n",
       "      <td>...</td>\n",
       "      <td>0</td>\n",
       "      <td>0</td>\n",
       "      <td>1</td>\n",
       "      <td>0</td>\n",
       "      <td>1</td>\n",
       "      <td>0</td>\n",
       "      <td>0</td>\n",
       "      <td>1</td>\n",
       "      <td>1</td>\n",
       "      <td>0</td>\n",
       "    </tr>\n",
       "    <tr>\n",
       "      <th>4</th>\n",
       "      <td>148403154</td>\n",
       "      <td>2014-06-01 23:10:05</td>\n",
       "      <td>00:42:16</td>\n",
       "      <td>4809.8</td>\n",
       "      <td>1.0</td>\n",
       "      <td>0.0</td>\n",
       "      <td>0.0</td>\n",
       "      <td>0.0</td>\n",
       "      <td>00:24:08</td>\n",
       "      <td>374.02</td>\n",
       "      <td>...</td>\n",
       "      <td>0</td>\n",
       "      <td>0</td>\n",
       "      <td>1</td>\n",
       "      <td>0</td>\n",
       "      <td>0</td>\n",
       "      <td>1</td>\n",
       "      <td>0</td>\n",
       "      <td>1</td>\n",
       "      <td>1</td>\n",
       "      <td>0</td>\n",
       "    </tr>\n",
       "  </tbody>\n",
       "</table>\n",
       "<p>5 rows × 82 columns</p>\n",
       "</div>"
      ],
      "text/plain": [
       "          id                date elapsed_time  distance  athlete_count  \\\n",
       "0   11823912 2012-06-26 22:17:36     01:35:28   32518.2            2.0   \n",
       "1   12093460 2012-06-30 14:05:19     01:54:06   39051.2            1.0   \n",
       "2   57479962 2013-06-01 11:22:25     02:38:45   51531.0            8.0   \n",
       "3   58993417 2013-06-08 11:20:05     02:59:04   53837.0            6.0   \n",
       "4  148403154 2014-06-01 23:10:05     00:42:16    4809.8            1.0   \n",
       "\n",
       "   achievement_count  comment_count  kudos_count moving_time  \\\n",
       "0                1.0            0.0          0.0    01:28:42   \n",
       "1                2.0            0.0          1.0    01:44:33   \n",
       "2                2.0            0.0          0.0    02:02:59   \n",
       "3                3.0            0.0          0.0    02:05:29   \n",
       "4                0.0            0.0          0.0    00:24:08   \n",
       "\n",
       "   total_elevation_gain     ...       stationid_USW00014775  \\\n",
       "0               1318.24     ...                           0   \n",
       "1               1209.32     ...                           0   \n",
       "2               1049.54     ...                           0   \n",
       "3               2169.95     ...                           0   \n",
       "4                374.02     ...                           0   \n",
       "\n",
       "   stationid_USW00094823  manual_False  manual_True  has_weather_False  \\\n",
       "0                      0             1            0                  1   \n",
       "1                      0             1            0                  1   \n",
       "2                      0             1            0                  1   \n",
       "3                      0             1            0                  1   \n",
       "4                      0             1            0                  0   \n",
       "\n",
       "   has_weather_True  has_file_False  has_file_True indoor_False  indoor_True  \n",
       "0                 0               0              1            1            0  \n",
       "1                 0               0              1            1            0  \n",
       "2                 0               0              1            1            0  \n",
       "3                 0               0              1            1            0  \n",
       "4                 1               0              1            1            0  \n",
       "\n",
       "[5 rows x 82 columns]"
      ]
     },
     "execution_count": 109,
     "metadata": {},
     "output_type": "execute_result"
    }
   ],
   "source": [
    "train_df.head()"
   ]
  },
  {
   "cell_type": "code",
   "execution_count": 110,
   "metadata": {},
   "outputs": [],
   "source": [
    "numerics = ['int16', 'int32', 'int64', 'float16', 'float32', 'float64']\n",
    "cols = train_df.select_dtypes(numerics).columns"
   ]
  },
  {
   "cell_type": "code",
   "execution_count": 97,
   "metadata": {},
   "outputs": [
    {
     "name": "stdout",
     "output_type": "stream",
     "text": [
      "calories    True\n",
      "dtype: bool\n"
     ]
    }
   ],
   "source": [
    "print_missing(train_df)"
   ]
  },
  {
   "cell_type": "markdown",
   "metadata": {},
   "source": [
    "Let's do some MinMax scaling to get rid of the fact that many of our numeric values are going to be on vastly different scales (temperature vs. distance, for example). Strictly speaking, I **don't** need to scale for this particular application because I'll be using xgboost which produces gradient boosted decision trees and these tend to be resistant to scale issues in ways that, say, K-nearest neighbors isn't. Having said that, it won't hurt anything to do it and if I want to use any other models later then I've already done the work.\n",
    "\n",
    "I'll be MinMax scaling on the numeric columns of my dataset."
   ]
  },
  {
   "cell_type": "code",
   "execution_count": 111,
   "metadata": {},
   "outputs": [],
   "source": [
    "from sklearn.preprocessing import MinMaxScaler\n",
    "\n",
    "scaler = MinMaxScaler(feature_range = (0,1))\n",
    "scaler.fit(train_df[cols])\n",
    "train_df[cols] = scaler.transform(train_df[cols])"
   ]
  },
  {
   "cell_type": "markdown",
   "metadata": {},
   "source": [
    "Get rid of time columns - can't fit on them anyways. This removes the columns set as datetimes. I've retained the moving_time_seconds column still"
   ]
  },
  {
   "cell_type": "code",
   "execution_count": 112,
   "metadata": {},
   "outputs": [],
   "source": [
    "drop_cols = ['date', 'elapsed_time', 'moving_time', 'date_est']\n",
    "train_df.drop(drop_cols,inplace=True,axis=1)"
   ]
  },
  {
   "cell_type": "code",
   "execution_count": 113,
   "metadata": {},
   "outputs": [],
   "source": [
    "train_df.drop('is_ride',inplace=True,axis=1)"
   ]
  },
  {
   "cell_type": "markdown",
   "metadata": {},
   "source": [
    "First, a brief overview of how xgboost works. A full tutorial can be found at https://xgboost.readthedocs.io/en/latest/tutorials/model.html\n",
    "\n",
    "In general, when we fit a model we typically are looking for model parameters which best match the training dataset. Think of the case of linear regression when we're looking to identify weights which minimizes the sum of the squared residuals between actual and predicted. Once we start getting into more complex algorithms, we start to use a technique called \"gradient descent\" to do this minimization. The idea behind gradient descent is to lower the parameters in the way which lowers the cost fastest. So, again, think of standing on a mountain and trying to get down quickest. You look around you in a circle 10 feet away and go to whichever point on that circle has the lowest elevation. At each new point you choose you repeat the process until you've gotten down the mountain.\n",
    "\n",
    "With gradient boosting, we start by training a model on our data and predicting the target (yp). With this prediction, we calculate the residuals between the actual and prediction (e = yp - y). We then train another model with the same input variables used to predict yp, but this time with our residual e as the target, and predict ep. We incorporate this residual into our original prediction to come up with a new prediction (yp = yp + ep). We continue in this process until we decide to stop (perhaps when the residuals begin changing by less than some predetermined value). What we're really doing here is learning from the places where we screwed up in prior predictions to improve future predictions.\n",
    "\n",
    "With xgboost, it's very easy to overfit to your training data so some degree of regularization is needed:\n",
    "- **gamma** controls the weight of the number of leaves on our trees. With a nonzero gamma, more leaves will make the cost function more expensive, so in that case it will prioritize trees with fewer leaves.\n",
    "- **min_child_weight** requires that each child node have a particular sum of its hessian matrix (second derivative) in order to split further. This one is understandably hard to pin down, so cross-validation is probably the best way to determine the ideal value.\n",
    "- **max_depth** controls the maximum depth of a tree. Higher values make a tree more likely to overfit.\n",
    "- **n_estimators**\n",
    "- In my case, I'm going to **subsample** (every step of the process will randomly update based on 80% of the dataset rather than the full dataset).\n",
    "- We're also going to use **colsample_bytree** to only take 80% of the columns within those 80% of the rows to further try to prevent overfitting.\n",
    "\n",
    "Because we're trying to classify whether something is a ride or not, we'll use the binary:logistic classifier. There are a lot of others."
   ]
  },
  {
   "cell_type": "code",
   "execution_count": 116,
   "metadata": {},
   "outputs": [],
   "source": [
    "xgb1 = xgboost.sklearn.XGBClassifier(\n",
    " learning_rate =0.3,\n",
    " n_estimators=1000,\n",
    " max_depth=3,\n",
    " min_child_weight=1,\n",
    " gamma=0,\n",
    " subsample=0.8,\n",
    " colsample_bytree=0.8,\n",
    " objective= 'binary:logistic',\n",
    " nthread=4,\n",
    " scale_pos_weight=1,\n",
    " seed=27)\n",
    "\n",
    "kfold = KFold(n_splits=10,random_state=2)\n",
    "results = cross_val_score(xgb1, train_df, target_df, cv=kfold)"
   ]
  },
  {
   "cell_type": "code",
   "execution_count": 118,
   "metadata": {},
   "outputs": [
    {
     "data": {
      "text/plain": [
       "0.99426705370101587"
      ]
     },
     "execution_count": 118,
     "metadata": {},
     "output_type": "execute_result"
    }
   ],
   "source": [
    "results.mean()"
   ]
  },
  {
   "cell_type": "code",
   "execution_count": 215,
   "metadata": {},
   "outputs": [
    {
     "name": "stdout",
     "output_type": "stream",
     "text": [
      "(144,) (72,)\n"
     ]
    }
   ],
   "source": [
    "print(y_train.shape,y_test.shape)"
   ]
  },
  {
   "cell_type": "code",
   "execution_count": 121,
   "metadata": {},
   "outputs": [],
   "source": [
    "X_train, X_test, y_train, y_test = train_test_split(train_df, target_df, test_size=0.33, random_state=2)"
   ]
  },
  {
   "cell_type": "code",
   "execution_count": 122,
   "metadata": {},
   "outputs": [
    {
     "data": {
      "text/plain": [
       "XGBClassifier(base_score=0.5, booster='gbtree', colsample_bylevel=1,\n",
       "       colsample_bytree=0.8, gamma=0, learning_rate=0.3, max_delta_step=0,\n",
       "       max_depth=3, min_child_weight=1, missing=None, n_estimators=1000,\n",
       "       n_jobs=1, nthread=4, objective='binary:logistic', random_state=0,\n",
       "       reg_alpha=0, reg_lambda=1, scale_pos_weight=1, seed=27, silent=True,\n",
       "       subsample=0.8)"
      ]
     },
     "execution_count": 122,
     "metadata": {},
     "output_type": "execute_result"
    }
   ],
   "source": [
    "xgb1.fit(X_train,y_train,eval_metric='rmse')"
   ]
  },
  {
   "cell_type": "code",
   "execution_count": 123,
   "metadata": {},
   "outputs": [],
   "source": [
    "p_test = xgb1.predict(X_test)"
   ]
  },
  {
   "cell_type": "code",
   "execution_count": 130,
   "metadata": {},
   "outputs": [
    {
     "data": {
      "image/png": "[encoded data removed]",
      "text/plain": [
       "<matplotlib.figure.Figure at 0x27b41fc8ef0>"
      ]
     },
     "metadata": {},
     "output_type": "display_data"
    }
   ],
   "source": [
    "xgboost.plot_importance(xgb1)\n",
    "plt.show()"
   ]
  },
  {
   "cell_type": "code",
   "execution_count": 126,
   "metadata": {},
   "outputs": [
    {
     "name": "stdout",
     "output_type": "stream",
     "text": [
      "Accuracy : 0.9942\n"
     ]
    }
   ],
   "source": [
    "print(\"Accuracy : %.4f\"%metrics.accuracy_score(y_test.values, p_test))"
   ]
  },
  {
   "cell_type": "markdown",
   "metadata": {},
   "source": [
    "That's pretty good accuracy for our test dataset based on our train. We should expect that it would be easy to tell which is a ride or a run - rides tend to be much longer than runs, and are done at a faster pace."
   ]
  },
  {
   "cell_type": "code",
   "execution_count": 134,
   "metadata": {},
   "outputs": [],
   "source": [
    "p_full = xgb1.predict(train_df)\n",
    "y_full = target_df"
   ]
  },
  {
   "cell_type": "code",
   "execution_count": 135,
   "metadata": {},
   "outputs": [],
   "source": [
    "pred_df_full = pd.DataFrame(np.stack((y_full,p_full),axis=1),columns=['actual','predicted'])\n",
    "pred_df = pd.DataFrame(np.stack((y_test,p_test),axis=1),columns=['actual','predicted'])"
   ]
  },
  {
   "cell_type": "code",
   "execution_count": 128,
   "metadata": {},
   "outputs": [
    {
     "data": {
      "image/png": "[encoded data removed]",
      "text/plain": [
       "<matplotlib.figure.Figure at 0x27b41ee92e8>"
      ]
     },
     "metadata": {},
     "output_type": "display_data"
    }
   ],
   "source": [
    "plt.scatter(pred_df['actual'],pred_df['predicted'])\n",
    "plt.show()"
   ]
  },
  {
   "cell_type": "markdown",
   "metadata": {},
   "source": [
    "So how did we screw this one up?"
   ]
  },
  {
   "cell_type": "code",
   "execution_count": 137,
   "metadata": {},
   "outputs": [
    {
     "data": {
      "text/html": [
       "<div>\n",
       "<style scoped>\n",
       "    .dataframe tbody tr th:only-of-type {\n",
       "        vertical-align: middle;\n",
       "    }\n",
       "\n",
       "    .dataframe tbody tr th {\n",
       "        vertical-align: top;\n",
       "    }\n",
       "\n",
       "    .dataframe thead th {\n",
       "        text-align: right;\n",
       "    }\n",
       "</style>\n",
       "<table border=\"1\" class=\"dataframe\">\n",
       "  <thead>\n",
       "    <tr style=\"text-align: right;\">\n",
       "      <th></th>\n",
       "      <th>actual</th>\n",
       "      <th>predicted</th>\n",
       "    </tr>\n",
       "  </thead>\n",
       "  <tbody>\n",
       "    <tr>\n",
       "      <th>216</th>\n",
       "      <td>0</td>\n",
       "      <td>1</td>\n",
       "    </tr>\n",
       "  </tbody>\n",
       "</table>\n",
       "</div>"
      ],
      "text/plain": [
       "     actual  predicted\n",
       "216       0          1"
      ]
     },
     "execution_count": 137,
     "metadata": {},
     "output_type": "execute_result"
    }
   ],
   "source": [
    "pred_df_full[pred_df_full['actual']!=pred_df_full['predicted']]"
   ]
  },
  {
   "cell_type": "code",
   "execution_count": 138,
   "metadata": {},
   "outputs": [
    {
     "data": {
      "text/plain": [
       "id                                                297474871\n",
       "date                                    2015-04-25 15:05:19\n",
       "name                    04/25/2015 Pittsburgh, Pennsylvania\n",
       "type                                                    Run\n",
       "description                                             NaN\n",
       "elapsed_time                                0 days 01:24:53\n",
       "distance                                            10524.4\n",
       "commute                                               False\n",
       "gear                                                    NaN\n",
       "filename                        activities/336562772.fit.gz\n",
       "filename_fix              Data/activities/GPX/336562772.gpx\n",
       "latlng                        (40.459302711, -79.910743842)\n",
       "zip                                                   15208\n",
       "athlete_count                                             1\n",
       "achievement_count                                         6\n",
       "comment_count                                             0\n",
       "kudos_count                                               0\n",
       "moving_time                                 0 days 00:33:06\n",
       "total_elevation_gain                                 105.97\n",
       "average_speed                                         11.85\n",
       "max_speed                                             23.94\n",
       "calories                                              971.3\n",
       "TMAX                                                  66.02\n",
       "TMIN                                                  42.08\n",
       "PRECIP                                                    0\n",
       "stationid                                       US1PAAL0046\n",
       "year                                                   2015\n",
       "month                                                     4\n",
       "date_est                                2015-04-25 11:05:19\n",
       "moving_time_seconds                                    1986\n",
       "distance_feet                                       34528.9\n",
       "distance_miles                                      6.53956\n",
       "manual                                                False\n",
       "has_station                                            True\n",
       "has_weather                                           False\n",
       "has_file                                               True\n",
       "indoor                                                False\n",
       "new_type                                                Run\n",
       "other_athlete_count                                       0\n",
       "Name: 216, dtype: object"
      ]
     },
     "execution_count": 138,
     "metadata": {},
     "output_type": "execute_result"
    }
   ],
   "source": [
    "X_test.iloc[140]\n",
    "ind = train_df[train_df.id <= 0.179699].sort_values(by='id').tail(1).index\n",
    "a = activities.iloc[ind]\n",
    "a.iloc[0]"
   ]
  },
  {
   "cell_type": "markdown",
   "metadata": {},
   "source": [
    "This is the one that it mispredicted - or did it?"
   ]
  },
  {
   "cell_type": "code",
   "execution_count": 139,
   "metadata": {},
   "outputs": [],
   "source": [
    "lat,lng = plot_activity(a.iloc[0])"
   ]
  },
  {
   "cell_type": "code",
   "execution_count": 140,
   "metadata": {},
   "outputs": [],
   "source": [
    "??mplleaflet.display()"
   ]
  },
  {
   "cell_type": "code",
   "execution_count": 141,
   "metadata": {},
   "outputs": [
    {
     "data": {
      "text/html": [
       "<iframe src=\"data:text/html;base64,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\" width=\"100%\" height=\"600\"></iframe>"
      ],
      "text/plain": [
       "<IPython.core.display.HTML object>"
      ]
     },
     "execution_count": 141,
     "metadata": {},
     "output_type": "execute_result"
    }
   ],
   "source": [
    "fig = plt.figure(facecolor = '0.05',figsize=(10,10))\n",
    "ax = plt.Axes(fig, [0., 0., 1., 1.], )\n",
    "ax.set_aspect('equal')\n",
    "ax.set_axis_off()\n",
    "fig.add_axes(ax)\n",
    "plot_col = 'Red'\n",
    "plt.plot(lng,lat, color = plot_col, lw = 2, alpha = 1)\n",
    "mplleaflet.display(tiles='cartodb_positron')"
   ]
  },
  {
   "cell_type": "markdown",
   "metadata": {},
   "source": [
    "That looks an awful lot like it starts at East End Brewing Company and ends up there as well. As it happens, the EEBC Keg Ride was that day and I helped to marshal it (on my bike). So, the classifier actually was right and I misclassified it in Strava"
   ]
  },
  {
   "cell_type": "code",
   "execution_count": null,
   "metadata": {},
   "outputs": [],
   "source": []
  }
 ],
 "metadata": {
  "kernelspec": {
   "display_name": "Python 3",
   "language": "python",
   "name": "python3"
  },
  "language_info": {
   "codemirror_mode": {
    "name": "ipython",
    "version": 3
   },
   "file_extension": ".py",
   "mimetype": "text/x-python",
   "name": "python",
   "nbconvert_exporter": "python",
   "pygments_lexer": "ipython3",
   "version": "3.6.0"
  },
  "varInspector": {
   "cols": {
    "lenName": 16,
    "lenType": 16,
    "lenVar": 40
   },
   "kernels_config": {
    "python": {
     "delete_cmd_postfix": "",
     "delete_cmd_prefix": "del ",
     "library": "var_list.py",
     "varRefreshCmd": "print(var_dic_list())"
    },
    "r": {
     "delete_cmd_postfix": ") ",
     "delete_cmd_prefix": "rm(",
     "library": "var_list.r",
     "varRefreshCmd": "cat(var_dic_list()) "
    }
   },
   "types_to_exclude": [
    "module",
    "function",
    "builtin_function_or_method",
    "instance",
    "_Feature"
   ],
   "window_display": false
  }
 },
 "nbformat": 4,
 "nbformat_minor": 2
}
