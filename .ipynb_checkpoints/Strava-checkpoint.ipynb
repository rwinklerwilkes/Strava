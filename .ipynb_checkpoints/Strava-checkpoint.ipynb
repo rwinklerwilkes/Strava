{
 "cells": [
  {
   "cell_type": "code",
   "execution_count": 1,
   "metadata": {},
   "outputs": [],
   "source": [
    "import gpxpy\n",
    "import pandas as pd\n",
    "import numpy as np\n",
    "import srtm\n",
    "import matplotlib.pyplot as plt\n",
    "\n",
    "import noaa_api_token\n",
    "import strava_api_token"
   ]
  },
  {
   "cell_type": "markdown",
   "metadata": {},
   "source": [
    "First, import any API tokens we need (NOAA, Strava)"
   ]
  },
  {
   "cell_type": "code",
   "execution_count": 2,
   "metadata": {},
   "outputs": [],
   "source": [
    "strava = strava_api_token.strava_token\n",
    "token = noaa_api_token.token\n"
   ]
  },
  {
   "cell_type": "code",
   "execution_count": 3,
   "metadata": {},
   "outputs": [],
   "source": [
    "data_path = 'Data//'"
   ]
  },
  {
   "cell_type": "markdown",
   "metadata": {},
   "source": [
    "Open the CSV file containing my activities, formatting the filename and dates in their correct formats"
   ]
  },
  {
   "cell_type": "code",
   "execution_count": 4,
   "metadata": {},
   "outputs": [],
   "source": [
    "converters={'filename': lambda x: str(x)}\n",
    "activities = pd.read_csv(data_path + 'activities.csv',converters=converters)\n",
    "activities.date = pd.to_datetime(activities['date'])\n",
    "#activities distance is in meters\n",
    "#activities elapsed time is in seconds (total time, not moving time)"
   ]
  },
  {
   "cell_type": "code",
   "execution_count": 5,
   "metadata": {},
   "outputs": [],
   "source": [
    "#example url to request for a zip and given start/end date\n",
    "ex_url = 'https://www.ncdc.noaa.gov/cdo-web/api/v2/data?datasetid=GHCND&locationid=ZIP:28801&startdate=2010-05-01&enddate=2010-05-01'\n",
    "#example from github\n",
    "ex_gh = 'https://github.com/paulokuong/noaa'"
   ]
  },
  {
   "cell_type": "markdown",
   "metadata": {},
   "source": [
    "Below are some helper functions:\n",
    "\n",
    "* **lat_lng_to_zip**\n",
    "    - Translates a given latitude and longitude into the nearest US zip code\n",
    "* **parse_filename**\n",
    "    - Removes the .fit.gz and replaces with .gpx for files which aren't identified as .gpx in the Strava data\n",
    "* **gpx_attributes**\n",
    "    - Figures out the latitude and longitude of the first point within a .gpx file"
   ]
  },
  {
   "cell_type": "code",
   "execution_count": 6,
   "metadata": {},
   "outputs": [],
   "source": [
    "def lat_lng_to_zip(latlng,ztc):\n",
    "    minrow = (np.sqrt((ztc['LAT'] - latlng[0])**2 + (ztc['LNG'] - latlng[1])**2)).values.argmin()\n",
    "    return ztc.iloc[minrow]['ZIP']\n",
    "\n",
    "#all activities have been converted to GPX using GPSBabel, so I need to fix the filenames\n",
    "def parse_filename(filename):\n",
    "    filename = filename.split('/')\n",
    "    if len(filename) == 1:\n",
    "        filename = None\n",
    "    else:\n",
    "        filename = filename[1]\n",
    "    \n",
    "    if filename is None:\n",
    "        fn = ''\n",
    "    elif filename[-4:] == '.gpx':\n",
    "        fn = filename\n",
    "    else:\n",
    "        fn = filename[:-7] + '.gpx'\n",
    "    return 'Data/activities/GPX/' + fn\n",
    "\n",
    "def gpx_attributes(filename):\n",
    "    try:\n",
    "        with open(filename,'r') as gpx_file:\n",
    "            #gpx_file = open(filename,'r')\n",
    "            gpx = gpxpy.parse(gpx_file)\n",
    "            first_pt = gpx.tracks[0].segments[0].points[0]\n",
    "            start_pos = (first_pt.latitude,first_pt.longitude)\n",
    "        ret = start_pos\n",
    "    except:\n",
    "        #if there's no file then it was manually input, \n",
    "        #which means I most likely rode on my trainer at home\n",
    "        ret = (40.552273, -80.044383)\n",
    "    return ret"
   ]
  },
  {
   "cell_type": "code",
   "execution_count": 7,
   "metadata": {},
   "outputs": [],
   "source": [
    "#load zip code data from https://gist.github.com/erichurst/7882666\n",
    "converters={'ZIP': lambda x: str(x)}\n",
    "ztc = pd.read_csv(data_path + 'zip_to_coord.txt',converters=converters)"
   ]
  },
  {
   "cell_type": "code",
   "execution_count": 8,
   "metadata": {},
   "outputs": [],
   "source": [
    "activities['filename_fix'] = activities['filename'].apply(lambda x: parse_filename(x))\n",
    "activities['latlng'] = activities['filename_fix'].apply(lambda x: gpx_attributes(x))\n",
    "activities['zip'] = activities['latlng'].apply(lambda x: lat_lng_to_zip(x,ztc))"
   ]
  },
  {
   "cell_type": "code",
   "execution_count": 9,
   "metadata": {},
   "outputs": [
    {
     "data": {
      "text/html": [
       "<div>\n",
       "<style scoped>\n",
       "    .dataframe tbody tr th:only-of-type {\n",
       "        vertical-align: middle;\n",
       "    }\n",
       "\n",
       "    .dataframe tbody tr th {\n",
       "        vertical-align: top;\n",
       "    }\n",
       "\n",
       "    .dataframe thead th {\n",
       "        text-align: right;\n",
       "    }\n",
       "</style>\n",
       "<table border=\"1\" class=\"dataframe\">\n",
       "  <thead>\n",
       "    <tr style=\"text-align: right;\">\n",
       "      <th></th>\n",
       "      <th>id</th>\n",
       "      <th>date</th>\n",
       "      <th>name</th>\n",
       "      <th>type</th>\n",
       "      <th>description</th>\n",
       "      <th>elapsed_time</th>\n",
       "      <th>distance</th>\n",
       "      <th>commute</th>\n",
       "      <th>gear</th>\n",
       "      <th>filename</th>\n",
       "      <th>filename_fix</th>\n",
       "      <th>latlng</th>\n",
       "      <th>zip</th>\n",
       "    </tr>\n",
       "  </thead>\n",
       "  <tbody>\n",
       "    <tr>\n",
       "      <th>0</th>\n",
       "      <td>11823912</td>\n",
       "      <td>2012-06-26 22:17:36</td>\n",
       "      <td>Jun 26, 2012</td>\n",
       "      <td>Ride</td>\n",
       "      <td>NaN</td>\n",
       "      <td>5728</td>\n",
       "      <td>32518.2</td>\n",
       "      <td>False</td>\n",
       "      <td>NaN</td>\n",
       "      <td>activities/11823912.gpx</td>\n",
       "      <td>Data/activities/GPX/11823912.gpx</td>\n",
       "      <td>(40.475049, -79.918379)</td>\n",
       "      <td>15206</td>\n",
       "    </tr>\n",
       "    <tr>\n",
       "      <th>1</th>\n",
       "      <td>12093460</td>\n",
       "      <td>2012-06-30 14:05:19</td>\n",
       "      <td>Jun 30, 2012</td>\n",
       "      <td>Ride</td>\n",
       "      <td>NaN</td>\n",
       "      <td>6846</td>\n",
       "      <td>39051.2</td>\n",
       "      <td>False</td>\n",
       "      <td>NaN</td>\n",
       "      <td>activities/12093460.gpx</td>\n",
       "      <td>Data/activities/GPX/12093460.gpx</td>\n",
       "      <td>(40.475199, -79.918298)</td>\n",
       "      <td>15206</td>\n",
       "    </tr>\n",
       "    <tr>\n",
       "      <th>2</th>\n",
       "      <td>12413019</td>\n",
       "      <td>2012-07-03 22:30:35</td>\n",
       "      <td>Jul 3, 2012</td>\n",
       "      <td>Ride</td>\n",
       "      <td>NaN</td>\n",
       "      <td>5369</td>\n",
       "      <td>29010.3</td>\n",
       "      <td>False</td>\n",
       "      <td>Orbea</td>\n",
       "      <td>activities/12413019.gpx</td>\n",
       "      <td>Data/activities/GPX/12413019.gpx</td>\n",
       "      <td>(40.486821, -79.894246)</td>\n",
       "      <td>15215</td>\n",
       "    </tr>\n",
       "    <tr>\n",
       "      <th>3</th>\n",
       "      <td>13691080</td>\n",
       "      <td>2012-07-17 22:22:28</td>\n",
       "      <td>Riverview Park</td>\n",
       "      <td>Ride</td>\n",
       "      <td>NaN</td>\n",
       "      <td>6273</td>\n",
       "      <td>37623.0</td>\n",
       "      <td>False</td>\n",
       "      <td>Orbea</td>\n",
       "      <td>activities/13691080.gpx</td>\n",
       "      <td>Data/activities/GPX/13691080.gpx</td>\n",
       "      <td>(40.466192, -79.922708)</td>\n",
       "      <td>15206</td>\n",
       "    </tr>\n",
       "    <tr>\n",
       "      <th>4</th>\n",
       "      <td>14016843</td>\n",
       "      <td>2012-07-21 12:37:10</td>\n",
       "      <td>Forward Avenue</td>\n",
       "      <td>Ride</td>\n",
       "      <td>NaN</td>\n",
       "      <td>7436</td>\n",
       "      <td>36497.3</td>\n",
       "      <td>False</td>\n",
       "      <td>Orbea</td>\n",
       "      <td>activities/14016843.gpx</td>\n",
       "      <td>Data/activities/GPX/14016843.gpx</td>\n",
       "      <td>(40.452901, -79.932796)</td>\n",
       "      <td>15232</td>\n",
       "    </tr>\n",
       "  </tbody>\n",
       "</table>\n",
       "</div>"
      ],
      "text/plain": [
       "         id                date            name  type description  \\\n",
       "0  11823912 2012-06-26 22:17:36    Jun 26, 2012  Ride         NaN   \n",
       "1  12093460 2012-06-30 14:05:19    Jun 30, 2012  Ride         NaN   \n",
       "2  12413019 2012-07-03 22:30:35     Jul 3, 2012  Ride         NaN   \n",
       "3  13691080 2012-07-17 22:22:28  Riverview Park  Ride         NaN   \n",
       "4  14016843 2012-07-21 12:37:10  Forward Avenue  Ride         NaN   \n",
       "\n",
       "   elapsed_time  distance  commute   gear                 filename  \\\n",
       "0          5728   32518.2    False    NaN  activities/11823912.gpx   \n",
       "1          6846   39051.2    False    NaN  activities/12093460.gpx   \n",
       "2          5369   29010.3    False  Orbea  activities/12413019.gpx   \n",
       "3          6273   37623.0    False  Orbea  activities/13691080.gpx   \n",
       "4          7436   36497.3    False  Orbea  activities/14016843.gpx   \n",
       "\n",
       "                       filename_fix                   latlng    zip  \n",
       "0  Data/activities/GPX/11823912.gpx  (40.475049, -79.918379)  15206  \n",
       "1  Data/activities/GPX/12093460.gpx  (40.475199, -79.918298)  15206  \n",
       "2  Data/activities/GPX/12413019.gpx  (40.486821, -79.894246)  15215  \n",
       "3  Data/activities/GPX/13691080.gpx  (40.466192, -79.922708)  15206  \n",
       "4  Data/activities/GPX/14016843.gpx  (40.452901, -79.932796)  15232  "
      ]
     },
     "execution_count": 9,
     "metadata": {},
     "output_type": "execute_result"
    }
   ],
   "source": [
    "activities.head()"
   ]
  },
  {
   "cell_type": "markdown",
   "metadata": {
    "heading_collapsed": true
   },
   "source": [
    "# Nearest Stations"
   ]
  },
  {
   "cell_type": "markdown",
   "metadata": {
    "hidden": true
   },
   "source": [
    "The NOAA API needs to have a station requested in order to be certain we get weather data. So, for each activity, we need to figure out which station was nearest to that activity"
   ]
  },
  {
   "cell_type": "code",
   "execution_count": 41,
   "metadata": {
    "hidden": true
   },
   "outputs": [],
   "source": [
    "ghcnd_names = ['ID','LATITUDE','LONGITUDE','ELEVATION','STATE','NAME']\n",
    "stations_g = pd.DataFrame(columns=ghcnd_names)\n",
    "all_rows = []\n",
    "with open(data_path + 'ghcnd-stations.txt','r') as file:\n",
    "    ind = 0\n",
    "    for row in file:\n",
    "        if row[0:2]!='US':\n",
    "            continue\n",
    "        state = row[38:40].strip()\n",
    "        name = row[41:71].strip()\n",
    "        t = ' '.join(row.split())\n",
    "        l = t.split(' ',maxsplit=5)\n",
    "        all_rows.append(l)\n",
    "        #stations_g.loc[ind] = l\n",
    "        #ind += 1\n",
    "stations_g = pd.DataFrame(all_rows,columns=ghcnd_names)"
   ]
  },
  {
   "cell_type": "code",
   "execution_count": 56,
   "metadata": {
    "hidden": true
   },
   "outputs": [],
   "source": [
    "numeric = ['LATITUDE','LONGITUDE','ELEVATION']\n",
    "for c in numeric:\n",
    "    stations_g[c] = pd.to_numeric(stations_g[c])"
   ]
  },
  {
   "cell_type": "code",
   "execution_count": 50,
   "metadata": {
    "hidden": true
   },
   "outputs": [],
   "source": [
    "stations_i = pd.read_csv(data_path + 'isd-history.csv',quotechar='\"')\n",
    "stations_i = stations_i[~stations_i['LAT'].isnull()]"
   ]
  },
  {
   "cell_type": "code",
   "execution_count": 62,
   "metadata": {
    "hidden": true
   },
   "outputs": [],
   "source": [
    "def find_nearest_station(latlng,stations):\n",
    "    minrow = (np.sqrt((stations_g['LATITUDE'] - latlng[0])**2 + (stations_g['LONGITUDE'] - latlng[1])**2)).values.argmin()\n",
    "    return stations_g.iloc[minrow]['ID']"
   ]
  },
  {
   "cell_type": "code",
   "execution_count": 63,
   "metadata": {
    "hidden": true
   },
   "outputs": [],
   "source": [
    "activities['stationid'] = activities['latlng'].apply(lambda x: find_nearest_station(x,stations_g))"
   ]
  },
  {
   "cell_type": "code",
   "execution_count": 147,
   "metadata": {
    "hidden": true
   },
   "outputs": [],
   "source": [
    "def get_noaa_data_station(url,station,header):\n",
    "    url = url + station\n",
    "    r = requests.get(url,headers=header)\n",
    "    return r\n",
    "    \n",
    "def construct_params_station(token,station_id):\n",
    "    creds = dict(token=token)\n",
    "    station = 'GHCND:%s'%station_id\n",
    "    u = 'https://www.ncdc.noaa.gov/cdo-web/api/v2/stations/'\n",
    "    r = get_noaa_data_station(u,station,creds)\n",
    "    return r"
   ]
  },
  {
   "cell_type": "code",
   "execution_count": 174,
   "metadata": {
    "hidden": true
   },
   "outputs": [],
   "source": [
    "#some stations are no longer active - need to delete these\n",
    "token = noaa_api_token.token\n",
    "for s in activities['stationid'].unique():\n",
    "    r = construct_params_station(token,s)\n",
    "    rj = r.json()\n",
    "    mnd = datetime.datetime.strptime(rj['mindate'], '%Y-%m-%d')\n",
    "    mxd = datetime.datetime.strptime(rj['maxdate'], '%Y-%m-%d')\n",
    "    #how many are within the date range? if 0, then remove from dataset\n",
    "    ct = activities[(activities['stationid']==s)&(activities['date'] > mnd)&(activities['date'] < mxd)].count()['id']\n",
    "    if ct == 0:\n",
    "        print(\"REMOVED\")\n",
    "        stations_g = stations_g[stations_g['ID']!=s]\n",
    "        activities[(activities['stationid']==s)]['stationid'] = None\n",
    "    time.sleep(0.200)\n",
    "        #remove station"
   ]
  },
  {
   "cell_type": "code",
   "execution_count": 173,
   "metadata": {
    "hidden": true
   },
   "outputs": [],
   "source": [
    "activities['stationid'] = activities['latlng'].apply(lambda x: find_nearest_station(x,stations_g))"
   ]
  },
  {
   "cell_type": "markdown",
   "metadata": {},
   "source": [
    "# File Additions and Cleanup"
   ]
  },
  {
   "cell_type": "code",
   "execution_count": 9,
   "metadata": {},
   "outputs": [],
   "source": [
    "#strava and weather added fields\n",
    "strava_fields = [\n",
    "    'athlete_count',\n",
    "    'achievement_count',\n",
    "    'comment_count',\n",
    "    'kudos_count',\n",
    "    'moving_time',\n",
    "    'elapsed_time',\n",
    "    'total_elevation_gain',\n",
    "    'average_speed',\n",
    "    'max_speed',\n",
    "    'calories',\n",
    "    'description'\n",
    "]\n",
    "weather_fields = ['TMAX','TMIN','PRECIP','stationid']\n",
    "all_fields = strava_fields + weather_fields"
   ]
  },
  {
   "cell_type": "code",
   "execution_count": 10,
   "metadata": {},
   "outputs": [],
   "source": [
    "for i in all_fields:\n",
    "    activities[i] = None"
   ]
  },
  {
   "cell_type": "code",
   "execution_count": 11,
   "metadata": {},
   "outputs": [],
   "source": [
    "fix_activities = pd.read_csv(data_path + 'activities_out.csv')"
   ]
  },
  {
   "cell_type": "code",
   "execution_count": 12,
   "metadata": {},
   "outputs": [],
   "source": [
    "m = pd.merge(activities,fix_activities,left_index=True,right_on='Unnamed: 0',suffixes=['','_y'])\n",
    "for i in all_fields:\n",
    "    m[i].replace(np.NaN,m[i + '_y'],inplace=True)"
   ]
  },
  {
   "cell_type": "code",
   "execution_count": 13,
   "metadata": {},
   "outputs": [],
   "source": [
    "activities = m.loc[:,activities.columns]"
   ]
  },
  {
   "cell_type": "code",
   "execution_count": 14,
   "metadata": {},
   "outputs": [],
   "source": [
    "activities['manual'] = activities['filename_fix'].apply(lambda x: x[-4:]) == 'GPX/'"
   ]
  },
  {
   "cell_type": "code",
   "execution_count": 15,
   "metadata": {},
   "outputs": [],
   "source": [
    "activities['has_station'] = ~activities['stationid'].isnull()\n",
    "activities['has_weather'] = ~activities['TMAX'].isnull()\n",
    "activities['has_file'] = (activities['filename'].str.len() > 0)"
   ]
  },
  {
   "cell_type": "code",
   "execution_count": 16,
   "metadata": {},
   "outputs": [],
   "source": [
    "activities['indoor'] = (~activities['has_file']&((activities['gear'] == 'Trainer') | (activities['gear'] == 'Orbea')))"
   ]
  },
  {
   "cell_type": "code",
   "execution_count": 17,
   "metadata": {},
   "outputs": [],
   "source": [
    "#Very few rows that are \"Hike\" or \"Walk\" - make a new column for sake of analysis to simplify\n",
    "activities['new_type'] = activities['type']\n",
    "activities.loc[activities['type']=='Hike','new_type'] = 'Run'\n",
    "activities.loc[activities['type']=='Walk','new_type'] = 'Run'"
   ]
  },
  {
   "cell_type": "markdown",
   "metadata": {},
   "source": [
    "# Strava API"
   ]
  },
  {
   "cell_type": "code",
   "execution_count": null,
   "metadata": {},
   "outputs": [],
   "source": [
    "#https://developers.strava.com/docs/reference/#api-Activities-getActivityById"
   ]
  },
  {
   "cell_type": "code",
   "execution_count": 42,
   "metadata": {},
   "outputs": [],
   "source": [
    "from stravalib.client import Client\n",
    "from stravalib import unithelper"
   ]
  },
  {
   "cell_type": "code",
   "execution_count": 28,
   "metadata": {},
   "outputs": [],
   "source": [
    "client = Client()\n",
    "authorize_url = client.authorization_url(client_id=26961, redirect_uri='127.0.0.1')\n",
    "client.access_token = strava"
   ]
  },
  {
   "cell_type": "code",
   "execution_count": 78,
   "metadata": {},
   "outputs": [],
   "source": [
    "#Create new columns for all of our interesting fields above\n",
    "for i in strava_fields:\n",
    "    activities[i] = None"
   ]
  },
  {
   "cell_type": "code",
   "execution_count": 94,
   "metadata": {},
   "outputs": [
    {
     "name": "stdout",
     "output_type": "stream",
     "text": [
      "Failed\n",
      "Failed\n"
     ]
    },
    {
     "name": "stderr",
     "output_type": "stream",
     "text": [
      "No such attribute available_zones on entity <Activity id=1601436182 name='North Park Green Loop' resource_state=3>\n"
     ]
    }
   ],
   "source": [
    "for ind,row in activities.iterrows():\n",
    "    if not row.has_file or row.athlete_count is not None:\n",
    "        continue\n",
    "    try:\n",
    "        activity = client.get_activity(row.id)\n",
    "        if activity.resource_state != 3:\n",
    "            continue\n",
    "        for i in strava_fields:\n",
    "            attr = getattr(activity,i)\n",
    "            if i == 'total_elevation_gain':\n",
    "                a = unithelper.feet(attr)\n",
    "                #print(unithelper.feet(attr))\n",
    "            elif i=='average_speed' or i=='max_speed':\n",
    "                a = unithelper.mph(attr)\n",
    "                #print(unithelper.mph(attr))\n",
    "            else:\n",
    "                a = attr\n",
    "            activities.loc[ind,i] = a\n",
    "    except:\n",
    "        print('Failed')\n"
   ]
  },
  {
   "cell_type": "markdown",
   "metadata": {},
   "source": [
    "# Weather"
   ]
  },
  {
   "cell_type": "code",
   "execution_count": 22,
   "metadata": {},
   "outputs": [],
   "source": [
    "import datetime\n",
    "import requests\n",
    "import time\n",
    "\n",
    "ex_url = 'https://www.ncdc.noaa.gov/cdo-web/api/v2/data?datasetid=GHCND&locationid=ZIP:28801&startdate=2010-05-01&enddate=2010-05-01'\n",
    "\n",
    "def get_noaa_data(url,params, header):\n",
    "    r = requests.get(url, params=params, headers=header)\n",
    "    return r\n",
    "    \n",
    "def construct_params(token,station_id,start,end):\n",
    "    creds = dict(token=token)\n",
    "    params={}\n",
    "    params['datasetid'] = 'GHCND'\n",
    "    params['stationid'] = 'GHCND:%s'%station_id\n",
    "    params['startdate'] = start\n",
    "    params['enddate'] = end\n",
    "    u = 'https://www.ncdc.noaa.gov/cdo-web/api/v2/data'\n",
    "    r = get_noaa_data(u,params,creds)\n",
    "    return r\n",
    "\n",
    "def c_to_f(c):\n",
    "    return c/10.0 * 9.0/5 + 32\n",
    "\n",
    "def get_ranges(activity,token):\n",
    "    loc = activity.stationid\n",
    "    #assume start and end on same day - I'm not doing any multiday touring\n",
    "    start = activity.date.strftime('%Y-%m-%d')\n",
    "    end = start\n",
    "    try:\n",
    "        weather = construct_params(token,loc,start,end)\n",
    "        tmax = None\n",
    "        tmin = None\n",
    "        precip = None\n",
    "        for res in weather.json()['results']:\n",
    "            if res['datatype']=='TMAX':\n",
    "                tmax = c_to_f(res['value'])\n",
    "            elif res['datatype'] == 'TMIN':\n",
    "                tmin = c_to_f(res['value'])\n",
    "            elif res['datatype']=='PRCP':\n",
    "                precip = res['value']\n",
    "        retdict = {'TMAX': tmax,'TMIN':tmin,'PRECIP':precip}\n",
    "    except:\n",
    "        retdict = {'TMAX': None,'TMIN':None,'PRECIP':None}\n",
    "    return retdict"
   ]
  },
  {
   "cell_type": "code",
   "execution_count": 216,
   "metadata": {},
   "outputs": [],
   "source": [
    "for index,row in activities.iterrows():\n",
    "    #already have identified the temperature for this particular row\n",
    "    if not np.isnan(row['TMAX']):\n",
    "        continue\n",
    "    r = get_ranges(row,token)\n",
    "    activities.loc[index,'TMAX'] = r['TMAX']\n",
    "    activities.loc[index,'TMIN'] = r['TMIN']\n",
    "    activities.loc[index,'PRECIP'] = r['PRECIP']\n",
    "    time.sleep(0.200)"
   ]
  },
  {
   "cell_type": "code",
   "execution_count": 95,
   "metadata": {},
   "outputs": [],
   "source": [
    "activities.to_csv(data_path + 'activities_out.csv')"
   ]
  },
  {
   "cell_type": "code",
   "execution_count": 18,
   "metadata": {},
   "outputs": [],
   "source": [
    "temp = activities[activities.has_weather]\n",
    "temp = temp[temp['date'].apply(lambda x: x.year) >= 2016]"
   ]
  },
  {
   "cell_type": "code",
   "execution_count": 19,
   "metadata": {},
   "outputs": [],
   "source": [
    "temp.loc[:,'TAVG'] = (temp.loc[:,'TMAX'] + temp.loc[:,'TMIN'])/2\n",
    "temp.loc[:,'temp_bucket'] = np.floor(temp.loc[:,'TMAX']/10) * 10"
   ]
  },
  {
   "cell_type": "code",
   "execution_count": 20,
   "metadata": {},
   "outputs": [],
   "source": [
    "temp.loc[:,'dist_ft'] = temp.loc[:,'distance'] * 3.2808399\n",
    "temp.loc[:,'dist_mi'] = temp.loc[:,'dist_ft'] / 5280"
   ]
  },
  {
   "cell_type": "code",
   "execution_count": 21,
   "metadata": {},
   "outputs": [
    {
     "data": {
      "text/plain": [
       "temp_bucket\n",
       "10.0    102.648098\n",
       "20.0     86.596508\n",
       "30.0    311.060476\n",
       "40.0    409.918843\n",
       "50.0    341.087972\n",
       "60.0    353.178811\n",
       "70.0    406.677349\n",
       "80.0    531.324211\n",
       "90.0    124.382854\n",
       "Name: dist_mi, dtype: float64"
      ]
     },
     "execution_count": 21,
     "metadata": {},
     "output_type": "execute_result"
    }
   ],
   "source": [
    "temp.groupby('temp_bucket').sum()['dist_mi']"
   ]
  },
  {
   "cell_type": "code",
   "execution_count": 22,
   "metadata": {},
   "outputs": [],
   "source": [
    "from scipy.interpolate import UnivariateSpline\n",
    "import math\n",
    "import seaborn as sns\n",
    "import matplotlib.patches as mpatches\n",
    "from sklearn.preprocessing import minmax_scale"
   ]
  },
  {
   "cell_type": "code",
   "execution_count": 23,
   "metadata": {},
   "outputs": [],
   "source": [
    "x = temp.date\n",
    "y = temp.TMAX\n",
    "ind = temp.indoor\n",
    "act_type = temp.new_type\n",
    "\n",
    "xd = np.linspace(0,1,len(x))\n",
    "xs = np.linspace(0,1,len(x)*3)\n",
    "\n",
    "x_labels = x.apply(lambda j: j.strftime('%Y-%m'))\n",
    "x_labels = np.stack([xd,x_labels])\n",
    "\n",
    "new_tick_pos = x_labels[0][range(0,len(x),math.floor(len(x)/10))]\n",
    "new_tick_labels = x_labels[1][range(0,len(x),math.floor(len(x)/10))]"
   ]
  },
  {
   "cell_type": "code",
   "execution_count": 24,
   "metadata": {},
   "outputs": [],
   "source": [
    "#let's size the bubbles so that each bubble is sized relative to its activity type\n",
    "temp_s = temp[['new_type','distance']]\n",
    "mx = temp_s.groupby('new_type').max()\n",
    "temp_s = temp_s.merge(mx,left_on='new_type',right_index=True)\n",
    "temp_s['s'] = temp_s['distance_x']/temp_s['distance_y']\n",
    "\n",
    "z = minmax_scale(temp_s.s)"
   ]
  },
  {
   "cell_type": "code",
   "execution_count": 25,
   "metadata": {},
   "outputs": [
    {
     "data": {
      "image/png": "[encoded data removed]",
      "text/plain": [
       "<matplotlib.figure.Figure at 0x1ff13db93c8>"
      ]
     },
     "metadata": {},
     "output_type": "display_data"
    }
   ],
   "source": [
    "var_y = np.var(y)\n",
    "len_y = len(y)\n",
    "smoothing_factor = (var_y*len_y)*0.25\n",
    "\n",
    "s = UnivariateSpline(xd, y,s=smoothing_factor)\n",
    "ys = s(xs)\n",
    "\n",
    "fig,ax = plt.subplots(1,1)\n",
    "\n",
    "color_map = {True:'r',False:'b'}\n",
    "color_map_act = {'Run':'r','Ride':'b'}\n",
    "#colors = ind.apply(lambda x: color_map[x]).values\n",
    "colors = act_type.apply(lambda x: color_map_act[x]).values\n",
    "handles = []\n",
    "\n",
    "\n",
    "for k,v in color_map_act.items():\n",
    "    handles.append(mpatches.Patch(color=v,label=k))\n",
    "    \n",
    "#for k,v in color_map.items():\n",
    "#    if k:\n",
    "#        label = 'Indoor'\n",
    "#    else:\n",
    "#        label = 'Outdoor'\n",
    "#    handles.append(mpatches.Patch(color=v,label=label))\n",
    "    \n",
    "ax.scatter(xd,y,c=colors,s=z*100)\n",
    "ax.scatter(xs,ys,c='k',marker='.',s=4)\n",
    "plt.xticks(new_tick_pos,new_tick_labels,rotation=45)\n",
    "plt.legend(handles=handles)\n",
    "\n",
    "plt.show()"
   ]
  },
  {
   "cell_type": "markdown",
   "metadata": {},
   "source": [
    "# Heat Map"
   ]
  },
  {
   "cell_type": "code",
   "execution_count": 26,
   "metadata": {},
   "outputs": [],
   "source": [
    "from folium.plugins import HeatMap\n",
    "import folium\n",
    "import mplleaflet"
   ]
  },
  {
   "cell_type": "code",
   "execution_count": 27,
   "metadata": {},
   "outputs": [],
   "source": [
    "#Looking to plot only the activities relatively close to Pittsburgh\n",
    "ll = activities['latlng'].apply(lambda x: np.array(x))\n",
    "ll = ll.apply(lambda x: x-np.array((40.466192, -79.922708)))\n",
    "ll = ll.apply(lambda x: np.sum(np.power(x,2)))"
   ]
  },
  {
   "cell_type": "code",
   "execution_count": 28,
   "metadata": {},
   "outputs": [],
   "source": [
    "def smooth_speed(point_num,segment,num_pts_to_smooth):\n",
    "    start_point = point_num - num_pts_to_smooth\n",
    "    end_point = point_num + num_pts_to_smooth + 1\n",
    "    if start_point < 0:\n",
    "        start_point = 0\n",
    "    if end_point > len(segment.points):\n",
    "        end_point = len(segment.points)\n",
    "    n = end_point - start_point\n",
    "    \n",
    "    avg = 0\n",
    "    for i in range(start_point,end_point - 1):\n",
    "        cur_pt = segment.points[i]\n",
    "        next_pt = segment.points[i+1]\n",
    "        avg += cur_pt.speed_between(next_pt)\n",
    "    return avg / n"
   ]
  },
  {
   "cell_type": "code",
   "execution_count": 29,
   "metadata": {},
   "outputs": [],
   "source": [
    "def plot_activity(activity):\n",
    "    fn = activity.filename_fix\n",
    "    with open(fn,'r') as gpx_file:\n",
    "        gpx = gpxpy.parse(gpx_file)\n",
    "        lat = []\n",
    "        lng = []\n",
    "        segment = gpx.tracks[0].segments[0]\n",
    "        for point_no, pt in enumerate(segment.points):\n",
    "            lat.append(pt.latitude)\n",
    "            lng.append(pt.longitude)\n",
    "    #plt.plot(lng, lat, color = 'deepskyblue', lw = 0.2, alpha = 0.8)\n",
    "    return lat,lng"
   ]
  },
  {
   "cell_type": "code",
   "execution_count": 30,
   "metadata": {},
   "outputs": [],
   "source": [
    "#Puts them into a list of lists\n",
    "#activities_subset = activities[(activities['manual']==False)]\n",
    "activities_subset = activities[(ll < 0.5)&(activities['manual']==False)]\n",
    "\n",
    "all_lat = []\n",
    "all_lng = []\n",
    "act_type = []\n",
    "for ind,row in activities_subset.iterrows():\n",
    "    lat,lng = plot_activity(row)\n",
    "    act_type.append(row.new_type)\n",
    "    all_lat.append(lat)\n",
    "    all_lng.append(lng)"
   ]
  },
  {
   "cell_type": "code",
   "execution_count": 31,
   "metadata": {
    "scrolled": false
   },
   "outputs": [],
   "source": [
    "fig = plt.figure(facecolor = '0.05',figsize=(20,20))\n",
    "ax = plt.Axes(fig, [0., 0., 1., 1.], )\n",
    "ax.set_aspect('equal')\n",
    "ax.set_axis_off()\n",
    "fig.add_axes(ax)\n",
    "for i in range(len(all_lat)):\n",
    "    lat = all_lat[i]\n",
    "    lng = all_lng[i]\n",
    "    a = act_type[i]\n",
    "    if a=='Ride':\n",
    "        plot_col = 'red'\n",
    "    else:\n",
    "        plot_col = 'blue'\n",
    "    plt.plot(lng,lat, color = plot_col, lw = 2, alpha = 0.2)\n",
    "mplleaflet.show(tiles='cartodb_positron')"
   ]
  },
  {
   "cell_type": "markdown",
   "metadata": {},
   "source": [
    "# Trying to Use Quiver"
   ]
  },
  {
   "cell_type": "code",
   "execution_count": 44,
   "metadata": {},
   "outputs": [],
   "source": [
    "import pyproj"
   ]
  },
  {
   "cell_type": "code",
   "execution_count": 45,
   "metadata": {},
   "outputs": [],
   "source": [
    "fn = activities_subset.loc[0].filename_fix\n",
    "with open(fn,'r') as gpx_file:\n",
    "    gpx = gpxpy.parse(gpx_file)"
   ]
  },
  {
   "cell_type": "code",
   "execution_count": 52,
   "metadata": {},
   "outputs": [],
   "source": [
    "seg = gpx.tracks[0].segments[0]"
   ]
  },
  {
   "cell_type": "code",
   "execution_count": 99,
   "metadata": {},
   "outputs": [],
   "source": [
    "y = [pt.latitude for pt in seg.points]\n",
    "x = [pt.longitude for pt in seg.points]\n",
    "speed = [seg.get_speed(i) for i in range(len(seg.points))]\n",
    "speed = np.array(speed)"
   ]
  },
  {
   "cell_type": "code",
   "execution_count": 56,
   "metadata": {},
   "outputs": [],
   "source": [
    "proj_in = pyproj.Proj(preserve_units=True, init='epsg:4326', no_defs=True)\n",
    "crs_out = {'init': 'epsg:26986', 'no_defs': True}\n",
    "proj_out = pyproj.Proj(preserve_units=True, **crs_out)\n",
    "t = pyproj.transform(proj_in, proj_out, x, y)"
   ]
  },
  {
   "cell_type": "code",
   "execution_count": 93,
   "metadata": {},
   "outputs": [],
   "source": [
    "from math import radians, degrees,cos, sin, asin, sqrt, atan2\n",
    "\n",
    "def bearing(pt_one, pt_two):\n",
    "    lat1, lon1 = map(radians,pt_one)\n",
    "    lat2, lon2 = map(radians,pt_two)\n",
    "    \n",
    "    dL = lon2 - lon1\n",
    "    x = cos(lat2) * sin(dL)\n",
    "    y = cos(lat1) * sin(lat2) - sin(lat1) * cos(lat2) * cos(dL)\n",
    "    b = atan2(x,y)\n",
    "    return b"
   ]
  },
  {
   "cell_type": "code",
   "execution_count": 110,
   "metadata": {},
   "outputs": [],
   "source": [
    "#Calculating bearing between two points\n",
    "pt_one=[39.099912, -94.581213]\n",
    "pt_two=[38.627089, -90.200203]\n",
    "\n",
    "h = bearing(pt_one,pt_two)"
   ]
  },
  {
   "cell_type": "code",
   "execution_count": 100,
   "metadata": {},
   "outputs": [],
   "source": [
    "bearings = []\n",
    "for i in range(len(y)):\n",
    "    pt_one = [y[i],x[i]]\n",
    "    try:\n",
    "        pt_two = [y[i+1],x[i+1]]\n",
    "    except:\n",
    "        pt_two = pt_one\n",
    "    bearings.append(bearing(pt_one,pt_two))\n",
    "bearings = np.array(bearings)"
   ]
  },
  {
   "cell_type": "code",
   "execution_count": 115,
   "metadata": {},
   "outputs": [],
   "source": [
    "r = speed / max(speed)\n",
    "uv = r[:, np.newaxis] * np.column_stack([np.sin(bearings), np.cos(bearings)])"
   ]
  },
  {
   "cell_type": "code",
   "execution_count": 128,
   "metadata": {},
   "outputs": [],
   "source": [
    "mapfile = 'strava_quiver.html'\n",
    "\n",
    "plt.quiver(x, y, uv[:,0], uv[:,1], speed,scale=20)\n",
    "mplleaflet.show(path=mapfile,tiles='cartodb_positron')"
   ]
  },
  {
   "cell_type": "markdown",
   "metadata": {},
   "source": [
    "# Speed and Smoothing"
   ]
  },
  {
   "cell_type": "code",
   "execution_count": 48,
   "metadata": {},
   "outputs": [],
   "source": [
    "pt = []\n",
    "x = []\n",
    "smoothed_x = []\n",
    "\n",
    "for track in gpx.tracks:\n",
    "    for segment in track.segments:\n",
    "        for point_no, point in enumerate(segment.points):\n",
    "            pt.append(point_no)\n",
    "            x.append(point.speed_between(segment.points[point_no - 1]))\n",
    "            smoothed_x.append(smooth_speed(point_no,segment,5))\n",
    "#             print('Point at ({0},{1}) -> {2}'.format(point.latitude, point.longitude, point.elevation))"
   ]
  },
  {
   "cell_type": "code",
   "execution_count": 49,
   "metadata": {},
   "outputs": [
    {
     "data": {
      "image/png": "[encoded data removed]",
      "text/plain": [
       "<matplotlib.figure.Figure at 0x2549fc07ef0>"
      ]
     },
     "metadata": {},
     "output_type": "display_data"
    }
   ],
   "source": [
    "plt.plot(pt,x)\n",
    "plt.plot(pt,smoothed_x)\n",
    "plt.show()"
   ]
  },
  {
   "cell_type": "markdown",
   "metadata": {},
   "source": [
    "# Strava Attributes"
   ]
  },
  {
   "cell_type": "code",
   "execution_count": null,
   "metadata": {},
   "outputs": [],
   "source": [
    "activities.groupby('')"
   ]
  },
  {
   "cell_type": "code",
   "execution_count": null,
   "metadata": {},
   "outputs": [],
   "source": []
  }
 ],
 "metadata": {
  "kernelspec": {
   "display_name": "Python 3",
   "language": "python",
   "name": "python3"
  },
  "language_info": {
   "codemirror_mode": {
    "name": "ipython",
    "version": 3
   },
   "file_extension": ".py",
   "mimetype": "text/x-python",
   "name": "python",
   "nbconvert_exporter": "python",
   "pygments_lexer": "ipython3",
   "version": "3.6.0"
  },
  "varInspector": {
   "cols": {
    "lenName": 16,
    "lenType": 16,
    "lenVar": 40
   },
   "kernels_config": {
    "python": {
     "delete_cmd_postfix": "",
     "delete_cmd_prefix": "del ",
     "library": "var_list.py",
     "varRefreshCmd": "print(var_dic_list())"
    },
    "r": {
     "delete_cmd_postfix": ") ",
     "delete_cmd_prefix": "rm(",
     "library": "var_list.r",
     "varRefreshCmd": "cat(var_dic_list()) "
    }
   },
   "types_to_exclude": [
    "module",
    "function",
    "builtin_function_or_method",
    "instance",
    "_Feature"
   ],
   "window_display": false
  }
 },
 "nbformat": 4,
 "nbformat_minor": 2
}
